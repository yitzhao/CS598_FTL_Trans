{
  "cells": [
    {
      "cell_type": "markdown",
      "metadata": {
        "id": "ln-RcFGWVl0B"
      },
      "source": [
        "Github Repo: https://github.com/yitzhao/CS598_FTL_Trans/tree/main\n",
        "\n",
        "Video Presentation: https://drive.google.com/file/d/19ERN9piQvd4khvqml5n2gVxqwLe2ERdT/view?usp=sharing   \n",
        "GDrive Folder: https://drive.google.com/drive/folders/1plvfq7C7iA1rEZCnVqzNF48tM0uSq1Tt?usp=drive_link   (with checkpoints, but no mimic iii dataset)   \n"
      ]
    },
    {
      "cell_type": "markdown",
      "metadata": {
        "id": "MQ0sNuMePBXx"
      },
      "source": [
        "# Introduction\n",
        "Clinical notes represent invaluable resources encapsulating a patient's health journey, offering vital insights for clinical decision-making. Despite their significance, current machine learning models frequently overlook the intricate sequential and temporal patterns embedded within these notes, leading to predictions that may not accurately reflect a patient's true clinical status. This oversight underscores the necessity for novel approaches capable of effectively integrating both sequential and temporal information from clinical notes to enhance predictive accuracy and facilitate more informed clinical decisions.\n",
        "\n",
        "Time-Aware Transformer-based Network for Clinical Notes Series Prediction [1] proposed a novel hierarchical model structure, FTL-Trans, to overcome the aforementioned challenges by leveraging both the time and multi-level sequential information inherent in clinical notes. FTL-Trans consists of four successive layers: (1) Chunk Content Embedding Layer encodes each text chunk into an embedding, (2) Position-Enhanced Chunk Embedding Layer enriches the embedding with local and global position embedding,  (3) Time-Aware Layer implements Flexible Time-aware LSTM  and (4) Classification Layer generates the prediction.\n",
        "\n",
        "Zhang et al. [1] showed that FTL-Trans consistently outperforms other state-of-the-art transformer-based architectures in their cohort of the MIMIC-III dataset. In our project, we will reproduce the main experiments and validate the efficacy of FTL-Trans in handling clinical notes and predicting healthcare tasks.\n"
      ]
    },
    {
      "cell_type": "markdown",
      "metadata": {
        "id": "xWAHJ_1CdtaA"
      },
      "source": [
        "# Methodology\n",
        "\n",
        "*  Chunk Content Embedding Layer\n",
        "    * The Chunk Content Embedding Layer utilizes ClinicalBERT [3], a variation of BERT model pre-trained on medical text, to encode the textual content of each chunk within a patient's notes.\n",
        "\n",
        "*  Position-Enhanced Chunk Embedding Layer\n",
        "    * The Position-Enhanced Chunk Embedding Layer combines chunk content embedding with global and local position embeddings to form a unified representation. This embedding incorporates positional information about the note and chunk positions, enhancing the model's understanding of sequential structure.\n",
        "\n",
        "\n",
        "*  Time-Aware Layer\n",
        "    * The time-aware layer, consisting of the Flexible T-LSTM (FT-LSTM), an extension of the T-LSTM model [2], is designed for capturing the temporal information in the clinical note sequences to reflect the change of temporal importance of clinical events over time.\n",
        "Compared to vanilla LSTM, FT-LSTM uses a flexible and universal decay function applied to short-term memory.\n",
        "\n",
        "*  Classification Layer\n",
        "    * The classification layer is simply a linear layer with sigmoid activation.\n"
      ]
    },
    {
      "cell_type": "markdown",
      "metadata": {
        "id": "2NbPHUTMbkD3"
      },
      "source": [
        "##  Data\n",
        "\n",
        "  * MIMIC-III\n",
        "    * We use MIMIC-III (Medical Information Mart for Intensive Care III) dataset for validation. MIMIC-III is comprised of de-identified health data associated with over 40,000 patients who stayed in intensive care units of the Beth Israel Deaconess Medical Center in Boston, MA, between 2001 and 2012. We perform experiment on two tasks in-hospital mortality prediction and 30-day readmission prediction.\n",
        "  * Cohort\n",
        "    * 30-day Readmission Prediction: Targeted patients re-admitted without scheduled appointments within 30 days following a prior discharge. The aim is to predict the likelihood of unplanned readmission. Three datasets are used to predict readmit.\n",
        "      * Discharge summaries may contain information like a patient’s discharge condition, procedures, treatments, and significant findings. This means discharge summaries should have predictive value for hospital readmission.\n",
        "      * Clinical Notes in the early stages of a patient’s admission are relevant to readmission prediction as well. We conduct 2 experiments to test model performance given notes up to 24–48h or 48–72h of a patient’s admission.\n",
        "      * All Notes.\n"
      ]
    },
    {
      "cell_type": "markdown",
      "metadata": {
        "id": "rDUpXANACyn0"
      },
      "source": [
        "# Scope of Reproducibility:\n",
        "\n",
        "In examining the code of the repo associated with [1]: https://github.com/zdy93/FTL-Trans/tree/master,\n",
        "we observed multiple implementation and conceptual issues. In addition, when performing the experiment with the provided code, the model will simply not learn anything. While some of the implementation issues can be fixed, some conceptual issues make it very difficult for the approach to work properly.\n",
        "\n",
        "Therefore, we provide our analysis on the issues and choose to build a similar hierachical models. The detailed analysis is in Model section.\n",
        "## Ablation Study Using Existing Code: Time Decaying\n",
        "We perform experiment usin the original code from https://github.com/zdy93/FTL-Trans/tree/master and compared it with a baseline when we force the time difference (input to time decay function) to be 1.\n",
        "This is meant to be an ablation study to validate our claim that the design of time decay is problematic in [1].\n",
        "## Reproduction of Flat Models baseline - ClinicalBERT, BERT\n",
        "We perform the experiments validating the performance of the baseline flat models including ClinicalBERT and BERT. This also helps our own future implementation of hierachical model since they form the basis of the hierachy."
      ]
    },
    {
      "cell_type": "markdown",
      "source": [
        "We use python 3.10 for our experiment. (Although other version will likely work just fine)"
      ],
      "metadata": {
        "id": "1Ux3wOlqSNbp"
      }
    },
    {
      "cell_type": "code",
      "source": [
        "!python3 --version"
      ],
      "metadata": {
        "colab": {
          "base_uri": "https://localhost:8080/"
        },
        "id": "3UvW_AFoSJPZ",
        "outputId": "945eca2c-b919-4b18-c6f0-6108fc2a2690"
      },
      "execution_count": null,
      "outputs": [
        {
          "output_type": "stream",
          "name": "stdout",
          "text": [
            "Python 3.10.12\n"
          ]
        }
      ]
    },
    {
      "cell_type": "markdown",
      "source": [
        "We use google colab to run our experiment. We mainly need the the following packages:"
      ],
      "metadata": {
        "id": "oE6DsGRSTErH"
      }
    },
    {
      "cell_type": "code",
      "source": [
        "!pip3 freeze | grep transformer\n",
        "!pip3 freeze | grep torch\n",
        "!pip3 freeze | grep matplotlib\n",
        "!pip3 freeze | grep pandas\n",
        "!pip3 freeze | grep numpy"
      ],
      "metadata": {
        "colab": {
          "base_uri": "https://localhost:8080/"
        },
        "id": "ZCgwTuUjSk9j",
        "outputId": "7b3114ef-3f49-484a-b77c-8881a4e6ac85"
      },
      "execution_count": null,
      "outputs": [
        {
          "output_type": "stream",
          "name": "stdout",
          "text": [
            "transformers==4.40.1\n",
            "torch @ https://download.pytorch.org/whl/cu121/torch-2.2.1%2Bcu121-cp310-cp310-linux_x86_64.whl#sha256=1adf430f01ff649c848ac021785e18007b0714fdde68e4e65bd0c640bf3fb8e1\n",
            "torchaudio @ https://download.pytorch.org/whl/cu121/torchaudio-2.2.1%2Bcu121-cp310-cp310-linux_x86_64.whl#sha256=23f6236429e2bf676b820e8e7221a1d58aaf908bff2ba2665aa852df71a97961\n",
            "torchdata==0.7.1\n",
            "torchsummary==1.5.1\n",
            "torchtext==0.17.1\n",
            "torchvision @ https://download.pytorch.org/whl/cu121/torchvision-0.17.1%2Bcu121-cp310-cp310-linux_x86_64.whl#sha256=27af47915f6e762c1d44e58e8088d22ac97445668f9f793524032b2baf4f34bd\n",
            "matplotlib==3.7.1\n",
            "matplotlib-inline==0.1.7\n",
            "matplotlib-venn==0.11.10\n",
            "geopandas==0.13.2\n",
            "pandas==2.0.3\n",
            "pandas-datareader==0.10.0\n",
            "pandas-gbq==0.19.2\n",
            "pandas-stubs==2.0.3.230814\n",
            "sklearn-pandas==2.2.0\n",
            "numpy==1.25.2\n"
          ]
        }
      ]
    },
    {
      "cell_type": "code",
      "execution_count": null,
      "metadata": {
        "id": "BZScZNbROw-N"
      },
      "outputs": [],
      "source": [
        "import pandas as pd\n",
        "import numpy as np\n",
        "import matplotlib.pyplot as plt\n",
        "import re\n",
        "from transformers import AutoTokenizer\n",
        "from tqdm import tqdm"
      ]
    },
    {
      "cell_type": "code",
      "execution_count": null,
      "metadata": {
        "colab": {
          "base_uri": "https://localhost:8080/"
        },
        "id": "h_bC9jYNUfmH",
        "outputId": "0e46f2b5-f101-4c88-cce2-cf10183d0c5e"
      },
      "outputs": [
        {
          "output_type": "stream",
          "name": "stdout",
          "text": [
            "Mounted at /content/drive\n"
          ]
        }
      ],
      "source": [
        "from google.colab import drive\n",
        "drive.mount('/content/drive', force_remount=True)\n",
        "\n",
        "import os\n",
        "path = '/content/drive/MyDrive/FTL-Trans'\n",
        "os.chdir(path)"
      ]
    },
    {
      "cell_type": "markdown",
      "metadata": {
        "id": "y6EHCG1EQfvf"
      },
      "source": [
        "# Data Preprocessing\n",
        "The following script expects MIMIC-III unzipped csv data located in ./DATA/\n",
        "\n",
        "The scrip will generate three datasets of readmission prediction. At current stage, we have included statistical analysis and experiments on the discharge summary dataset as described above.\n"
      ]
    },
    {
      "cell_type": "markdown",
      "metadata": {
        "id": "YGyYqepTRi03"
      },
      "source": [
        "We use the admission and note events table from the MIMIC-III dataset. https://physionet.org/content/mimiciii/1.4/"
      ]
    },
    {
      "cell_type": "code",
      "execution_count": null,
      "metadata": {
        "colab": {
          "base_uri": "https://localhost:8080/"
        },
        "id": "lDrrdXZzUIfT",
        "outputId": "2193ff90-ccbe-4d39-a652-366717326b58"
      },
      "outputs": [
        {
          "output_type": "stream",
          "name": "stderr",
          "text": [
            "<ipython-input-4-ac212e6e6af4>:3: DtypeWarning: Columns (4,5) have mixed types. Specify dtype option on import or set low_memory=False.\n",
            "  df_notes = pd.read_csv('DATA/NOTEEVENTS.csv')\n"
          ]
        }
      ],
      "source": [
        "## We collect the data from MIMIC III dataset. https://physionet.org/content/mimiciii/1.4/\n",
        "df_adm = pd.read_csv('DATA/ADMISSIONS.csv')\n",
        "df_notes = pd.read_csv('DATA/NOTEEVENTS.csv')"
      ]
    },
    {
      "cell_type": "markdown",
      "metadata": {
        "id": "ImTUUh78RdPI"
      },
      "source": [
        "Some analysis on the raw MIMIC-III data:"
      ]
    },
    {
      "cell_type": "code",
      "execution_count": null,
      "metadata": {
        "colab": {
          "base_uri": "https://localhost:8080/"
        },
        "id": "JOoaHy2zCedJ",
        "outputId": "03650bbb-bf64-4189-ecf9-01eebaa1d3e8"
      },
      "outputs": [
        {
          "output_type": "stream",
          "name": "stdout",
          "text": [
            "The ADMISSIONS table has 46520 patients with 58976 admissions\n"
          ]
        }
      ],
      "source": [
        "print('The ADMISSIONS table has %d patients with %d admissions' % (df_adm['SUBJECT_ID'].nunique(),df_adm['HADM_ID'].nunique()))"
      ]
    },
    {
      "cell_type": "code",
      "execution_count": null,
      "metadata": {
        "colab": {
          "base_uri": "https://localhost:8080/"
        },
        "id": "3NPN0P57DRmF",
        "outputId": "32b8b693-4311-4fbb-9a4b-6b1134e3f9d9"
      },
      "outputs": [
        {
          "output_type": "stream",
          "name": "stdout",
          "text": [
            "The NOTEEVENTS table has 2083180 notes with 15 categories\n"
          ]
        }
      ],
      "source": [
        "print('The NOTEEVENTS table has %d notes with %d categories' % (df_notes['ROW_ID'].nunique(),df_notes['CATEGORY'].nunique()))"
      ]
    },
    {
      "cell_type": "code",
      "execution_count": null,
      "metadata": {
        "colab": {
          "base_uri": "https://localhost:8080/",
          "height": 659
        },
        "id": "e4VBqjqYCCHn",
        "outputId": "1e9d89ab-c48f-479f-f5f1-90802640cdf8"
      },
      "outputs": [
        {
          "output_type": "display_data",
          "data": {
            "text/plain": [
              "<Figure size 1000x600 with 1 Axes>"
            ],
            "image/png": "[encoded data removed]"
          },
          "metadata": {}
        }
      ],
      "source": [
        "# Count the occurrences of each category\n",
        "category_counts = df_notes['CATEGORY'].value_counts()\n",
        "\n",
        "# Sort the counts in descending order\n",
        "category_counts = category_counts.sort_values(ascending=False)\n",
        "\n",
        "# Plotting number of notes under each category\n",
        "plt.figure(figsize=(10, 6))  # Adjust the size as necessary\n",
        "category_counts.plot(kind='bar', color='skyblue')  # You can change the color\n",
        "plt.title('Number of Notes by Category')\n",
        "plt.xlabel('Category')\n",
        "plt.ylabel('Number of Notes')\n",
        "plt.xticks(rotation=45)  # Rotates the category names for better visibility\n",
        "plt.show()"
      ]
    },
    {
      "cell_type": "markdown",
      "metadata": {
        "id": "s11e1tcFR3G5"
      },
      "source": [
        "We begin the definition of functions used for data processing. In summary, main processes we perform include the following:\n",
        "1. **Train-val-test** split with a ratio of 8:1:1\n",
        "2. **Label balancing.** Since the number of negative samples are much larger than positive samples. We choose all the positive samples, and sample the same number of the negative samples from the negative sample pool.\n",
        "3. **Text formatting.** E.g. removing of some de-identified buckets."
      ]
    },
    {
      "cell_type": "code",
      "execution_count": null,
      "metadata": {
        "id": "Rg6r9_hmV1kp"
      },
      "outputs": [],
      "source": [
        "## Data Process\n",
        "\n",
        "### Text Cleaning\n",
        "def preprocess1(x):\n",
        "    y=re.sub('\\\\[(.*?)\\\\]','',x) #remove de-identified brackets\n",
        "    y=re.sub('[0-9]+\\.','',y) #remove 1.2. since the segmenter segments based on this\n",
        "    y=re.sub('dr\\.','doctor',y)\n",
        "    y=re.sub('m\\.d\\.','md',y)\n",
        "    y=re.sub('admission date:','',y)\n",
        "    y=re.sub('discharge date:','',y)\n",
        "    y=re.sub('--|__|==','',y)\n",
        "    return y\n",
        "\n",
        "### Split into Chunks\n",
        "def preprocessing(df_less_n):\n",
        "    df_less_n['TEXT']=df_less_n['TEXT'].fillna(' ')\n",
        "    df_less_n['TEXT']=df_less_n['TEXT'].str.replace('\\n',' ')\n",
        "    df_less_n['TEXT']=df_less_n['TEXT'].str.replace('\\r',' ')\n",
        "    df_less_n['TEXT']=df_less_n['TEXT'].apply(str.strip)\n",
        "    df_less_n['TEXT']=df_less_n['TEXT'].str.lower()\n",
        "\n",
        "    df_less_n['TEXT']=df_less_n['TEXT'].apply(lambda x: preprocess1(x))\n",
        "\n",
        "    #to get 318 words chunks for readmission tasks\n",
        "    df_len = len(df_less_n)\n",
        "    want=pd.DataFrame({'ID':[],'TEXT':[],'Label':[]})\n",
        "    for i in tqdm(range(df_len)):\n",
        "        x=df_less_n.TEXT.iloc[i].split()\n",
        "        n=int(len(x)/318)\n",
        "        for j in range(n):\n",
        "            new_row = pd.DataFrame({\n",
        "                      'TEXT': [' '.join(x[j*318:(j+1)*318])],\n",
        "                      'Label': [df_less_n.OUTPUT_LABEL.iloc[i]],\n",
        "                      'ID': [df_less_n.HADM_ID.iloc[i]]\n",
        "                      })\n",
        "            want = pd.concat([want, new_row], ignore_index=True)\n",
        "        if len(x)%318>10:\n",
        "            new_row = pd.DataFrame({\n",
        "                      'TEXT': [' '.join(x[-(len(x)%318):])],\n",
        "                      'Label': [df_less_n.OUTPUT_LABEL.iloc[i]],\n",
        "                      'ID': [df_less_n.HADM_ID.iloc[i]]\n",
        "                      })\n",
        "            want = pd.concat([want, new_row], ignore_index=True)\n",
        "\n",
        "    return want\n",
        "\n",
        "## Create Dataset for Hierarchical Models\n",
        "def preprocessing_chunks(df):\n",
        "    tokenizer = AutoTokenizer.from_pretrained(\"emilyalsentzer/Bio_ClinicalBERT\")\n",
        "    df = df.rename(columns={'HADM_ID': \"Adm_ID\",\n",
        "                            'ROW_ID': \"Note_ID\",\n",
        "                            'CHARTDATE': \"chartdate\",\n",
        "                            'CHARTTIME': \"charttime\",\n",
        "                            'TEXT': \"TEXT\",\n",
        "                            'OUTPUT_LABEL': \"Label\"})\n",
        "\n",
        "    df['TEXT'] = df['TEXT'].fillna(' ')\n",
        "    df['TEXT'] = df['TEXT'].str.replace('\\n', ' ')\n",
        "    df['TEXT'] = df['TEXT'].str.replace('\\r', ' ')\n",
        "    df['TEXT'] = df['TEXT'].apply(str.strip)\n",
        "    df['TEXT'] = df['TEXT'].str.lower()\n",
        "\n",
        "    df['TEXT'] = df['TEXT'].apply(lambda x: preprocess1(x))\n",
        "\n",
        "    sen = df['TEXT'].values\n",
        "    tokenized_texts = [tokenizer.tokenize(x) for x in sen]\n",
        "    input_ids = [tokenizer.convert_tokens_to_ids(x) for x in tokenized_texts]\n",
        "    df['Input_ID'] = input_ids\n",
        "    df = df.astype({'Adm_ID': 'int64', 'Note_ID': 'int64', 'Label': 'int64'})\n",
        "    return df[['Adm_ID', 'Note_ID', 'TEXT', 'Input_ID', 'Label', 'chartdate', 'charttime']]\n",
        "\n",
        "def split_into_chunks(df, max_len):\n",
        "    # Convert input IDs to strings, remove brackets, and split by comma\n",
        "    input_ids = df['Input_ID'].apply(lambda x: ','.join(map(str, x)))\n",
        "    input_ids = input_ids.str[1:-1].str.replace(' ', '').str.split(',')\n",
        "    input_ids = input_ids.reset_index(drop=True)\n",
        "\n",
        "    df_len = len(df)\n",
        "    df = df.reset_index(drop=True)\n",
        "    Adm_ID, Note_ID, Input_ID, Label, chartdate, charttime = [], [], [], [], [], []\n",
        "    for i in tqdm(range(df_len)):\n",
        "        x = input_ids[i]\n",
        "        n = int(len(x) / (max_len - 2))\n",
        "        for j in range(n):\n",
        "            Adm_ID.append(df.Adm_ID[i])\n",
        "            Note_ID.append(df.Note_ID[i])\n",
        "            sub_ids = x[j * (max_len - 2): (j + 1) * (max_len - 2)]\n",
        "            sub_ids.insert(0, '101')\n",
        "            sub_ids.append('102')\n",
        "            Input_ID.append(' '.join(sub_ids))\n",
        "            Label.append(df.Label[i])\n",
        "            chartdate.append(df.chartdate[i])\n",
        "            charttime.append(df.charttime[i])\n",
        "        if len(x) % (max_len - 2) > 10:\n",
        "            Adm_ID.append(df.Adm_ID[i])\n",
        "            Note_ID.append(df.Note_ID[i])\n",
        "            sub_ids = x[-((len(x)) % (max_len - 2)):]\n",
        "            sub_ids.insert(0, '101')\n",
        "            sub_ids.append('102')\n",
        "            Input_ID.append(' '.join(sub_ids))\n",
        "            Label.append(df.Label[i])\n",
        "            chartdate.append(df.chartdate[i])\n",
        "            charttime.append(df.charttime[i])\n",
        "    new_df = pd.DataFrame({'Adm_ID': Adm_ID,\n",
        "                           'Note_ID': Note_ID,\n",
        "                           'Input_ID': Input_ID,\n",
        "                           'Label': Label,\n",
        "                           'chartdate': chartdate,\n",
        "                           'charttime': charttime})\n",
        "    new_df = new_df.astype({'Adm_ID': 'int64', 'Note_ID': 'int64', 'Label': 'int64'})\n",
        "    return new_df\n",
        "\n",
        "### Admissions where a patient is readmitted within 30 days are labeled readmit = 1.\n",
        "### All other patient admissions are labeled 0, including patients with appointments within 30 days (to model unexpected readmission).\n",
        "def label_readmissions(df):\n",
        "  df.ADMITTIME = pd.to_datetime(df.ADMITTIME, format = '%Y-%m-%d %H:%M:%S', errors = 'coerce')\n",
        "  df.DISCHTIME = pd.to_datetime(df.DISCHTIME, format = '%Y-%m-%d %H:%M:%S', errors = 'coerce')\n",
        "  df.DEATHTIME = pd.to_datetime(df.DEATHTIME, format = '%Y-%m-%d %H:%M:%S', errors = 'coerce')\n",
        "\n",
        "  df = df.sort_values(['SUBJECT_ID','ADMITTIME'])\n",
        "  df = df.reset_index(drop = True)\n",
        "  df['NEXT_ADMITTIME'] = df.groupby('SUBJECT_ID').ADMITTIME.shift(-1)\n",
        "  df['NEXT_ADMISSION_TYPE'] = df.groupby('SUBJECT_ID').ADMISSION_TYPE.shift(-1)\n",
        "\n",
        "  rows = df.NEXT_ADMISSION_TYPE == 'ELECTIVE'\n",
        "  df.loc[rows,'NEXT_ADMITTIME'] = pd.NaT\n",
        "  df.loc[rows,'NEXT_ADMISSION_TYPE'] = np.NaN\n",
        "\n",
        "  df = df.sort_values(['SUBJECT_ID','ADMITTIME'])\n",
        "\n",
        "  #When we filter out the \"ELECTIVE\", we need to correct the next admit time for these admissions since there might be 'emergency' next admit after \"ELECTIVE\"\n",
        "  df[['NEXT_ADMITTIME','NEXT_ADMISSION_TYPE']] = df.groupby(['SUBJECT_ID'])[['NEXT_ADMITTIME','NEXT_ADMISSION_TYPE']].fillna(method = 'bfill')\n",
        "  df['DAYS_NEXT_ADMIT']=  (df.NEXT_ADMITTIME - df.DISCHTIME).dt.total_seconds()/(24*60*60)\n",
        "  df['OUTPUT_LABEL'] = (df.DAYS_NEXT_ADMIT < 30).astype('int')\n",
        "  ### filter out newborn and death\n",
        "  df = df[df['ADMISSION_TYPE']!='NEWBORN']\n",
        "  df = df[df.DEATHTIME.isnull()]\n",
        "  df['DURATION'] = (df['DISCHTIME']-df['ADMITTIME']).dt.total_seconds()/(24*60*60)\n",
        "\n",
        "  df.loc[df.DEATHTIME.notnull(), 'OUTPUT_LABEL'] = 0\n",
        "\n",
        "  return df\n",
        "\n",
        "\n",
        "### Merge Admissions with Noteevents Table\n",
        "def merge_dataset(df_adm, df_note):\n",
        "  df_note = df_note.sort_values(by=['SUBJECT_ID','HADM_ID','CHARTDATE'])\n",
        "  df_adm_notes = pd.merge(df_adm[['SUBJECT_ID','HADM_ID','ADMITTIME','DISCHTIME','DAYS_NEXT_ADMIT','NEXT_ADMITTIME','ADMISSION_TYPE','DEATHTIME','OUTPUT_LABEL','DURATION']],\n",
        "                          df_note[['SUBJECT_ID','HADM_ID','CHARTDATE','TEXT','CATEGORY','ROW_ID','CHARTTIME']],\n",
        "                          on = ['SUBJECT_ID','HADM_ID'],\n",
        "                          how = 'left')\n",
        "\n",
        "  df_adm_notes['ADMITTIME_C'] = df_adm_notes['ADMITTIME'].apply(lambda x: str(x).split(' ')[0])\n",
        "  df_adm_notes['ADMITTIME_C'] = pd.to_datetime(df_adm_notes.ADMITTIME_C, format = '%Y-%m-%d', errors = 'coerce')\n",
        "  df_adm_notes['CHARTDATE'] = pd.to_datetime(df_adm_notes.CHARTDATE, format = '%Y-%m-%d', errors = 'coerce')\n",
        "\n",
        "  return df_adm_notes\n",
        "\n",
        "### Train/Val/Test Split\n",
        "def split_dataset(df):\n",
        "  ### Note that we divide on patient admission level and share among experiments, instead of notes level.\n",
        "  ### This way, since our methods run on the same set of admissions, we can see the\n",
        "  ### progression of readmission scores.\n",
        "\n",
        "  readmit_ID = df[df.OUTPUT_LABEL == 1].HADM_ID\n",
        "  not_readmit_ID = df[df.OUTPUT_LABEL == 0].HADM_ID\n",
        "  #subsampling to get the balanced pos/neg numbers of patients for each dataset\n",
        "  not_readmit_ID_use = not_readmit_ID.sample(n=len(readmit_ID), random_state=1)\n",
        "\n",
        "  id_val_test_t = readmit_ID.sample(frac=0.2,random_state=1)\n",
        "  id_val_test_f = not_readmit_ID_use.sample(frac=0.2,random_state=1)\n",
        "\n",
        "  id_train_t = readmit_ID.drop(id_val_test_t.index)\n",
        "  id_train_f = not_readmit_ID_use.drop(id_val_test_f.index)\n",
        "\n",
        "  id_val_t=id_val_test_t.sample(frac=0.5,random_state=1)\n",
        "  id_test_t=id_val_test_t.drop(id_val_t.index)\n",
        "\n",
        "  id_val_f=id_val_test_f.sample(frac=0.5,random_state=1)\n",
        "  id_test_f=id_val_test_f.drop(id_val_f.index)\n",
        "\n",
        "  # test if there is overlap between train and test, should return \"array([], dtype=int64)\"\n",
        "  print(len((pd.Index(id_test_t).intersection(pd.Index(id_train_t))).values))\n",
        "\n",
        "  id_test = pd.concat([id_test_t, id_test_f])\n",
        "  test_id_label = pd.DataFrame(data = list(zip(id_test, [1]*len(id_test_t)+[0]*len(id_test_f))), columns = ['id','label'])\n",
        "\n",
        "  id_val = pd.concat([id_val_t, id_val_f])\n",
        "  val_id_label = pd.DataFrame(data = list(zip(id_val, [1]*len(id_val_t)+[0]*len(id_val_f))), columns = ['id','label'])\n",
        "\n",
        "  id_train = pd.concat([id_train_t, id_train_f])\n",
        "  train_id_label = pd.DataFrame(data = list(zip(id_train, [1]*len(id_train_t)+[0]*len(id_train_f))), columns = ['id','label'])\n",
        "\n",
        "  return readmit_ID, not_readmit_ID, not_readmit_ID_use, train_id_label, test_id_label, val_id_label\n",
        "\n",
        "### Consruct dataset for readmission prediction using discharge summary\n",
        "def get_discharge_dataset(df, readmit_ID, not_readmit_ID, not_readmit_ID_use, train_id_label, test_id_label, val_id_label, if_chunks):\n",
        "  ### If Discharge Summary\n",
        "  df_discharge = df[df['CATEGORY'] == 'Discharge summary']\n",
        "  # multiple discharge summary for one admission -> after examination -> replicated summary -> replace with the last one\n",
        "  df_discharge = (df_discharge.groupby(['SUBJECT_ID','HADM_ID']).nth(-1)).reset_index()\n",
        "  df_discharge = df_discharge[df_discharge['TEXT'].notnull()]\n",
        "  if not if_chunks:\n",
        "    df_discharge = preprocessing(df_discharge)\n",
        "    #get discharge train/val/test\n",
        "    discharge_train = df_discharge[df_discharge.ID.isin(train_id_label.id)]\n",
        "    discharge_val = df_discharge[df_discharge.ID.isin(val_id_label.id)]\n",
        "    discharge_test = df_discharge[df_discharge.ID.isin(test_id_label.id)]\n",
        "    # subsampling for training....since we obtain training on patient admission level so now we have same number of pos/neg readmission\n",
        "    # but each admission is associated with different length of notes and we train on each chunks of notes, not on the admission, we need\n",
        "    # to balance the pos/neg chunks on training set. (val and test set are fine) Usually, positive admissions have longer notes, so we need\n",
        "    # find some negative chunks of notes from not_readmit_ID that we haven't used yet\n",
        "    df_ID = pd.concat([not_readmit_ID_use, not_readmit_ID])\n",
        "    df_ID = df_ID.drop_duplicates(keep=False)\n",
        "    # for this set of split with random_state=1, we find we need 400 more negative training samples\n",
        "    not_readmit_ID_more = df_ID.sample(n=400, random_state=1)\n",
        "    discharge_train_snippets = pd.concat([df_discharge[df_discharge.ID.isin(not_readmit_ID_more)], discharge_train])\n",
        "    #shuffle\n",
        "    discharge_train_snippets = discharge_train_snippets.sample(frac=1, random_state=1).reset_index(drop=True)\n",
        "  else:\n",
        "    df_discharge = preprocessing_chunks(df_discharge[['HADM_ID','ROW_ID','CHARTDATE','CHARTTIME','TEXT','OUTPUT_LABEL']])\n",
        "    #get discharge train/val/test\n",
        "    discharge_train = df_discharge[df_discharge.Adm_ID.isin(train_id_label.id)]\n",
        "    discharge_val = df_discharge[df_discharge.Adm_ID.isin(val_id_label.id)]\n",
        "    discharge_test = df_discharge[df_discharge.Adm_ID.isin(test_id_label.id)]\n",
        "    # subsampling for training....since we obtain training on patient admission level so now we have same number of pos/neg readmission\n",
        "    # but each admission is associated with different length of notes and we train on each chunks of notes, not on the admission, we need\n",
        "    # to balance the pos/neg chunks on training set. (val and test set are fine) Usually, positive admissions have longer notes, so we need\n",
        "    # find some negative chunks of notes from not_readmit_ID that we haven't used yet\n",
        "    df_ID = pd.concat([not_readmit_ID_use, not_readmit_ID])\n",
        "    df_ID = df_ID.drop_duplicates(keep=False)\n",
        "    # for this set of split with random_state=1, we find we need 400 more negative training samples\n",
        "    not_readmit_ID_more = df_ID.sample(n=400, random_state=1)\n",
        "    discharge_train_snippets = pd.concat([df_discharge[df_discharge.Adm_ID.isin(not_readmit_ID_more)], discharge_train])\n",
        "    #shuffle\n",
        "    discharge_train_snippets = discharge_train_snippets.sample(frac=1, random_state=1).reset_index(drop=True)\n",
        "    discharge_train_snippets = split_into_chunks(discharge_train_snippets, 128)\n",
        "    discharge_val = split_into_chunks(discharge_val, 128)\n",
        "    discharge_test = split_into_chunks(discharge_test, 128)\n",
        "\n",
        "  return discharge_train_snippets, discharge_val, discharge_test\n",
        "\n",
        "\n",
        "### If Less than n days on admission notes (Early notes)\n",
        "def less_n_days_data (df_adm_notes, n):\n",
        "\n",
        "    df_less_n = df_adm_notes[((df_adm_notes['CHARTDATE']-df_adm_notes['ADMITTIME_C']).dt.total_seconds()/(24*60*60))<n]\n",
        "    df_less_n=df_less_n[df_less_n['TEXT'].notnull()]\n",
        "    #concatenate first\n",
        "    df_concat = pd.DataFrame(df_less_n.groupby('HADM_ID')['TEXT'].apply(lambda x: \"%s\" % ' '.join(x))).reset_index()\n",
        "    df_concat['OUTPUT_LABEL'] = df_concat['HADM_ID'].apply(lambda x: df_less_n[df_less_n['HADM_ID']==x].OUTPUT_LABEL.values[0])\n",
        "\n",
        "    return df_concat\n",
        "\n",
        "### If Less than n days on admission notes (Early notes, for chunks)\n",
        "def less_n_days_data_chunks (df_adm_notes, n):\n",
        "    df_less_n = df_adm_notes[((df_adm_notes['CHARTDATE']-df_adm_notes['ADMITTIME_C']).dt.total_seconds()/(24*60*60))<n]\n",
        "    df_less_n = df_less_n[df_less_n['TEXT'].notnull()]\n",
        "\n",
        "    return df_less_n\n",
        "\n",
        "def get_early_notes_3_days_dataset(df, readmit_ID, not_readmit_ID, not_readmit_ID_use, train_id_label, test_id_label, val_id_label, if_chunks):\n",
        "  if not if_chunks:\n",
        "    df_less_2 = less_n_days_data(df, 2)\n",
        "    df_less_3 = less_n_days_data(df, 3)\n",
        "    df_less_2 = preprocessing(df_less_2)\n",
        "    df_less_3 = preprocessing(df_less_3)\n",
        "    ### for Early notes experiment: we only need to find training set for 3 days, then we can test\n",
        "    ### both 3 days and 2 days. Since we split the data on patient level and experiments share admissions\n",
        "    ### in order to see the progression, the 2 days training dataset is a subset of 3 days training set.\n",
        "    ### So we only train 3 days and we can test/val on both 2 & 3days or any time smaller than 3 days. This means\n",
        "    ### if we train on a dataset with all the notes in n days, we can predict readmissions smaller than n days.\n",
        "    #for 3 days note, similar to discharge\n",
        "    early_train = df_less_3[df_less_3.ID.isin(train_id_label.id)]\n",
        "\n",
        "    df_ID = pd.concat([not_readmit_ID_use, not_readmit_ID])\n",
        "    df_ID = df_ID.drop_duplicates(keep=False)\n",
        "    not_readmit_ID_more = df_ID.sample(n=500, random_state=1)\n",
        "    early_train_snippets = pd.concat([df_less_3[df_less_3.ID.isin(not_readmit_ID_more)], early_train])\n",
        "    #shuffle\n",
        "    early_train_snippets = early_train_snippets.sample(frac=1, random_state=1).reset_index(drop=True)\n",
        "    early_val = df_less_3[df_less_3.ID.isin(val_id_label.id)]\n",
        "    # we want to test on admissions that are not discharged already. So for less than 3 days of notes experiment,\n",
        "    # we filter out admissions discharged within 3 days\n",
        "    actionable_ID_3days = df[df['DURATION'] >= 3].HADM_ID\n",
        "    test_actionable_id_label = test_id_label[test_id_label.id.isin(actionable_ID_3days)]\n",
        "    early_test_3days = df_less_3[df_less_3.ID.isin(test_actionable_id_label.id)]\n",
        "    #for 2 days notes, we only obtain test set. Since the model parameters are tuned on the val set of 3 days\n",
        "    actionable_ID_2days = df[df['DURATION'] >= 2].HADM_ID\n",
        "    test_actionable_id_label_2days = test_id_label[test_id_label.id.isin(actionable_ID_2days)]\n",
        "    early_test_2days = df_less_2[df_less_2.ID.isin(test_actionable_id_label_2days.id)]\n",
        "  else:\n",
        "    df_less_2 = less_n_days_data_chunks(df, 2)\n",
        "    df_less_3 = less_n_days_data_chunks(df, 3)\n",
        "    df_less_2 = preprocessing_chunks(df_less_2[['HADM_ID','ROW_ID','CHARTDATE','CHARTTIME','TEXT','OUTPUT_LABEL']])\n",
        "    df_less_3 = preprocessing_chunks(df_less_3[['HADM_ID','ROW_ID','CHARTDATE','CHARTTIME','TEXT','OUTPUT_LABEL']])\n",
        "    early_train = df_less_3[df_less_3.Adm_ID.isin(train_id_label.id)]\n",
        "    df_ID = pd.concat([not_readmit_ID_use, not_readmit_ID])\n",
        "    df_ID = df_ID.drop_duplicates(keep=False)\n",
        "    not_readmit_ID_more = df_ID.sample(n=500, random_state=1)\n",
        "    early_train_snippets = pd.concat([df_less_3[df_less_3.Adm_ID.isin(not_readmit_ID_more)], early_train])\n",
        "    #shuffle\n",
        "    early_train_snippets = early_train_snippets.sample(frac=1, random_state=1).reset_index(drop=True)\n",
        "    early_val = df_less_3[df_less_3.Adm_ID.isin(val_id_label.id)]\n",
        "    # we want to test on admissions that are not discharged already. So for less than 3 days of notes experiment,\n",
        "    # we filter out admissions discharged within 3 days\n",
        "    actionable_ID_3days = df[df['DURATION'] >= 3].HADM_ID\n",
        "    test_actionable_id_label = test_id_label[test_id_label.id.isin(actionable_ID_3days)]\n",
        "    early_test_3days = df_less_3[df_less_3.Adm_ID.isin(test_actionable_id_label.id)]\n",
        "    #for 2 days notes, we only obtain test set. Since the model parameters are tuned on the val set of 3 days\n",
        "    actionable_ID_2days = df[df['DURATION'] >= 2].HADM_ID\n",
        "    test_actionable_id_label_2days = test_id_label[test_id_label.id.isin(actionable_ID_2days)]\n",
        "    early_test_2days = df_less_2[df_less_2.Adm_ID.isin(test_actionable_id_label_2days.id)]\n",
        "    early_train_snippets = split_into_chunks(early_train_snippets, 128)\n",
        "    early_val = split_into_chunks(early_val, 128)\n",
        "    early_test_3days = split_into_chunks(early_test_3days, 128)\n",
        "    early_test_2days = split_into_chunks(early_test_2days, 128)\n",
        "  return early_train_snippets, early_val, early_test_3days, early_test_2days\n"
      ]
    },
    {
      "cell_type": "code",
      "execution_count": null,
      "metadata": {
        "id": "smgOFY2iX6Gc"
      },
      "outputs": [],
      "source": [
        "df_adm = label_readmissions(df_adm)"
      ]
    },
    {
      "cell_type": "markdown",
      "metadata": {
        "id": "Gx3WNKDOS_Ax"
      },
      "source": [
        "After merging the dataset, it's still not balanced. As shown in the following blocks:"
      ]
    },
    {
      "cell_type": "code",
      "execution_count": null,
      "metadata": {
        "colab": {
          "base_uri": "https://localhost:8080/"
        },
        "id": "A8Zf7xC5EbXZ",
        "outputId": "6245eccb-5aaf-406d-b6ff-a6c806f29a19"
      },
      "outputs": [
        {
          "output_type": "stream",
          "name": "stdout",
          "text": [
            "Number of Positive Readmission Labels: 2963\n",
            "Number of Negative Readmission Labels: 42358\n"
          ]
        }
      ],
      "source": [
        "# Calculate value counts for the OUTPUT_LABEL column\n",
        "output_counts = df_adm['OUTPUT_LABEL'].value_counts()\n",
        "\n",
        "print(f\"Number of Positive Readmission Labels: {output_counts.get(1,0)}\")\n",
        "print(f\"Number of Negative Readmission Labels: {output_counts.get(0,0)}\")"
      ]
    },
    {
      "cell_type": "code",
      "execution_count": null,
      "metadata": {
        "colab": {
          "base_uri": "https://localhost:8080/",
          "height": 372
        },
        "id": "dkZBwFj3D8DW",
        "outputId": "bf560055-c271-4bbb-dac2-f52240b28dc6"
      },
      "outputs": [
        {
          "output_type": "display_data",
          "data": {
            "text/plain": [
              "<Figure size 400x400 with 1 Axes>"
            ],
            "image/png": "[encoded data removed]"
          },
          "metadata": {}
        }
      ],
      "source": [
        "# Labels for the legend\n",
        "labels = ['Not Readmission', 'Readmission']\n",
        "\n",
        "# Colors for the segments\n",
        "colors = ['#ff9999','#66b3ff']  # Light red for Negative, Light blue for Positive\n",
        "\n",
        "# Plotting the pie chart\n",
        "plt.figure(figsize=(4, 4))  # Adjust the size as necessary\n",
        "plt.pie(output_counts, labels=labels, autopct='%1.1f%%', startangle=90, colors=colors)\n",
        "plt.title('Distribution of Output Labels')\n",
        "plt.axis('equal')  # Equal aspect ratio ensures that pie is drawn as a circle.\n",
        "\n",
        "# Adding a legend\n",
        "plt.legend(labels, title=\"Output Labels\", loc=\"best\")\n",
        "\n",
        "plt.show()"
      ]
    },
    {
      "cell_type": "code",
      "execution_count": null,
      "metadata": {
        "id": "bjEDE0ZbZXSW"
      },
      "outputs": [],
      "source": [
        "df = merge_dataset(df_adm, df_notes)"
      ]
    },
    {
      "cell_type": "code",
      "execution_count": null,
      "metadata": {
        "colab": {
          "base_uri": "https://localhost:8080/"
        },
        "id": "AhpvVzxRFQXU",
        "outputId": "762fd7d9-5eb6-4bd3-8be5-f0c07dae599c"
      },
      "outputs": [
        {
          "output_type": "stream",
          "name": "stdout",
          "text": [
            "The cohort has 34560 patients with 45321 admissions\n"
          ]
        }
      ],
      "source": [
        "print('The cohort has %d patients with %d admissions' % (df['SUBJECT_ID'].nunique(),df['HADM_ID'].nunique()))"
      ]
    },
    {
      "cell_type": "code",
      "execution_count": null,
      "metadata": {
        "colab": {
          "base_uri": "https://localhost:8080/"
        },
        "id": "7BiCB0tFFTRn",
        "outputId": "75fa720a-4e4c-4b02-bdae-523ed0f46e7b"
      },
      "outputs": [
        {
          "output_type": "stream",
          "name": "stdout",
          "text": [
            "The cohort has 1202336 notes with 15 categories\n"
          ]
        }
      ],
      "source": [
        "print('The cohort has %d notes with %d categories' % (df.shape[0],df['CATEGORY'].nunique()))"
      ]
    },
    {
      "cell_type": "code",
      "execution_count": null,
      "metadata": {
        "colab": {
          "base_uri": "https://localhost:8080/"
        },
        "id": "vkb9QftHE2LI",
        "outputId": "048fd753-30c2-4642-c9b0-7cb9b9968c6f"
      },
      "outputs": [
        {
          "output_type": "stream",
          "name": "stdout",
          "text": [
            "Mean number of notes per patient: 34.79\n",
            "Median number of notes per patient: 17.00\n"
          ]
        }
      ],
      "source": [
        "# Count the number of notes for each patient\n",
        "notes_per_patient = df.groupby('SUBJECT_ID').size()\n",
        "\n",
        "# Calculate the mean number of notes per patient\n",
        "mean_notes_per_patient = notes_per_patient.mean()\n",
        "\n",
        "print(f\"Mean number of notes per patient: {mean_notes_per_patient:.2f}\")\n",
        "\n",
        "# Calculate the median number of notes per patient\n",
        "median_notes_per_patient = notes_per_patient.median()\n",
        "\n",
        "print(f\"Median number of notes per patient: {median_notes_per_patient:.2f}\")"
      ]
    },
    {
      "cell_type": "markdown",
      "metadata": {
        "id": "K9jOn_3JTYIt"
      },
      "source": [
        "The train-val-test split and balancing is done inf the following two blocks."
      ]
    },
    {
      "cell_type": "code",
      "execution_count": null,
      "metadata": {
        "colab": {
          "base_uri": "https://localhost:8080/"
        },
        "id": "amUfIkGpp821",
        "outputId": "b8410e79-2121-470e-e91f-6b19e7ce6bd6"
      },
      "outputs": [
        {
          "output_type": "stream",
          "name": "stdout",
          "text": [
            "0\n"
          ]
        }
      ],
      "source": [
        "readmit_ID, not_readmit_ID, not_readmit_ID_use, train_id_label, test_id_label, val_id_label = split_dataset(df_adm)"
      ]
    },
    {
      "cell_type": "code",
      "execution_count": null,
      "metadata": {
        "colab": {
          "base_uri": "https://localhost:8080/"
        },
        "id": "8vi56cmHrDEm",
        "outputId": "42021ddf-29db-4d24-c937-9f09c6735995"
      },
      "outputs": [
        {
          "output_type": "stream",
          "name": "stderr",
          "text": [
            " 79%|███████▉  | 34615/43880 [10:32<07:38, 20.22it/s]"
          ]
        }
      ],
      "source": [
        "df_discharge_train, df_discharge_val, df_discharge_test = get_discharge_dataset(df, readmit_ID, not_readmit_ID, not_readmit_ID_use, train_id_label, test_id_label, val_id_label,False)"
      ]
    },
    {
      "cell_type": "code",
      "execution_count": null,
      "metadata": {
        "id": "LiWKRDA4vuWh"
      },
      "outputs": [],
      "source": [
        "## Save discharge dataset to local\n",
        "df_discharge_train.to_csv('DATA/discharge/train.csv')\n",
        "df_discharge_val.to_csv('DATA/discharge/val.csv')\n",
        "df_discharge_test.to_csv('DATA/discharge/test.csv')"
      ]
    },
    {
      "cell_type": "code",
      "execution_count": null,
      "metadata": {
        "colab": {
          "base_uri": "https://localhost:8080/"
        },
        "id": "0KMKUSIDtjVg",
        "outputId": "6a0a2df1-fe99-48fc-96fb-78e6dd3ecac1"
      },
      "outputs": [
        {
          "output_type": "stream",
          "name": "stderr",
          "text": [
            "100%|██████████| 44112/44112 [19:54<00:00, 36.94it/s]\n",
            "100%|██████████| 44551/44551 [39:26<00:00, 18.82it/s]\n"
          ]
        }
      ],
      "source": [
        "early_train_snippets, early_val, early_test_3days, early_test_2days = get_early_notes_3_days_dataset(df, readmit_ID, not_readmit_ID, not_readmit_ID_use, train_id_label, test_id_label, val_id_label, False)"
      ]
    },
    {
      "cell_type": "code",
      "execution_count": null,
      "metadata": {
        "id": "7FuHG54Pv5dx"
      },
      "outputs": [],
      "source": [
        "## Save 3 days early notes to local\n",
        "early_train_snippets.to_csv('DATA/readmission_3days/train.csv')\n",
        "early_val.to_csv('DATA/readmission_3days/val.csv')\n",
        "early_test_3days.to_csv('DATA/readmission_3days/test.csv')"
      ]
    },
    {
      "cell_type": "code",
      "execution_count": null,
      "metadata": {
        "id": "czGx0Om8wC8c"
      },
      "outputs": [],
      "source": [
        "## Save 2 days early notes to local\n",
        "early_train_snippets.to_csv('DATA/readmission_2days/train.csv')\n",
        "early_val.to_csv('DATA/readmission_2days/val.csv')\n",
        "early_test_2days.to_csv('DATA/readmission_2days/test.csv')"
      ]
    },
    {
      "cell_type": "code",
      "execution_count": null,
      "metadata": {
        "colab": {
          "base_uri": "https://localhost:8080/"
        },
        "id": "kVLUHvxN40oE",
        "outputId": "8146caa8-c08a-4dfb-ae86-d1b16a70b55a"
      },
      "outputs": [
        {
          "output_type": "stream",
          "name": "stderr",
          "text": [
            "100%|██████████| 5006/5006 [00:06<00:00, 763.30it/s] \n",
            "100%|██████████| 573/573 [00:00<00:00, 874.70it/s]\n",
            "100%|██████████| 584/584 [00:00<00:00, 918.99it/s]\n"
          ]
        }
      ],
      "source": [
        "df_discharge_train_chunks, df_discharge_val_chunks, df_discharge_test_chunks = get_discharge_dataset(df, readmit_ID, not_readmit_ID, not_readmit_ID_use, train_id_label, test_id_label, val_id_label,True)"
      ]
    },
    {
      "cell_type": "code",
      "execution_count": null,
      "metadata": {
        "id": "F52DEo2k_kSE"
      },
      "outputs": [],
      "source": [
        "## Save discharge dataset to local\n",
        "df_discharge_train_chunks.to_csv('DATA/discharge_chunks/train.csv')\n",
        "df_discharge_val_chunks.to_csv('DATA/discharge_chunks/val.csv')\n",
        "df_discharge_test_chunks.to_csv('DATA/discharge_chunks/test.csv')"
      ]
    },
    {
      "cell_type": "code",
      "source": [
        "early_train_snippets_chunks, early_val_chunks, early_test_3days_chunks, early_test_2days_chunks = get_early_notes_3_days_dataset(df, readmit_ID, not_readmit_ID, not_readmit_ID_use, train_id_label, test_id_label, val_id_label, True)"
      ],
      "metadata": {
        "colab": {
          "base_uri": "https://localhost:8080/"
        },
        "id": "rVbzhmRxIyWm",
        "outputId": "4585bf6f-2753-45b9-a3c7-b9e20530fa14"
      },
      "execution_count": null,
      "outputs": [
        {
          "output_type": "stream",
          "name": "stderr",
          "text": [
            "100%|██████████| 57032/57032 [00:10<00:00, 5213.48it/s]\n",
            "100%|██████████| 6761/6761 [00:04<00:00, 1478.20it/s]\n",
            "100%|██████████| 6213/6213 [00:01<00:00, 4806.24it/s]\n",
            "100%|██████████| 4631/4631 [00:00<00:00, 4778.52it/s]\n"
          ]
        }
      ]
    },
    {
      "cell_type": "code",
      "source": [
        "## Save 3 days early notes to local\n",
        "early_train_snippets_chunks.to_csv('DATA/readmission_3days_chunks/train.csv')\n",
        "early_val_chunks.to_csv('DATA/readmission_3days_chunks/val.csv')\n",
        "early_test_3days_chunks.to_csv('DATA/readmission_3days_chunks/test.csv')"
      ],
      "metadata": {
        "id": "WIQPn8TnKNZY"
      },
      "execution_count": null,
      "outputs": []
    },
    {
      "cell_type": "code",
      "source": [
        "## Save 2 days early notes to local\n",
        "early_train_snippets_chunks.to_csv('DATA/readmission_2days_chunks/train.csv')\n",
        "early_val_chunks.to_csv('DATA/readmission_2days_chunks/val.csv')\n",
        "early_test_2days_chunks.to_csv('DATA/readmission_2days_chunks/test.csv')"
      ],
      "metadata": {
        "id": "LNbzi7VLlPfh"
      },
      "execution_count": null,
      "outputs": []
    },
    {
      "cell_type": "markdown",
      "source": [
        "## Dataset Generation for Hierachical BERT\n",
        "\n",
        "The Hierachical BERT needs all discharge summaries for a single admission to perform prediction making its datase different from flat model such as ClinicalBERT.\n",
        "The dataset can be generated by running https://github.com/yitzhao/CS598_FTL_Trans/blob/main/mimic_json.py after modifying the _DIR to specify output location"
      ],
      "metadata": {
        "id": "m_NeiAQhw7rO"
      }
    },
    {
      "cell_type": "markdown",
      "metadata": {
        "id": "3muyDPFPbozY"
      },
      "source": [
        "#   Model and Analysis\n",
        "We include the following implementation from the repo of the paper [1].\n",
        "We add our own annotation for the structure to be understandable. Yet, during our study of the model, we found multiples issues. We summarize them as the following:\n",
        "\n",
        "**Poor Positional Embedding Design**\n",
        "The embedding is a learned embedding which is used in vision transformer. However, vision transformer has a fixed number of patches for each image to apply the position embedding; therefore, the positional embedding of vision transformer at each position is equally and fully trained. However, when used for clinical notes and chunks of clinical notes. The number of positional embedding can vary largely such that the earlier positional embedding is trained a lot more than the later one. For patients with longer history, the positional embedding might barely be trained or not trained at all.\n",
        "\n",
        "**Shared chunk position across different notes**\n",
        "The chunk positional embedding is doesn't restart from 0 for each note. Therefore, It loses some ability such as representing the begining chunk of each note.\n",
        "\n",
        "\n",
        "**Reusing weights between forward pass and backward pass in Bi-LSTM**\n",
        "The implementation of FTLSTM uses the exact same parameter for the forward LSTM and backward LSTM. Consider that the forward and backward pass can include very differnet features, we believe this is a major flaw and can significantly hurt performance.\n",
        "\n",
        "\n",
        "**Time Decay Design**\n",
        "As implemented in map_elapse_time, the time decay is meant to help model learn the time difference between note chunks. However, since each note is splited into many chunk, the time difference t is mostly 0. Making the time difference very sparse and lack of information. In addition, these time difference also appear in the demominator of in the time decay function which further enlarges the problem.\n",
        "\n",
        "\n",
        "Link to original Paper: https://proceedings.mlr.press/v126/zhang20c.html\n",
        "Link to original Repo: https://github.com/zdy93/FTL-Trans\n",
        "Link to Pretrained Model (ClinicalBert): https://github.com/kexinhuang12345/clinicalBERT"
      ]
    },
    {
      "cell_type": "markdown",
      "source": [
        "## FTL-Trans Implementation"
      ],
      "metadata": {
        "id": "q5VTmefqXXZb"
      }
    },
    {
      "cell_type": "code",
      "execution_count": null,
      "metadata": {
        "id": "gBdVZoTvsSFV"
      },
      "outputs": [],
      "source": [
        "!pip install pytorch_transformers\n",
        "from pytorch_transformers.modeling_bert import BertEmbeddings, BertEncoder, BertPooler, BertLayerNorm\n",
        "import torch\n",
        "from torch import nn\n",
        "from torch.nn import init, Parameter\n",
        "from torch.nn import CrossEntropyLoss, BCELoss, BCEWithLogitsLoss\n",
        "import numpy as np\n",
        "\n",
        "'''\n",
        "The PatientLevelEmbedding provides embedding for chunk _id, note_id, and combine it with representation of BERT for each chunk of note.\n",
        "The embedding is a learned embedding, similar to vision transformer.\n",
        "\n",
        "We provide a forward example from the training set:\n",
        "\n",
        "new_note_ids (Serves as positional embedding for notes):\n",
        "tensor([1, 1, 0, 0, 0])\n",
        "Similar to the segment_id of BERT, this positional embedding separate different notes. In this example, there are two notes\n",
        "with position id 0 and 1.\n",
        "\n",
        "new_chunk_ids (Serves as positional embedding for chunks):\n",
        "tensor([4, 3, 2, 1, 0])\n",
        "From the implementation from the author[1], this is simply a reserved python range function output since the chunk is ordered.\n",
        "However, we believe this is problematic and chunk id should restart from 0 for each new note. ([1, 0, 2, 1, 0]) in this case.\n",
        "\n",
        "inputs (Bert Representation):\n",
        "tensor of shape (5, 768)\n",
        "'''\n",
        "class PatientLevelEmbedding(nn.Module):\n",
        "    def __init__(self, config):\n",
        "        super(PatientLevelEmbedding, self).__init__()\n",
        "        self.config = config\n",
        "        assert self.config.embed_mode in [\"all\", \"note\", \"chunk\", \"no\"]\n",
        "        if self.config.embed_mode == \"all\":\n",
        "            self.note_embedding = nn.Embedding(self.config.max_note_position_embedding, self.config.hidden_size)\n",
        "            self.chunk_embedding = nn.Embedding(self.config.max_chunk_position_embedding, self.config.hidden_size)\n",
        "            self.combine_embed_rep = nn.Linear(self.config.hidden_size * 3, self.config.hidden_size)\n",
        "        elif self.config.embed_mode == \"note\":\n",
        "            self.note_embedding = nn.Embedding(self.config.max_note_position_embedding, self.config.hidden_size)\n",
        "            self.combine_embed_rep = nn.Linear(self.config.hidden_size * 2, self.config.hidden_size)\n",
        "        elif self.config.embed_mode == \"chunk\":\n",
        "            self.chunk_embedding = nn.Embedding(self.config.max_chunk_position_embedding, self.config.hidden_size)\n",
        "            self.combine_embed_rep = nn.Linear(self.config.hidden_size * 2, self.config.hidden_size)\n",
        "        else:\n",
        "            pass\n",
        "        self.LayerNorm = nn.LayerNorm(config.hidden_size, eps=config.layer_norm_eps)\n",
        "        self.dropout = nn.Dropout(config.hidden_dropout_prob)\n",
        "\n",
        "    def forward(self, inputs, new_note_ids=None, new_chunk_ids=None):\n",
        "        if self.config.embed_mode == \"all\":\n",
        "            note_embeds = self.note_embedding(new_note_ids)\n",
        "            chunk_embeds = self.chunk_embedding(new_chunk_ids)\n",
        "            output = self.combine_embed_rep(torch.cat((inputs, note_embeds, chunk_embeds), 2))\n",
        "        elif self.config.embed_mode == \"note\":\n",
        "            note_embeds = self.note_embedding(new_note_ids)\n",
        "            output = self.combine_embed_rep(torch.cat((inputs, note_embeds), 2))\n",
        "        elif self.config.embed_mode == \"chunk\":\n",
        "            chunk_embeds = self.chunk_embedding(new_chunk_ids)\n",
        "            output = self.combine_embed_rep(torch.cat((inputs, chunk_embeds), 2))\n",
        "        elif self.config.embed_mode == \"no\":\n",
        "            output = inputs\n",
        "        else:\n",
        "            raise ValueError(\"The embed mode: {} is not supported\".format(self.config.embed_mode))\n",
        "        if self.config.embed_mode != \"no\":\n",
        "            output = self.LayerNorm(output)\n",
        "            output = self.dropout(output)\n",
        "        return output\n",
        "\n",
        "\n",
        "'''\n",
        "This is a wrapper of LSTM from torch.\n",
        "It uses PatientLevelEmbedding defined above to combine the chunk and note positions with representation from BERT.\n",
        "LSTM will go through these embedding to output a predition.\n",
        "\n",
        "'''\n",
        "\n",
        "class LSTMLayer(SelfDefineBert):\n",
        "    def __init__(self, config, num_labels):\n",
        "        super(LSTMLayer, self).__init__()\n",
        "        self.config = config\n",
        "        self.lstm = nn.LSTM(self.config.hidden_size,\n",
        "                            self.config.hidden_size // 2,\n",
        "                            self.config.lstm_layers,\n",
        "                            batch_first=True,\n",
        "                            bidirectional=True)\n",
        "        self.dropout = nn.Dropout(self.config.hidden_dropout_prob)\n",
        "        self.embeddings = PatientLevelEmbedding(config)\n",
        "        self.classifier = nn.Linear(self.config.hidden_size, num_labels)\n",
        "\n",
        "        self.apply(self.init_weights)\n",
        "\n",
        "    def forward(self, inputs, new_note_ids=None, new_chunk_ids=None, labels=None):\n",
        "        device = inputs.device\n",
        "        batch_size = inputs.size()[0]\n",
        "        hidden = (torch.zeros((self.config.lstm_layers * 2, batch_size, self.config.hidden_size // 2), device=device),\n",
        "                  torch.zeros((self.config.lstm_layers * 2, batch_size, self.config.hidden_size // 2), device=device))\n",
        "        new_input = self.embeddings(inputs, new_note_ids, new_chunk_ids)\n",
        "        lstm_output, hidden = self.lstm(new_input, hidden)\n",
        "        loss_fct = BCELoss()\n",
        "        drop_input = lstm_output[0, -1, :]\n",
        "        class_input = self.dropout(drop_input)\n",
        "        logits = self.classifier(class_input)\n",
        "        pred = torch.sigmoid(logits)\n",
        "        if labels is not None:\n",
        "            loss = loss_fct(pred, labels.float().view(1))\n",
        "            return loss, pred\n",
        "        else:\n",
        "            return pred\n",
        "\n",
        "\n",
        "\n",
        "\n",
        "'''\n",
        "This is implementation of FTLSTM, the main idea in [1].\n",
        "It's mostly an lstm with the map_elapse_time function adding a flexible time embedding as introduced in [1].\n",
        "However, the implementation from the author uses same the weights for both direction.\n",
        "\n",
        "\n",
        "'''\n",
        "\n",
        "\n",
        "\n",
        "class FTLSTM(nn.Module):\n",
        "    def __init__(self, input_size, hidden_size, config, batch_first=True, bidirectional=True):\n",
        "        super(FTLSTM, self).__init__()\n",
        "        self.input_size = input_size\n",
        "        self.hidden_size = hidden_size\n",
        "        self.batch_first = batch_first\n",
        "        self.bidirectional = bidirectional\n",
        "        self.c1 = torch.Tensor([1]).float()\n",
        "        self.c2 = torch.Tensor([np.e]).float()\n",
        "        self.c3 = torch.Tensor([0.]).float()\n",
        "        self.ones = torch.ones([1, self.hidden_size]).float()\n",
        "        self.register_buffer('c1_const', self.c1)\n",
        "        self.register_buffer('c2_const', self.c2)\n",
        "        self.register_buffer('c3_const', self.c3)\n",
        "        self.register_buffer(\"ones_const\", self.ones)\n",
        "        # Input Gate Parameter\n",
        "        self.Wi = Parameter(torch.normal(0.0, config.initializer_range, size=(self.input_size, self.hidden_size)))\n",
        "        self.Ui = Parameter(torch.normal(0.0, config.initializer_range, size=(self.hidden_size, self.hidden_size)))\n",
        "        self.bi = Parameter(torch.zeros(self.hidden_size))\n",
        "        # Forget Gate Parameter\n",
        "        self.Wf = Parameter(torch.normal(0.0, config.initializer_range, size=(self.input_size, self.hidden_size)))\n",
        "        self.Uf = Parameter(torch.normal(0.0, config.initializer_range, size=(self.hidden_size, self.hidden_size)))\n",
        "        self.bf = Parameter(torch.zeros(self.hidden_size))\n",
        "        # Output Gate Parameter\n",
        "        self.Wog = Parameter(torch.normal(0.0, config.initializer_range, size=(self.input_size, self.hidden_size)))\n",
        "        self.Uog = Parameter(torch.normal(0.0, config.initializer_range, size=(self.hidden_size, self.hidden_size)))\n",
        "        self.bog = Parameter(torch.zeros(self.hidden_size))\n",
        "        # Cell Layer Parameter\n",
        "        self.Wc = Parameter(torch.normal(0.0, config.initializer_range, size=(self.input_size, self.hidden_size)))\n",
        "        self.Uc = Parameter(torch.normal(0.0, config.initializer_range, size=(self.hidden_size, self.hidden_size)))\n",
        "        self.bc = Parameter(torch.zeros(self.hidden_size))\n",
        "        # Decomposition Layer Parameter\n",
        "        self.W_decomp = Parameter(\n",
        "            torch.normal(0.0, config.initializer_range, size=(self.hidden_size, self.hidden_size)))\n",
        "        self.b_decomp = Parameter(torch.zeros(self.hidden_size))\n",
        "        # Decay Parameter\n",
        "        self.W_decay_1 = Parameter(torch.tensor([[0.33]]))\n",
        "        self.W_decay_2 = Parameter(torch.tensor([[0.33]]))\n",
        "        self.W_decay_3 = Parameter(torch.tensor([[0.33]]))\n",
        "        self.a = Parameter(torch.tensor([1.0]))\n",
        "        self.b = Parameter(torch.tensor([1.0]))\n",
        "        self.m = Parameter(torch.tensor([0.02]))\n",
        "        self.k = Parameter(torch.tensor([2.9]))\n",
        "        self.d = Parameter(torch.tensor([4.5]))\n",
        "        self.n = Parameter(torch.tensor([2.5]))\n",
        "\n",
        "    def FTLSTM_unit(self, prev_hidden_memory, inputs, times):\n",
        "        prev_hidden_state, prev_cell = prev_hidden_memory\n",
        "        x = inputs\n",
        "        t = times\n",
        "        T = self.map_elapse_time(t)\n",
        "        C_ST = torch.tanh(torch.matmul(prev_cell, self.W_decomp) + self.b_decomp)\n",
        "        C_ST_dis = torch.mul(T, C_ST)\n",
        "        prev_cell = prev_cell - C_ST + C_ST_dis\n",
        "\n",
        "        # Input Gate\n",
        "        i = torch.sigmoid(torch.matmul(x, self.Wi) +\n",
        "                          torch.matmul(prev_hidden_state, self.Ui) + self.bi)\n",
        "        # Forget Gate\n",
        "        f = torch.sigmoid(torch.matmul(x, self.Wf) +\n",
        "                          torch.matmul(prev_hidden_state, self.Uf) + self.bf)\n",
        "        # Output Gate\n",
        "        o = torch.sigmoid(torch.matmul(x, self.Wog) +\n",
        "                          torch.matmul(prev_hidden_state, self.Uog) + self.bog)\n",
        "        # Candidate Memory Cell\n",
        "        C = torch.sigmoid(torch.matmul(x, self.Wc) +\n",
        "                          torch.matmul(prev_hidden_state, self.Uc) + self.bc)\n",
        "        # Current Memory Cell\n",
        "        Ct = f * prev_cell + i * C\n",
        "\n",
        "        # Current Hidden State\n",
        "        current_hidden_state = o * torch.tanh(Ct)\n",
        "\n",
        "        return current_hidden_state, Ct\n",
        "\n",
        "    def map_elapse_time(self, t):\n",
        "        T_1 = torch.div(self.c1_const, torch.mul(self.a, torch.pow(t, self.b)))\n",
        "        T_2 = self.k - torch.mul(self.m, t)\n",
        "        T_3 = torch.div(self.c1_const, (self.c1_const + torch.pow(torch.div(t, self.d), self.n)))\n",
        "        T = torch.mul(self.W_decay_1, T_1) + torch.mul(self.W_decay_2, T_2) + torch.mul(self.W_decay_3, T_3)\n",
        "        T = torch.max(T, self.c3_const)\n",
        "        T = torch.min(T, self.c1_const)\n",
        "        T = torch.matmul(T, self.ones_const)\n",
        "        return T\n",
        "\n",
        "    def forward(self, inputs, times):\n",
        "        device = inputs.device\n",
        "        if self.batch_first:\n",
        "            batch_size = inputs.size()[0]\n",
        "            inputs = inputs.permute(1, 0, 2)\n",
        "            times = times.transpose(0, 1)\n",
        "        else:\n",
        "            batch_size = inputs.size()[1]\n",
        "        prev_hidden = torch.zeros((batch_size, self.hidden_size), device=device)\n",
        "        prev_cell = torch.zeros((batch_size, self.hidden_size), device=device)\n",
        "        seq_len = inputs.size()[0]\n",
        "        hidden_his = []\n",
        "        for i in range(seq_len):\n",
        "            prev_hidden, prev_cell = self.FTLSTM_unit((prev_hidden, prev_cell), inputs[i], times[i])\n",
        "            hidden_his.append(prev_hidden)\n",
        "        hidden_his = torch.stack(hidden_his)\n",
        "        if self.bidirectional:\n",
        "            second_hidden = torch.zeros((batch_size, self.hidden_size), device=device)\n",
        "            second_cell = torch.zeros((batch_size, self.hidden_size), device=device)\n",
        "            second_inputs = torch.flip(inputs, [0])\n",
        "            second_times = torch.flip(times, [0])\n",
        "            second_hidden_his = []\n",
        "            for i in range(seq_len):\n",
        "                if i == 0:\n",
        "                    time = times[i]\n",
        "                else:\n",
        "                    time = second_times[i-1]\n",
        "                second_hidden, second_cell = self.FTLSTM_unit((second_hidden, second_cell), second_inputs[i], time)\n",
        "                second_hidden_his.append(second_hidden)\n",
        "            second_hidden_his = torch.stack(second_hidden_his)\n",
        "            hidden_his = torch.cat((hidden_his, second_hidden_his), dim=2)\n",
        "            prev_hidden = torch.cat((prev_hidden, second_hidden), dim=1)\n",
        "            prev_cell = torch.cat((prev_cell, second_cell), dim=1)\n",
        "        if self.batch_first:\n",
        "            hidden_his = hidden_his.permute(1, 0, 2)\n",
        "        return hidden_his, (prev_hidden, prev_cell)\n",
        "\n",
        "\n",
        "\n",
        "'''\n",
        "FTLSTMLayer is a wrapper function of FTLSTM.\n",
        "It uses PatientLevelEmbedding defined above as embedding and a classifer for final prediction output.\n",
        "\n",
        "'''\n",
        "\n",
        "class FTLSTMLayer(SelfDefineBert):\n",
        "\n",
        "    def __init__(self, config, num_labels):\n",
        "        super(FTLSTMLayer, self).__init__()\n",
        "        self.config = config\n",
        "        self.ftlstm = FTLSTM(self.config.hidden_size,\n",
        "                           self.config.hidden_size // 2,\n",
        "                           self.config,\n",
        "                           batch_first=True,\n",
        "                           bidirectional=True)\n",
        "        self.dropout = nn.Dropout(self.config.hidden_dropout_prob)\n",
        "        self.embeddings = PatientLevelEmbedding(config)\n",
        "        self.classifier = nn.Linear(self.config.hidden_size, num_labels)\n",
        "\n",
        "        self.apply(self.init_weights)\n",
        "\n",
        "    def forward(self, inputs, times, new_note_ids=None, new_chunk_ids=None, labels=None):\n",
        "        new_input = self.embeddings(inputs, new_note_ids, new_chunk_ids)\n",
        "        lstm_output, hidden = self.ftlstm(new_input, times.float())\n",
        "        loss_fct = BCEWithLogitsLoss()\n",
        "        drop_input = lstm_output[0, -1, :]\n",
        "        class_input = self.dropout(drop_input)\n",
        "        logits = self.classifier(class_input)\n",
        "        logits = torch.where(torch.isnan(logits), torch.zeros_like(logits), logits)\n",
        "        logits = torch.where(torch.isinf(logits), torch.zeros_like(logits), logits)\n",
        "        pred = torch.sigmoid(logits)\n",
        "        pred = torch.where(torch.isnan(pred), torch.zeros_like(pred), pred)\n",
        "        pred = torch.where(torch.isinf(pred), torch.zeros_like(pred), pred)\n",
        "        if labels is not None:\n",
        "            loss = loss_fct(logits, labels.float().view(1))\n",
        "            return loss, pred\n",
        "        else:\n",
        "            return pred\n"
      ]
    },
    {
      "cell_type": "markdown",
      "source": [
        "## Hierachical BERT"
      ],
      "metadata": {
        "id": "OABO6tjbt7fi"
      }
    },
    {
      "cell_type": "code",
      "source": [
        "import torch\n",
        "from torch import nn\n",
        "from transformers import AutoTokenizer, BertForSequenceClassification, BertModel\n",
        "from torch.nn import LSTM\n",
        "from tqdm import tqdm\n",
        "\n",
        "class HierchicalBERT(nn.Module):\n",
        "    def __init__(self, num_of_labels):\n",
        "        super(HierchicalBERT, self).__init__()\n",
        "        self.bert = BertModel.from_pretrained(\"emilyalsentzer/Bio_ClinicalBERT\")\n",
        "        self.rnn = LSTM(input_size=768, hidden_size=768, num_layers=2, bidirectional=True, batch_first=True)\n",
        "        self.fc = nn.Linear(1536, num_of_labels)\n",
        "    def forward(self, input_ids, attention_mask, **kwargs):\n",
        "        outputs = self.bert(input_ids, attention_mask)\n",
        "        representations = outputs.last_hidden_state[:, 0, :]\n",
        "        lstm_out = self.rnn(representations.unsqueeze(1))\n",
        "        last_lstm_hidden = lstm_out[0][-1, :, :]\n",
        "        res = self.fc(last_lstm_hidden)\n",
        "        res = torch.softmax(res, dim=1)\n",
        "        return res"
      ],
      "metadata": {
        "id": "uPjM0v4Mt4_h"
      },
      "execution_count": null,
      "outputs": []
    },
    {
      "cell_type": "markdown",
      "metadata": {
        "id": "M23YvbEZVjMQ"
      },
      "source": [
        "# Training\n",
        "## Computational Requirements\n",
        "Due to the size of our cohort being small. Our training will generally take around 1 hr and half on a budget GPU such as Quadro RTX 5000 or T4 for 3 epoches (30 minutes per epoch) training on a single model. In total, we ran 6 experiments.\n",
        "\n",
        "\n",
        "We incorporated the training of BERT and ClinicalBERT with huggingface model as a baseline for our experiments.\n",
        "\n",
        "## Hyperparameters\n",
        "```\n",
        "learning rate = 1e-3\n",
        "max_seq_length = 512\n",
        "train_batch_size = 8\n",
        "num_train_epochs = 3\n",
        "eval_batch_size = 8\n",
        "```"
      ]
    },
    {
      "cell_type": "code",
      "execution_count": null,
      "metadata": {
        "id": "b7VxsoFI4Thn"
      },
      "outputs": [],
      "source": [
        "import torch\n",
        "import json\n",
        "import time\n",
        "import csv\n",
        "from tqdm import tqdm\n",
        "from pprint import pprint\n",
        "from torch.multiprocessing import Pool, Process, set_start_method, current_process, freeze_support\n",
        "from transformers import AutoModelForSeq2SeqLM, AutoTokenizer, AutoModelForCausalLM\n",
        "from scipy import interp\n",
        "from tqdm import trange, tqdm\n",
        "from sklearn.metrics import roc_auc_score, precision_recall_curve, roc_curve, auc, confusion_matrix, classification_report\n",
        "from inspect import signature\n",
        "import matplotlib.pyplot as plt\n",
        "\n",
        "import pandas as pd\n",
        "import numpy as np\n",
        "import torch\n",
        "from torch.utils.data import TensorDataset, DataLoader, RandomSampler, SequentialSampler\n",
        "from torch.utils.data.distributed import DistributedSampler\n",
        "from torch import nn\n",
        "\n",
        "class InputExample(object):\n",
        "    \"\"\"A single training/test example for simple sequence classification.\"\"\"\n",
        "    def __init__(self, guid, text_a, text_b=None, label=None):\n",
        "        \"\"\"Constructs a InputExample.\n",
        "        Args:\n",
        "            guid: Unique id for the example.\n",
        "            text_a: string. The untokenized text of the first sequence. For single\n",
        "            sequence tasks, only this sequence must be specified.\n",
        "            text_b: (Optional) string. The untokenized text of the second sequence.\n",
        "            Only must be specified for sequence pair tasks.\n",
        "            label: (Optional) string. The label of the example. This should be\n",
        "            specified for train and dev examples, but not for test examples.\n",
        "        \"\"\"\n",
        "        self.guid = guid\n",
        "        self.text_a = text_a\n",
        "        self.text_b = text_b\n",
        "        self.label = label\n",
        "\n",
        "\n",
        "class InputFeatures(object):\n",
        "    \"\"\"A single set of features of data.\"\"\"\n",
        "    def __init__(self, input_ids, input_mask, segment_ids, label_id):\n",
        "        self.input_ids = input_ids\n",
        "        self.input_mask = input_mask\n",
        "        self.segment_ids = segment_ids\n",
        "        self.label_id = label_id\n",
        "\n",
        "class readmissionProcessor(object):\n",
        "    def get_train_examples(self, data_dir):\n",
        "        print(\"LOOKING AT {}\".format(os.path.join(data_dir, \"train.csv\")))\n",
        "        return self._create_examples(\n",
        "            self._read_csv(os.path.join(data_dir, \"train.csv\")), \"train\")\n",
        "    def get_dev_examples(self, data_dir):\n",
        "        return self._create_examples(\n",
        "            self._read_csv(os.path.join(data_dir, \"val.csv\")), \"val\")\n",
        "    def get_test_examples(self, data_dir):\n",
        "        return self._create_examples(\n",
        "            self._read_csv(os.path.join(data_dir, \"test.csv\")), \"test\")\n",
        "    def get_labels(self):\n",
        "        return [\"0\", \"1\"]\n",
        "    def _create_examples(self, lines, set_type):\n",
        "        \"\"\"Creates examples for the training and dev sets.\"\"\"\n",
        "        examples = []\n",
        "        for (i, line) in enumerate(lines):\n",
        "            guid = \"%s-%s\" % (set_type, i)\n",
        "            text_a = line[1]\n",
        "            label = str(int(line[2]))\n",
        "            examples.append(\n",
        "                InputExample(guid=guid, text_a=text_a, text_b=None, label=label))\n",
        "        return examples\n",
        "    @classmethod\n",
        "    def _read_tsv(cls, input_file, quotechar=None):\n",
        "        \"\"\"Reads a tab separated value file.\"\"\"\n",
        "        with open(input_file, \"r\") as f:\n",
        "            reader = csv.reader(f, delimiter=\"\\t\", quotechar=quotechar)\n",
        "            lines = []\n",
        "            for line in reader:\n",
        "                lines.append(line)\n",
        "            return lines\n",
        "    @classmethod\n",
        "    def _read_csv(cls, input_file):\n",
        "        \"\"\"Reads a comma separated value file.\"\"\"\n",
        "        file=pd.read_csv(input_file)\n",
        "        lines=zip(file.ID,file.TEXT,file.Label)\n",
        "        return lines\n",
        "\n",
        "def convert_examples_to_features(examples, label_list, max_seq_length, tokenizer):\n",
        "    \"\"\"Loads a data file into a list of `InputBatch`s.\"\"\"\n",
        "    label_map = {}\n",
        "    for (i, label) in enumerate(label_list):\n",
        "        label_map[label] = i\n",
        "    features = []\n",
        "    for (ex_index, example) in tqdm(enumerate(examples)):\n",
        "        # print('example.text_a')\n",
        "        # print(example.text_a)\n",
        "        if type(example.text_a) != str:\n",
        "            continue\n",
        "        tokens_a = tokenizer.tokenize(example.text_a)\n",
        "        tokens_b = None\n",
        "        if example.text_b:\n",
        "            tokens_b = tokenizer.tokenize(example.text_b)\n",
        "        if tokens_b:\n",
        "            # Modifies `tokens_a` and `tokens_b` in place so that the total\n",
        "            # length is less than the specified length.\n",
        "            # Account for [CLS], [SEP], [SEP] with \"- 3\"\n",
        "            _truncate_seq_pair(tokens_a, tokens_b, max_seq_length - 3)\n",
        "        else:\n",
        "            # Account for [CLS] and [SEP] with \"- 2\"\n",
        "            if len(tokens_a) > max_seq_length - 2:\n",
        "                tokens_a = tokens_a[0:(max_seq_length - 2)]\n",
        "        # The convention in BERT is:\n",
        "        # (a) For sequence pairs:\n",
        "        #  tokens:   [CLS] is this jack ##son ##ville ? [SEP] no it is not . [SEP]\n",
        "        #  type_ids: 0   0  0    0    0     0       0 0    1  1  1  1   1 1\n",
        "        # (b) For single sequences:\n",
        "        #  tokens:   [CLS] the dog is hairy . [SEP]\n",
        "        #  type_ids: 0   0   0   0  0     0 0\n",
        "        #\n",
        "        # Where \"type_ids\" are used to indicate whether this is the first\n",
        "        # sequence or the second sequence. The embedding vectors for `type=0` and\n",
        "        # `type=1` were learned during pre-training and are added to the wordpiece\n",
        "        # embedding vector (and position vector). This is not *strictly* necessary\n",
        "        # since the [SEP] token unambigiously separates the sequences, but it makes\n",
        "        # it easier for the model to learn the concept of sequences.\n",
        "        #\n",
        "        # For classification tasks, the first vector (corresponding to [CLS]) is\n",
        "        # used as as the \"sentence vector\". Note that this only makes sense because\n",
        "        # the entire model is fine-tuned.\n",
        "        tokens = []\n",
        "        segment_ids = []\n",
        "        tokens.append(\"[CLS]\")\n",
        "        segment_ids.append(0)\n",
        "        for token in tokens_a:\n",
        "            tokens.append(token)\n",
        "            segment_ids.append(0)\n",
        "        tokens.append(\"[SEP]\")\n",
        "        segment_ids.append(0)\n",
        "        if tokens_b:\n",
        "            for token in tokens_b:\n",
        "                tokens.append(token)\n",
        "                segment_ids.append(1)\n",
        "            tokens.append(\"[SEP]\")\n",
        "            segment_ids.append(1)\n",
        "        input_ids = tokenizer.convert_tokens_to_ids(tokens)\n",
        "        # The mask has 1 for real tokens and 0 for padding tokens. Only real\n",
        "        # tokens are attended to.\n",
        "        input_mask = [1] * len(input_ids)\n",
        "        # Zero-pad up to the sequence length.\n",
        "        while len(input_ids) < max_seq_length:\n",
        "            input_ids.append(0)\n",
        "            input_mask.append(0)\n",
        "            segment_ids.append(0)\n",
        "        assert len(input_ids) == max_seq_length\n",
        "        assert len(input_mask) == max_seq_length\n",
        "        assert len(segment_ids) == max_seq_length\n",
        "        #print (example.label)\n",
        "        label_id = label_map[example.label]\n",
        "        if ex_index < 5:\n",
        "            print(\"*** Example ***\")\n",
        "            print(\"guid: %s\" % (example.guid))\n",
        "            print(\"tokens: %s\" % \" \".join(\n",
        "                    [str(x) for x in tokens]))\n",
        "            print(\"input_ids: %s\" % \" \".join([str(x) for x in input_ids]))\n",
        "            print(\"input_mask: %s\" % \" \".join([str(x) for x in input_mask]))\n",
        "            print(\n",
        "                    \"segment_ids: %s\" % \" \".join([str(x) for x in segment_ids]))\n",
        "            print(\"label: %s (id = %d)\" % (example.label, label_id))\n",
        "        features.append(\n",
        "                InputFeatures(input_ids=input_ids,\n",
        "                              input_mask=input_mask,\n",
        "                              segment_ids=segment_ids,\n",
        "                              label_id=label_id))\n",
        "    return features\n",
        "\n",
        "\n",
        "\n",
        "# train_features = convert_examples_to_features(\n",
        "#     train_examples, label_list, max_seq_length, tokenizer)\n",
        "\n",
        "def _truncate_seq_pair(tokens_a, tokens_b, max_length):\n",
        "    \"\"\"Truncates a sequence pair in place to the maximum length.\"\"\"\n",
        "    # This is a simple heuristic which will always truncate the longer sequence\n",
        "    # one token at a time. This makes more sense than truncating an equal percent\n",
        "    # of tokens from each, since if one sequence is very short then each token\n",
        "    # that's truncated likely contains more information than a longer sequence.\n",
        "    while True:\n",
        "        total_length = len(tokens_a) + len(tokens_b)\n",
        "        if total_length <= max_length:\n",
        "            break\n",
        "        if len(tokens_a) > len(tokens_b):\n",
        "            tokens_a.pop()\n",
        "        else:\n",
        "            tokens_b.pop()\n",
        "\n",
        "def accuracy(out, labels):\n",
        "    outputs = out.argmax(dim=-1)\n",
        "    return (outputs == labels).float().mean().item()\n",
        "\n",
        "def vote_score(df, score, readmission_mode, empty=None):\n",
        "    df['pred_score'] = score\n",
        "    df_sort = df.sort_values(by=['ID'])\n",
        "    #score\n",
        "    temp = (df_sort.groupby(['ID'])['pred_score'].agg(max)+df_sort.groupby(['ID'])['pred_score'].agg(sum)/2)/(1+df_sort.groupby(['ID'])['pred_score'].agg(len)/2)\n",
        "    x = df_sort.groupby(['ID'])['Label'].agg(np.min).values\n",
        "    df_out = pd.DataFrame({'logits': temp.values, 'ID': x})\n",
        "    fpr, tpr, thresholds = roc_curve(x, temp.values)\n",
        "    auc_score = auc(fpr, tpr)\n",
        "    plt.figure(1)\n",
        "    plt.plot([0, 1], [0, 1], 'k--')\n",
        "    plt.plot(fpr, tpr, label='Val (area = {:.3f})'.format(auc_score))\n",
        "    plt.xlabel('False positive rate')\n",
        "    plt.ylabel('True positive rate')\n",
        "    plt.title('ROC curve')\n",
        "    plt.legend(loc='best')\n",
        "    plt.show()\n",
        "    string = 'auroc_clinicalbert_'+readmission_mode+'.png'\n",
        "    plt.savefig(os.path.join(output_dir, string))\n",
        "    return fpr, tpr, df_out\n",
        "\n",
        "def pr_curve_plot(y, y_score, readmission_mode, empty=None):\n",
        "    precision, recall, _ = precision_recall_curve(y, y_score)\n",
        "    area = auc(recall,precision)\n",
        "    step_kwargs = ({'step': 'post'}\n",
        "                   if 'step' in signature(plt.fill_between).parameters\n",
        "                   else {})\n",
        "    plt.figure(2)\n",
        "    plt.step(recall, precision, color='b', alpha=0.2,\n",
        "             where='post')\n",
        "    plt.fill_between(recall, precision, alpha=0.2, color='b', **step_kwargs)\n",
        "    plt.xlabel('Recall')\n",
        "    plt.ylabel('Precision')\n",
        "    plt.ylim([0.0, 1.05])\n",
        "    plt.xlim([0.0, 1.0])\n",
        "    plt.title('Precision-Recall curve: AUC={0:0.2f}'.format(\n",
        "              area))\n",
        "    string = 'auprc_clinicalbert_'+readmission_mode+'.png'\n",
        "    plt.savefig(os.path.join(output_dir, string))\n",
        "\n",
        "\n",
        "def vote_pr_curve(df, score, empty=None):\n",
        "    df['pred_score'] = score\n",
        "    df_sort = df.sort_values(by=['ID'])\n",
        "    #score\n",
        "    temp = (df_sort.groupby(['ID'])['pred_score'].agg(max)+df_sort.groupby(['ID'])['pred_score'].agg(sum)/2)/(1+df_sort.groupby(['ID'])['pred_score'].agg(len)/2)\n",
        "    y = df_sort.groupby(['ID'])['Label'].agg(np.min).values\n",
        "    precision, recall, thres = precision_recall_curve(y, temp)\n",
        "    pr_thres = pd.DataFrame(data =  list(zip(precision, recall, thres)), columns = ['prec','recall','thres'])\n",
        "    vote_df = pd.DataFrame(data =  list(zip(temp, y)), columns = ['score','label'])\n",
        "    pr_curve_plot(y, temp, empty)\n",
        "    temp = pr_thres[pr_thres.prec > 0.799999].reset_index()\n",
        "    rp80 = 0\n",
        "    if temp.size == 0:\n",
        "        print('Test Sample too small or RP80=0')\n",
        "    else:\n",
        "        rp80 = temp.iloc[0].recall\n",
        "        print('Recall at Precision of 80 is {}', rp80)\n",
        "    return rp80"
      ]
    },
    {
      "cell_type": "code",
      "execution_count": null,
      "metadata": {
        "id": "4yRdWMsy38kn"
      },
      "outputs": [],
      "source": [
        "import torch\n",
        "from torch.utils.data import DataLoader, RandomSampler, TensorDataset\n",
        "from tqdm import trange\n",
        "import matplotlib.pyplot as plt\n",
        "from transformers import Adafactor\n",
        "import os\n",
        "\n",
        "def train_model(model, tokenizer, data_dir, num_labels, device, lr, train_batch_size, num_train_epochs, max_seq_length):\n",
        "  optimizer = Adafactor(params = model.parameters(), lr=lr, relative_step=False)\n",
        "  model.train()\n",
        "  all_losses = []\n",
        "  global_step = 0\n",
        "  train_loss=100000\n",
        "  number_training_steps=1\n",
        "  global_step_check=0\n",
        "  train_loss_history=[]\n",
        "  processor = readmissionProcessor()\n",
        "  label_list = processor.get_labels()\n",
        "  train_examples = processor.get_train_examples(data_dir)\n",
        "  num_train_steps = int(\n",
        "      len(train_examples) / train_batch_size / num_train_epochs)\n",
        "\n",
        "  train_features = convert_examples_to_features(\n",
        "    train_examples, label_list, max_seq_length, tokenizer)\n",
        "  print(\"***** Running training *****\")\n",
        "  print(\"  Num examples = %d\", len(train_examples))\n",
        "  print(\"  Batch size = %d\", train_batch_size)\n",
        "  print(\"  Num steps = %d\", num_train_steps)\n",
        "  all_input_ids = torch.tensor([f.input_ids for f in train_features], dtype=torch.long)\n",
        "  all_input_mask = torch.tensor([f.input_mask for f in train_features], dtype=torch.long)\n",
        "  all_segment_ids = torch.tensor([f.segment_ids for f in train_features], dtype=torch.long)\n",
        "  all_label_ids = torch.tensor([f.label_id for f in train_features], dtype=torch.long)\n",
        "  train_data = TensorDataset(all_input_ids, all_input_mask, all_segment_ids, all_label_ids)\n",
        "  train_sampler = RandomSampler(train_data)\n",
        "  train_dataloader = DataLoader(train_data, sampler=train_sampler, batch_size=train_batch_size)\n",
        "\n",
        "  all_loss = []\n",
        "  all_acc = []\n",
        "\n",
        "  model.train()\n",
        "  for epo in trange(int(num_train_epochs), desc=\"Epoch\"):\n",
        "    tr_loss = 0\n",
        "    nb_tr_examples, nb_tr_steps = 0, 0\n",
        "    for step, batch in enumerate(train_dataloader):\n",
        "        batch = tuple(t.to(device) for t in batch)\n",
        "        input_ids, input_mask, segment_ids, label_ids = batch\n",
        "        pred = model(input_ids, attention_mask=input_mask, labels=label_ids.unsqueeze(1))\n",
        "        loss = pred.loss\n",
        "        logits = pred.logits\n",
        "        training_acc = accuracy(logits.detach().cpu(), label_ids.detach().cpu())\n",
        "        loss.backward()\n",
        "        train_loss_history.append(loss.item())\n",
        "        tr_loss += loss.item()\n",
        "        nb_tr_examples += input_ids.size(0)\n",
        "        nb_tr_steps += 1\n",
        "        optimizer.step()\n",
        "        model.zero_grad()\n",
        "        global_step += 1\n",
        "        all_loss.append(loss.item())\n",
        "        all_acc.append(training_acc)\n",
        "        if (step+1) % 200 == 0:\n",
        "            print('Epoch: {}, Step: {}, Loss: {}, Acc: {}'.format(epo, step, sum(all_loss[-200:])/len(all_loss[-200:]), sum(all_acc[-200:])/len(all_loss[-200:])))\n",
        "\n",
        "  train_loss = tr_loss\n",
        "  global_step_check = global_step\n",
        "  number_training_steps = nb_tr_steps\n",
        "\n",
        "  # string = './pytorch_model_new_'+readmission_mode+'.bin'\n",
        "  # torch.save(model.state_dict(), string)\n",
        "\n",
        "  fig1 = plt.figure()\n",
        "  plt.plot(train_loss_history)\n",
        "  fig1.savefig('loss_history.png', dpi=fig1.dpi)\n",
        "\n",
        "  return model, train_loss, global_step_check, number_training_steps\n"
      ]
    },
    {
      "cell_type": "code",
      "source": [
        "from torch.utils.data import DataLoader, SequentialSampler, TensorDataset\n",
        "from tqdm import tqdm\n",
        "import pandas as pd\n",
        "import numpy as np\n",
        "from sklearn.metrics import roc_auc_score, precision_recall_curve, auc\n",
        "\n",
        "def evaluate_model(model, tokenizer, data_dir, max_seq_length, eval_batch_size, device, readmission_mode, output_dir):\n",
        "  m = nn.Sigmoid()\n",
        "  processor = readmissionProcessor()\n",
        "  label_list = processor.get_labels()\n",
        "  eval_examples = processor.get_test_examples(data_dir)\n",
        "  eval_features = convert_examples_to_features(\n",
        "      eval_examples, label_list, max_seq_length, tokenizer)\n",
        "  print(\"***** Running evaluation *****\")\n",
        "  print(\"  Num examples = %d\", len(eval_examples))\n",
        "  print(\"  Batch size = %d\", eval_batch_size)\n",
        "  all_input_ids = torch.tensor([f.input_ids for f in eval_features], dtype=torch.long)\n",
        "  all_input_mask = torch.tensor([f.input_mask for f in eval_features], dtype=torch.long)\n",
        "  all_segment_ids = torch.tensor([f.segment_ids for f in eval_features], dtype=torch.long)\n",
        "  all_label_ids = torch.tensor([f.label_id for f in eval_features], dtype=torch.long)\n",
        "  eval_data = TensorDataset(all_input_ids, all_input_mask, all_segment_ids, all_label_ids)\n",
        "  eval_sampler = SequentialSampler(eval_data)\n",
        "  eval_dataloader = DataLoader(eval_data, sampler=eval_sampler, batch_size=eval_batch_size)\n",
        "  model.eval()\n",
        "  eval_loss, eval_accuracy = 0, 0\n",
        "  nb_eval_steps, nb_eval_examples = 0, 0\n",
        "  true_labels=[]\n",
        "  pred_labels=[]\n",
        "  logits_history=[]\n",
        "  for input_ids, input_mask, segment_ids, label_ids in tqdm(eval_dataloader):\n",
        "    input_ids = input_ids.to(device)\n",
        "    input_mask = input_mask.to(device)\n",
        "    segment_ids = segment_ids.to(device)\n",
        "    label_ids = label_ids.to(device)\n",
        "    with torch.no_grad():\n",
        "        output = model(input_ids, token_type_ids=segment_ids, attention_mask=input_mask, labels=label_ids)\n",
        "        tmp_eval_loss, logits = output[:2]\n",
        "\n",
        "    logits = torch.squeeze(m(logits[:,1])).detach().cpu().numpy()\n",
        "    label_ids = label_ids.to('cpu').numpy()\n",
        "    outputs = np.asarray([1 if i else 0 for i in (logits.flatten()>=0.5)])\n",
        "    tmp_eval_accuracy=np.sum(outputs == label_ids)\n",
        "    true_labels = true_labels + label_ids.flatten().tolist()\n",
        "    pred_labels = pred_labels + outputs.flatten().tolist()\n",
        "    logits_history = logits_history + logits.flatten().tolist()\n",
        "    eval_loss += tmp_eval_loss.mean().item()\n",
        "    eval_accuracy += tmp_eval_accuracy\n",
        "    nb_eval_examples += input_ids.size(0)\n",
        "    nb_eval_steps += 1\n",
        "\n",
        "  eval_loss = eval_loss / nb_eval_steps\n",
        "  eval_accuracy = eval_accuracy / nb_eval_examples\n",
        "  df = pd.DataFrame({'logits':logits_history, 'pred_label': pred_labels, 'label':true_labels})\n",
        "  string = 'logits_clinicalbert_'+readmission_mode+'_chunks.csv'\n",
        "  df.to_csv(os.path.join(output_dir, string))\n",
        "  df_test = pd.read_csv(os.path.join(data_dir, \"test.csv\"))\n",
        "\n",
        "  # Drop na for df_test\n",
        "  df_test = df_test.dropna()\n",
        "\n",
        "  fpr, tpr, df_out = vote_score(df_test, logits_history,readmission_mode)\n",
        "  #auc_score = get_auc_score(df_test, logits_history)\n",
        "  # Convert logits_history to probabilities\n",
        "  probabilities = [1 / (1 + np.exp(-x)) for x in logits_history]\n",
        "  # Calculate AUC\n",
        "  auc_score = roc_auc_score(true_labels, probabilities)\n",
        "  # Calculate precision-recall curve, then calculate AUPRC\n",
        "  precision, recall, _ = precision_recall_curve(true_labels, probabilities)\n",
        "  auprc_score = auc(recall, precision)\n",
        "  string = 'logits_clinicalbert_'+readmission_mode+'_readmissions.csv'\n",
        "  df_out.to_csv(os.path.join(output_dir,string))\n",
        "  rp80 = vote_pr_curve(df_test, logits_history,readmission_mode)\n",
        "  result = {'eval_loss': eval_loss,\n",
        "            'eval_accuracy': eval_accuracy,\n",
        "            'auc_score': auc_score,\n",
        "            'auprc_score':auprc_score,\n",
        "            'RP80': rp80}\n",
        "\n",
        "  return result"
      ],
      "metadata": {
        "id": "POnyVp-08TB_"
      },
      "execution_count": null,
      "outputs": []
    },
    {
      "cell_type": "code",
      "source": [
        "def evaluate_hierachical(test):\n",
        "    hierachical_bert.eval()\n",
        "    with torch.no_grad():\n",
        "        all_losses = []\n",
        "        all_acc = []\n",
        "        all_prob = []\n",
        "        all_labels = []\n",
        "        for i, item in enumerate(tqdm(test)):\n",
        "            all_tokens = flatten_list_of_list_of_tokens(item['tokens'])\n",
        "            all_tokens, attention_mask = list_of_tokens_to_tensor(all_tokens)\n",
        "            label = torch.tensor([int(item['Label'])]).to(device)\n",
        "            outputs = hierachical_bert(all_tokens.to(device), attention_mask.to(device))\n",
        "            all_prob.append(outputs[0][0].item())\n",
        "            loss = criteria(outputs, label)\n",
        "            all_losses.append(loss.item())\n",
        "            all_acc.append((outputs.argmax(-1)[0] == label).item())\n",
        "            all_labels.append(label.item())\n",
        "        print('============================================')\n",
        "        print(f'Evaluation loss: {sum(all_losses)/len(all_losses)}, acc: {sum(all_acc)/len(all_acc)}')\n",
        "    auc_score = roc_auc_score(all_labels, all_prob)\n",
        "    precision, recall, _ = precision_recall_curve(all_labels, all_prob)\n",
        "    auprc_score = auc(recall, precision)\n",
        "    eval_loss = sum(all_losses)/len(all_losses)\n",
        "    eval_accuracy = sum(all_acc)/len(all_acc)\n",
        "    hierachical_bert.train()\n",
        "    return {\n",
        "        'eval_loss': eval_loss,\n",
        "        'eval_accuracy': eval_accuracy,\n",
        "        'auc_score': auc_score,\n",
        "        'auprc_score': auprc_score\n",
        "    }"
      ],
      "metadata": {
        "id": "1BC-hXnsvI1S"
      },
      "execution_count": null,
      "outputs": []
    },
    {
      "cell_type": "markdown",
      "source": [
        "### Flat Model Experiments using Discharge Summary Cohort"
      ],
      "metadata": {
        "id": "vORIJ6plKCty"
      }
    },
    {
      "cell_type": "markdown",
      "metadata": {
        "id": "UusrN-Acm93t"
      },
      "source": [
        "#### Bert-based readmission prediction"
      ]
    },
    {
      "cell_type": "code",
      "execution_count": null,
      "metadata": {
        "colab": {
          "base_uri": "https://localhost:8080/",
          "height": 1000,
          "referenced_widgets": [
            "01ec85517ffd4f2b901e76a17635d695",
            "97be075dce9349f397ef78622cb6f83e",
            "6ea7c2e9aa654560981220409b158de2",
            "a0e4c6ea7bb64e0a82e17cdfe62007de",
            "c451db1635d0419ab3b940093e5e8fc7",
            "946f8f1dec254ad1855c8488b81804b9",
            "825d380351364ba68543438d9cd4253f",
            "433cfea4abb941ed8409581738dd80eb",
            "98cbd4c7af674d8f8144f8b3a8cb414f",
            "a50bdf04dc3a4d31becde62b4e492ce4",
            "a54088415f104dd4945742d5be6ce1e0",
            "41bab4cfcafd4913a5b1fa48e895cc3b",
            "fadaa2c1912f4078b75339a4d93ea401",
            "7034de4a8e194fab9fa60139486cb481",
            "3d9591cad6f043eeb3517c72bd887b03",
            "8fa200470e924367a6c99f0b3d3db822",
            "dc7265af507c496180de0464eb3efcc9",
            "d6336c58c25e47f787b20d8a618db9d9",
            "a429871c8a00463eb246808589dab78b",
            "09c674d5da634aa6bc8db6551cc43d38",
            "30a8be92104842bba1d29da6cfb02dec",
            "8264d0fe1dc04a0088a43f1f15944997",
            "976aae005a0f482baf2c1df1fa372033",
            "892fe1f5fca544988c4fb72b85c25765",
            "7b976e614ef54be896e0a60729eb98e6",
            "3870f81504f04b90a03bd3220926b512",
            "4dd7d3d2eef144b48bb306dcbe39deb0",
            "2d2e507503fd42e89715bba57b1ed2d3",
            "90435a4058784dc4a6a7791c6e27c497",
            "90becf9317ac489cbcc3b802df4cf85f",
            "96629e5655e64c98a6b83a0d404e0ba0",
            "977092e53a374ad1ac48384d94f8c0c1",
            "155bd681aee74ba29648d2e40cc0b40f",
            "42090449ba3d4781aa70ed59e49c12c6",
            "7d11830eec0e45ffa47891507f1065b6",
            "2d6ea0f006024a44abcaf2b71a8a7dfb",
            "75ce6ac111bb4136ab64a497e8e2ccfb",
            "6d7f5737de094966aab452fc9e50ac15",
            "a8cbcb16734343059c3f6d197efeb1d8",
            "dd6a493a905e4b90a5a522edebbfca61",
            "5120bb3b06d74542be9761f7dc72a8ff",
            "15d25019a30f44b49c2f6442b754e1ff",
            "c0ff375b74e3418380627cd2c6d00669",
            "971c2cae89994f2f816e285cf81aeb19",
            "4cd545a20d59487780cad98ecb0d7bfc",
            "a9cf3d444dd340b5aa934f33e31350b1",
            "ce10320bf38144a688bcebd8d8e5e024",
            "f9719ed715b44df6acddaec198f54059",
            "6de385ddaa48493b9f85c53059f96c4f",
            "bf8301cd711f4beb84881ae7e03b91ac",
            "433bc1726dad4c3f97d882b0ec56935e",
            "90ef7b7c2a574b9091418401b4c7147d",
            "8e4ad71e82844d0194912f3c390346d5",
            "5825c7e4f3ab4f15bc3a54557ef7cf03",
            "4a321ddb95b1456da5e05f37b4c4e5ca"
          ]
        },
        "id": "M8TfU8QJ7ipv",
        "outputId": "49a4ce64-9706-4d75-def8-257a2199e1fd"
      },
      "outputs": [
        {
          "name": "stderr",
          "output_type": "stream",
          "text": [
            "/usr/local/lib/python3.10/dist-packages/huggingface_hub/utils/_token.py:88: UserWarning: \n",
            "The secret `HF_TOKEN` does not exist in your Colab secrets.\n",
            "To authenticate with the Hugging Face Hub, create a token in your settings tab (https://huggingface.co/settings/tokens), set it as secret in your Google Colab and restart your session.\n",
            "You will be able to reuse this secret in all of your notebooks.\n",
            "Please note that authentication is recommended but still optional to access public models or datasets.\n",
            "  warnings.warn(\n"
          ]
        },
        {
          "data": {
            "application/vnd.jupyter.widget-view+json": {
              "model_id": "01ec85517ffd4f2b901e76a17635d695",
              "version_major": 2,
              "version_minor": 0
            },
            "text/plain": [
              "tokenizer_config.json:   0%|          | 0.00/48.0 [00:00<?, ?B/s]"
            ]
          },
          "metadata": {},
          "output_type": "display_data"
        },
        {
          "data": {
            "application/vnd.jupyter.widget-view+json": {
              "model_id": "41bab4cfcafd4913a5b1fa48e895cc3b",
              "version_major": 2,
              "version_minor": 0
            },
            "text/plain": [
              "config.json:   0%|          | 0.00/570 [00:00<?, ?B/s]"
            ]
          },
          "metadata": {},
          "output_type": "display_data"
        },
        {
          "data": {
            "application/vnd.jupyter.widget-view+json": {
              "model_id": "976aae005a0f482baf2c1df1fa372033",
              "version_major": 2,
              "version_minor": 0
            },
            "text/plain": [
              "vocab.txt:   0%|          | 0.00/232k [00:00<?, ?B/s]"
            ]
          },
          "metadata": {},
          "output_type": "display_data"
        },
        {
          "data": {
            "application/vnd.jupyter.widget-view+json": {
              "model_id": "42090449ba3d4781aa70ed59e49c12c6",
              "version_major": 2,
              "version_minor": 0
            },
            "text/plain": [
              "tokenizer.json:   0%|          | 0.00/466k [00:00<?, ?B/s]"
            ]
          },
          "metadata": {},
          "output_type": "display_data"
        },
        {
          "data": {
            "application/vnd.jupyter.widget-view+json": {
              "model_id": "4cd545a20d59487780cad98ecb0d7bfc",
              "version_major": 2,
              "version_minor": 0
            },
            "text/plain": [
              "model.safetensors:   0%|          | 0.00/440M [00:00<?, ?B/s]"
            ]
          },
          "metadata": {},
          "output_type": "display_data"
        },
        {
          "name": "stderr",
          "output_type": "stream",
          "text": [
            "Some weights of BertForSequenceClassification were not initialized from the model checkpoint at google-bert/bert-base-uncased and are newly initialized: ['classifier.bias', 'classifier.weight']\n",
            "You should probably TRAIN this model on a down-stream task to be able to use it for predictions and inference.\n"
          ]
        },
        {
          "name": "stdout",
          "output_type": "stream",
          "text": [
            "LOOKING AT DATA/discharge/train.csv\n"
          ]
        },
        {
          "name": "stderr",
          "output_type": "stream",
          "text": [
            "0it [00:00, ?it/s]Token indices sequence length is longer than the specified maximum sequence length for this model (562 > 512). Running this sequence through the model will result in indexing errors\n",
            "119it [00:00, 590.15it/s]"
          ]
        },
        {
          "name": "stdout",
          "output_type": "stream",
          "text": [
            "*** Example ***\n",
            "guid: train-0\n",
            "tokens: [CLS] l ##v cavity size . normal regional l ##v sy ##sto ##lic function . hyper ##dy ##nami ##c l ##ve ##f > 75 % . mid - ca ##vita ##ry gradient . no vs ##d . right vent ##ric ##le : normal rv chamber size and free wall motion . ao ##rta : mildly dil ##ated ascending ao ##rta . ao ##rti ##c valve : three ao ##rti ##c valve leaflets . moderately thick ##ened ao ##rti ##c valve leaflets . mild as ( area 2 - 9 ##cm ##2 ) . trace ar . mit ##ral valve : mildly thick ##ened mit ##ral valve leaflets . severe mit ##ral ann ##ular cal ##ci ##fication . mod functional ms due to mac . mild to moderate ( + ) mr . tri ##cus ##pid valve : mildly thick ##ened tri ##cus ##pid valve leaflets . no ts . mild tr . ind ##eter ##minate pa sy ##sto ##lic pressure . pu ##lm ##onic valve / pulmonary artery : no ps . per ##ica ##rdi ##um : no per ##ica ##rdial e ##ff ##usion . conclusions the left atrium is normal in size . no at ##rial sept ##al defect is seen by 2d or color do ##pp ##ler . the estimated right at ##rial pressure is 0 - 5 mm ##hg . there is mild symmetric left vent ##ric ##ular hyper ##tro ##phy . the left vent ##ric ##ular cavity size is normal . regional left vent ##ric ##ular wall motion is normal . left vent ##ric ##ular sy ##sto ##lic function is hyper ##dy ##nami ##c ( e ##f > 75 % ) . a mid - ca ##vita ##ry gradient is identified . there is no vent ##ric ##ular sept ##al defect . right vent ##ric ##ular chamber size and free wall motion are normal . the ascending ao ##rta is mildly dil ##ated . there are three ao ##rti ##c valve leaflets . the ao ##rti ##c valve leaflets are moderately thick ##ened . there is mild ao ##rti ##c valve ste ##nosis ( valve area 2 - 9 ##cm ##2 ) . trace ao ##rti ##c reg ##urg ##itation is seen . the mit ##ral valve leaflets are mildly thick ##ened . there is severe mit ##ral ann ##ular cal ##ci ##fication . there is moderate functional mit ##ral ste ##nosis ( mean gradient 11 mm ##hg ) due to mit ##ral ann ##ular cal ##ci ##fication . mild to moderate ( + ) mit ##ral reg ##urg ##itation is seen . the tri ##cus ##pid valve leaflets are mildly thick ##ened . the pulmonary artery sy ##sto ##lic pressure could not be determined . there is no per ##ica ##rdial e ##ff ##usion . compared with the prior study ( images reviewed ) of / 201 , l ##v sy ##sto ##lic function is now hyper ##dy ##nami ##c . brief hospital course : ms . is 83 year old with h ##t ##n , h ##ld , cad , stage iv ck ##d ( [SEP]\n",
            "input_ids: 101 1048 2615 17790 2946 1012 3671 3164 1048 2615 25353 16033 10415 3853 1012 23760 5149 28987 2278 1048 3726 2546 1028 4293 1003 1012 3054 1011 6187 28403 2854 17978 1012 2053 5443 2094 1012 2157 18834 7277 2571 1024 3671 27634 4574 2946 1998 2489 2813 4367 1012 20118 13320 1024 19499 29454 4383 22316 20118 13320 1012 20118 28228 2278 10764 1024 2093 20118 28228 2278 10764 27306 1012 17844 4317 6675 20118 28228 2278 10764 27306 1012 10256 2004 1006 2181 1016 1011 1023 27487 2475 1007 1012 7637 12098 1012 10210 7941 10764 1024 19499 4317 6675 10210 7941 10764 27306 1012 5729 10210 7941 5754 7934 10250 6895 10803 1012 16913 8360 5796 2349 2000 6097 1012 10256 2000 8777 1006 1009 1007 2720 1012 13012 7874 23267 10764 1024 19499 4317 6675 13012 7874 23267 10764 27306 1012 2053 24529 1012 10256 19817 1012 27427 15141 19269 6643 25353 16033 10415 3778 1012 16405 13728 12356 10764 1013 21908 16749 1024 2053 8827 1012 2566 5555 17080 2819 1024 2053 2566 5555 25070 1041 4246 14499 1012 15306 1996 2187 26204 2003 3671 1999 2946 1012 2053 2012 14482 17419 2389 21262 2003 2464 2011 14134 2030 3609 2079 9397 3917 1012 1996 4358 2157 2012 14482 3778 2003 1014 1011 1019 3461 25619 1012 2045 2003 10256 19490 2187 18834 7277 7934 23760 13181 21281 1012 1996 2187 18834 7277 7934 17790 2946 2003 3671 1012 3164 2187 18834 7277 7934 2813 4367 2003 3671 1012 2187 18834 7277 7934 25353 16033 10415 3853 2003 23760 5149 28987 2278 1006 1041 2546 1028 4293 1003 1007 1012 1037 3054 1011 6187 28403 2854 17978 2003 4453 1012 2045 2003 2053 18834 7277 7934 17419 2389 21262 1012 2157 18834 7277 7934 4574 2946 1998 2489 2813 4367 2024 3671 1012 1996 22316 20118 13320 2003 19499 29454 4383 1012 2045 2024 2093 20118 28228 2278 10764 27306 1012 1996 20118 28228 2278 10764 27306 2024 17844 4317 6675 1012 2045 2003 10256 20118 28228 2278 10764 26261 27109 1006 10764 2181 1016 1011 1023 27487 2475 1007 1012 7637 20118 28228 2278 19723 12514 18557 2003 2464 1012 1996 10210 7941 10764 27306 2024 19499 4317 6675 1012 2045 2003 5729 10210 7941 5754 7934 10250 6895 10803 1012 2045 2003 8777 8360 10210 7941 26261 27109 1006 2812 17978 2340 3461 25619 1007 2349 2000 10210 7941 5754 7934 10250 6895 10803 1012 10256 2000 8777 1006 1009 1007 10210 7941 19723 12514 18557 2003 2464 1012 1996 13012 7874 23267 10764 27306 2024 19499 4317 6675 1012 1996 21908 16749 25353 16033 10415 3778 2071 2025 2022 4340 1012 2045 2003 2053 2566 5555 25070 1041 4246 14499 1012 4102 2007 1996 3188 2817 1006 4871 8182 1007 1997 1013 16345 1010 1048 2615 25353 16033 10415 3853 2003 2085 23760 5149 28987 2278 1012 4766 2902 2607 1024 5796 1012 2003 6640 2095 2214 2007 1044 2102 2078 1010 1044 6392 1010 28353 1010 2754 4921 23616 2094 1006 102\n",
            "input_mask: 1 1 1 1 1 1 1 1 1 1 1 1 1 1 1 1 1 1 1 1 1 1 1 1 1 1 1 1 1 1 1 1 1 1 1 1 1 1 1 1 1 1 1 1 1 1 1 1 1 1 1 1 1 1 1 1 1 1 1 1 1 1 1 1 1 1 1 1 1 1 1 1 1 1 1 1 1 1 1 1 1 1 1 1 1 1 1 1 1 1 1 1 1 1 1 1 1 1 1 1 1 1 1 1 1 1 1 1 1 1 1 1 1 1 1 1 1 1 1 1 1 1 1 1 1 1 1 1 1 1 1 1 1 1 1 1 1 1 1 1 1 1 1 1 1 1 1 1 1 1 1 1 1 1 1 1 1 1 1 1 1 1 1 1 1 1 1 1 1 1 1 1 1 1 1 1 1 1 1 1 1 1 1 1 1 1 1 1 1 1 1 1 1 1 1 1 1 1 1 1 1 1 1 1 1 1 1 1 1 1 1 1 1 1 1 1 1 1 1 1 1 1 1 1 1 1 1 1 1 1 1 1 1 1 1 1 1 1 1 1 1 1 1 1 1 1 1 1 1 1 1 1 1 1 1 1 1 1 1 1 1 1 1 1 1 1 1 1 1 1 1 1 1 1 1 1 1 1 1 1 1 1 1 1 1 1 1 1 1 1 1 1 1 1 1 1 1 1 1 1 1 1 1 1 1 1 1 1 1 1 1 1 1 1 1 1 1 1 1 1 1 1 1 1 1 1 1 1 1 1 1 1 1 1 1 1 1 1 1 1 1 1 1 1 1 1 1 1 1 1 1 1 1 1 1 1 1 1 1 1 1 1 1 1 1 1 1 1 1 1 1 1 1 1 1 1 1 1 1 1 1 1 1 1 1 1 1 1 1 1 1 1 1 1 1 1 1 1 1 1 1 1 1 1 1 1 1 1 1 1 1 1 1 1 1 1 1 1 1 1 1 1 1 1 1 1 1 1 1 1 1 1 1 1 1 1 1 1 1 1 1 1 1 1 1 1 1 1 1 1 1 1 1 1 1 1 1 1 1 1 1 1 1 1 1 1 1 1 1 1 1 1 1 1 1 1 1 1 1 1 1 1 1 1 1 1 1 1 1 1 1 1 1 1 1 1 1 1 1 1 1 1 1 1 1 1 1 1 1 1 1 1\n",
            "segment_ids: 0 0 0 0 0 0 0 0 0 0 0 0 0 0 0 0 0 0 0 0 0 0 0 0 0 0 0 0 0 0 0 0 0 0 0 0 0 0 0 0 0 0 0 0 0 0 0 0 0 0 0 0 0 0 0 0 0 0 0 0 0 0 0 0 0 0 0 0 0 0 0 0 0 0 0 0 0 0 0 0 0 0 0 0 0 0 0 0 0 0 0 0 0 0 0 0 0 0 0 0 0 0 0 0 0 0 0 0 0 0 0 0 0 0 0 0 0 0 0 0 0 0 0 0 0 0 0 0 0 0 0 0 0 0 0 0 0 0 0 0 0 0 0 0 0 0 0 0 0 0 0 0 0 0 0 0 0 0 0 0 0 0 0 0 0 0 0 0 0 0 0 0 0 0 0 0 0 0 0 0 0 0 0 0 0 0 0 0 0 0 0 0 0 0 0 0 0 0 0 0 0 0 0 0 0 0 0 0 0 0 0 0 0 0 0 0 0 0 0 0 0 0 0 0 0 0 0 0 0 0 0 0 0 0 0 0 0 0 0 0 0 0 0 0 0 0 0 0 0 0 0 0 0 0 0 0 0 0 0 0 0 0 0 0 0 0 0 0 0 0 0 0 0 0 0 0 0 0 0 0 0 0 0 0 0 0 0 0 0 0 0 0 0 0 0 0 0 0 0 0 0 0 0 0 0 0 0 0 0 0 0 0 0 0 0 0 0 0 0 0 0 0 0 0 0 0 0 0 0 0 0 0 0 0 0 0 0 0 0 0 0 0 0 0 0 0 0 0 0 0 0 0 0 0 0 0 0 0 0 0 0 0 0 0 0 0 0 0 0 0 0 0 0 0 0 0 0 0 0 0 0 0 0 0 0 0 0 0 0 0 0 0 0 0 0 0 0 0 0 0 0 0 0 0 0 0 0 0 0 0 0 0 0 0 0 0 0 0 0 0 0 0 0 0 0 0 0 0 0 0 0 0 0 0 0 0 0 0 0 0 0 0 0 0 0 0 0 0 0 0 0 0 0 0 0 0 0 0 0 0 0 0 0 0 0 0 0 0 0 0 0 0 0 0 0 0 0 0 0 0 0 0 0 0 0 0 0 0 0 0 0 0 0 0 0 0 0 0 0 0 0 0 0 0 0 0 0 0 0 0 0 0\n",
            "label: 1 (id = 1)\n",
            "*** Example ***\n",
            "guid: train-1\n",
            "tokens: [CLS] to 80 % , but then would come back into the high 90s . he denied any short ##ness of breath or chest pain at the time . he continued to met ##op ##rol ##ol , , as ##pi ##rin , capt ##op ##ril , and iv he ##par ##in . his iv int ##eg ##ril ##in was turned off . he also had las ##ix di ##ures ##is to help control his cong ##est ##ive heart failure . the patient also spiked a temperature to 2 on . he was culture ##d . his potassium dropped to 7 and was rep ##lete ##d . he also had increase in his av block at the level of his av node and card ##iology recommended disco ##nti ##nu ##ing his met ##op ##rol ##ol and any nod ##al at the time . all of this was discussed with doctor of the ep service . on , he ##par ##in was also restarted . the patient also had enter ##oco ##ccus grow out of his urine culture . the patient was started on lev ##aq ##uin and the foley was discontinued on the . the patient was also seen again by ep and was diagnosed with wen ##cke ##bach at a 2 : 1 block . beta block ##ers continued to be held . the patient also had a right lower lobe infiltrate and was also covered for this with lev ##aq ##uin . pre ##oper ##ative ##ly , the patient had less than 40 % ste ##nosis bilateral ##ly on internal car ##ot ##id arteries and had ant ##eg ##rade ve ##rte ##bra ##l flow . lower ex ##tre ##mity vein mapping showed bilateral greater sap ##hen ##ous veins present in both thighs and already harvested from lower ex ##tre ##mit ##ies which matched his scars . on , the patient underwent re - do corona ##ry artery bypass graf ##ting x ##2 with vein graf ##t to the ram ##us , vein graf ##t to the poster ##olate ##ral branch of the rv , was transferred to the card ##iot ##hora ##cic ic ##u in stable condition on a mil ##rino ##ne drip at 5 mc ##g / kg per minute and prop ##of ##ol drip at 20 mc ##g / kg per minute . post ##oper ##ative day 1 was significant for complete heart block . he was hem ##od ##yna ##mic ##ally stable , though , with blood pressure 115 / 63 , sat ##uration ##s 96 % . he had been ex ##tub ##ated overnight . he remained on mil ##rino ##ne drip at 25 and a neo - syn ##ep ##hri ##ne drip at we ##ani ##ng of those 2 agents was begun . [SEP]\n",
            "input_ids: 101 2000 3770 1003 1010 2021 2059 2052 2272 2067 2046 1996 2152 17233 1012 2002 6380 2151 2460 2791 1997 3052 2030 3108 3255 2012 1996 2051 1012 2002 2506 2000 2777 7361 13153 4747 1010 1010 2004 8197 6657 1010 14408 7361 15928 1010 1998 4921 2002 19362 2378 1012 2010 4921 20014 13910 15928 2378 2001 2357 2125 1012 2002 2036 2018 5869 7646 4487 14900 2483 2000 2393 2491 2010 26478 4355 3512 2540 4945 1012 1996 5776 2036 25362 1037 4860 2000 1016 2006 1012 2002 2001 3226 2094 1012 2010 18044 3333 2000 1021 1998 2001 16360 25890 2094 1012 2002 2036 2018 3623 1999 2010 20704 3796 2012 1996 2504 1997 2010 20704 13045 1998 4003 20569 6749 12532 16778 11231 2075 2010 2777 7361 13153 4747 1998 2151 7293 2389 2012 1996 2051 1012 2035 1997 2023 2001 6936 2007 3460 1997 1996 4958 2326 1012 2006 1010 2002 19362 2378 2001 2036 25606 1012 1996 5776 2036 2018 4607 24163 27631 4982 2041 1997 2010 17996 3226 1012 1996 5776 2001 2318 2006 23310 20784 20023 1998 1996 17106 2001 8944 2006 1996 1012 1996 5776 2001 2036 2464 2153 2011 4958 1998 2001 11441 2007 19181 19869 7693 2012 1037 1016 1024 1015 3796 1012 8247 3796 2545 2506 2000 2022 2218 1012 1996 5776 2036 2018 1037 2157 2896 21833 29543 1998 2001 2036 3139 2005 2023 2007 23310 20784 20023 1012 3653 25918 8082 2135 1010 1996 5776 2018 2625 2084 2871 1003 26261 27109 17758 2135 2006 4722 2482 4140 3593 28915 1998 2018 14405 13910 13662 2310 19731 10024 2140 4834 1012 2896 4654 7913 16383 12818 12375 3662 17758 3618 20066 10222 3560 9607 2556 1999 2119 9222 1998 2525 22629 2013 2896 4654 7913 22930 3111 2029 10349 2010 13521 1012 2006 1010 1996 5776 9601 2128 1011 2079 21887 2854 16749 11826 22160 3436 1060 2475 2007 12818 22160 2102 2000 1996 8223 2271 1010 12818 22160 2102 2000 1996 13082 19425 7941 3589 1997 1996 27634 1010 2001 4015 2000 1996 4003 25185 16977 19053 24582 2226 1999 6540 4650 2006 1037 23689 17815 2638 27304 2012 1019 11338 2290 1013 4705 2566 3371 1998 17678 11253 4747 27304 2012 2322 11338 2290 1013 4705 2566 3371 1012 2695 25918 8082 2154 1015 2001 3278 2005 3143 2540 3796 1012 2002 2001 19610 7716 18279 7712 3973 6540 1010 2295 1010 2007 2668 3778 10630 1013 6191 1010 2938 18924 2015 5986 1003 1012 2002 2018 2042 4654 28251 4383 11585 1012 2002 2815 2006 23689 17815 2638 27304 2012 2423 1998 1037 9253 1011 19962 13699 26378 2638 27304 2012 2057 7088 3070 1997 2216 1016 6074 2001 5625 1012 102 0 0 0 0 0 0 0 0 0 0 0 0 0 0 0 0 0 0 0 0 0 0 0 0 0 0 0 0 0 0 0 0 0 0 0 0 0 0 0 0 0 0 0 0 0 0 0 0 0 0 0 0\n",
            "input_mask: 1 1 1 1 1 1 1 1 1 1 1 1 1 1 1 1 1 1 1 1 1 1 1 1 1 1 1 1 1 1 1 1 1 1 1 1 1 1 1 1 1 1 1 1 1 1 1 1 1 1 1 1 1 1 1 1 1 1 1 1 1 1 1 1 1 1 1 1 1 1 1 1 1 1 1 1 1 1 1 1 1 1 1 1 1 1 1 1 1 1 1 1 1 1 1 1 1 1 1 1 1 1 1 1 1 1 1 1 1 1 1 1 1 1 1 1 1 1 1 1 1 1 1 1 1 1 1 1 1 1 1 1 1 1 1 1 1 1 1 1 1 1 1 1 1 1 1 1 1 1 1 1 1 1 1 1 1 1 1 1 1 1 1 1 1 1 1 1 1 1 1 1 1 1 1 1 1 1 1 1 1 1 1 1 1 1 1 1 1 1 1 1 1 1 1 1 1 1 1 1 1 1 1 1 1 1 1 1 1 1 1 1 1 1 1 1 1 1 1 1 1 1 1 1 1 1 1 1 1 1 1 1 1 1 1 1 1 1 1 1 1 1 1 1 1 1 1 1 1 1 1 1 1 1 1 1 1 1 1 1 1 1 1 1 1 1 1 1 1 1 1 1 1 1 1 1 1 1 1 1 1 1 1 1 1 1 1 1 1 1 1 1 1 1 1 1 1 1 1 1 1 1 1 1 1 1 1 1 1 1 1 1 1 1 1 1 1 1 1 1 1 1 1 1 1 1 1 1 1 1 1 1 1 1 1 1 1 1 1 1 1 1 1 1 1 1 1 1 1 1 1 1 1 1 1 1 1 1 1 1 1 1 1 1 1 1 1 1 1 1 1 1 1 1 1 1 1 1 1 1 1 1 1 1 1 1 1 1 1 1 1 1 1 1 1 1 1 1 1 1 1 1 1 1 1 1 1 1 1 1 1 1 1 1 1 1 1 1 1 1 1 1 1 1 1 1 1 1 1 1 1 1 1 1 1 1 1 1 1 1 1 1 1 1 1 1 1 1 1 1 1 1 1 1 1 1 1 1 1 1 0 0 0 0 0 0 0 0 0 0 0 0 0 0 0 0 0 0 0 0 0 0 0 0 0 0 0 0 0 0 0 0 0 0 0 0 0 0 0 0 0 0 0 0 0 0 0 0 0 0 0 0\n",
            "segment_ids: 0 0 0 0 0 0 0 0 0 0 0 0 0 0 0 0 0 0 0 0 0 0 0 0 0 0 0 0 0 0 0 0 0 0 0 0 0 0 0 0 0 0 0 0 0 0 0 0 0 0 0 0 0 0 0 0 0 0 0 0 0 0 0 0 0 0 0 0 0 0 0 0 0 0 0 0 0 0 0 0 0 0 0 0 0 0 0 0 0 0 0 0 0 0 0 0 0 0 0 0 0 0 0 0 0 0 0 0 0 0 0 0 0 0 0 0 0 0 0 0 0 0 0 0 0 0 0 0 0 0 0 0 0 0 0 0 0 0 0 0 0 0 0 0 0 0 0 0 0 0 0 0 0 0 0 0 0 0 0 0 0 0 0 0 0 0 0 0 0 0 0 0 0 0 0 0 0 0 0 0 0 0 0 0 0 0 0 0 0 0 0 0 0 0 0 0 0 0 0 0 0 0 0 0 0 0 0 0 0 0 0 0 0 0 0 0 0 0 0 0 0 0 0 0 0 0 0 0 0 0 0 0 0 0 0 0 0 0 0 0 0 0 0 0 0 0 0 0 0 0 0 0 0 0 0 0 0 0 0 0 0 0 0 0 0 0 0 0 0 0 0 0 0 0 0 0 0 0 0 0 0 0 0 0 0 0 0 0 0 0 0 0 0 0 0 0 0 0 0 0 0 0 0 0 0 0 0 0 0 0 0 0 0 0 0 0 0 0 0 0 0 0 0 0 0 0 0 0 0 0 0 0 0 0 0 0 0 0 0 0 0 0 0 0 0 0 0 0 0 0 0 0 0 0 0 0 0 0 0 0 0 0 0 0 0 0 0 0 0 0 0 0 0 0 0 0 0 0 0 0 0 0 0 0 0 0 0 0 0 0 0 0 0 0 0 0 0 0 0 0 0 0 0 0 0 0 0 0 0 0 0 0 0 0 0 0 0 0 0 0 0 0 0 0 0 0 0 0 0 0 0 0 0 0 0 0 0 0 0 0 0 0 0 0 0 0 0 0 0 0 0 0 0 0 0 0 0 0 0 0 0 0 0 0 0 0 0 0 0 0 0 0 0 0 0 0 0 0 0 0 0 0 0 0 0 0 0 0 0 0 0 0 0 0 0 0 0 0 0 0 0 0 0 0 0 0 0 0 0 0 0 0\n",
            "label: 0 (id = 0)\n",
            "*** Example ***\n",
            "guid: train-2\n",
            "tokens: [CLS] laboratories on admission were a white count 1 , hem ##ato ##cr ##it 4 , hem ##ato ##cr ##it 57 , plate ##let count 57 , che ##m - 7 with 131 / 3 / 97 / 23 / 16 / 8 and alt 14 , as ##t 40 , al ##k ph ##os 112 , total bi ##li ##ru ##bin 9 , album ##in of 6 , and amy ##lase of the patient ' s in ##r was hospital course : on hospital day five it was discovered the patient was mrs ##a ba ##cter ##emi ##c . infectious disease was consulted to evaluate patient . decided to wait for cultures . the patient was continued to be worked up by infectious disease , getting a bone scan and _ to evaluate for possible sources of infection . her van ##com ##y ##cin level was ti ##tra ##ted . she was transferred to the medical intensive care unit on the for close monitoring , of pa cat ##het ##er and for acute renal impairment with a cr ##ea ##tin ##ine that went from 8 to the patient ' s renal function improved over a period of time returning to a baseline of the patient was transferred to the floor and prep ##ped for an or ##th ##oto ##pic liver transplant . on hospital day 17 the patient was being pre - op ' d for or ##th ##oto ##pic liver transplant and was given the appropriate pre ##oper ##ative medications . on hospital day 17 and post ##oper ##ative day one , the patient did not receive her liver secondary to development of a large cl ##ot intra ##oper ##ative ##ly . as such , the patient was taken out of the operating room and failed to receive her transplant . the patient went back to the unit for close monitoring immediately post ##oper ##ative ##ly and was then transferred to the floor . the patient was finally transferred to the floor on the hospital day on the floor patient had a fairly un ##rem ##ark ##able course . on hospital day 29 patient was to be discharged to an extended care facility where she will receive physical therapy and await a potential new liver for transplant . discharge medications : ke ##ta ##cona ##zo ##le cream . ace ##tam ##ino ##ph ##en 325 mg two tab ##s p . o . q . 4 - 6 ##h . p . r . n . mor ##phine sulfate 2 mg / ml sy ##ring ##e one to two injection ##s q . 4 ##h . mic ##ona ##zo ##le powder . ci ##pro ##fl ##ox ##ac ##in 250 mg tab ##s p . o . b . i . d . proton ##ix 40 mg one tab [SEP]\n",
            "input_ids: 101 12030 2006 9634 2020 1037 2317 4175 1015 1010 19610 10610 26775 4183 1018 1010 19610 10610 26775 4183 5401 1010 5127 7485 4175 5401 1010 18178 2213 1011 1021 2007 14677 1013 1017 1013 5989 1013 2603 1013 2385 1013 1022 1998 12456 2403 1010 2004 2102 2871 1010 2632 2243 6887 2891 11176 1010 2561 12170 3669 6820 8428 1023 1010 2201 2378 1997 1020 1010 1998 6864 25002 1997 1996 5776 1005 1055 1999 2099 2001 2902 2607 1024 2006 2902 2154 2274 2009 2001 3603 1996 5776 2001 3680 2050 8670 21162 23238 2278 1012 16514 4295 2001 17535 2000 16157 5776 1012 2787 2000 3524 2005 8578 1012 1996 5776 2001 2506 2000 2022 2499 2039 2011 16514 4295 1010 2893 1037 5923 13594 1998 1035 2000 16157 2005 2825 4216 1997 8985 1012 2014 3158 9006 2100 15459 2504 2001 14841 6494 3064 1012 2016 2001 4015 2000 1996 2966 11806 2729 3131 2006 1996 2005 2485 8822 1010 1997 6643 4937 27065 2121 1998 2005 11325 25125 25172 2007 1037 13675 5243 7629 3170 2008 2253 2013 1022 2000 1996 5776 1005 1055 25125 3853 5301 2058 1037 2558 1997 2051 4192 2000 1037 26163 1997 1996 5776 2001 4015 2000 1996 2723 1998 17463 5669 2005 2019 2030 2705 11439 24330 11290 22291 1012 2006 2902 2154 2459 1996 5776 2001 2108 3653 1011 6728 1005 1040 2005 2030 2705 11439 24330 11290 22291 1998 2001 2445 1996 6413 3653 25918 8082 20992 1012 2006 2902 2154 2459 1998 2695 25918 8082 2154 2028 1010 1996 5776 2106 2025 4374 2014 11290 3905 2000 2458 1997 1037 2312 18856 4140 26721 25918 8082 2135 1012 2004 2107 1010 1996 5776 2001 2579 2041 1997 1996 4082 2282 1998 3478 2000 4374 2014 22291 1012 1996 5776 2253 2067 2000 1996 3131 2005 2485 8822 3202 2695 25918 8082 2135 1998 2001 2059 4015 2000 1996 2723 1012 1996 5776 2001 2633 4015 2000 1996 2723 2006 1996 2902 2154 2006 1996 2723 5776 2018 1037 7199 4895 28578 17007 3085 2607 1012 2006 2902 2154 2756 5776 2001 2000 2022 14374 2000 2019 3668 2729 4322 2073 2016 2097 4374 3558 7242 1998 26751 1037 4022 2047 11290 2005 22291 1012 11889 20992 1024 17710 2696 24366 6844 2571 6949 1012 9078 15464 5740 8458 2368 19652 11460 2048 21628 2015 1052 1012 1051 1012 1053 1012 1018 1011 1020 2232 1012 1052 1012 1054 1012 1050 1012 22822 20738 26754 1016 11460 1013 19875 25353 4892 2063 2028 2000 2048 13341 2015 1053 1012 1018 2232 1012 23025 7856 6844 2571 9898 1012 25022 21572 10258 11636 6305 2378 5539 11460 21628 2015 1052 1012 1051 1012 1038 1012 1045 1012 1040 1012 20843 7646 2871 11460 2028 21628 102 0 0 0 0 0 0 0 0 0 0 0 0 0 0 0 0 0 0 0 0 0 0 0 0 0 0 0 0 0 0 0 0 0 0 0 0 0 0 0 0 0 0\n",
            "input_mask: 1 1 1 1 1 1 1 1 1 1 1 1 1 1 1 1 1 1 1 1 1 1 1 1 1 1 1 1 1 1 1 1 1 1 1 1 1 1 1 1 1 1 1 1 1 1 1 1 1 1 1 1 1 1 1 1 1 1 1 1 1 1 1 1 1 1 1 1 1 1 1 1 1 1 1 1 1 1 1 1 1 1 1 1 1 1 1 1 1 1 1 1 1 1 1 1 1 1 1 1 1 1 1 1 1 1 1 1 1 1 1 1 1 1 1 1 1 1 1 1 1 1 1 1 1 1 1 1 1 1 1 1 1 1 1 1 1 1 1 1 1 1 1 1 1 1 1 1 1 1 1 1 1 1 1 1 1 1 1 1 1 1 1 1 1 1 1 1 1 1 1 1 1 1 1 1 1 1 1 1 1 1 1 1 1 1 1 1 1 1 1 1 1 1 1 1 1 1 1 1 1 1 1 1 1 1 1 1 1 1 1 1 1 1 1 1 1 1 1 1 1 1 1 1 1 1 1 1 1 1 1 1 1 1 1 1 1 1 1 1 1 1 1 1 1 1 1 1 1 1 1 1 1 1 1 1 1 1 1 1 1 1 1 1 1 1 1 1 1 1 1 1 1 1 1 1 1 1 1 1 1 1 1 1 1 1 1 1 1 1 1 1 1 1 1 1 1 1 1 1 1 1 1 1 1 1 1 1 1 1 1 1 1 1 1 1 1 1 1 1 1 1 1 1 1 1 1 1 1 1 1 1 1 1 1 1 1 1 1 1 1 1 1 1 1 1 1 1 1 1 1 1 1 1 1 1 1 1 1 1 1 1 1 1 1 1 1 1 1 1 1 1 1 1 1 1 1 1 1 1 1 1 1 1 1 1 1 1 1 1 1 1 1 1 1 1 1 1 1 1 1 1 1 1 1 1 1 1 1 1 1 1 1 1 1 1 1 1 1 1 1 1 1 1 1 1 1 1 1 1 1 1 1 1 1 1 1 1 1 1 1 1 1 1 1 1 1 1 1 1 1 1 1 1 1 1 1 1 1 1 1 1 1 1 1 1 1 1 1 1 0 0 0 0 0 0 0 0 0 0 0 0 0 0 0 0 0 0 0 0 0 0 0 0 0 0 0 0 0 0 0 0 0 0 0 0 0 0 0 0 0 0\n",
            "segment_ids: 0 0 0 0 0 0 0 0 0 0 0 0 0 0 0 0 0 0 0 0 0 0 0 0 0 0 0 0 0 0 0 0 0 0 0 0 0 0 0 0 0 0 0 0 0 0 0 0 0 0 0 0 0 0 0 0 0 0 0 0 0 0 0 0 0 0 0 0 0 0 0 0 0 0 0 0 0 0 0 0 0 0 0 0 0 0 0 0 0 0 0 0 0 0 0 0 0 0 0 0 0 0 0 0 0 0 0 0 0 0 0 0 0 0 0 0 0 0 0 0 0 0 0 0 0 0 0 0 0 0 0 0 0 0 0 0 0 0 0 0 0 0 0 0 0 0 0 0 0 0 0 0 0 0 0 0 0 0 0 0 0 0 0 0 0 0 0 0 0 0 0 0 0 0 0 0 0 0 0 0 0 0 0 0 0 0 0 0 0 0 0 0 0 0 0 0 0 0 0 0 0 0 0 0 0 0 0 0 0 0 0 0 0 0 0 0 0 0 0 0 0 0 0 0 0 0 0 0 0 0 0 0 0 0 0 0 0 0 0 0 0 0 0 0 0 0 0 0 0 0 0 0 0 0 0 0 0 0 0 0 0 0 0 0 0 0 0 0 0 0 0 0 0 0 0 0 0 0 0 0 0 0 0 0 0 0 0 0 0 0 0 0 0 0 0 0 0 0 0 0 0 0 0 0 0 0 0 0 0 0 0 0 0 0 0 0 0 0 0 0 0 0 0 0 0 0 0 0 0 0 0 0 0 0 0 0 0 0 0 0 0 0 0 0 0 0 0 0 0 0 0 0 0 0 0 0 0 0 0 0 0 0 0 0 0 0 0 0 0 0 0 0 0 0 0 0 0 0 0 0 0 0 0 0 0 0 0 0 0 0 0 0 0 0 0 0 0 0 0 0 0 0 0 0 0 0 0 0 0 0 0 0 0 0 0 0 0 0 0 0 0 0 0 0 0 0 0 0 0 0 0 0 0 0 0 0 0 0 0 0 0 0 0 0 0 0 0 0 0 0 0 0 0 0 0 0 0 0 0 0 0 0 0 0 0 0 0 0 0 0 0 0 0 0 0 0 0 0 0 0 0 0 0 0 0 0 0 0 0 0 0 0 0 0 0 0 0 0 0 0 0 0 0 0 0 0 0 0 0 0 0 0\n",
            "label: 1 (id = 1)\n",
            "*** Example ***\n",
            "guid: train-3\n",
            "tokens: [CLS] 4 mg tablet , sub ##ling ##ual si ##g : one ( 1 ) tablet sub ##ling ##ual as directed as needed for chest pain . out ##patient lab work please check in ##r on monday and call results to doctor at . ace ##tam ##ino ##ph ##en 325 mg tablet si ##g : 1 - 2 tablets po q ##6 ##h ( every 6 hours ) as needed for pain . di ##sp : * 6 vi ##ls * ref ##ill ##s : * 0 * discharge disposition : home with service facility : v ##na discharge diagnosis : vent ##ric ##ular ta ##chy ##card ##ia non st elevation my ##oca ##rdial in ##far ##ction discharge condition : stable . discharge instructions : you had a dangerous heart rhythm called vent ##ric ##ular ta ##chy ##card ##ia and was started on soto ##lo ##l , a medicine to prevent this rhythm . in addition , an internal def ##ib ##rill ##ator ( ic ##d ) was placed that will shock you out of this rhythm . you cannot get the ic ##d dressing wet for one week . no showers of baths . you may wash your hair in a sink . you are scheduled in the device clinic in 1 week , they will check the function of the ic ##d and take off the dressing . no lifting more than 5 pounds with your left arm for 6 weeks , no lifting your left arm over your head for 6 weeks . you will be on antibiotics to prevent an infection at the ic ##d site for 3 days . you also had a cardiac cat ##het ##eri ##zation that showed extensive block ##ages in your corona ##ry artery . your medicines were adjusted to help your heart function . medication changes : soto ##lo ##l : to prevent vent ##ric ##ular ta ##chy ##card ##ia restart your co ##uma ##din at 2 mg , you will need to check your in ##r on monday . decrease your as ##pi ##rin to 81 ##mg , continue taking pl ##avi ##x . . please call doctor if your ic ##d fires , if you have any red ##ness , swelling , tenderness or bleeding at the ic ##d site , if you have any chest pain , fever ##s , chill ##s or trouble breathing . weigh yourself every morning , md if weight > 3 lbs in 1 day or 6 pounds in 3 days . adhere to 2 gm sodium diet : information was given to you about this at discharge . . follow ##up instructions : card ##iology : doctor phone : [SEP]\n",
            "input_ids: 101 1018 11460 13855 1010 4942 2989 8787 9033 2290 1024 2028 1006 1015 1007 13855 4942 2989 8787 2004 2856 2004 2734 2005 3108 3255 1012 2041 24343 6845 2147 3531 4638 1999 2099 2006 6928 1998 2655 3463 2000 3460 2012 1012 9078 15464 5740 8458 2368 19652 11460 13855 9033 2290 1024 1015 1011 1016 17596 13433 1053 2575 2232 1006 2296 1020 2847 1007 2004 2734 2005 3255 1012 4487 13102 1024 1008 1020 6819 4877 1008 25416 8591 2015 1024 1008 1014 1008 11889 22137 1024 2188 2007 2326 4322 1024 1058 2532 11889 11616 1024 18834 7277 7934 11937 11714 11522 2401 2512 2358 6678 2026 24755 25070 1999 14971 7542 11889 4650 1024 6540 1012 11889 8128 1024 2017 2018 1037 4795 2540 6348 2170 18834 7277 7934 11937 11714 11522 2401 1998 2001 2318 2006 22768 4135 2140 1010 1037 4200 2000 4652 2023 6348 1012 1999 2804 1010 2019 4722 13366 12322 24714 8844 1006 24582 2094 1007 2001 2872 2008 2097 5213 2017 2041 1997 2023 6348 1012 2017 3685 2131 1996 24582 2094 11225 4954 2005 2028 2733 1012 2053 23442 1997 19692 1012 2017 2089 9378 2115 2606 1999 1037 7752 1012 2017 2024 5115 1999 1996 5080 9349 1999 1015 2733 1010 2027 2097 4638 1996 3853 1997 1996 24582 2094 1998 2202 2125 1996 11225 1012 2053 8783 2062 2084 1019 7038 2007 2115 2187 2849 2005 1020 3134 1010 2053 8783 2115 2187 2849 2058 2115 2132 2005 1020 3134 1012 2017 2097 2022 2006 24479 2000 4652 2019 8985 2012 1996 24582 2094 2609 2005 1017 2420 1012 2017 2036 2018 1037 15050 4937 27065 11124 9276 2008 3662 4866 3796 13923 1999 2115 21887 2854 16749 1012 2115 20233 2020 10426 2000 2393 2115 2540 3853 1012 14667 3431 1024 22768 4135 2140 1024 2000 4652 18834 7277 7934 11937 11714 11522 2401 23818 2115 2522 12248 8718 2012 1016 11460 1010 2017 2097 2342 2000 4638 2115 1999 2099 2006 6928 1012 9885 2115 2004 8197 6657 2000 6282 24798 1010 3613 2635 20228 18891 2595 1012 1012 3531 2655 3460 2065 2115 24582 2094 8769 1010 2065 2017 2031 2151 2417 2791 1010 18348 1010 24605 2030 9524 2012 1996 24582 2094 2609 1010 2065 2017 2031 2151 3108 3255 1010 9016 2015 1010 10720 2015 2030 4390 5505 1012 17042 4426 2296 2851 1010 9108 2065 3635 1028 1017 20702 1999 1015 2154 2030 1020 7038 1999 1017 2420 1012 25276 2000 1016 13938 13365 8738 1024 2592 2001 2445 2000 2017 2055 2023 2012 11889 1012 1012 3582 6279 8128 1024 4003 20569 1024 3460 3042 1024 102 0 0 0 0 0 0 0 0 0 0 0 0 0 0 0 0 0 0 0 0 0 0 0 0 0 0 0 0 0 0 0 0 0 0 0 0 0 0 0 0 0 0 0 0 0 0 0 0 0 0 0 0 0 0 0 0 0 0 0 0 0 0 0\n",
            "input_mask: 1 1 1 1 1 1 1 1 1 1 1 1 1 1 1 1 1 1 1 1 1 1 1 1 1 1 1 1 1 1 1 1 1 1 1 1 1 1 1 1 1 1 1 1 1 1 1 1 1 1 1 1 1 1 1 1 1 1 1 1 1 1 1 1 1 1 1 1 1 1 1 1 1 1 1 1 1 1 1 1 1 1 1 1 1 1 1 1 1 1 1 1 1 1 1 1 1 1 1 1 1 1 1 1 1 1 1 1 1 1 1 1 1 1 1 1 1 1 1 1 1 1 1 1 1 1 1 1 1 1 1 1 1 1 1 1 1 1 1 1 1 1 1 1 1 1 1 1 1 1 1 1 1 1 1 1 1 1 1 1 1 1 1 1 1 1 1 1 1 1 1 1 1 1 1 1 1 1 1 1 1 1 1 1 1 1 1 1 1 1 1 1 1 1 1 1 1 1 1 1 1 1 1 1 1 1 1 1 1 1 1 1 1 1 1 1 1 1 1 1 1 1 1 1 1 1 1 1 1 1 1 1 1 1 1 1 1 1 1 1 1 1 1 1 1 1 1 1 1 1 1 1 1 1 1 1 1 1 1 1 1 1 1 1 1 1 1 1 1 1 1 1 1 1 1 1 1 1 1 1 1 1 1 1 1 1 1 1 1 1 1 1 1 1 1 1 1 1 1 1 1 1 1 1 1 1 1 1 1 1 1 1 1 1 1 1 1 1 1 1 1 1 1 1 1 1 1 1 1 1 1 1 1 1 1 1 1 1 1 1 1 1 1 1 1 1 1 1 1 1 1 1 1 1 1 1 1 1 1 1 1 1 1 1 1 1 1 1 1 1 1 1 1 1 1 1 1 1 1 1 1 1 1 1 1 1 1 1 1 1 1 1 1 1 1 1 1 1 1 1 1 1 1 1 1 1 1 1 1 1 1 1 1 1 1 1 1 1 1 1 1 1 1 1 1 1 1 1 1 1 1 1 1 1 1 1 1 1 1 1 1 1 1 1 1 1 1 1 1 0 0 0 0 0 0 0 0 0 0 0 0 0 0 0 0 0 0 0 0 0 0 0 0 0 0 0 0 0 0 0 0 0 0 0 0 0 0 0 0 0 0 0 0 0 0 0 0 0 0 0 0 0 0 0 0 0 0 0 0 0 0 0\n",
            "segment_ids: 0 0 0 0 0 0 0 0 0 0 0 0 0 0 0 0 0 0 0 0 0 0 0 0 0 0 0 0 0 0 0 0 0 0 0 0 0 0 0 0 0 0 0 0 0 0 0 0 0 0 0 0 0 0 0 0 0 0 0 0 0 0 0 0 0 0 0 0 0 0 0 0 0 0 0 0 0 0 0 0 0 0 0 0 0 0 0 0 0 0 0 0 0 0 0 0 0 0 0 0 0 0 0 0 0 0 0 0 0 0 0 0 0 0 0 0 0 0 0 0 0 0 0 0 0 0 0 0 0 0 0 0 0 0 0 0 0 0 0 0 0 0 0 0 0 0 0 0 0 0 0 0 0 0 0 0 0 0 0 0 0 0 0 0 0 0 0 0 0 0 0 0 0 0 0 0 0 0 0 0 0 0 0 0 0 0 0 0 0 0 0 0 0 0 0 0 0 0 0 0 0 0 0 0 0 0 0 0 0 0 0 0 0 0 0 0 0 0 0 0 0 0 0 0 0 0 0 0 0 0 0 0 0 0 0 0 0 0 0 0 0 0 0 0 0 0 0 0 0 0 0 0 0 0 0 0 0 0 0 0 0 0 0 0 0 0 0 0 0 0 0 0 0 0 0 0 0 0 0 0 0 0 0 0 0 0 0 0 0 0 0 0 0 0 0 0 0 0 0 0 0 0 0 0 0 0 0 0 0 0 0 0 0 0 0 0 0 0 0 0 0 0 0 0 0 0 0 0 0 0 0 0 0 0 0 0 0 0 0 0 0 0 0 0 0 0 0 0 0 0 0 0 0 0 0 0 0 0 0 0 0 0 0 0 0 0 0 0 0 0 0 0 0 0 0 0 0 0 0 0 0 0 0 0 0 0 0 0 0 0 0 0 0 0 0 0 0 0 0 0 0 0 0 0 0 0 0 0 0 0 0 0 0 0 0 0 0 0 0 0 0 0 0 0 0 0 0 0 0 0 0 0 0 0 0 0 0 0 0 0 0 0 0 0 0 0 0 0 0 0 0 0 0 0 0 0 0 0 0 0 0 0 0 0 0 0 0 0 0 0 0 0 0 0 0 0 0 0 0 0 0 0 0 0 0 0 0 0 0 0 0 0 0 0 0 0 0 0 0 0 0 0 0 0 0 0 0 0 0 0 0 0\n",
            "label: 1 (id = 1)\n",
            "*** Example ***\n",
            "guid: train-4\n",
            "tokens: [CLS] si ##g : 5 tablet po bid ( 2 times a day ) . war ##far ##in 3 mg tablet si ##g : one ( 1 ) tablet po once a day . he ##par ##in flush ( 10 units / ml ) 2 ml iv pr ##n line flush pic ##c , he ##par ##in dependent : flush with 10 ##ml normal saline followed by he ##par ##in as above daily and pr ##n per lu ##men . discharge disposition : extended care facility : discharge diagnosis : primary : cerebral hem ##or ##rh ##age , cerebral ve ##nous th ##rom ##bus secondary : diabetes , hyper ##tension , hyper ##lip ##ide ##mia discharge condition : mental status : confused - sometimes . level of consciousness : let ##har ##gic but ar ##ous ##able . activity status : out of bed with assistance to chair or wheelchair . ne ##uro exam : so ##m ##no ##lent , but ar ##ous ##able , mild l - sided weakness . discharge instructions : dear ms . , you were seen in the hospital for a bleed in your brain that was caused by a blood cl ##ot in one of the veins of your head . you were put on a blood thinner and your neurological status improved . your course was complicated by a vent ##ila ##tor associated pneumonia , which you were treated for with antibiotics . we made the following changes to your medications : 1 ) we stopped your met ##rf ##or ##min . you can restart this medication once your renal function fully stabilize ##s . 2 ) we decreased your ate ##no ##lo ##l to 25 ##mg twice a day . 3 ) we stopped your lan ##top ##ras ##to ##l . 4 ) we stopped your all ##op ##uri ##no ##l . you should restart this medication once your renal function fully stabilize ##s . 5 ) we stopped your ba ##ct ##rim . 6 ) we started you on sar ##na lot ##ion three times a day as needed for it ##chy rash . 7 ) we started you on ty ##len ##ol 650 ##mg every 6 hours as needed for pain or fever . 8 ) we started you on doc ##usa ##te 100 ##mg twice a day . 9 ) we started you on fish oil 1 , 000 ##mg twice a day . 10 ) we started you on sim ##vas ##tat ##in 40 ##mg once a day . 11 ) we started you on fa ##mot ##idi ##ne 20 ##mg once a day . 12 ) we started you methyl ##ph ##eni ##date 5 mg twice a day . 13 ) we started you on war ##far ##in 3 ##mg once a day . this dose should be adjusted to keep [SEP]\n",
            "input_ids: 101 9033 2290 1024 1019 13855 13433 7226 1006 1016 2335 1037 2154 1007 1012 2162 14971 2378 1017 11460 13855 9033 2290 1024 2028 1006 1015 1007 13855 13433 2320 1037 2154 1012 2002 19362 2378 13862 1006 2184 3197 1013 19875 1007 1016 19875 4921 10975 2078 2240 13862 27263 2278 1010 2002 19362 2378 7790 1024 13862 2007 2184 19968 3671 28413 2628 2011 2002 19362 2378 2004 2682 3679 1998 10975 2078 2566 11320 3549 1012 11889 22137 1024 3668 2729 4322 1024 11889 11616 1024 3078 1024 18439 19610 2953 25032 4270 1010 18439 2310 18674 16215 21716 8286 3905 1024 14671 1010 23760 29048 1010 23760 15000 5178 10092 11889 4650 1024 5177 3570 1024 5457 1011 2823 1012 2504 1997 8298 1024 2292 8167 12863 2021 12098 3560 3085 1012 4023 3570 1024 2041 1997 2793 2007 5375 2000 3242 2030 13204 1012 11265 10976 11360 1024 2061 2213 3630 16136 1010 2021 12098 3560 3085 1010 10256 1048 1011 11536 11251 1012 11889 8128 1024 6203 5796 1012 1010 2017 2020 2464 1999 1996 2902 2005 1037 19501 1999 2115 4167 2008 2001 3303 2011 1037 2668 18856 4140 1999 2028 1997 1996 9607 1997 2115 2132 1012 2017 2020 2404 2006 1037 2668 23082 1998 2115 23130 3570 5301 1012 2115 2607 2001 8552 2011 1037 18834 11733 4263 3378 18583 1010 2029 2017 2020 5845 2005 2007 24479 1012 2057 2081 1996 2206 3431 2000 2115 20992 1024 1015 1007 2057 3030 2115 2777 12881 2953 10020 1012 2017 2064 23818 2023 14667 2320 2115 25125 3853 3929 27790 2015 1012 1016 1007 2057 10548 2115 8823 3630 4135 2140 2000 2423 24798 3807 1037 2154 1012 1017 1007 2057 3030 2115 17595 14399 8180 3406 2140 1012 1018 1007 2057 3030 2115 2035 7361 9496 3630 2140 1012 2017 2323 23818 2023 14667 2320 2115 25125 3853 3929 27790 2015 1012 1019 1007 2057 3030 2115 8670 6593 20026 1012 1020 1007 2057 2318 2017 2006 18906 2532 2843 3258 2093 2335 1037 2154 2004 2734 2005 2009 11714 23438 1012 1021 1007 2057 2318 2017 2006 5939 7770 4747 13757 24798 2296 1020 2847 2004 2734 2005 3255 2030 9016 1012 1022 1007 2057 2318 2017 2006 9986 10383 2618 2531 24798 3807 1037 2154 1012 1023 1007 2057 2318 2017 2006 3869 3514 1015 1010 2199 24798 3807 1037 2154 1012 2184 1007 2057 2318 2017 2006 21934 12044 29336 2378 2871 24798 2320 1037 2154 1012 2340 1007 2057 2318 2017 2006 6904 18938 28173 2638 2322 24798 2320 1037 2154 1012 2260 1007 2057 2318 2017 25003 8458 18595 13701 1019 11460 3807 1037 2154 1012 2410 1007 2057 2318 2017 2006 2162 14971 2378 1017 24798 2320 1037 2154 1012 2023 13004 2323 2022 10426 2000 2562 102 0 0 0 0 0 0 0 0 0 0 0 0 0 0 0 0 0 0 0 0 0 0 0 0 0 0 0 0 0 0 0 0 0 0 0 0 0 0\n",
            "input_mask: 1 1 1 1 1 1 1 1 1 1 1 1 1 1 1 1 1 1 1 1 1 1 1 1 1 1 1 1 1 1 1 1 1 1 1 1 1 1 1 1 1 1 1 1 1 1 1 1 1 1 1 1 1 1 1 1 1 1 1 1 1 1 1 1 1 1 1 1 1 1 1 1 1 1 1 1 1 1 1 1 1 1 1 1 1 1 1 1 1 1 1 1 1 1 1 1 1 1 1 1 1 1 1 1 1 1 1 1 1 1 1 1 1 1 1 1 1 1 1 1 1 1 1 1 1 1 1 1 1 1 1 1 1 1 1 1 1 1 1 1 1 1 1 1 1 1 1 1 1 1 1 1 1 1 1 1 1 1 1 1 1 1 1 1 1 1 1 1 1 1 1 1 1 1 1 1 1 1 1 1 1 1 1 1 1 1 1 1 1 1 1 1 1 1 1 1 1 1 1 1 1 1 1 1 1 1 1 1 1 1 1 1 1 1 1 1 1 1 1 1 1 1 1 1 1 1 1 1 1 1 1 1 1 1 1 1 1 1 1 1 1 1 1 1 1 1 1 1 1 1 1 1 1 1 1 1 1 1 1 1 1 1 1 1 1 1 1 1 1 1 1 1 1 1 1 1 1 1 1 1 1 1 1 1 1 1 1 1 1 1 1 1 1 1 1 1 1 1 1 1 1 1 1 1 1 1 1 1 1 1 1 1 1 1 1 1 1 1 1 1 1 1 1 1 1 1 1 1 1 1 1 1 1 1 1 1 1 1 1 1 1 1 1 1 1 1 1 1 1 1 1 1 1 1 1 1 1 1 1 1 1 1 1 1 1 1 1 1 1 1 1 1 1 1 1 1 1 1 1 1 1 1 1 1 1 1 1 1 1 1 1 1 1 1 1 1 1 1 1 1 1 1 1 1 1 1 1 1 1 1 1 1 1 1 1 1 1 1 1 1 1 1 1 1 1 1 1 1 1 1 1 1 1 1 1 1 1 1 1 1 1 1 1 1 1 1 1 1 1 1 1 1 1 1 1 1 1 1 1 1 1 1 1 1 1 1 1 1 1 1 1 1 1 1 0 0 0 0 0 0 0 0 0 0 0 0 0 0 0 0 0 0 0 0 0 0 0 0 0 0 0 0 0 0 0 0 0 0 0 0 0 0\n",
            "segment_ids: 0 0 0 0 0 0 0 0 0 0 0 0 0 0 0 0 0 0 0 0 0 0 0 0 0 0 0 0 0 0 0 0 0 0 0 0 0 0 0 0 0 0 0 0 0 0 0 0 0 0 0 0 0 0 0 0 0 0 0 0 0 0 0 0 0 0 0 0 0 0 0 0 0 0 0 0 0 0 0 0 0 0 0 0 0 0 0 0 0 0 0 0 0 0 0 0 0 0 0 0 0 0 0 0 0 0 0 0 0 0 0 0 0 0 0 0 0 0 0 0 0 0 0 0 0 0 0 0 0 0 0 0 0 0 0 0 0 0 0 0 0 0 0 0 0 0 0 0 0 0 0 0 0 0 0 0 0 0 0 0 0 0 0 0 0 0 0 0 0 0 0 0 0 0 0 0 0 0 0 0 0 0 0 0 0 0 0 0 0 0 0 0 0 0 0 0 0 0 0 0 0 0 0 0 0 0 0 0 0 0 0 0 0 0 0 0 0 0 0 0 0 0 0 0 0 0 0 0 0 0 0 0 0 0 0 0 0 0 0 0 0 0 0 0 0 0 0 0 0 0 0 0 0 0 0 0 0 0 0 0 0 0 0 0 0 0 0 0 0 0 0 0 0 0 0 0 0 0 0 0 0 0 0 0 0 0 0 0 0 0 0 0 0 0 0 0 0 0 0 0 0 0 0 0 0 0 0 0 0 0 0 0 0 0 0 0 0 0 0 0 0 0 0 0 0 0 0 0 0 0 0 0 0 0 0 0 0 0 0 0 0 0 0 0 0 0 0 0 0 0 0 0 0 0 0 0 0 0 0 0 0 0 0 0 0 0 0 0 0 0 0 0 0 0 0 0 0 0 0 0 0 0 0 0 0 0 0 0 0 0 0 0 0 0 0 0 0 0 0 0 0 0 0 0 0 0 0 0 0 0 0 0 0 0 0 0 0 0 0 0 0 0 0 0 0 0 0 0 0 0 0 0 0 0 0 0 0 0 0 0 0 0 0 0 0 0 0 0 0 0 0 0 0 0 0 0 0 0 0 0 0 0 0 0 0 0 0 0 0 0 0 0 0 0 0 0 0 0 0 0 0 0 0 0 0 0 0 0 0 0 0 0 0 0 0 0 0 0 0 0 0 0 0 0 0 0 0 0 0 0 0 0\n",
            "label: 1 (id = 1)\n"
          ]
        },
        {
          "name": "stderr",
          "output_type": "stream",
          "text": [
            "26245it [00:47, 558.25it/s]\n"
          ]
        },
        {
          "name": "stdout",
          "output_type": "stream",
          "text": [
            "***** Running training *****\n",
            "  Num examples = %d 26245\n",
            "  Batch size = %d 8\n",
            "  Num steps = %d 1093\n"
          ]
        },
        {
          "name": "stderr",
          "output_type": "stream",
          "text": [
            "\rEpoch:   0%|          | 0/3 [00:00<?, ?it/s]"
          ]
        },
        {
          "name": "stdout",
          "output_type": "stream",
          "text": [
            "Epoch: 0, Step: 199, Loss: 0.7022828859090805, Acc: 0.5175\n",
            "Epoch: 0, Step: 399, Loss: 0.7059134602546692, Acc: 0.496875\n",
            "Epoch: 0, Step: 599, Loss: 0.7071851228177547, Acc: 0.5025\n",
            "Epoch: 0, Step: 799, Loss: 0.7037736561894417, Acc: 0.509375\n",
            "Epoch: 0, Step: 999, Loss: 0.7037801113724709, Acc: 0.50625\n",
            "Epoch: 0, Step: 1199, Loss: 0.7022231638431549, Acc: 0.51375\n",
            "Epoch: 0, Step: 1399, Loss: 0.704155741930008, Acc: 0.525\n",
            "Epoch: 0, Step: 1599, Loss: 0.6985873770713806, Acc: 0.544375\n",
            "Epoch: 0, Step: 1799, Loss: 0.7005292335152626, Acc: 0.541875\n",
            "Epoch: 0, Step: 1999, Loss: 0.6865061835944652, Acc: 0.555\n",
            "Epoch: 0, Step: 2199, Loss: 0.7013954259455204, Acc: 0.54375\n",
            "Epoch: 0, Step: 2399, Loss: 0.6888660332560539, Acc: 0.554375\n",
            "Epoch: 0, Step: 2599, Loss: 0.6903215301036835, Acc: 0.543125\n",
            "Epoch: 0, Step: 2799, Loss: 0.6844335645437241, Acc: 0.58125\n",
            "Epoch: 0, Step: 2999, Loss: 0.6800548163056374, Acc: 0.57625\n",
            "Epoch: 0, Step: 3199, Loss: 0.6815975861251354, Acc: 0.5775\n"
          ]
        },
        {
          "name": "stderr",
          "output_type": "stream",
          "text": [
            "\rEpoch:  33%|███▎      | 1/3 [15:56<31:53, 956.58s/it]"
          ]
        },
        {
          "name": "stdout",
          "output_type": "stream",
          "text": [
            "Epoch: 1, Step: 199, Loss: 0.6599242711067199, Acc: 0.620625\n",
            "Epoch: 1, Step: 399, Loss: 0.6633041951060296, Acc: 0.60875\n",
            "Epoch: 1, Step: 599, Loss: 0.6606203599274159, Acc: 0.616875\n",
            "Epoch: 1, Step: 799, Loss: 0.6638706953823567, Acc: 0.609375\n",
            "Epoch: 1, Step: 999, Loss: 0.6609690701961517, Acc: 0.611875\n",
            "Epoch: 1, Step: 1199, Loss: 0.6640819948911667, Acc: 0.606875\n",
            "Epoch: 1, Step: 1399, Loss: 0.6651706039905548, Acc: 0.619375\n",
            "Epoch: 1, Step: 1599, Loss: 0.6536767530441284, Acc: 0.624375\n",
            "Epoch: 1, Step: 1799, Loss: 0.645242660343647, Acc: 0.643125\n",
            "Epoch: 1, Step: 1999, Loss: 0.6569092619419098, Acc: 0.62375\n",
            "Epoch: 1, Step: 2199, Loss: 0.6338492795825005, Acc: 0.641875\n",
            "Epoch: 1, Step: 2399, Loss: 0.6601516340672969, Acc: 0.616875\n",
            "Epoch: 1, Step: 2599, Loss: 0.6449387255311012, Acc: 0.629375\n",
            "Epoch: 1, Step: 2799, Loss: 0.6522237008810043, Acc: 0.626875\n",
            "Epoch: 1, Step: 2999, Loss: 0.6336589762568474, Acc: 0.650625\n",
            "Epoch: 1, Step: 3199, Loss: 0.6356670893728733, Acc: 0.664375\n"
          ]
        },
        {
          "name": "stderr",
          "output_type": "stream",
          "text": [
            "\rEpoch:  67%|██████▋   | 2/3 [31:53<15:57, 957.00s/it]"
          ]
        },
        {
          "name": "stdout",
          "output_type": "stream",
          "text": [
            "Epoch: 2, Step: 199, Loss: 0.5988663186132908, Acc: 0.690625\n",
            "Epoch: 2, Step: 399, Loss: 0.5959367510676384, Acc: 0.690625\n",
            "Epoch: 2, Step: 599, Loss: 0.5838066270202398, Acc: 0.7075\n",
            "Epoch: 2, Step: 799, Loss: 0.5880104447156191, Acc: 0.695\n",
            "Epoch: 2, Step: 999, Loss: 0.5859155562520028, Acc: 0.693125\n",
            "Epoch: 2, Step: 1199, Loss: 0.5787483884394169, Acc: 0.714375\n",
            "Epoch: 2, Step: 1399, Loss: 0.5973521961271763, Acc: 0.68125\n",
            "Epoch: 2, Step: 1599, Loss: 0.5628980398923159, Acc: 0.721875\n",
            "Epoch: 2, Step: 1799, Loss: 0.5753915992379188, Acc: 0.72125\n",
            "Epoch: 2, Step: 1999, Loss: 0.5640818397700786, Acc: 0.731875\n",
            "Epoch: 2, Step: 2199, Loss: 0.585362094566226, Acc: 0.70375\n",
            "Epoch: 2, Step: 2399, Loss: 0.5706109329313039, Acc: 0.72375\n",
            "Epoch: 2, Step: 2599, Loss: 0.5823274889588356, Acc: 0.71\n",
            "Epoch: 2, Step: 2799, Loss: 0.5924287521839142, Acc: 0.694375\n",
            "Epoch: 2, Step: 2999, Loss: 0.5928663536161184, Acc: 0.6875\n",
            "Epoch: 2, Step: 3199, Loss: 0.5767278883606195, Acc: 0.71125\n"
          ]
        },
        {
          "name": "stderr",
          "output_type": "stream",
          "text": [
            "Epoch: 100%|██████████| 3/3 [47:51<00:00, 957.17s/it]\n"
          ]
        },
        {
          "data": {
            "image/png": "[encoded data removed]",
            "text/plain": [
              "<Figure size 640x480 with 1 Axes>"
            ]
          },
          "metadata": {},
          "output_type": "display_data"
        }
      ],
      "source": [
        "from transformers import AutoTokenizer, BertForSequenceClassification\n",
        "## initialize hyperparamaters\n",
        "num_labels = 2\n",
        "device = torch.device('cuda:0')\n",
        "lr = 1e-3\n",
        "readmission_mode = 'discharge'\n",
        "data_dir = 'DATA/'\n",
        "data_dir = os.path.join(data_dir, readmission_mode)\n",
        "output_dir = 'experiment'\n",
        "output_dir = os.path.join(output_dir, readmission_mode)\n",
        "model = 'bert'\n",
        "output_dir = os.path.join(output_dir, model)\n",
        "max_seq_length = 512\n",
        "train_batch_size = 8\n",
        "num_train_epochs = 3\n",
        "eval_batch_size = 8\n",
        "\n",
        "\n",
        "# Load model, tokenizer\n",
        "tokenizer = AutoTokenizer.from_pretrained(\"google-bert/bert-base-uncased\")\n",
        "model = BertForSequenceClassification.from_pretrained(\"google-bert/bert-base-uncased\", num_labels=2)\n",
        "model.to(device)\n",
        "\n",
        "# Train\n",
        "model, train_loss, global_step_check, number_training_steps = train_model(model, tokenizer, data_dir, num_labels, device, lr, train_batch_size, num_train_epochs, max_seq_length)"
      ]
    },
    {
      "cell_type": "code",
      "execution_count": null,
      "metadata": {
        "colab": {
          "base_uri": "https://localhost:8080/"
        },
        "id": "9lYY2wvVmuZy",
        "outputId": "61239ec3-fb60-4f21-8600-d7e2f4d5d786"
      },
      "outputs": [
        {
          "name": "stdout",
          "output_type": "stream",
          "text": [
            "{'global_step': 9714, 'training loss': 0.5830058009766959}\n"
          ]
        }
      ],
      "source": [
        "train_result = {'global_step': global_step_check,\n",
        "                'training loss': train_loss/number_training_steps}\n",
        "print(train_result)"
      ]
    },
    {
      "cell_type": "code",
      "execution_count": null,
      "metadata": {
        "colab": {
          "base_uri": "https://localhost:8080/"
        },
        "id": "negz0kBJShb1",
        "outputId": "92e4eb92-6f27-4e16-c592-df13f77600d8"
      },
      "outputs": [
        {
          "name": "stdout",
          "output_type": "stream",
          "text": [
            "Entire model saved to experiment/discharge/bert/model.pth\n"
          ]
        }
      ],
      "source": [
        "### save model\n",
        "model_path = os.path.join(output_dir, 'model.pth')\n",
        "torch.save(model, model_path)\n",
        "print(f\"Entire model saved to {model_path}\")"
      ]
    },
    {
      "cell_type": "markdown",
      "metadata": {
        "id": "2o6maNlmny0Y"
      },
      "source": [
        "#### ClinicalBert-based readmission prediction"
      ]
    },
    {
      "cell_type": "code",
      "execution_count": null,
      "metadata": {
        "colab": {
          "base_uri": "https://localhost:8080/",
          "height": 1000,
          "referenced_widgets": [
            "b9155b7c90454be8a6e32e76a7ca1b86",
            "9fa0debfcc1c494f82a4b443537e548a",
            "5ed47daee39d4c7f9b64343e386e1333",
            "082050529bd4472ea3e7dfa057f0beae",
            "b1015b1a207d46d1be03b5e40f550837",
            "ed6926f0755446e5a3f670acd407d4ed",
            "bddbbf2aa0df45269d7efac7177a5ba0",
            "662952e675324553a568d7e092c94ae3",
            "d702341f09c54dd48bd8f1a32657d991",
            "1fa8bdeb75664572a74043860989e7e3",
            "67dff2aabeba42e0ae62bca280220dcf",
            "b6e1bfd298244965b83e8c0708c9f94e",
            "ab6edd3f87e9427984702936e64eecf9",
            "911077133e9b4c53a55b26ebd1743d33",
            "8a52071e279849f5b352226bf454a258",
            "f9dce1d088a84d34b85fd44457a371d8",
            "6fdbb57ded214a599cc804698078c799",
            "f49bf0586d4948998b41a2c87ee25130",
            "d5458ea0c82b47949312602ae221bbe0",
            "5fa0d2fdd2fa4f0a9c7c14711b265129",
            "cd579c91d52041f195ab64adef692218",
            "c511b703df5348f5a1f78a85f2985b78",
            "050561a7f56248149197a9f0eb960d07",
            "0563f47b780c4455bf728d5d8e53fddf",
            "11ff2ae6b1654c65b076587446002d36",
            "66c8e32c41bc49d089fc5f7685d74b16",
            "c64cc503249e4fc6b50f95926d05460a",
            "5bd6604cba7c472eaa5235614abde662",
            "56f965e29c2f41c0be417ebed7ad5b97",
            "bbd51a9a87ea43f5b1c024775e1fd981",
            "0114d24a87844a00952c9917d7f65982",
            "69a690ba3ce5417bb5ed0dbdb89ea949",
            "0c1e3365d58d42778a585851cd3c8d76"
          ]
        },
        "id": "aOSNRSZuokrb",
        "outputId": "2987447a-c1ce-463a-ab89-55e68a82da36"
      },
      "outputs": [
        {
          "data": {
            "application/vnd.jupyter.widget-view+json": {
              "model_id": "b9155b7c90454be8a6e32e76a7ca1b86",
              "version_major": 2,
              "version_minor": 0
            },
            "text/plain": [
              "config.json:   0%|          | 0.00/385 [00:00<?, ?B/s]"
            ]
          },
          "metadata": {},
          "output_type": "display_data"
        },
        {
          "data": {
            "application/vnd.jupyter.widget-view+json": {
              "model_id": "b6e1bfd298244965b83e8c0708c9f94e",
              "version_major": 2,
              "version_minor": 0
            },
            "text/plain": [
              "vocab.txt:   0%|          | 0.00/213k [00:00<?, ?B/s]"
            ]
          },
          "metadata": {},
          "output_type": "display_data"
        },
        {
          "data": {
            "application/vnd.jupyter.widget-view+json": {
              "model_id": "050561a7f56248149197a9f0eb960d07",
              "version_major": 2,
              "version_minor": 0
            },
            "text/plain": [
              "pytorch_model.bin:   0%|          | 0.00/436M [00:00<?, ?B/s]"
            ]
          },
          "metadata": {},
          "output_type": "display_data"
        },
        {
          "name": "stderr",
          "output_type": "stream",
          "text": [
            "Some weights of BertForSequenceClassification were not initialized from the model checkpoint at emilyalsentzer/Bio_ClinicalBERT and are newly initialized: ['classifier.bias', 'classifier.weight']\n",
            "You should probably TRAIN this model on a down-stream task to be able to use it for predictions and inference.\n"
          ]
        },
        {
          "name": "stdout",
          "output_type": "stream",
          "text": [
            "LOOKING AT DATA/discharge/train.csv\n"
          ]
        },
        {
          "name": "stderr",
          "output_type": "stream",
          "text": [
            "103it [00:00, 508.77it/s]"
          ]
        },
        {
          "name": "stdout",
          "output_type": "stream",
          "text": [
            "*** Example ***\n",
            "guid: train-0\n",
            "tokens: [CLS] l ##v cavity size . normal regional l ##v s ##ys ##to ##lic function . h ##yper ##dynamic l ##ve ##f > 75 % . mid - ca ##vi ##tary gradient . no vs ##d . right vent ##ric ##le : normal r ##v chamber size and free wall motion . a ##ort ##a : mildly di ##lated ascending a ##ort ##a . a ##ort ##ic valve : three a ##ort ##ic valve leaf ##lets . moderately thick ##ened a ##ort ##ic valve leaf ##lets . mild as ( area 2 - 9 ##c ##m ##2 ) . trace a ##r . mit ##ral valve : mildly thick ##ened mit ##ral valve leaf ##lets . severe mit ##ral an ##nu ##lar ca ##l ##ci ##fication . m ##od functional m ##s due to mac . mild to moderate ( + ) m ##r . t ##ric ##us ##pid valve : mildly thick ##ened t ##ric ##us ##pid valve leaf ##lets . no t ##s . mild t ##r . in ##det ##er ##minate p ##a s ##ys ##to ##lic pressure . pu ##lm ##onic valve / pulmonary artery : no ps . per ##ica ##rdi ##um : no per ##ica ##rdi ##al e ##ff ##usion . conclusions the left at ##rium is normal in size . no at ##rial se ##pta ##l defect is seen by 2d or color do ##pp ##ler . the estimated right at ##rial pressure is 0 - 5 mm ##h ##g . there is mild symmetric left vent ##ric ##ular h ##yper ##tro ##phy . the left vent ##ric ##ular cavity size is normal . regional left vent ##ric ##ular wall motion is normal . left vent ##ric ##ular s ##ys ##to ##lic function is h ##yper ##dynamic ( e ##f > 75 % ) . a mid - ca ##vi ##tary gradient is identified . there is no vent ##ric ##ular se ##pta ##l defect . right vent ##ric ##ular chamber size and free wall motion are normal . the ascending a ##ort ##a is mildly di ##lated . there are three a ##ort ##ic valve leaf ##lets . the a ##ort ##ic valve leaf ##lets are moderately thick ##ened . there is mild a ##ort ##ic valve s ##ten ##osis ( valve area 2 - 9 ##c ##m ##2 ) . trace a ##ort ##ic re ##gu ##rg ##itation is seen . the mit ##ral valve leaf ##lets are mildly thick ##ened . there is severe mit ##ral an ##nu ##lar ca ##l ##ci ##fication . there is moderate functional mit ##ral s ##ten ##osis ( mean gradient 11 mm ##h ##g ) due to mit ##ral an ##nu ##lar ca ##l ##ci ##fication . mild to moderate ( + ) mit ##ral re ##gu ##rg ##itation is seen . the t ##ric ##us ##pid valve leaf ##lets are mildly thick ##ened . the pulmonary artery s ##ys ##to ##lic pressure could not be determined . there is no per ##ica ##rdi ##al e ##ff ##usion . compared with the prior study ( [SEP]\n",
            "input_ids: 101 181 1964 19421 2060 119 2999 2918 181 1964 188 6834 2430 8031 3053 119 177 24312 24662 181 2707 2087 135 3453 110 119 2286 118 11019 5086 16198 19848 119 1185 5016 1181 119 1268 21828 4907 1513 131 2999 187 1964 5383 2060 1105 1714 2095 4018 119 170 12148 1161 131 21461 4267 6951 26457 170 12148 1161 119 170 12148 1596 11727 131 1210 170 12148 1596 11727 7404 9585 119 19455 3528 4772 170 12148 1596 11727 7404 9585 119 10496 1112 113 1298 123 118 130 1665 1306 1477 114 119 8332 170 1197 119 26410 4412 11727 131 21461 3528 4772 26410 4412 11727 7404 9585 119 5199 26410 4412 1126 14787 5815 11019 1233 6617 11531 119 182 5412 8458 182 1116 1496 1106 23639 119 10496 1106 8828 113 116 114 182 1197 119 189 4907 1361 25786 11727 131 21461 3528 4772 189 4907 1361 25786 11727 7404 9585 119 1185 189 1116 119 10496 189 1197 119 1107 26514 1200 17379 185 1161 188 6834 2430 8031 2997 119 23609 13505 13207 11727 120 26600 18593 131 1185 15604 119 1679 4578 16936 1818 131 1185 1679 4578 16936 1348 174 3101 17268 119 16421 1103 1286 1120 11077 1110 2999 1107 2060 119 1185 1120 13119 14516 21919 1233 23912 1110 1562 1118 25712 1137 2942 1202 8661 2879 119 1103 3555 1268 1120 13119 2997 1110 121 118 126 2608 1324 1403 119 1175 1110 10496 21852 1286 21828 4907 5552 177 24312 8005 22192 119 1103 1286 21828 4907 5552 19421 2060 1110 2999 119 2918 1286 21828 4907 5552 2095 4018 1110 2999 119 1286 21828 4907 5552 188 6834 2430 8031 3053 1110 177 24312 24662 113 174 2087 135 3453 110 114 119 170 2286 118 11019 5086 16198 19848 1110 3626 119 1175 1110 1185 21828 4907 5552 14516 21919 1233 23912 119 1268 21828 4907 5552 5383 2060 1105 1714 2095 4018 1132 2999 119 1103 26457 170 12148 1161 1110 21461 4267 6951 119 1175 1132 1210 170 12148 1596 11727 7404 9585 119 1103 170 12148 1596 11727 7404 9585 1132 19455 3528 4772 119 1175 1110 10496 170 12148 1596 11727 188 5208 11776 113 11727 1298 123 118 130 1665 1306 1477 114 119 8332 170 12148 1596 1231 13830 10805 12633 1110 1562 119 1103 26410 4412 11727 7404 9585 1132 21461 3528 4772 119 1175 1110 5199 26410 4412 1126 14787 5815 11019 1233 6617 11531 119 1175 1110 8828 8458 26410 4412 188 5208 11776 113 1928 19848 1429 2608 1324 1403 114 1496 1106 26410 4412 1126 14787 5815 11019 1233 6617 11531 119 10496 1106 8828 113 116 114 26410 4412 1231 13830 10805 12633 1110 1562 119 1103 189 4907 1361 25786 11727 7404 9585 1132 21461 3528 4772 119 1103 26600 18593 188 6834 2430 8031 2997 1180 1136 1129 3552 119 1175 1110 1185 1679 4578 16936 1348 174 3101 17268 119 3402 1114 1103 2988 2025 113 102\n",
            "input_mask: 1 1 1 1 1 1 1 1 1 1 1 1 1 1 1 1 1 1 1 1 1 1 1 1 1 1 1 1 1 1 1 1 1 1 1 1 1 1 1 1 1 1 1 1 1 1 1 1 1 1 1 1 1 1 1 1 1 1 1 1 1 1 1 1 1 1 1 1 1 1 1 1 1 1 1 1 1 1 1 1 1 1 1 1 1 1 1 1 1 1 1 1 1 1 1 1 1 1 1 1 1 1 1 1 1 1 1 1 1 1 1 1 1 1 1 1 1 1 1 1 1 1 1 1 1 1 1 1 1 1 1 1 1 1 1 1 1 1 1 1 1 1 1 1 1 1 1 1 1 1 1 1 1 1 1 1 1 1 1 1 1 1 1 1 1 1 1 1 1 1 1 1 1 1 1 1 1 1 1 1 1 1 1 1 1 1 1 1 1 1 1 1 1 1 1 1 1 1 1 1 1 1 1 1 1 1 1 1 1 1 1 1 1 1 1 1 1 1 1 1 1 1 1 1 1 1 1 1 1 1 1 1 1 1 1 1 1 1 1 1 1 1 1 1 1 1 1 1 1 1 1 1 1 1 1 1 1 1 1 1 1 1 1 1 1 1 1 1 1 1 1 1 1 1 1 1 1 1 1 1 1 1 1 1 1 1 1 1 1 1 1 1 1 1 1 1 1 1 1 1 1 1 1 1 1 1 1 1 1 1 1 1 1 1 1 1 1 1 1 1 1 1 1 1 1 1 1 1 1 1 1 1 1 1 1 1 1 1 1 1 1 1 1 1 1 1 1 1 1 1 1 1 1 1 1 1 1 1 1 1 1 1 1 1 1 1 1 1 1 1 1 1 1 1 1 1 1 1 1 1 1 1 1 1 1 1 1 1 1 1 1 1 1 1 1 1 1 1 1 1 1 1 1 1 1 1 1 1 1 1 1 1 1 1 1 1 1 1 1 1 1 1 1 1 1 1 1 1 1 1 1 1 1 1 1 1 1 1 1 1 1 1 1 1 1 1 1 1 1 1 1 1 1 1 1 1 1 1 1 1 1 1 1 1 1 1 1 1 1 1 1 1 1 1 1 1 1 1 1 1 1 1 1 1 1 1 1 1 1 1 1 1 1 1 1 1 1 1 1 1 1 1 1 1 1 1 1 1 1 1 1 1\n",
            "segment_ids: 0 0 0 0 0 0 0 0 0 0 0 0 0 0 0 0 0 0 0 0 0 0 0 0 0 0 0 0 0 0 0 0 0 0 0 0 0 0 0 0 0 0 0 0 0 0 0 0 0 0 0 0 0 0 0 0 0 0 0 0 0 0 0 0 0 0 0 0 0 0 0 0 0 0 0 0 0 0 0 0 0 0 0 0 0 0 0 0 0 0 0 0 0 0 0 0 0 0 0 0 0 0 0 0 0 0 0 0 0 0 0 0 0 0 0 0 0 0 0 0 0 0 0 0 0 0 0 0 0 0 0 0 0 0 0 0 0 0 0 0 0 0 0 0 0 0 0 0 0 0 0 0 0 0 0 0 0 0 0 0 0 0 0 0 0 0 0 0 0 0 0 0 0 0 0 0 0 0 0 0 0 0 0 0 0 0 0 0 0 0 0 0 0 0 0 0 0 0 0 0 0 0 0 0 0 0 0 0 0 0 0 0 0 0 0 0 0 0 0 0 0 0 0 0 0 0 0 0 0 0 0 0 0 0 0 0 0 0 0 0 0 0 0 0 0 0 0 0 0 0 0 0 0 0 0 0 0 0 0 0 0 0 0 0 0 0 0 0 0 0 0 0 0 0 0 0 0 0 0 0 0 0 0 0 0 0 0 0 0 0 0 0 0 0 0 0 0 0 0 0 0 0 0 0 0 0 0 0 0 0 0 0 0 0 0 0 0 0 0 0 0 0 0 0 0 0 0 0 0 0 0 0 0 0 0 0 0 0 0 0 0 0 0 0 0 0 0 0 0 0 0 0 0 0 0 0 0 0 0 0 0 0 0 0 0 0 0 0 0 0 0 0 0 0 0 0 0 0 0 0 0 0 0 0 0 0 0 0 0 0 0 0 0 0 0 0 0 0 0 0 0 0 0 0 0 0 0 0 0 0 0 0 0 0 0 0 0 0 0 0 0 0 0 0 0 0 0 0 0 0 0 0 0 0 0 0 0 0 0 0 0 0 0 0 0 0 0 0 0 0 0 0 0 0 0 0 0 0 0 0 0 0 0 0 0 0 0 0 0 0 0 0 0 0 0 0 0 0 0 0 0 0 0 0 0 0 0 0 0 0 0 0 0 0 0 0 0 0 0 0 0 0 0 0 0 0 0 0 0 0 0 0\n",
            "label: 1 (id = 1)\n",
            "*** Example ***\n",
            "guid: train-1\n",
            "tokens: [CLS] to 80 % , but then would come back into the high 90s . he denied any short ##ness of breath or chest pain at the time . he continued to met ##op ##rol ##ol , , as ##pi ##rin , cap ##top ##ril , and i ##v he ##par ##in . his i ##v in ##te ##g ##ril ##in was turned off . he also had las ##ix di ##ures ##is to help control his con ##ges ##tive heart failure . the patient also spike ##d a temperature to 2 on . he was culture ##d . his potassium dropped to 7 and was re ##ple ##ted . he also had increase in his a ##v block at the level of his a ##v node and card ##iology recommended disco ##ntin ##uing his met ##op ##rol ##ol and any nod ##al at the time . all of this was discussed with doctor of the e ##p service . on , he ##par ##in was also restart ##ed . the patient also had enter ##oc ##oc ##cus grow out of his urine culture . the patient was started on le ##va ##quin and the f ##ole ##y was discontinued on the . the patient was also seen again by e ##p and was diagnosed with we ##nc ##ke ##bach at a 2 : 1 block . beta block ##ers continued to be held . the patient also had a right lower lobe in ##fi ##lt ##rate and was also covered for this with le ##va ##quin . pre ##oper ##ative ##ly , the patient had less than 40 % s ##ten ##osis bilateral ##ly on internal car ##ot ##id art ##eries and had ant ##eg ##rade ve ##rte ##bra ##l flow . lower ex ##tre ##mity vein mapping showed bilateral greater sa ##phe ##nous veins present in both thighs and already harvested from lower ex ##tre ##mit ##ies which matched his scars . on , the patient underwent re - do co ##rona ##ry artery bypass g ##raft ##ing x ##2 with vein g ##raft to the ram ##us , vein g ##raft to the poster ##olate ##ral branch of the r ##v , was transferred to the card ##iot ##hora ##ci ##c i ##cu in stable condition on a mi ##l ##rino ##ne d ##rip at 5 m ##c ##g / kg per minute and prop ##of ##ol d ##rip at 20 m ##c ##g / kg per minute . post ##oper ##ative day 1 was significant for complete heart block . he was hem ##ody ##nam ##ically stable , though , with blood pressure 115 / 63 , sat ##uration ##s 96 % . he had been ex ##tub ##ated overnight . he remained on mi ##l ##rino ##ne d ##rip at 25 and a neo - s ##yne ##ph ##rine d ##rip at we ##ani ##ng of those 2 agents was begun . [SEP]\n",
            "input_ids: 101 1106 2908 110 117 1133 1173 1156 1435 1171 1154 1103 1344 18476 119 1119 5762 1251 1603 1757 1104 2184 1137 2229 2489 1120 1103 1159 119 1119 1598 1106 1899 4184 13166 4063 117 117 1112 8508 4854 117 6707 9870 13217 117 1105 178 1964 1119 17482 1394 119 1117 178 1964 1107 1566 1403 13217 1394 1108 1454 1228 119 1119 1145 1125 17496 7231 4267 10374 1548 1106 1494 1654 1117 14255 7562 3946 1762 4290 119 1103 5351 1145 21644 1181 170 4143 1106 123 1113 119 1119 1108 2754 1181 119 1117 21177 2434 1106 128 1105 1108 1231 7136 1906 119 1119 1145 1125 2773 1107 1117 170 1964 3510 1120 1103 1634 1104 1117 170 1964 14372 1105 3621 17288 6315 19959 26728 21490 1117 1899 4184 13166 4063 1105 1251 6873 1348 1120 1103 1159 119 1155 1104 1142 1108 6352 1114 3995 1104 1103 174 1643 1555 119 1113 117 1119 17482 1394 1108 1145 27777 1174 119 1103 5351 1145 1125 3873 13335 13335 6697 4328 1149 1104 1117 19968 2754 119 1103 5351 1108 1408 1113 5837 2497 12934 1105 1103 175 9016 1183 1108 8779 1113 1103 119 1103 5351 1108 1145 1562 1254 1118 174 1643 1105 1108 11534 1114 1195 26405 2391 6396 1120 170 123 131 122 3510 119 11933 3510 1468 1598 1106 1129 1316 119 1103 5351 1145 1125 170 1268 2211 25163 1107 8702 6066 5498 1105 1108 1145 2262 1111 1142 1114 5837 2497 12934 119 3073 19807 5838 1193 117 1103 5351 1125 1750 1190 1969 110 188 5208 11776 20557 1193 1113 4422 1610 3329 2386 1893 15297 1105 1125 22904 12606 12673 1396 22460 6766 1233 4235 119 2211 4252 7877 15455 13585 13970 2799 20557 3407 21718 27801 23901 9485 1675 1107 1241 8932 1105 1640 25309 1121 2211 4252 7877 9084 1905 1134 10260 1117 15066 119 1113 117 1103 5351 9315 1231 118 1202 1884 15789 1616 18593 13981 176 15371 1158 193 1477 1114 13585 176 15371 1106 1103 26084 1361 117 13585 176 15371 1106 1103 14525 14995 4412 3392 1104 1103 187 1964 117 1108 3175 1106 1103 3621 26423 16426 6617 1665 178 10182 1107 6111 3879 1113 170 1940 1233 16987 1673 173 16669 1120 126 182 1665 1403 120 4023 1679 2517 1105 21146 10008 4063 173 16669 1120 1406 182 1665 1403 120 4023 1679 2517 119 2112 19807 5838 1285 122 1108 2418 1111 2335 1762 3510 119 1119 1108 23123 22320 12881 9203 6111 117 1463 117 1114 1892 2997 10520 120 5519 117 2068 23022 1116 5306 110 119 1119 1125 1151 4252 25098 2913 12292 119 1119 1915 1113 1940 1233 16987 1673 173 16669 1120 1512 1105 170 15242 118 188 10941 7880 8643 173 16669 1120 1195 7192 2118 1104 1343 123 5789 1108 4972 119 102 0 0 0 0 0 0 0 0 0 0 0 0 0 0 0 0 0 0 0 0 0 0 0 0\n",
            "input_mask: 1 1 1 1 1 1 1 1 1 1 1 1 1 1 1 1 1 1 1 1 1 1 1 1 1 1 1 1 1 1 1 1 1 1 1 1 1 1 1 1 1 1 1 1 1 1 1 1 1 1 1 1 1 1 1 1 1 1 1 1 1 1 1 1 1 1 1 1 1 1 1 1 1 1 1 1 1 1 1 1 1 1 1 1 1 1 1 1 1 1 1 1 1 1 1 1 1 1 1 1 1 1 1 1 1 1 1 1 1 1 1 1 1 1 1 1 1 1 1 1 1 1 1 1 1 1 1 1 1 1 1 1 1 1 1 1 1 1 1 1 1 1 1 1 1 1 1 1 1 1 1 1 1 1 1 1 1 1 1 1 1 1 1 1 1 1 1 1 1 1 1 1 1 1 1 1 1 1 1 1 1 1 1 1 1 1 1 1 1 1 1 1 1 1 1 1 1 1 1 1 1 1 1 1 1 1 1 1 1 1 1 1 1 1 1 1 1 1 1 1 1 1 1 1 1 1 1 1 1 1 1 1 1 1 1 1 1 1 1 1 1 1 1 1 1 1 1 1 1 1 1 1 1 1 1 1 1 1 1 1 1 1 1 1 1 1 1 1 1 1 1 1 1 1 1 1 1 1 1 1 1 1 1 1 1 1 1 1 1 1 1 1 1 1 1 1 1 1 1 1 1 1 1 1 1 1 1 1 1 1 1 1 1 1 1 1 1 1 1 1 1 1 1 1 1 1 1 1 1 1 1 1 1 1 1 1 1 1 1 1 1 1 1 1 1 1 1 1 1 1 1 1 1 1 1 1 1 1 1 1 1 1 1 1 1 1 1 1 1 1 1 1 1 1 1 1 1 1 1 1 1 1 1 1 1 1 1 1 1 1 1 1 1 1 1 1 1 1 1 1 1 1 1 1 1 1 1 1 1 1 1 1 1 1 1 1 1 1 1 1 1 1 1 1 1 1 1 1 1 1 1 1 1 1 1 1 1 1 1 1 1 1 1 1 1 1 1 1 1 1 1 1 1 1 1 1 1 1 1 1 1 1 1 1 1 1 1 1 1 1 1 1 1 1 1 1 1 1 1 1 1 1 1 1 1 1 1 1 0 0 0 0 0 0 0 0 0 0 0 0 0 0 0 0 0 0 0 0 0 0 0 0\n",
            "segment_ids: 0 0 0 0 0 0 0 0 0 0 0 0 0 0 0 0 0 0 0 0 0 0 0 0 0 0 0 0 0 0 0 0 0 0 0 0 0 0 0 0 0 0 0 0 0 0 0 0 0 0 0 0 0 0 0 0 0 0 0 0 0 0 0 0 0 0 0 0 0 0 0 0 0 0 0 0 0 0 0 0 0 0 0 0 0 0 0 0 0 0 0 0 0 0 0 0 0 0 0 0 0 0 0 0 0 0 0 0 0 0 0 0 0 0 0 0 0 0 0 0 0 0 0 0 0 0 0 0 0 0 0 0 0 0 0 0 0 0 0 0 0 0 0 0 0 0 0 0 0 0 0 0 0 0 0 0 0 0 0 0 0 0 0 0 0 0 0 0 0 0 0 0 0 0 0 0 0 0 0 0 0 0 0 0 0 0 0 0 0 0 0 0 0 0 0 0 0 0 0 0 0 0 0 0 0 0 0 0 0 0 0 0 0 0 0 0 0 0 0 0 0 0 0 0 0 0 0 0 0 0 0 0 0 0 0 0 0 0 0 0 0 0 0 0 0 0 0 0 0 0 0 0 0 0 0 0 0 0 0 0 0 0 0 0 0 0 0 0 0 0 0 0 0 0 0 0 0 0 0 0 0 0 0 0 0 0 0 0 0 0 0 0 0 0 0 0 0 0 0 0 0 0 0 0 0 0 0 0 0 0 0 0 0 0 0 0 0 0 0 0 0 0 0 0 0 0 0 0 0 0 0 0 0 0 0 0 0 0 0 0 0 0 0 0 0 0 0 0 0 0 0 0 0 0 0 0 0 0 0 0 0 0 0 0 0 0 0 0 0 0 0 0 0 0 0 0 0 0 0 0 0 0 0 0 0 0 0 0 0 0 0 0 0 0 0 0 0 0 0 0 0 0 0 0 0 0 0 0 0 0 0 0 0 0 0 0 0 0 0 0 0 0 0 0 0 0 0 0 0 0 0 0 0 0 0 0 0 0 0 0 0 0 0 0 0 0 0 0 0 0 0 0 0 0 0 0 0 0 0 0 0 0 0 0 0 0 0 0 0 0 0 0 0 0 0 0 0 0 0 0 0 0 0 0 0 0 0 0 0 0 0 0 0 0 0 0 0 0 0 0 0 0 0 0 0 0 0 0 0 0 0 0\n",
            "label: 0 (id = 0)\n",
            "*** Example ***\n",
            "guid: train-2\n",
            "tokens: [CLS] laboratories on admission were a white count 1 , hem ##ato ##c ##rit 4 , hem ##ato ##c ##rit 57 , plate ##let count 57 , ch ##em - 7 with 131 / 3 / 97 / 23 / 16 / 8 and al ##t 14 , as ##t 40 , al ##k p ##hos 112 , total bi ##li ##ru ##bin 9 , album ##in of 6 , and am ##yla ##se of the patient ' s in ##r was hospital course : on hospital day five it was discovered the patient was m ##rsa b ##act ##ere ##mic . infectious disease was consulted to evaluate patient . decided to wait for cultures . the patient was continued to be worked up by infectious disease , getting a bone scan and _ to evaluate for possible sources of infection . her van ##com ##y ##cin level was t ##it ##rated . she was transferred to the medical intensive care unit on the for close monitoring , of p ##a cat ##he ##ter and for acute re ##nal imp ##air ##ment with a c ##rea ##tin ##ine that went from 8 to the patient ' s re ##nal function improved over a period of time returning to a base ##line of the patient was transferred to the floor and pre ##pped for an or ##th ##oto ##pic liver transplant . on hospital day 17 the patient was being pre - op ' d for or ##th ##oto ##pic liver transplant and was given the appropriate pre ##oper ##ative medications . on hospital day 17 and post ##oper ##ative day one , the patient did not receive her liver secondary to development of a large c ##lot in ##tra ##oper ##ative ##ly . as such , the patient was taken out of the operating room and failed to receive her transplant . the patient went back to the unit for close monitoring immediately post ##oper ##ative ##ly and was then transferred to the floor . the patient was finally transferred to the floor on the hospital day on the floor patient had a fairly un ##rem ##ark ##able course . on hospital day 29 patient was to be discharged to an extended care facility where she will receive physical therapy and a ##wai ##t a potential new liver for transplant . discharge medications : k ##eta ##cona ##zo ##le cream . ace ##tam ##ino ##phe ##n 325 mg two ta ##bs p . o . q . 4 - 6 ##h . p . r . n . m ##or ##phine su ##lf ##ate 2 mg / m ##l s ##yr ##inge one to two injection ##s q . 4 ##h . mi ##cona ##zo ##le powder . c ##ip ##ro ##f ##lo ##xa ##cin 250 mg ta ##bs p . o . b . i . d . pro ##ton ##ix 40 mg one ta ##b [SEP]\n",
            "input_ids: 101 17296 1113 10296 1127 170 1653 5099 122 117 23123 10024 1665 7729 125 117 23123 10024 1665 7729 4667 117 4885 5765 5099 4667 117 22572 5521 118 128 1114 15290 120 124 120 5311 120 1695 120 1479 120 129 1105 2393 1204 1489 117 1112 1204 1969 117 2393 1377 185 15342 11150 117 1703 16516 2646 5082 7939 130 117 1312 1394 1104 127 117 1105 1821 22948 2217 1104 1103 5351 112 188 1107 1197 1108 2704 1736 131 1113 2704 1285 1421 1122 1108 2751 1103 5351 1108 182 24129 171 11179 9014 7257 119 20342 3653 1108 18881 1106 17459 5351 119 1879 1106 3074 1111 8708 119 1103 5351 1108 1598 1106 1129 1589 1146 1118 20342 3653 117 2033 170 6028 14884 1105 168 1106 17459 1111 1936 3509 1104 8974 119 1123 3498 8178 1183 16430 1634 1108 189 2875 5894 119 1131 1108 3175 1106 1103 2657 12885 1920 2587 1113 1103 1111 1601 9437 117 1104 185 1161 5855 4638 2083 1105 1111 12104 1231 7050 24034 8341 1880 1114 170 172 11811 6105 2042 1115 1355 1121 129 1106 1103 5351 112 188 1231 7050 3053 4725 1166 170 1669 1104 1159 3610 1106 170 2259 2568 1104 1103 5351 1108 3175 1106 1103 1837 1105 3073 10438 1111 1126 1137 1582 12355 20437 11911 26965 119 1113 2704 1285 1542 1103 5351 1108 1217 3073 118 11769 112 173 1111 1137 1582 12355 20437 11911 26965 1105 1108 1549 1103 5806 3073 19807 5838 23897 119 1113 2704 1285 1542 1105 2112 19807 5838 1285 1141 117 1103 5351 1225 1136 3531 1123 11911 3718 1106 1718 1104 170 1415 172 7841 1107 4487 19807 5838 1193 119 1112 1216 117 1103 5351 1108 1678 1149 1104 1103 3389 1395 1105 2604 1106 3531 1123 26965 119 1103 5351 1355 1171 1106 1103 2587 1111 1601 9437 2411 2112 19807 5838 1193 1105 1108 1173 3175 1106 1103 1837 119 1103 5351 1108 1921 3175 1106 1103 1837 1113 1103 2704 1285 1113 1103 1837 5351 1125 170 6751 8362 16996 23822 1895 1736 119 1113 2704 1285 1853 5351 1108 1106 1129 15207 1106 1126 2925 1920 3695 1187 1131 1209 3531 2952 7606 1105 170 20264 1204 170 3209 1207 11911 1111 26965 119 12398 23897 131 180 12405 26639 6112 1513 7081 119 20839 20284 4559 27801 1179 21380 17713 1160 27629 4832 185 119 184 119 186 119 125 118 127 1324 119 185 119 187 119 183 119 182 1766 21587 28117 9654 2193 123 17713 120 182 1233 188 12577 27048 1141 1106 1160 14546 1116 186 119 125 1324 119 1940 26639 6112 1513 10794 119 172 9717 2180 2087 2858 20192 16430 4805 17713 27629 4832 185 119 184 119 171 119 178 119 173 119 5250 1633 7231 1969 17713 1141 27629 1830 102 0 0 0 0 0 0 0 0 0 0 0 0 0 0 0 0 0 0 0 0 0 0 0 0\n",
            "input_mask: 1 1 1 1 1 1 1 1 1 1 1 1 1 1 1 1 1 1 1 1 1 1 1 1 1 1 1 1 1 1 1 1 1 1 1 1 1 1 1 1 1 1 1 1 1 1 1 1 1 1 1 1 1 1 1 1 1 1 1 1 1 1 1 1 1 1 1 1 1 1 1 1 1 1 1 1 1 1 1 1 1 1 1 1 1 1 1 1 1 1 1 1 1 1 1 1 1 1 1 1 1 1 1 1 1 1 1 1 1 1 1 1 1 1 1 1 1 1 1 1 1 1 1 1 1 1 1 1 1 1 1 1 1 1 1 1 1 1 1 1 1 1 1 1 1 1 1 1 1 1 1 1 1 1 1 1 1 1 1 1 1 1 1 1 1 1 1 1 1 1 1 1 1 1 1 1 1 1 1 1 1 1 1 1 1 1 1 1 1 1 1 1 1 1 1 1 1 1 1 1 1 1 1 1 1 1 1 1 1 1 1 1 1 1 1 1 1 1 1 1 1 1 1 1 1 1 1 1 1 1 1 1 1 1 1 1 1 1 1 1 1 1 1 1 1 1 1 1 1 1 1 1 1 1 1 1 1 1 1 1 1 1 1 1 1 1 1 1 1 1 1 1 1 1 1 1 1 1 1 1 1 1 1 1 1 1 1 1 1 1 1 1 1 1 1 1 1 1 1 1 1 1 1 1 1 1 1 1 1 1 1 1 1 1 1 1 1 1 1 1 1 1 1 1 1 1 1 1 1 1 1 1 1 1 1 1 1 1 1 1 1 1 1 1 1 1 1 1 1 1 1 1 1 1 1 1 1 1 1 1 1 1 1 1 1 1 1 1 1 1 1 1 1 1 1 1 1 1 1 1 1 1 1 1 1 1 1 1 1 1 1 1 1 1 1 1 1 1 1 1 1 1 1 1 1 1 1 1 1 1 1 1 1 1 1 1 1 1 1 1 1 1 1 1 1 1 1 1 1 1 1 1 1 1 1 1 1 1 1 1 1 1 1 1 1 1 1 1 1 1 1 1 1 1 1 1 1 1 1 1 1 1 1 1 1 1 1 1 1 1 1 1 1 1 1 1 1 1 1 1 1 1 1 1 1 1 1 1 0 0 0 0 0 0 0 0 0 0 0 0 0 0 0 0 0 0 0 0 0 0 0 0\n",
            "segment_ids: 0 0 0 0 0 0 0 0 0 0 0 0 0 0 0 0 0 0 0 0 0 0 0 0 0 0 0 0 0 0 0 0 0 0 0 0 0 0 0 0 0 0 0 0 0 0 0 0 0 0 0 0 0 0 0 0 0 0 0 0 0 0 0 0 0 0 0 0 0 0 0 0 0 0 0 0 0 0 0 0 0 0 0 0 0 0 0 0 0 0 0 0 0 0 0 0 0 0 0 0 0 0 0 0 0 0 0 0 0 0 0 0 0 0 0 0 0 0 0 0 0 0 0 0 0 0 0 0 0 0 0 0 0 0 0 0 0 0 0 0 0 0 0 0 0 0 0 0 0 0 0 0 0 0 0 0 0 0 0 0 0 0 0 0 0 0 0 0 0 0 0 0 0 0 0 0 0 0 0 0 0 0 0 0 0 0 0 0 0 0 0 0 0 0 0 0 0 0 0 0 0 0 0 0 0 0 0 0 0 0 0 0 0 0 0 0 0 0 0 0 0 0 0 0 0 0 0 0 0 0 0 0 0 0 0 0 0 0 0 0 0 0 0 0 0 0 0 0 0 0 0 0 0 0 0 0 0 0 0 0 0 0 0 0 0 0 0 0 0 0 0 0 0 0 0 0 0 0 0 0 0 0 0 0 0 0 0 0 0 0 0 0 0 0 0 0 0 0 0 0 0 0 0 0 0 0 0 0 0 0 0 0 0 0 0 0 0 0 0 0 0 0 0 0 0 0 0 0 0 0 0 0 0 0 0 0 0 0 0 0 0 0 0 0 0 0 0 0 0 0 0 0 0 0 0 0 0 0 0 0 0 0 0 0 0 0 0 0 0 0 0 0 0 0 0 0 0 0 0 0 0 0 0 0 0 0 0 0 0 0 0 0 0 0 0 0 0 0 0 0 0 0 0 0 0 0 0 0 0 0 0 0 0 0 0 0 0 0 0 0 0 0 0 0 0 0 0 0 0 0 0 0 0 0 0 0 0 0 0 0 0 0 0 0 0 0 0 0 0 0 0 0 0 0 0 0 0 0 0 0 0 0 0 0 0 0 0 0 0 0 0 0 0 0 0 0 0 0 0 0 0 0 0 0 0 0 0 0 0 0 0 0 0 0 0 0 0 0 0 0 0 0 0 0 0 0 0 0 0 0 0 0\n",
            "label: 1 (id = 1)\n",
            "*** Example ***\n",
            "guid: train-3\n",
            "tokens: [CLS] 4 mg tablet , sub ##ling ##ual si ##g : one ( 1 ) tablet sub ##ling ##ual as directed as needed for chest pain . out ##patient lab work please check in ##r on mon ##day and call results to doctor at . ace ##tam ##ino ##phe ##n 325 mg tablet si ##g : 1 - 2 tablets p ##o q ##6 ##h ( every 6 hours ) as needed for pain . di ##sp : * 6 v ##ils * re ##fill ##s : * 0 * discharge disposition : home with service facility : v ##na discharge diagnosis : vent ##ric ##ular ta ##chy ##card ##ia non s ##t elevation my ##oc ##ard ##ial in ##far ##ction discharge condition : stable . discharge instructions : you had a dangerous heart rhythm called vent ##ric ##ular ta ##chy ##card ##ia and was started on so ##to ##lo ##l , a medicine to prevent this rhythm . in addition , an internal def ##ib ##rilla ##tor ( i ##c ##d ) was placed that will shock you out of this rhythm . you cannot get the i ##c ##d dressing wet for one week . no shower ##s of baths . you may wash your hair in a sink . you are scheduled in the device clinic in 1 week , they will check the function of the i ##c ##d and take off the dressing . no lifting more than 5 pounds with your left arm for 6 weeks , no lifting your left arm over your head for 6 weeks . you will be on anti ##biotics to prevent an infection at the i ##c ##d site for 3 days . you also had a cardiac cat ##he ##ter ##ization that showed extensive block ##ages in your co ##rona ##ry artery . your medicines were adjusted to help your heart function . medication changes : so ##to ##lo ##l : to prevent vent ##ric ##ular ta ##chy ##card ##ia restart your co ##uma ##din at 2 mg , you will need to check your in ##r on mon ##day . decrease your as ##pi ##rin to 81 ##m ##g , continue taking p ##lav ##ix . . please call doctor if your i ##c ##d fires , if you have any red ##ness , swelling , tender ##ness or bleeding at the i ##c ##d site , if you have any chest pain , fever ##s , chill ##s or trouble breathing . weigh yourself every morning , m ##d if weight > 3 lbs in 1 day or 6 pounds in 3 days . ad ##here to 2 g ##m sodium diet : information was given to you about this at discharge . . follow ##up instructions : card ##iology : doctor phone : [SEP]\n",
            "input_ids: 101 125 17713 16048 117 4841 1979 4746 27466 1403 131 1141 113 122 114 16048 4841 1979 4746 1112 2002 1112 1834 1111 2229 2489 119 1149 27420 8074 1250 4268 4031 1107 1197 1113 19863 6194 1105 1840 2686 1106 3995 1120 119 20839 20284 4559 27801 1179 21380 17713 16048 27466 1403 131 122 118 123 20159 185 1186 186 1545 1324 113 1451 127 2005 114 1112 1834 1111 2489 119 4267 20080 131 115 127 191 8825 115 1231 18591 1116 131 115 121 115 12398 25622 131 1313 1114 1555 3695 131 191 1605 12398 12645 131 21828 4907 5552 27629 8992 10542 1465 1664 188 1204 6252 1139 13335 2881 2916 1107 14794 5796 12398 3879 131 6111 119 12398 7953 131 1128 1125 170 4249 1762 6795 1270 21828 4907 5552 27629 8992 10542 1465 1105 1108 1408 1113 1177 2430 2858 1233 117 170 5182 1106 3843 1142 6795 119 1107 1901 117 1126 4422 19353 13292 18792 2772 113 178 1665 1181 114 1108 1973 1115 1209 4900 1128 1149 1104 1142 6795 119 1128 2834 1243 1103 178 1665 1181 11597 4375 1111 1141 1989 119 1185 5946 1116 1104 26066 119 1128 1336 10124 1240 1716 1107 170 7496 119 1128 1132 4533 1107 1103 4442 12257 1107 122 1989 117 1152 1209 4031 1103 3053 1104 1103 178 1665 1181 1105 1321 1228 1103 11597 119 1185 9219 1167 1190 126 6549 1114 1240 1286 1981 1111 127 2277 117 1185 9219 1240 1286 1981 1166 1240 1246 1111 127 2277 119 1128 1209 1129 1113 2848 25523 1106 3843 1126 8974 1120 1103 178 1665 1181 1751 1111 124 1552 119 1128 1145 1125 170 17688 5855 4638 2083 2734 1115 2799 4154 3510 12062 1107 1240 1884 15789 1616 18593 119 1240 26016 1127 10491 1106 1494 1240 1762 3053 119 15683 2607 131 1177 2430 2858 1233 131 1106 3843 21828 4907 5552 27629 8992 10542 1465 27777 1240 1884 10161 7126 1120 123 17713 117 1128 1209 1444 1106 4031 1240 1107 1197 1113 19863 6194 119 9711 1240 1112 8508 4854 1106 5615 1306 1403 117 2760 1781 185 9516 7231 119 119 4268 1840 3995 1191 1240 178 1665 1181 8966 117 1191 1128 1138 1251 1894 1757 117 20085 117 8886 1757 1137 9793 1120 1103 178 1665 1181 1751 117 1191 1128 1138 1251 2229 2489 117 10880 1116 117 11824 1116 1137 3819 4943 119 18678 3739 1451 2106 117 182 1181 1191 2841 135 124 24119 1107 122 1285 1137 127 6549 1107 124 1552 119 8050 12807 1106 123 176 1306 15059 10211 131 1869 1108 1549 1106 1128 1164 1142 1120 12398 119 119 2812 4455 7953 131 3621 17288 131 3995 2179 131 102 0 0 0 0 0 0 0 0 0 0 0 0 0 0 0 0 0 0 0 0 0 0 0 0 0 0 0 0 0 0 0 0 0 0 0 0 0 0 0 0 0 0\n",
            "input_mask: 1 1 1 1 1 1 1 1 1 1 1 1 1 1 1 1 1 1 1 1 1 1 1 1 1 1 1 1 1 1 1 1 1 1 1 1 1 1 1 1 1 1 1 1 1 1 1 1 1 1 1 1 1 1 1 1 1 1 1 1 1 1 1 1 1 1 1 1 1 1 1 1 1 1 1 1 1 1 1 1 1 1 1 1 1 1 1 1 1 1 1 1 1 1 1 1 1 1 1 1 1 1 1 1 1 1 1 1 1 1 1 1 1 1 1 1 1 1 1 1 1 1 1 1 1 1 1 1 1 1 1 1 1 1 1 1 1 1 1 1 1 1 1 1 1 1 1 1 1 1 1 1 1 1 1 1 1 1 1 1 1 1 1 1 1 1 1 1 1 1 1 1 1 1 1 1 1 1 1 1 1 1 1 1 1 1 1 1 1 1 1 1 1 1 1 1 1 1 1 1 1 1 1 1 1 1 1 1 1 1 1 1 1 1 1 1 1 1 1 1 1 1 1 1 1 1 1 1 1 1 1 1 1 1 1 1 1 1 1 1 1 1 1 1 1 1 1 1 1 1 1 1 1 1 1 1 1 1 1 1 1 1 1 1 1 1 1 1 1 1 1 1 1 1 1 1 1 1 1 1 1 1 1 1 1 1 1 1 1 1 1 1 1 1 1 1 1 1 1 1 1 1 1 1 1 1 1 1 1 1 1 1 1 1 1 1 1 1 1 1 1 1 1 1 1 1 1 1 1 1 1 1 1 1 1 1 1 1 1 1 1 1 1 1 1 1 1 1 1 1 1 1 1 1 1 1 1 1 1 1 1 1 1 1 1 1 1 1 1 1 1 1 1 1 1 1 1 1 1 1 1 1 1 1 1 1 1 1 1 1 1 1 1 1 1 1 1 1 1 1 1 1 1 1 1 1 1 1 1 1 1 1 1 1 1 1 1 1 1 1 1 1 1 1 1 1 1 1 1 1 1 1 1 1 1 1 1 1 1 1 1 1 1 1 1 1 1 1 1 1 1 1 1 1 1 1 1 1 1 1 1 1 1 1 1 1 1 1 1 1 0 0 0 0 0 0 0 0 0 0 0 0 0 0 0 0 0 0 0 0 0 0 0 0 0 0 0 0 0 0 0 0 0 0 0 0 0 0 0 0 0 0\n",
            "segment_ids: 0 0 0 0 0 0 0 0 0 0 0 0 0 0 0 0 0 0 0 0 0 0 0 0 0 0 0 0 0 0 0 0 0 0 0 0 0 0 0 0 0 0 0 0 0 0 0 0 0 0 0 0 0 0 0 0 0 0 0 0 0 0 0 0 0 0 0 0 0 0 0 0 0 0 0 0 0 0 0 0 0 0 0 0 0 0 0 0 0 0 0 0 0 0 0 0 0 0 0 0 0 0 0 0 0 0 0 0 0 0 0 0 0 0 0 0 0 0 0 0 0 0 0 0 0 0 0 0 0 0 0 0 0 0 0 0 0 0 0 0 0 0 0 0 0 0 0 0 0 0 0 0 0 0 0 0 0 0 0 0 0 0 0 0 0 0 0 0 0 0 0 0 0 0 0 0 0 0 0 0 0 0 0 0 0 0 0 0 0 0 0 0 0 0 0 0 0 0 0 0 0 0 0 0 0 0 0 0 0 0 0 0 0 0 0 0 0 0 0 0 0 0 0 0 0 0 0 0 0 0 0 0 0 0 0 0 0 0 0 0 0 0 0 0 0 0 0 0 0 0 0 0 0 0 0 0 0 0 0 0 0 0 0 0 0 0 0 0 0 0 0 0 0 0 0 0 0 0 0 0 0 0 0 0 0 0 0 0 0 0 0 0 0 0 0 0 0 0 0 0 0 0 0 0 0 0 0 0 0 0 0 0 0 0 0 0 0 0 0 0 0 0 0 0 0 0 0 0 0 0 0 0 0 0 0 0 0 0 0 0 0 0 0 0 0 0 0 0 0 0 0 0 0 0 0 0 0 0 0 0 0 0 0 0 0 0 0 0 0 0 0 0 0 0 0 0 0 0 0 0 0 0 0 0 0 0 0 0 0 0 0 0 0 0 0 0 0 0 0 0 0 0 0 0 0 0 0 0 0 0 0 0 0 0 0 0 0 0 0 0 0 0 0 0 0 0 0 0 0 0 0 0 0 0 0 0 0 0 0 0 0 0 0 0 0 0 0 0 0 0 0 0 0 0 0 0 0 0 0 0 0 0 0 0 0 0 0 0 0 0 0 0 0 0 0 0 0 0 0 0 0 0 0 0 0 0 0 0 0 0 0 0 0 0 0 0 0 0 0 0 0 0 0 0 0 0 0 0 0 0 0 0\n",
            "label: 1 (id = 1)\n",
            "*** Example ***\n",
            "guid: train-4\n",
            "tokens: [CLS] si ##g : 5 tablet p ##o bid ( 2 times a day ) . war ##fari ##n 3 mg tablet si ##g : one ( 1 ) tablet p ##o once a day . he ##par ##in flush ( 10 units / m ##l ) 2 m ##l i ##v p ##rn line flush p ##ic ##c , he ##par ##in dependent : flush with 10 ##m ##l normal sa ##line followed by he ##par ##in as above daily and p ##rn per l ##ume ##n . discharge disposition : extended care facility : discharge diagnosis : primary : cerebral hem ##or ##r ##hage , cerebral ve ##nous th ##rom ##bus secondary : diabetes , h ##yper ##tens ##ion , h ##yper ##lip ##ide ##mia discharge condition : mental status : confused - sometimes . level of consciousness : let ##har ##gic but a ##rous ##able . activity status : out of bed with assistance to chair or wheelchair . ne ##uro exam : so ##m ##no ##lent , but a ##rous ##able , mild l - sided weakness . discharge instructions : dear m ##s . , you were seen in the hospital for a bleed in your brain that was caused by a blood c ##lot in one of the veins of your head . you were put on a blood thinner and your ne ##uro ##logical status improved . your course was complicated by a vent ##ila ##tor associated pneumonia , which you were treated for with anti ##biotics . we made the following changes to your medications : 1 ) we stopped your met ##rf ##orm ##in . you can restart this medication once your re ##nal function fully stab ##ilize ##s . 2 ) we decreased your ate ##no ##lo ##l to 25 ##m ##g twice a day . 3 ) we stopped your la ##nto ##pra ##sto ##l . 4 ) we stopped your all ##op ##uri ##no ##l . you should restart this medication once your re ##nal function fully stab ##ilize ##s . 5 ) we stopped your b ##act ##rim . 6 ) we started you on sa ##rna lot ##ion three times a day as needed for it ##chy r ##ash . 7 ) we started you on t ##yle ##no ##l 650 ##m ##g every 6 hours as needed for pain or fever . 8 ) we started you on do ##cus ##ate 100 ##m ##g twice a day . 9 ) we started you on fish oil 1 , 000 ##m ##g twice a day . 10 ) we started you on si ##m ##vas ##tat ##in 40 ##m ##g once a day . 11 ) we started you on f ##amo ##ti ##dine 20 ##m ##g once a day . 12 ) we started you met ##hyl ##phe ##ni ##date 5 mg twice a day . 13 ) we started you on war ##fari ##n 3 ##m ##g once a day . this dose should be adjusted to keep [SEP]\n",
            "input_ids: 101 27466 1403 131 126 16048 185 1186 6875 113 123 1551 170 1285 114 119 1594 21975 1179 124 17713 16048 27466 1403 131 1141 113 122 114 16048 185 1186 1517 170 1285 119 1119 17482 1394 14991 113 1275 2338 120 182 1233 114 123 182 1233 178 1964 185 4558 1413 14991 185 1596 1665 117 1119 17482 1394 7449 131 14991 1114 1275 1306 1233 2999 21718 2568 1723 1118 1119 17482 1394 1112 1807 3828 1105 185 4558 1679 181 15447 1179 119 12398 25622 131 2925 1920 3695 131 12398 12645 131 2425 131 21831 23123 1766 1197 19911 117 21831 1396 23901 24438 16071 7441 3718 131 17972 117 177 24312 23826 1988 117 177 24312 10913 3269 8191 12398 3879 131 4910 2781 131 4853 118 2121 119 1634 1104 8418 131 1519 7111 11007 1133 170 13149 1895 119 3246 2781 131 1149 1104 1908 1114 5052 1106 2643 1137 14980 119 24928 11955 12211 131 1177 1306 2728 13147 117 1133 170 13149 1895 117 10496 181 118 11641 11477 119 12398 7953 131 7059 182 1116 119 117 1128 1127 1562 1107 1103 2704 1111 170 24752 1107 1240 3575 1115 1108 2416 1118 170 1892 172 7841 1107 1141 1104 1103 9485 1104 1240 1246 119 1128 1127 1508 1113 170 1892 26263 1105 1240 24928 11955 7810 2781 4725 119 1240 1736 1108 8277 1118 170 21828 8009 2772 2628 20673 117 1134 1128 1127 5165 1111 1114 2848 25523 119 1195 1189 1103 1378 2607 1106 1240 23897 131 122 114 1195 2141 1240 1899 11931 24211 1394 119 1128 1169 27777 1142 15683 1517 1240 1231 7050 3053 3106 19428 21225 1116 119 123 114 1195 10558 1240 8756 2728 2858 1233 1106 1512 1306 1403 3059 170 1285 119 124 114 1195 2141 1240 2495 10153 20488 12223 1233 119 125 114 1195 2141 1240 1155 4184 8212 2728 1233 119 1128 1431 27777 1142 15683 1517 1240 1231 7050 3053 3106 19428 21225 1116 119 126 114 1195 2141 1240 171 11179 10205 119 127 114 1195 1408 1128 1113 21718 11782 1974 1988 1210 1551 170 1285 1112 1834 1111 1122 8992 187 10733 119 128 114 1195 1408 1128 1113 189 12415 2728 1233 14166 1306 1403 1451 127 2005 1112 1834 1111 2489 1137 10880 119 129 114 1195 1408 1128 1113 1202 6697 2193 1620 1306 1403 3059 170 1285 119 130 114 1195 1408 1128 1113 3489 2949 122 117 1288 1306 1403 3059 170 1285 119 1275 114 1195 1408 1128 1113 27466 1306 11509 19756 1394 1969 1306 1403 1517 170 1285 119 1429 114 1195 1408 1128 1113 175 16931 3121 10399 1406 1306 1403 1517 170 1285 119 1367 114 1195 1408 1128 1899 18873 27801 2605 9216 126 17713 3059 170 1285 119 1492 114 1195 1408 1128 1113 1594 21975 1179 124 1306 1403 1517 170 1285 119 1142 13753 1431 1129 10491 1106 1712 102 0 0 0 0 0 0 0\n",
            "input_mask: 1 1 1 1 1 1 1 1 1 1 1 1 1 1 1 1 1 1 1 1 1 1 1 1 1 1 1 1 1 1 1 1 1 1 1 1 1 1 1 1 1 1 1 1 1 1 1 1 1 1 1 1 1 1 1 1 1 1 1 1 1 1 1 1 1 1 1 1 1 1 1 1 1 1 1 1 1 1 1 1 1 1 1 1 1 1 1 1 1 1 1 1 1 1 1 1 1 1 1 1 1 1 1 1 1 1 1 1 1 1 1 1 1 1 1 1 1 1 1 1 1 1 1 1 1 1 1 1 1 1 1 1 1 1 1 1 1 1 1 1 1 1 1 1 1 1 1 1 1 1 1 1 1 1 1 1 1 1 1 1 1 1 1 1 1 1 1 1 1 1 1 1 1 1 1 1 1 1 1 1 1 1 1 1 1 1 1 1 1 1 1 1 1 1 1 1 1 1 1 1 1 1 1 1 1 1 1 1 1 1 1 1 1 1 1 1 1 1 1 1 1 1 1 1 1 1 1 1 1 1 1 1 1 1 1 1 1 1 1 1 1 1 1 1 1 1 1 1 1 1 1 1 1 1 1 1 1 1 1 1 1 1 1 1 1 1 1 1 1 1 1 1 1 1 1 1 1 1 1 1 1 1 1 1 1 1 1 1 1 1 1 1 1 1 1 1 1 1 1 1 1 1 1 1 1 1 1 1 1 1 1 1 1 1 1 1 1 1 1 1 1 1 1 1 1 1 1 1 1 1 1 1 1 1 1 1 1 1 1 1 1 1 1 1 1 1 1 1 1 1 1 1 1 1 1 1 1 1 1 1 1 1 1 1 1 1 1 1 1 1 1 1 1 1 1 1 1 1 1 1 1 1 1 1 1 1 1 1 1 1 1 1 1 1 1 1 1 1 1 1 1 1 1 1 1 1 1 1 1 1 1 1 1 1 1 1 1 1 1 1 1 1 1 1 1 1 1 1 1 1 1 1 1 1 1 1 1 1 1 1 1 1 1 1 1 1 1 1 1 1 1 1 1 1 1 1 1 1 1 1 1 1 1 1 1 1 1 1 1 1 1 1 1 1 1 1 1 1 1 1 1 1 1 1 1 1 1 1 1 1 1 1 1 1 1 1 1 1 1 1 1 1 1 1 1 0 0 0 0 0 0 0\n",
            "segment_ids: 0 0 0 0 0 0 0 0 0 0 0 0 0 0 0 0 0 0 0 0 0 0 0 0 0 0 0 0 0 0 0 0 0 0 0 0 0 0 0 0 0 0 0 0 0 0 0 0 0 0 0 0 0 0 0 0 0 0 0 0 0 0 0 0 0 0 0 0 0 0 0 0 0 0 0 0 0 0 0 0 0 0 0 0 0 0 0 0 0 0 0 0 0 0 0 0 0 0 0 0 0 0 0 0 0 0 0 0 0 0 0 0 0 0 0 0 0 0 0 0 0 0 0 0 0 0 0 0 0 0 0 0 0 0 0 0 0 0 0 0 0 0 0 0 0 0 0 0 0 0 0 0 0 0 0 0 0 0 0 0 0 0 0 0 0 0 0 0 0 0 0 0 0 0 0 0 0 0 0 0 0 0 0 0 0 0 0 0 0 0 0 0 0 0 0 0 0 0 0 0 0 0 0 0 0 0 0 0 0 0 0 0 0 0 0 0 0 0 0 0 0 0 0 0 0 0 0 0 0 0 0 0 0 0 0 0 0 0 0 0 0 0 0 0 0 0 0 0 0 0 0 0 0 0 0 0 0 0 0 0 0 0 0 0 0 0 0 0 0 0 0 0 0 0 0 0 0 0 0 0 0 0 0 0 0 0 0 0 0 0 0 0 0 0 0 0 0 0 0 0 0 0 0 0 0 0 0 0 0 0 0 0 0 0 0 0 0 0 0 0 0 0 0 0 0 0 0 0 0 0 0 0 0 0 0 0 0 0 0 0 0 0 0 0 0 0 0 0 0 0 0 0 0 0 0 0 0 0 0 0 0 0 0 0 0 0 0 0 0 0 0 0 0 0 0 0 0 0 0 0 0 0 0 0 0 0 0 0 0 0 0 0 0 0 0 0 0 0 0 0 0 0 0 0 0 0 0 0 0 0 0 0 0 0 0 0 0 0 0 0 0 0 0 0 0 0 0 0 0 0 0 0 0 0 0 0 0 0 0 0 0 0 0 0 0 0 0 0 0 0 0 0 0 0 0 0 0 0 0 0 0 0 0 0 0 0 0 0 0 0 0 0 0 0 0 0 0 0 0 0 0 0 0 0 0 0 0 0 0 0 0 0 0 0 0 0 0 0 0 0 0 0 0 0 0 0 0 0 0 0 0 0\n",
            "label: 1 (id = 1)\n"
          ]
        },
        {
          "name": "stderr",
          "output_type": "stream",
          "text": [
            "26245it [00:50, 519.20it/s]\n"
          ]
        },
        {
          "name": "stdout",
          "output_type": "stream",
          "text": [
            "***** Running training *****\n",
            "  Num examples = %d 26245\n",
            "  Batch size = %d 8\n",
            "  Num steps = %d 1093\n"
          ]
        },
        {
          "name": "stderr",
          "output_type": "stream",
          "text": [
            "\rEpoch:   0%|          | 0/3 [00:00<?, ?it/s]"
          ]
        },
        {
          "name": "stdout",
          "output_type": "stream",
          "text": [
            "Epoch: 0, Step: 199, Loss: 0.7059447881579399, Acc: 0.503125\n",
            "Epoch: 0, Step: 399, Loss: 0.702156740128994, Acc: 0.503125\n",
            "Epoch: 0, Step: 599, Loss: 0.6928488352894783, Acc: 0.539375\n",
            "Epoch: 0, Step: 799, Loss: 0.6822802586853505, Acc: 0.55875\n",
            "Epoch: 0, Step: 999, Loss: 0.6678638717532158, Acc: 0.6\n",
            "Epoch: 0, Step: 1199, Loss: 0.671190810650587, Acc: 0.605\n",
            "Epoch: 0, Step: 1399, Loss: 0.6791284012794495, Acc: 0.571875\n",
            "Epoch: 0, Step: 1599, Loss: 0.6785695049166679, Acc: 0.585\n",
            "Epoch: 0, Step: 1799, Loss: 0.6707254929840565, Acc: 0.58625\n",
            "Epoch: 0, Step: 1999, Loss: 0.6738353025913238, Acc: 0.58875\n",
            "Epoch: 0, Step: 2199, Loss: 0.6708595913648605, Acc: 0.598125\n",
            "Epoch: 0, Step: 2399, Loss: 0.6782568421959877, Acc: 0.5675\n",
            "Epoch: 0, Step: 2599, Loss: 0.6779501619935036, Acc: 0.580625\n",
            "Epoch: 0, Step: 2799, Loss: 0.680164088010788, Acc: 0.570625\n",
            "Epoch: 0, Step: 2999, Loss: 0.6512766778469086, Acc: 0.634375\n",
            "Epoch: 0, Step: 3199, Loss: 0.6773278100788593, Acc: 0.585625\n"
          ]
        },
        {
          "name": "stderr",
          "output_type": "stream",
          "text": [
            "\rEpoch:  33%|███▎      | 1/3 [16:04<32:08, 964.25s/it]"
          ]
        },
        {
          "name": "stdout",
          "output_type": "stream",
          "text": [
            "Epoch: 1, Step: 199, Loss: 0.6543991559743881, Acc: 0.6225\n",
            "Epoch: 1, Step: 399, Loss: 0.649336453974247, Acc: 0.63\n",
            "Epoch: 1, Step: 599, Loss: 0.6599100084602832, Acc: 0.611875\n",
            "Epoch: 1, Step: 799, Loss: 0.6550763376057148, Acc: 0.613125\n",
            "Epoch: 1, Step: 999, Loss: 0.6622349858283997, Acc: 0.618125\n",
            "Epoch: 1, Step: 1199, Loss: 0.6361016644537449, Acc: 0.646875\n",
            "Epoch: 1, Step: 1399, Loss: 0.6393812032043934, Acc: 0.64875\n",
            "Epoch: 1, Step: 1599, Loss: 0.6350350867211819, Acc: 0.630625\n",
            "Epoch: 1, Step: 1799, Loss: 0.6268374618887901, Acc: 0.65\n",
            "Epoch: 1, Step: 1999, Loss: 0.6355511842668057, Acc: 0.646875\n",
            "Epoch: 1, Step: 2199, Loss: 0.6189145320653915, Acc: 0.670625\n",
            "Epoch: 1, Step: 2399, Loss: 0.6316927716135978, Acc: 0.649375\n",
            "Epoch: 1, Step: 2599, Loss: 0.6479459816217422, Acc: 0.645\n",
            "Epoch: 1, Step: 2799, Loss: 0.6203593805432319, Acc: 0.66875\n",
            "Epoch: 1, Step: 2999, Loss: 0.6340703463554382, Acc: 0.644375\n",
            "Epoch: 1, Step: 3199, Loss: 0.6151916499435902, Acc: 0.679375\n"
          ]
        },
        {
          "name": "stderr",
          "output_type": "stream",
          "text": [
            "\rEpoch:  67%|██████▋   | 2/3 [32:07<16:03, 963.58s/it]"
          ]
        },
        {
          "name": "stdout",
          "output_type": "stream",
          "text": [
            "Epoch: 2, Step: 199, Loss: 0.545723266005516, Acc: 0.73125\n",
            "Epoch: 2, Step: 399, Loss: 0.5579022084921599, Acc: 0.734375\n",
            "Epoch: 2, Step: 599, Loss: 0.5712758067250252, Acc: 0.716875\n",
            "Epoch: 2, Step: 799, Loss: 0.5608686878532171, Acc: 0.715625\n",
            "Epoch: 2, Step: 999, Loss: 0.5405918125808239, Acc: 0.740625\n",
            "Epoch: 2, Step: 1199, Loss: 0.5555082166194916, Acc: 0.72375\n",
            "Epoch: 2, Step: 1399, Loss: 0.555160164013505, Acc: 0.736875\n",
            "Epoch: 2, Step: 1599, Loss: 0.571615308597684, Acc: 0.7225\n",
            "Epoch: 2, Step: 1799, Loss: 0.5689281751215458, Acc: 0.72875\n",
            "Epoch: 2, Step: 1999, Loss: 0.5383295487612486, Acc: 0.731875\n",
            "Epoch: 2, Step: 2199, Loss: 0.5711077816784382, Acc: 0.729375\n",
            "Epoch: 2, Step: 2399, Loss: 0.5328491655737162, Acc: 0.75625\n",
            "Epoch: 2, Step: 2599, Loss: 0.5489953289926052, Acc: 0.73\n",
            "Epoch: 2, Step: 2799, Loss: 0.5418965259194374, Acc: 0.741875\n",
            "Epoch: 2, Step: 2999, Loss: 0.5359308706223964, Acc: 0.745625\n",
            "Epoch: 2, Step: 3199, Loss: 0.5420929705351591, Acc: 0.74125\n"
          ]
        },
        {
          "name": "stderr",
          "output_type": "stream",
          "text": [
            "Epoch: 100%|██████████| 3/3 [48:11<00:00, 963.94s/it]\n"
          ]
        },
        {
          "data": {
            "image/png": "[encoded data removed]",
            "text/plain": [
              "<Figure size 640x480 with 1 Axes>"
            ]
          },
          "metadata": {},
          "output_type": "display_data"
        }
      ],
      "source": [
        "from transformers import AutoTokenizer, BertForSequenceClassification\n",
        "## initialize hyperparamaters\n",
        "num_labels = 2\n",
        "device = torch.device('cuda:0')\n",
        "lr = 1e-3\n",
        "readmission_mode = 'discharge'\n",
        "data_dir = 'DATA/'\n",
        "data_dir = os.path.join(data_dir, readmission_mode)\n",
        "output_dir = 'experiment'\n",
        "output_dir = os.path.join(output_dir, readmission_mode)\n",
        "model = 'clinicalbert'\n",
        "output_dir = os.path.join(output_dir, model)\n",
        "max_seq_length = 512\n",
        "train_batch_size = 8\n",
        "num_train_epochs = 3\n",
        "eval_batch_size = 8\n",
        "\n",
        "\n",
        "# Load model, tokenizer\n",
        "tokenizer = AutoTokenizer.from_pretrained(\"emilyalsentzer/Bio_ClinicalBERT\")\n",
        "model = BertForSequenceClassification.from_pretrained(\"emilyalsentzer/Bio_ClinicalBERT\", num_labels=2)\n",
        "model.to(device)\n",
        "\n",
        "# Train\n",
        "model, train_loss, global_step_check, number_training_steps = train_model(model, tokenizer, data_dir, num_labels, device, lr, train_batch_size, num_train_epochs, max_seq_length)"
      ]
    },
    {
      "cell_type": "code",
      "execution_count": null,
      "metadata": {
        "colab": {
          "base_uri": "https://localhost:8080/"
        },
        "id": "RmUT1eP9okuh",
        "outputId": "8ac564c2-c9ad-4f9b-d976-859cca6c4dc3"
      },
      "outputs": [
        {
          "name": "stdout",
          "output_type": "stream",
          "text": [
            "{'global_step': 9714, 'training loss': 0.551930798046231}\n"
          ]
        }
      ],
      "source": [
        "train_result = {'global_step': global_step_check,\n",
        "                'training loss': train_loss/number_training_steps}\n",
        "print(train_result)"
      ]
    },
    {
      "cell_type": "code",
      "execution_count": null,
      "metadata": {
        "colab": {
          "base_uri": "https://localhost:8080/"
        },
        "id": "FPzFrnB0okyC",
        "outputId": "cd80e8cb-e2f5-4893-ba3c-27b8d4c985f0"
      },
      "outputs": [
        {
          "name": "stdout",
          "output_type": "stream",
          "text": [
            "Entire model saved to experiment/discharge/clinicalbert/model.pth\n"
          ]
        }
      ],
      "source": [
        "### save model\n",
        "model_path = os.path.join(output_dir, 'model.pth')\n",
        "torch.save(model, model_path)\n",
        "print(f\"Entire model saved to {model_path}\")"
      ]
    },
    {
      "cell_type": "markdown",
      "source": [
        "### Hierachical Model Experiments using All Notes Cohort\n",
        "\n",
        "For Hierachical Model, we used a different cohort compared to flat models"
      ],
      "metadata": {
        "id": "BbjnpXfbWRk5"
      }
    },
    {
      "cell_type": "markdown",
      "source": [
        "#### LSTM readmission prediction (no time info)\n",
        "\n",
        "The LSTM model serves as a baseline model in hierachical models, which does not include time info. We also compare its results with FTL-Trans as a ablation study to show the effect of time info."
      ],
      "metadata": {
        "id": "yn3naqk2q_6M"
      }
    },
    {
      "cell_type": "code",
      "source": [
        "### Follow the instructions in preprocessing_FTL_Trans.ipynb to generate DATA FILE ./DATA/readmission/, which contains train.csv, val.csv and test.csv\n",
        "### Run the code below to obtain the evaluation results\n",
        "!pip install pytorch_transformers\n",
        "!pip install pytorch_pretrained_bert\n",
        "!pip install dotmap\n",
        "\n",
        "!python3 run_clbert_lstm.py --data_dir ./DATA/readmission/ --train_data train.csv --val_data val.csv --test_data test.csv --log_path ./log_readmission.txt --bert_model ./pretraining/ --embed_mode all --task_name LSTM_Prediction --max_seq_length 128 --train_batch_size 32 --eval_batch_size 1 --learning_rate 2e-5 --num_train_epochs 3 --warmup_proportion 0.1 --max_chunk_num 32 --seed 42 --gradient_accumulation_steps 1 --output_dir ./exp_LSTM --save_model"
      ],
      "metadata": {
        "colab": {
          "base_uri": "https://localhost:8080/"
        },
        "id": "IeX2V7hHrDbj",
        "outputId": "044f321c-1786-4cb0-e39d-ca6aada30e92"
      },
      "execution_count": null,
      "outputs": [
        {
          "output_type": "stream",
          "name": "stdout",
          "text": [
            "Requirement already satisfied: pytorch_transformers in /usr/local/lib/python3.10/dist-packages (1.2.0)\n",
            "Requirement already satisfied: torch>=1.0.0 in /usr/local/lib/python3.10/dist-packages (from pytorch_transformers) (2.2.1+cu121)\n",
            "Requirement already satisfied: numpy in /usr/local/lib/python3.10/dist-packages (from pytorch_transformers) (1.25.2)\n",
            "Requirement already satisfied: boto3 in /usr/local/lib/python3.10/dist-packages (from pytorch_transformers) (1.34.100)\n",
            "Requirement already satisfied: requests in /usr/local/lib/python3.10/dist-packages (from pytorch_transformers) (2.31.0)\n",
            "Requirement already satisfied: tqdm in /usr/local/lib/python3.10/dist-packages (from pytorch_transformers) (4.66.4)\n",
            "Requirement already satisfied: regex in /usr/local/lib/python3.10/dist-packages (from pytorch_transformers) (2023.12.25)\n",
            "Requirement already satisfied: sentencepiece in /usr/local/lib/python3.10/dist-packages (from pytorch_transformers) (0.1.99)\n",
            "Requirement already satisfied: sacremoses in /usr/local/lib/python3.10/dist-packages (from pytorch_transformers) (0.1.1)\n",
            "Requirement already satisfied: filelock in /usr/local/lib/python3.10/dist-packages (from torch>=1.0.0->pytorch_transformers) (3.14.0)\n",
            "Requirement already satisfied: typing-extensions>=4.8.0 in /usr/local/lib/python3.10/dist-packages (from torch>=1.0.0->pytorch_transformers) (4.11.0)\n",
            "Requirement already satisfied: sympy in /usr/local/lib/python3.10/dist-packages (from torch>=1.0.0->pytorch_transformers) (1.12)\n",
            "Requirement already satisfied: networkx in /usr/local/lib/python3.10/dist-packages (from torch>=1.0.0->pytorch_transformers) (3.3)\n",
            "Requirement already satisfied: jinja2 in /usr/local/lib/python3.10/dist-packages (from torch>=1.0.0->pytorch_transformers) (3.1.3)\n",
            "Requirement already satisfied: fsspec in /usr/local/lib/python3.10/dist-packages (from torch>=1.0.0->pytorch_transformers) (2023.6.0)\n",
            "Requirement already satisfied: nvidia-cuda-nvrtc-cu12==12.1.105 in /usr/local/lib/python3.10/dist-packages (from torch>=1.0.0->pytorch_transformers) (12.1.105)\n",
            "Requirement already satisfied: nvidia-cuda-runtime-cu12==12.1.105 in /usr/local/lib/python3.10/dist-packages (from torch>=1.0.0->pytorch_transformers) (12.1.105)\n",
            "Requirement already satisfied: nvidia-cuda-cupti-cu12==12.1.105 in /usr/local/lib/python3.10/dist-packages (from torch>=1.0.0->pytorch_transformers) (12.1.105)\n",
            "Requirement already satisfied: nvidia-cudnn-cu12==8.9.2.26 in /usr/local/lib/python3.10/dist-packages (from torch>=1.0.0->pytorch_transformers) (8.9.2.26)\n",
            "Requirement already satisfied: nvidia-cublas-cu12==12.1.3.1 in /usr/local/lib/python3.10/dist-packages (from torch>=1.0.0->pytorch_transformers) (12.1.3.1)\n",
            "Requirement already satisfied: nvidia-cufft-cu12==11.0.2.54 in /usr/local/lib/python3.10/dist-packages (from torch>=1.0.0->pytorch_transformers) (11.0.2.54)\n",
            "Requirement already satisfied: nvidia-curand-cu12==10.3.2.106 in /usr/local/lib/python3.10/dist-packages (from torch>=1.0.0->pytorch_transformers) (10.3.2.106)\n",
            "Requirement already satisfied: nvidia-cusolver-cu12==11.4.5.107 in /usr/local/lib/python3.10/dist-packages (from torch>=1.0.0->pytorch_transformers) (11.4.5.107)\n",
            "Requirement already satisfied: nvidia-cusparse-cu12==12.1.0.106 in /usr/local/lib/python3.10/dist-packages (from torch>=1.0.0->pytorch_transformers) (12.1.0.106)\n",
            "Requirement already satisfied: nvidia-nccl-cu12==2.19.3 in /usr/local/lib/python3.10/dist-packages (from torch>=1.0.0->pytorch_transformers) (2.19.3)\n",
            "Requirement already satisfied: nvidia-nvtx-cu12==12.1.105 in /usr/local/lib/python3.10/dist-packages (from torch>=1.0.0->pytorch_transformers) (12.1.105)\n",
            "Requirement already satisfied: triton==2.2.0 in /usr/local/lib/python3.10/dist-packages (from torch>=1.0.0->pytorch_transformers) (2.2.0)\n",
            "Requirement already satisfied: nvidia-nvjitlink-cu12 in /usr/local/lib/python3.10/dist-packages (from nvidia-cusolver-cu12==11.4.5.107->torch>=1.0.0->pytorch_transformers) (12.4.127)\n",
            "Requirement already satisfied: botocore<1.35.0,>=1.34.100 in /usr/local/lib/python3.10/dist-packages (from boto3->pytorch_transformers) (1.34.100)\n",
            "Requirement already satisfied: jmespath<2.0.0,>=0.7.1 in /usr/local/lib/python3.10/dist-packages (from boto3->pytorch_transformers) (1.0.1)\n",
            "Requirement already satisfied: s3transfer<0.11.0,>=0.10.0 in /usr/local/lib/python3.10/dist-packages (from boto3->pytorch_transformers) (0.10.1)\n",
            "Requirement already satisfied: charset-normalizer<4,>=2 in /usr/local/lib/python3.10/dist-packages (from requests->pytorch_transformers) (3.3.2)\n",
            "Requirement already satisfied: idna<4,>=2.5 in /usr/local/lib/python3.10/dist-packages (from requests->pytorch_transformers) (3.7)\n",
            "Requirement already satisfied: urllib3<3,>=1.21.1 in /usr/local/lib/python3.10/dist-packages (from requests->pytorch_transformers) (2.0.7)\n",
            "Requirement already satisfied: certifi>=2017.4.17 in /usr/local/lib/python3.10/dist-packages (from requests->pytorch_transformers) (2024.2.2)\n",
            "Requirement already satisfied: click in /usr/local/lib/python3.10/dist-packages (from sacremoses->pytorch_transformers) (8.1.7)\n",
            "Requirement already satisfied: joblib in /usr/local/lib/python3.10/dist-packages (from sacremoses->pytorch_transformers) (1.4.2)\n",
            "Requirement already satisfied: python-dateutil<3.0.0,>=2.1 in /usr/local/lib/python3.10/dist-packages (from botocore<1.35.0,>=1.34.100->boto3->pytorch_transformers) (2.8.2)\n",
            "Requirement already satisfied: MarkupSafe>=2.0 in /usr/local/lib/python3.10/dist-packages (from jinja2->torch>=1.0.0->pytorch_transformers) (2.1.5)\n",
            "Requirement already satisfied: mpmath>=0.19 in /usr/local/lib/python3.10/dist-packages (from sympy->torch>=1.0.0->pytorch_transformers) (1.3.0)\n",
            "Requirement already satisfied: six>=1.5 in /usr/local/lib/python3.10/dist-packages (from python-dateutil<3.0.0,>=2.1->botocore<1.35.0,>=1.34.100->boto3->pytorch_transformers) (1.16.0)\n",
            "Requirement already satisfied: pytorch_pretrained_bert in /usr/local/lib/python3.10/dist-packages (0.6.2)\n",
            "Requirement already satisfied: torch>=0.4.1 in /usr/local/lib/python3.10/dist-packages (from pytorch_pretrained_bert) (2.2.1+cu121)\n",
            "Requirement already satisfied: numpy in /usr/local/lib/python3.10/dist-packages (from pytorch_pretrained_bert) (1.25.2)\n",
            "Requirement already satisfied: boto3 in /usr/local/lib/python3.10/dist-packages (from pytorch_pretrained_bert) (1.34.100)\n",
            "Requirement already satisfied: requests in /usr/local/lib/python3.10/dist-packages (from pytorch_pretrained_bert) (2.31.0)\n",
            "Requirement already satisfied: tqdm in /usr/local/lib/python3.10/dist-packages (from pytorch_pretrained_bert) (4.66.4)\n",
            "Requirement already satisfied: regex in /usr/local/lib/python3.10/dist-packages (from pytorch_pretrained_bert) (2023.12.25)\n",
            "Requirement already satisfied: filelock in /usr/local/lib/python3.10/dist-packages (from torch>=0.4.1->pytorch_pretrained_bert) (3.14.0)\n",
            "Requirement already satisfied: typing-extensions>=4.8.0 in /usr/local/lib/python3.10/dist-packages (from torch>=0.4.1->pytorch_pretrained_bert) (4.11.0)\n",
            "Requirement already satisfied: sympy in /usr/local/lib/python3.10/dist-packages (from torch>=0.4.1->pytorch_pretrained_bert) (1.12)\n",
            "Requirement already satisfied: networkx in /usr/local/lib/python3.10/dist-packages (from torch>=0.4.1->pytorch_pretrained_bert) (3.3)\n",
            "Requirement already satisfied: jinja2 in /usr/local/lib/python3.10/dist-packages (from torch>=0.4.1->pytorch_pretrained_bert) (3.1.3)\n",
            "Requirement already satisfied: fsspec in /usr/local/lib/python3.10/dist-packages (from torch>=0.4.1->pytorch_pretrained_bert) (2023.6.0)\n",
            "Requirement already satisfied: nvidia-cuda-nvrtc-cu12==12.1.105 in /usr/local/lib/python3.10/dist-packages (from torch>=0.4.1->pytorch_pretrained_bert) (12.1.105)\n",
            "Requirement already satisfied: nvidia-cuda-runtime-cu12==12.1.105 in /usr/local/lib/python3.10/dist-packages (from torch>=0.4.1->pytorch_pretrained_bert) (12.1.105)\n",
            "Requirement already satisfied: nvidia-cuda-cupti-cu12==12.1.105 in /usr/local/lib/python3.10/dist-packages (from torch>=0.4.1->pytorch_pretrained_bert) (12.1.105)\n",
            "Requirement already satisfied: nvidia-cudnn-cu12==8.9.2.26 in /usr/local/lib/python3.10/dist-packages (from torch>=0.4.1->pytorch_pretrained_bert) (8.9.2.26)\n",
            "Requirement already satisfied: nvidia-cublas-cu12==12.1.3.1 in /usr/local/lib/python3.10/dist-packages (from torch>=0.4.1->pytorch_pretrained_bert) (12.1.3.1)\n",
            "Requirement already satisfied: nvidia-cufft-cu12==11.0.2.54 in /usr/local/lib/python3.10/dist-packages (from torch>=0.4.1->pytorch_pretrained_bert) (11.0.2.54)\n",
            "Requirement already satisfied: nvidia-curand-cu12==10.3.2.106 in /usr/local/lib/python3.10/dist-packages (from torch>=0.4.1->pytorch_pretrained_bert) (10.3.2.106)\n",
            "Requirement already satisfied: nvidia-cusolver-cu12==11.4.5.107 in /usr/local/lib/python3.10/dist-packages (from torch>=0.4.1->pytorch_pretrained_bert) (11.4.5.107)\n",
            "Requirement already satisfied: nvidia-cusparse-cu12==12.1.0.106 in /usr/local/lib/python3.10/dist-packages (from torch>=0.4.1->pytorch_pretrained_bert) (12.1.0.106)\n",
            "Requirement already satisfied: nvidia-nccl-cu12==2.19.3 in /usr/local/lib/python3.10/dist-packages (from torch>=0.4.1->pytorch_pretrained_bert) (2.19.3)\n",
            "Requirement already satisfied: nvidia-nvtx-cu12==12.1.105 in /usr/local/lib/python3.10/dist-packages (from torch>=0.4.1->pytorch_pretrained_bert) (12.1.105)\n",
            "Requirement already satisfied: triton==2.2.0 in /usr/local/lib/python3.10/dist-packages (from torch>=0.4.1->pytorch_pretrained_bert) (2.2.0)\n",
            "Requirement already satisfied: nvidia-nvjitlink-cu12 in /usr/local/lib/python3.10/dist-packages (from nvidia-cusolver-cu12==11.4.5.107->torch>=0.4.1->pytorch_pretrained_bert) (12.4.127)\n",
            "Requirement already satisfied: botocore<1.35.0,>=1.34.100 in /usr/local/lib/python3.10/dist-packages (from boto3->pytorch_pretrained_bert) (1.34.100)\n",
            "Requirement already satisfied: jmespath<2.0.0,>=0.7.1 in /usr/local/lib/python3.10/dist-packages (from boto3->pytorch_pretrained_bert) (1.0.1)\n",
            "Requirement already satisfied: s3transfer<0.11.0,>=0.10.0 in /usr/local/lib/python3.10/dist-packages (from boto3->pytorch_pretrained_bert) (0.10.1)\n",
            "Requirement already satisfied: charset-normalizer<4,>=2 in /usr/local/lib/python3.10/dist-packages (from requests->pytorch_pretrained_bert) (3.3.2)\n",
            "Requirement already satisfied: idna<4,>=2.5 in /usr/local/lib/python3.10/dist-packages (from requests->pytorch_pretrained_bert) (3.7)\n",
            "Requirement already satisfied: urllib3<3,>=1.21.1 in /usr/local/lib/python3.10/dist-packages (from requests->pytorch_pretrained_bert) (2.0.7)\n",
            "Requirement already satisfied: certifi>=2017.4.17 in /usr/local/lib/python3.10/dist-packages (from requests->pytorch_pretrained_bert) (2024.2.2)\n",
            "Requirement already satisfied: python-dateutil<3.0.0,>=2.1 in /usr/local/lib/python3.10/dist-packages (from botocore<1.35.0,>=1.34.100->boto3->pytorch_pretrained_bert) (2.8.2)\n",
            "Requirement already satisfied: MarkupSafe>=2.0 in /usr/local/lib/python3.10/dist-packages (from jinja2->torch>=0.4.1->pytorch_pretrained_bert) (2.1.5)\n",
            "Requirement already satisfied: mpmath>=0.19 in /usr/local/lib/python3.10/dist-packages (from sympy->torch>=0.4.1->pytorch_pretrained_bert) (1.3.0)\n",
            "Requirement already satisfied: six>=1.5 in /usr/local/lib/python3.10/dist-packages (from python-dateutil<3.0.0,>=2.1->botocore<1.35.0,>=1.34.100->boto3->pytorch_pretrained_bert) (1.16.0)\n",
            "Requirement already satisfied: dotmap in /usr/local/lib/python3.10/dist-packages (1.3.30)\n",
            "in the modeling class\n",
            "05/07/2024 22:09:26 - INFO - numexpr.utils -   NumExpr defaulting to 8 threads.\n",
            "New Job Start!\n",
            "Data directory: ./DATA/readmission/, Directory Code: ./DATA/readmission/, Save Model: True\n",
            "Output_dir: ./exp_LSTM, Task Name: LSTM_Prediction, embed_mode: all\n",
            "max_seq_length: 128,  max_chunk_num: 32\n",
            "train_batch_size: 32, eval_batch_size: 1\n",
            "learning_rate: 2e-05, warmup_proportion: 0.1 \n",
            "num_train_epochs: 3, seed: 42, gradient_accumulation_steps: 1\n",
            "LSTM Model's lstm_layers: 1\n",
            "config setting: \n",
            "hidden_dropout_prob: 0.1 \n",
            "initializer_range: 0.02 \n",
            "max_note_position_embedding: 1000 \n",
            "max_chunk_position_embedding: 1000 \n",
            "embed_mode: all \n",
            "layer_norm_eps: 1e-12 \n",
            "hidden_size: 768 \n",
            "lstm_layers: 1 \n",
            "task_name: LSTM_Prediction \n",
            "\n",
            "Number of GPU is 1\n",
            "Device Name: Tesla T4,Device Capability: (7, 5)\n",
            "05/07/2024 22:09:48 - INFO - pytorch_transformers.tokenization_utils -   Model name './pretraining/' not found in model shortcut name list (bert-base-uncased, bert-large-uncased, bert-base-cased, bert-large-cased, bert-base-multilingual-uncased, bert-base-multilingual-cased, bert-base-chinese, bert-base-german-cased, bert-large-uncased-whole-word-masking, bert-large-cased-whole-word-masking, bert-large-uncased-whole-word-masking-finetuned-squad, bert-large-cased-whole-word-masking-finetuned-squad, bert-base-cased-finetuned-mrpc). Assuming './pretraining/' is a path or url to a directory containing tokenizer files.\n",
            "05/07/2024 22:09:48 - INFO - pytorch_transformers.tokenization_utils -   Didn't find file ./pretraining/added_tokens.json. We won't load it.\n",
            "05/07/2024 22:09:48 - INFO - pytorch_transformers.tokenization_utils -   Didn't find file ./pretraining/special_tokens_map.json. We won't load it.\n",
            "05/07/2024 22:09:48 - INFO - pytorch_transformers.tokenization_utils -   Didn't find file ./pretraining/tokenizer_config.json. We won't load it.\n",
            "05/07/2024 22:09:48 - INFO - pytorch_transformers.tokenization_utils -   loading file ./pretraining/vocab.txt\n",
            "05/07/2024 22:09:48 - INFO - pytorch_transformers.tokenization_utils -   loading file None\n",
            "05/07/2024 22:09:48 - INFO - pytorch_transformers.tokenization_utils -   loading file None\n",
            "05/07/2024 22:09:48 - INFO - pytorch_transformers.tokenization_utils -   loading file None\n",
            "Tokenize Start!\n",
            "First sentence tokenized\n",
            "['[CLS]', '11', ':', '05', 'pm', 'chest', '(', 'pa', '&', 'la', '##t', ')', 'clip', '#', 'reason', ':', '?', 'p', '##na', 'medical', 'condition', ':', '58', 'year', 'old', 'man', 'with', 'am', '##s', 'reason', 'for', 'this', 'examination', ':', '?', 'p', '##na', 'final', 'report', 'history', ':', '58', '-', 'year', '-', 'old', 'male', 'with', 'altered', 'mental', 'status', ',', 'here', 'to', 'evaluate', 'for', 'pneumonia', '.', 'comparison', ':', 'multiple', 'prior', 'studies', 'including', ',', ',', 'and', 'through', '.', 'chest', 'radio', '##graph', ',', 'ap', 'erect', 'and', 'lateral', 'views', 'in', 'stretch', '##er', ':', 'ex', '##agger', '##ation', 'of', 'the', 'card', '##iom', '##ed', '##ias', '##tina', '##l', 'con', '##tour', '##s', 'may', 'be', 'due', 'to', 'decreased', 'inspiration', 'and', 'portable', 'technique', '.', 'there', 'may', 'be', 'mild', 'vascular', 'congestion', 'but', 'without', 'evidence', 'of', 'pulmonary', 'ed', '##ema', '.', 'no', 'p', '##ne', '##um', '##otho', '##ra', '##x', 'or', 'large', 'pl', '##eur', '##al', 'e', '##ff', '##usion', 'is', 'seen', '.', 'patch', '##y', 'op', '##ac', '##ity', 'in', 'the', 'left', 'lung', 'base', 'could', 'represent', 'a', 'focus', 'of', 'ate', '##le', '##cta', '##sis', ',', 'as', '##piration', ',', 'or', 'developing', 'pneumonia', '.', 'de', '##gen', '##erative', 'changes', 'are', 'noted', 'in', 'the', 'visual', '##ized', 'spine', '.', 'there', 'is', 'also', 'mild', 'loss', 'of', 've', '##rte', '##bra', '##l', 'body', 'height', 'in', 'one', 'of', 'the', 'mid', 'to', 'lower', 've', '##rte', '##bra', '##l', 'level', ',', 'which', 'appears', 'unchanged', 'from', 'the', 'only', 'available', 'lateral', 'view', 'from', 'where', 'this', 've', '##rte', '##bra', '##l', 'body', 'is', 'not', 'well', 'assessed', '.', 'impression', ':', 'patch', '##y', 'op', '##ac', '##ity', 'in', 'the', 'left', 'lung', 'base', 'sub', '##op', '##ti', '##mal', '##ly', 'assessed', 'due', 'to', 'h', '##yp', '##oin', '##fl', '##ation', 'of', 'the', 'lungs', 'and', 'portable', 'technique', '.', 'this', 'could', 'represent', 'ate', '##le', '##cta', '##sis', ',', 'as', '##piration', 'or', 'focus', 'of', 'pneumonia', '.', 'if', 'possible', ',', 'repeat', 'pa', 'and', 'lateral', 'radio', '##graphs', 'with', 'improved', 'inspiration', 'may', 'help', 'better', 'define', 'this', 'left', 'basil', '##ar', 'op', '##ac', '##ity', '.', '[SEP]']\n",
            "First sentence tokenized\n",
            "['[CLS]', '5', ':', '22', 'pm', 'ct', 'abd', '&', 'pe', '##lvis', 'w', '/', 'o', 'contrast', 'clip', '#', 'reason', ':', 'eva', '##l', 'coli', '##tis', ',', 'abs', '##ces', '##s', ',', 'app', '##y', 'medical', 'condition', ':', '38', 'year', 'old', 'woman', 'with', 'cr', '##f', ',', 'h', '/', 'o', 'all', 's', '/', 'p', 'b', '##mt', 'p', '/', 'w', 'abdominal', 'pain', ',', 'vomiting', 'reason', 'for', 'this', 'examination', ':', 'eva', '##l', 'coli', '##tis', ',', 'abs', '##ces', '##s', ',', 'app', '##y', 'no', 'contra', '##ind', '##ication', '##s', 'for', 'iv', 'contrast', 'wet', 'read', ':', 'ip', '##f', 'mon', '6', ':', '25', 'pm', 'right', 'pl', '##eur', '##al', 'e', '##ff', '##usion', '.', 'ac', '##sit', '##es', ',', 'with', 'interval', 'increase', '.', 'gall', '##bla', '##dder', 'sl', '##udge', '.', 'small', 'um', '##bil', '##ical', 'her', '##nia', ';', 'interval', 'increase', 'in', 'size', 'and', 'mild', 'fat', 'strand', '##ing', 'co', '##rre', '##late', 'with', 'point', 'tenderness', '.', 'sub', '##op', '##ti', '##mal', 'scan', 'due', 'to', 'lack', 'of', 'iv', 'and', 'oral', 'contrast', '.', 'no', 'drain', '##able', 'fluid', 'collection', 'is', 'seen', '.', 'divert', '##ic', '##ulo', '##sis', '.', 'small', 'app', '##end', '##ico', '##lit', '##h', ';', 'however', 'appendix', 'with', 'air', 'in', 'lu', '##men', 'and', 'normal', 'in', 'size', '.', 'ana', '##sar', '##ca', '.', 'final', 'report', 'history', ':', '38', '-', 'year', '-', 'old', 'woman', 'with', 'chronic', 'renal', 'failure', 'and', 'history', 'of', 'all', 'status', 'post', 'b', '##mt', ',', 'presents', 'with', 'abdominal', 'pain', 'and', 'vomiting', '.', 'technique', ':', 'ct', 'abdomen', 'and', 'pe', '##lvis', 'without', 'iv', 'or', 'oral', 'contrast', '.', 'corona', '##l', 'and', 'sa', '##git', '##tal', 'reform', '##att', '##ed', 'images', 'provided', '.', 'comparison', ':', 'ct', 'torso', '.', 'findings', ':', 'there', 'is', 'a', 'small', '-', 'to', '-', 'moderate', 'right', 'pl', '##eur', '##al', 'e', '##ff', '##usion', ',', 'smaller', 'in', 'size', 'compared', 'to', 'last', 'ct', 'torso', '.', 'there', 'is', 'a', 'small', 'per', '##ica', '##rdial', 'e', '##ff', '##usion', '.', 'study', 'is', 'sub', '##op', '##ti', '##mal', 'for', 'evaluation', 'of', 'solid', 'organs', 'due', 'to', 'lack', 'of', 'iv', 'contrast', '.', 'with', 'this', 'limitation', 'in', 'mind', ',', 'there', 'is', 'no', 'extra', '-', 'or', 'intra', '-', 'he', '##pati', '##c', 'bi', '##lia', '##ry', 'duct', 'dil', '##ata', '##tion', '.', 'previously', 'described', 'presumably', 'focal', 'nod', '##ular', 'hyper', '##pl', '##asia', 'in', 'segment', 'vi', 'of', 'the', 'liver', 'is', 'not', 'clearly', 'visual', '##ized', 'on', 'a', 'non', '-', 'contrast', 'ct', '.', 'there', 'is', 'a', 'presumably', 'gall', '##bla', '##dder', 'wall', 'ed', '##ema', 'from', 'third', 'spa', '##cing', 'with', 'moderate', 'amount', 'of', 'as', '##cite', '##s', '.', 'there', 'is', 'likely', 'gall', '##bla', '##dder', 'sl', '##udge', '.', 'pan', '##cre', '##as', 'and', 'bilateral', 'ad', '##ren', '##al', 'glands', 'are', 'within', 'normal', 'limits', 'considering', 'the', 'limitation', 'of', 'no', 'contrast', 'administration', '.', 'there', 'is', 'interval', 'increase', 'in', 'size', 'of', 'a', 'fat', '-', 'containing', 'um', '##bil', '##ical', 'her', '##nia', 'measuring', '2', 'cm', 'in', 'transverse', 'dimension', 'with', 'mild', 'fat', 'strand', '##ing', '(', '2', ':', '50', ')', ',', 'co', '##rre', '##late', 'with', 'point', 'tenderness', '/', 'physical', 'exam', '.', 'the', 'appendix', 'is', 'not', 'dil', '##ated', '(', '2', ':', '49', ')', ',', 'contains', 'air', 'and', 'there', 'is', 'a', 'likely', 'small', 'app', '##end', '##ico', '##lit', '##h', '(', '2', ':', '53', ')', '.', 'there', 'is', 'no', 'bow', '##el', 'obstruction', '.', 'there', 'is', 'no', 'evidence', 'of', 'colon', '##ic', 'wall', 'thick', '##ening', ',', 'although', 'evaluation', 'is', 'sub', '##op', '##ti', '##mal', 'given', 'lack', 'of', 'iv', 'or', 'po', 'contrast', 'and', 'adjacent', 'as', '##cite', '##s', '.', '.', 'the', 'kidney', '##s', 'are', 'normal', 'in', 'size', '.', 'there', 'is', 'no', 'evidence', 'of', 'hydro', '##ne', '##ph', '##rosis', '.', 'due', 'to', 'lack', 'of', 'oral', 'contrast', ',', 'evaluation', 'for', 'me', '##sen', '##ter', '##ic', 'l', '##ym', '##ph', 'nodes', 'is', 'sub', '##op', '##ti', '##mal', '.', 'there', 'are', 'scattered', 'l', '##ym', '##ph', 'nodes', 'in', 'the', 'retro', '##per', '##ito', '##ne', '##um', ',', 'however', ',', 'do', 'not', 'meet', 'the', 'ct', 'criteria', 'for', 'path', '##olo', '##gic', 'en', '##lar', '##gement', '.', '(', 'over', ')', '5', ':', '22', 'pm', 'ct', 'abd', '&', 'pe', '##lvis', 'w', '/', 'o', 'contrast', 'clip', '#', 'reason', ':', 'eva', '##l', 'coli', '##tis', ',', 'abs', '##ces', '##s', ',', 'app', '##y', 'final', 'report', '(', 'con', '##t', ')', 'ct', 'pe', '##lvis', ':', 'there', 'is', 'free', 'fluid', 'in', 'the', 'pe', '##lvis', '-', 'as', '##cite', '##s', '.', 'the', 'ut', '##erus', 'and', 'ur', '##ina', '##ry', 'bladder', 'appear', 'normal', '.', 'the', 'rec', '##tum', 'and', 'si', '##gm', '##oid', 'have', 'scattered', 'divert', '##ic', '##ula', ';', 'however', ',', 'no', 'evidence', 'of', 'divert', '##ic', '##uli', '##tis', '.', 'os', '##se', '##ous', 'structures', ':', 'no', 'suspicious', 'l', '##ytic', 'or', 'sc', '##ler', '##otic', 'les', '##ion', '.', 'there', 'is', 'soft', 'tissue', 'strand', '##ing', 'suggesting', 'ana', '##sar', '##ca', '.', 'impression', ':', 'mild', '-', 'to', '-', 'moderate', 'right', 'pl', '##eur', '##al', 'e', '##ff', '##usion', ';', 'however', ',', 'interval', 'decrease', 'in', 'size', 'compared', 'to', 'prior', '.', 'moderate', 'as', '##cite', '##s', 'with', 'interval', 'increase', '.', 'no', 'drain', '##able', 'fluid', 'collection', ',', 'however', ',', 'evaluation', 'is', 'sub', '##op', '##ti', '##mal', 'due', 'to', 'lack', 'of', 'iv', 'and', 'oral', 'contrast', '.', 'divert', '##ic', '##ulo', '##sis', '.', 'interval', 'increase', 'in', 'size', 'of', 'a', 'small', 'fat', '-', 'containing', 'um', '##bil', '##ical', 'her', '##nia', 'with', 'mild', 'fat', 'strand', '##ing', ',', 'co', '##rre', '##late', 'with', 'point', 'tenderness', '.', 'no', 'bow', '##el', 'obstruction', '.', 'no', 'definite', 'bow', '##el', 'wall', 'thick', '##ening', ',', 'although', 'the', 'examination', 'is', 'sub', '##op', '##ti', '##mal', 'for', 'such', '.', 'per', '##ica', '##rdial', 'e', '##ff', '##usion', ',', 'similar', 'to', 'prior', '.', 'note', ':', 'please', 'note', 'that', 'evaluation', 'for', 'me', '##sen', '##ter', '##ic', 'l', '##ym', '##ph', 'nodes', 'is', 'sub', '##op', '##ti', '##mal', 'due', 'to', 'lack', 'of', 'iv', 'and', 'oral', 'contrast', '.', 'additionally', ',', 'evaluation', 'of', 'solid', 'organs', 'and', 'evaluation', 'for', 'fluid', 'collection', 'is', 'sub', '##op', '##ti', '##mal', 'due', 'to', 'lack', 'of', 'iv', 'contrast', '.', '[SEP]']\n",
            "First sentence tokenized\n",
            "['[CLS]', '5', ':', '19', 'am', 'chest', '(', 'pre', '-', 'op', 'pa', '&', 'la', '##t', ')', 'clip', '#', 'reason', ':', 'pre', 'op', 'film', 'medical', 'condition', ':', '45', 'year', 'old', 'man', 'with', 'liver', 'ci', '##rr', '##hosis', 'reason', 'for', 'this', 'examination', ':', 'pre', 'op', 'film', 'wet', 'read', ':', 'ip', '##f', 'tu', '##e', '5', ':', '53', 'am', 'no', 'pneumonia', '.', 'small', 'left', 'pl', '##eur', '##al', 'e', '##ff', '##usion', '.', 'stable', 'vascular', 'redistribution', '.', 'final', 'report', 'history', ':', 'a', '45', '-', 'year', '-', 'old', 'man', 'with', 'liver', 'ci', '##rr', '##hosis', '.', 'pre', '##oper', '##ative', 'films', 'for', 'liver', 'transplant', '.', 'technique', ':', 'pa', 'and', 'lateral', 'chest', 'radio', '##graphs', '.', 'comparison', ':', 'compared', 'to', 'radio', '##graph', 'from', '.', 'findings', ':', 'heart', 'size', 'is', 'moderately', 'enlarged', ',', 'similar', 'to', 'prior', 'study', '.', 'there', 'is', 'mild', 'pulmonary', 'vascular', 'redistribution', '.', 'there', 'is', 'stable', 'small', 'left', 'pl', '##eur', '##al', 'e', '##ff', '##usion', '.', 'interval', 'removal', 'of', 'right', 'pic', '##c', 'line', '.', 'impression', ':', 'card', '##iom', '##ega', '##ly', '.', 'no', 'pneumonia', '.', 'small', 'left', 'pl', '##eur', '##al', 'e', '##ff', '##usion', '.', '[SEP]']\n",
            "Tokenize Finished!\n",
            "train dataset size is 108229,\n",
            "validation dataset size is 13347,\n",
            "test dataset size is 15153\n",
            "05/07/2024 22:21:37 - INFO - modeling_readmission -   loading archive file ./pretraining/\n",
            "05/07/2024 22:21:38 - INFO - modeling_readmission -   Model config {\n",
            "  \"attention_probs_dropout_prob\": 0.1,\n",
            "  \"hidden_act\": \"gelu\",\n",
            "  \"hidden_dropout_prob\": 0.1,\n",
            "  \"hidden_size\": 768,\n",
            "  \"initializer_range\": 0.02,\n",
            "  \"intermediate_size\": 3072,\n",
            "  \"max_position_embeddings\": 512,\n",
            "  \"num_attention_heads\": 12,\n",
            "  \"num_hidden_layers\": 12,\n",
            "  \"type_vocab_size\": 2,\n",
            "  \"vocab_size\": 30522\n",
            "}\n",
            "\n",
            "Training start!\n",
            "Epoch:   0% 0/3 [00:00<?, ?it/s]/usr/local/lib/python3.10/dist-packages/pytorch_pretrained_bert/optimization.py:275: UserWarning: This overload of add_ is deprecated:\n",
            "\tadd_(Number alpha, Tensor other)\n",
            "Consider using one of the following signatures instead:\n",
            "\tadd_(Tensor other, *, Number alpha) (Triggered internally at ../torch/csrc/utils/python_arg_parser.cpp:1630.)\n",
            "  next_m.mul_(beta1).add_(1 - beta1, grad)\n",
            "Train loss: 0.6878705599159002\n",
            "Validation Accuracy: 0.58\n",
            "Epoch:  33% 1/3 [37:07<1:14:15, 2227.64s/it]Train loss: 0.6691202998720109\n",
            "Validation Accuracy: 0.5875\n",
            "Epoch:  67% 2/3 [1:14:08<37:03, 2223.73s/it]Train loss: 0.6334360995562747\n",
            "Validation Accuracy: 0.5525\n",
            "Epoch: 100% 3/3 [1:51:02<00:00, 2220.83s/it]\n",
            "total training time is: 6662.485282659531s\n",
            "Model saved!\n",
            "Test Patient Level Accuracy: 0.5775\n",
            "Test Patient Level F1 Score: 0.6442105263157896\n",
            "Test Patient Level Precision: 0.5563636363636364\n",
            "Test Patient Level Recall: 0.765\n",
            "Test Patient Level AUC: 0.6080749999999999 \n",
            "Test Patient Level Matthew's correlation coefficient: 0.16720156589088403\n",
            "Test Patient Level AUPR: 0.5825588122450577 \n",
            "All Finished!\n"
          ]
        }
      ]
    },
    {
      "cell_type": "markdown",
      "metadata": {
        "id": "IaFTaBt_2mVR"
      },
      "source": [
        "#### FTL-Trans readmission prediction (with time info)\n",
        "\n",
        "This model is the one we are tring to replicate."
      ]
    },
    {
      "cell_type": "code",
      "execution_count": null,
      "metadata": {
        "id": "4HcO6S3D2uu7",
        "colab": {
          "base_uri": "https://localhost:8080/"
        },
        "outputId": "5a734d75-21b1-44d8-ec42-aea018e08a0f"
      },
      "outputs": [
        {
          "output_type": "stream",
          "name": "stdout",
          "text": [
            "Requirement already satisfied: pytorch_transformers in /usr/local/lib/python3.10/dist-packages (1.2.0)\n",
            "Requirement already satisfied: torch>=1.0.0 in /usr/local/lib/python3.10/dist-packages (from pytorch_transformers) (2.2.1+cu121)\n",
            "Requirement already satisfied: numpy in /usr/local/lib/python3.10/dist-packages (from pytorch_transformers) (1.25.2)\n",
            "Requirement already satisfied: boto3 in /usr/local/lib/python3.10/dist-packages (from pytorch_transformers) (1.34.99)\n",
            "Requirement already satisfied: requests in /usr/local/lib/python3.10/dist-packages (from pytorch_transformers) (2.31.0)\n",
            "Requirement already satisfied: tqdm in /usr/local/lib/python3.10/dist-packages (from pytorch_transformers) (4.66.4)\n",
            "Requirement already satisfied: regex in /usr/local/lib/python3.10/dist-packages (from pytorch_transformers) (2023.12.25)\n",
            "Requirement already satisfied: sentencepiece in /usr/local/lib/python3.10/dist-packages (from pytorch_transformers) (0.1.99)\n",
            "Requirement already satisfied: sacremoses in /usr/local/lib/python3.10/dist-packages (from pytorch_transformers) (0.1.1)\n",
            "Requirement already satisfied: filelock in /usr/local/lib/python3.10/dist-packages (from torch>=1.0.0->pytorch_transformers) (3.14.0)\n",
            "Requirement already satisfied: typing-extensions>=4.8.0 in /usr/local/lib/python3.10/dist-packages (from torch>=1.0.0->pytorch_transformers) (4.11.0)\n",
            "Requirement already satisfied: sympy in /usr/local/lib/python3.10/dist-packages (from torch>=1.0.0->pytorch_transformers) (1.12)\n",
            "Requirement already satisfied: networkx in /usr/local/lib/python3.10/dist-packages (from torch>=1.0.0->pytorch_transformers) (3.3)\n",
            "Requirement already satisfied: jinja2 in /usr/local/lib/python3.10/dist-packages (from torch>=1.0.0->pytorch_transformers) (3.1.3)\n",
            "Requirement already satisfied: fsspec in /usr/local/lib/python3.10/dist-packages (from torch>=1.0.0->pytorch_transformers) (2023.6.0)\n",
            "Requirement already satisfied: nvidia-cuda-nvrtc-cu12==12.1.105 in /usr/local/lib/python3.10/dist-packages (from torch>=1.0.0->pytorch_transformers) (12.1.105)\n",
            "Requirement already satisfied: nvidia-cuda-runtime-cu12==12.1.105 in /usr/local/lib/python3.10/dist-packages (from torch>=1.0.0->pytorch_transformers) (12.1.105)\n",
            "Requirement already satisfied: nvidia-cuda-cupti-cu12==12.1.105 in /usr/local/lib/python3.10/dist-packages (from torch>=1.0.0->pytorch_transformers) (12.1.105)\n",
            "Requirement already satisfied: nvidia-cudnn-cu12==8.9.2.26 in /usr/local/lib/python3.10/dist-packages (from torch>=1.0.0->pytorch_transformers) (8.9.2.26)\n",
            "Requirement already satisfied: nvidia-cublas-cu12==12.1.3.1 in /usr/local/lib/python3.10/dist-packages (from torch>=1.0.0->pytorch_transformers) (12.1.3.1)\n",
            "Requirement already satisfied: nvidia-cufft-cu12==11.0.2.54 in /usr/local/lib/python3.10/dist-packages (from torch>=1.0.0->pytorch_transformers) (11.0.2.54)\n",
            "Requirement already satisfied: nvidia-curand-cu12==10.3.2.106 in /usr/local/lib/python3.10/dist-packages (from torch>=1.0.0->pytorch_transformers) (10.3.2.106)\n",
            "Requirement already satisfied: nvidia-cusolver-cu12==11.4.5.107 in /usr/local/lib/python3.10/dist-packages (from torch>=1.0.0->pytorch_transformers) (11.4.5.107)\n",
            "Requirement already satisfied: nvidia-cusparse-cu12==12.1.0.106 in /usr/local/lib/python3.10/dist-packages (from torch>=1.0.0->pytorch_transformers) (12.1.0.106)\n",
            "Requirement already satisfied: nvidia-nccl-cu12==2.19.3 in /usr/local/lib/python3.10/dist-packages (from torch>=1.0.0->pytorch_transformers) (2.19.3)\n",
            "Requirement already satisfied: nvidia-nvtx-cu12==12.1.105 in /usr/local/lib/python3.10/dist-packages (from torch>=1.0.0->pytorch_transformers) (12.1.105)\n",
            "Requirement already satisfied: triton==2.2.0 in /usr/local/lib/python3.10/dist-packages (from torch>=1.0.0->pytorch_transformers) (2.2.0)\n",
            "Requirement already satisfied: nvidia-nvjitlink-cu12 in /usr/local/lib/python3.10/dist-packages (from nvidia-cusolver-cu12==11.4.5.107->torch>=1.0.0->pytorch_transformers) (12.4.127)\n",
            "Requirement already satisfied: botocore<1.35.0,>=1.34.99 in /usr/local/lib/python3.10/dist-packages (from boto3->pytorch_transformers) (1.34.99)\n",
            "Requirement already satisfied: jmespath<2.0.0,>=0.7.1 in /usr/local/lib/python3.10/dist-packages (from boto3->pytorch_transformers) (1.0.1)\n",
            "Requirement already satisfied: s3transfer<0.11.0,>=0.10.0 in /usr/local/lib/python3.10/dist-packages (from boto3->pytorch_transformers) (0.10.1)\n",
            "Requirement already satisfied: charset-normalizer<4,>=2 in /usr/local/lib/python3.10/dist-packages (from requests->pytorch_transformers) (3.3.2)\n",
            "Requirement already satisfied: idna<4,>=2.5 in /usr/local/lib/python3.10/dist-packages (from requests->pytorch_transformers) (3.7)\n",
            "Requirement already satisfied: urllib3<3,>=1.21.1 in /usr/local/lib/python3.10/dist-packages (from requests->pytorch_transformers) (2.0.7)\n",
            "Requirement already satisfied: certifi>=2017.4.17 in /usr/local/lib/python3.10/dist-packages (from requests->pytorch_transformers) (2024.2.2)\n",
            "Requirement already satisfied: click in /usr/local/lib/python3.10/dist-packages (from sacremoses->pytorch_transformers) (8.1.7)\n",
            "Requirement already satisfied: joblib in /usr/local/lib/python3.10/dist-packages (from sacremoses->pytorch_transformers) (1.4.2)\n",
            "Requirement already satisfied: python-dateutil<3.0.0,>=2.1 in /usr/local/lib/python3.10/dist-packages (from botocore<1.35.0,>=1.34.99->boto3->pytorch_transformers) (2.8.2)\n",
            "Requirement already satisfied: MarkupSafe>=2.0 in /usr/local/lib/python3.10/dist-packages (from jinja2->torch>=1.0.0->pytorch_transformers) (2.1.5)\n",
            "Requirement already satisfied: mpmath>=0.19 in /usr/local/lib/python3.10/dist-packages (from sympy->torch>=1.0.0->pytorch_transformers) (1.3.0)\n",
            "Requirement already satisfied: six>=1.5 in /usr/local/lib/python3.10/dist-packages (from python-dateutil<3.0.0,>=2.1->botocore<1.35.0,>=1.34.99->boto3->pytorch_transformers) (1.16.0)\n",
            "Requirement already satisfied: pytorch_pretrained_bert in /usr/local/lib/python3.10/dist-packages (0.6.2)\n",
            "Requirement already satisfied: torch>=0.4.1 in /usr/local/lib/python3.10/dist-packages (from pytorch_pretrained_bert) (2.2.1+cu121)\n",
            "Requirement already satisfied: numpy in /usr/local/lib/python3.10/dist-packages (from pytorch_pretrained_bert) (1.25.2)\n",
            "Requirement already satisfied: boto3 in /usr/local/lib/python3.10/dist-packages (from pytorch_pretrained_bert) (1.34.99)\n",
            "Requirement already satisfied: requests in /usr/local/lib/python3.10/dist-packages (from pytorch_pretrained_bert) (2.31.0)\n",
            "Requirement already satisfied: tqdm in /usr/local/lib/python3.10/dist-packages (from pytorch_pretrained_bert) (4.66.4)\n",
            "Requirement already satisfied: regex in /usr/local/lib/python3.10/dist-packages (from pytorch_pretrained_bert) (2023.12.25)\n",
            "Requirement already satisfied: filelock in /usr/local/lib/python3.10/dist-packages (from torch>=0.4.1->pytorch_pretrained_bert) (3.14.0)\n",
            "Requirement already satisfied: typing-extensions>=4.8.0 in /usr/local/lib/python3.10/dist-packages (from torch>=0.4.1->pytorch_pretrained_bert) (4.11.0)\n",
            "Requirement already satisfied: sympy in /usr/local/lib/python3.10/dist-packages (from torch>=0.4.1->pytorch_pretrained_bert) (1.12)\n",
            "Requirement already satisfied: networkx in /usr/local/lib/python3.10/dist-packages (from torch>=0.4.1->pytorch_pretrained_bert) (3.3)\n",
            "Requirement already satisfied: jinja2 in /usr/local/lib/python3.10/dist-packages (from torch>=0.4.1->pytorch_pretrained_bert) (3.1.3)\n",
            "Requirement already satisfied: fsspec in /usr/local/lib/python3.10/dist-packages (from torch>=0.4.1->pytorch_pretrained_bert) (2023.6.0)\n",
            "Requirement already satisfied: nvidia-cuda-nvrtc-cu12==12.1.105 in /usr/local/lib/python3.10/dist-packages (from torch>=0.4.1->pytorch_pretrained_bert) (12.1.105)\n",
            "Requirement already satisfied: nvidia-cuda-runtime-cu12==12.1.105 in /usr/local/lib/python3.10/dist-packages (from torch>=0.4.1->pytorch_pretrained_bert) (12.1.105)\n",
            "Requirement already satisfied: nvidia-cuda-cupti-cu12==12.1.105 in /usr/local/lib/python3.10/dist-packages (from torch>=0.4.1->pytorch_pretrained_bert) (12.1.105)\n",
            "Requirement already satisfied: nvidia-cudnn-cu12==8.9.2.26 in /usr/local/lib/python3.10/dist-packages (from torch>=0.4.1->pytorch_pretrained_bert) (8.9.2.26)\n",
            "Requirement already satisfied: nvidia-cublas-cu12==12.1.3.1 in /usr/local/lib/python3.10/dist-packages (from torch>=0.4.1->pytorch_pretrained_bert) (12.1.3.1)\n",
            "Requirement already satisfied: nvidia-cufft-cu12==11.0.2.54 in /usr/local/lib/python3.10/dist-packages (from torch>=0.4.1->pytorch_pretrained_bert) (11.0.2.54)\n",
            "Requirement already satisfied: nvidia-curand-cu12==10.3.2.106 in /usr/local/lib/python3.10/dist-packages (from torch>=0.4.1->pytorch_pretrained_bert) (10.3.2.106)\n",
            "Requirement already satisfied: nvidia-cusolver-cu12==11.4.5.107 in /usr/local/lib/python3.10/dist-packages (from torch>=0.4.1->pytorch_pretrained_bert) (11.4.5.107)\n",
            "Requirement already satisfied: nvidia-cusparse-cu12==12.1.0.106 in /usr/local/lib/python3.10/dist-packages (from torch>=0.4.1->pytorch_pretrained_bert) (12.1.0.106)\n",
            "Requirement already satisfied: nvidia-nccl-cu12==2.19.3 in /usr/local/lib/python3.10/dist-packages (from torch>=0.4.1->pytorch_pretrained_bert) (2.19.3)\n",
            "Requirement already satisfied: nvidia-nvtx-cu12==12.1.105 in /usr/local/lib/python3.10/dist-packages (from torch>=0.4.1->pytorch_pretrained_bert) (12.1.105)\n",
            "Requirement already satisfied: triton==2.2.0 in /usr/local/lib/python3.10/dist-packages (from torch>=0.4.1->pytorch_pretrained_bert) (2.2.0)\n",
            "Requirement already satisfied: nvidia-nvjitlink-cu12 in /usr/local/lib/python3.10/dist-packages (from nvidia-cusolver-cu12==11.4.5.107->torch>=0.4.1->pytorch_pretrained_bert) (12.4.127)\n",
            "Requirement already satisfied: botocore<1.35.0,>=1.34.99 in /usr/local/lib/python3.10/dist-packages (from boto3->pytorch_pretrained_bert) (1.34.99)\n",
            "Requirement already satisfied: jmespath<2.0.0,>=0.7.1 in /usr/local/lib/python3.10/dist-packages (from boto3->pytorch_pretrained_bert) (1.0.1)\n",
            "Requirement already satisfied: s3transfer<0.11.0,>=0.10.0 in /usr/local/lib/python3.10/dist-packages (from boto3->pytorch_pretrained_bert) (0.10.1)\n",
            "Requirement already satisfied: charset-normalizer<4,>=2 in /usr/local/lib/python3.10/dist-packages (from requests->pytorch_pretrained_bert) (3.3.2)\n",
            "Requirement already satisfied: idna<4,>=2.5 in /usr/local/lib/python3.10/dist-packages (from requests->pytorch_pretrained_bert) (3.7)\n",
            "Requirement already satisfied: urllib3<3,>=1.21.1 in /usr/local/lib/python3.10/dist-packages (from requests->pytorch_pretrained_bert) (2.0.7)\n",
            "Requirement already satisfied: certifi>=2017.4.17 in /usr/local/lib/python3.10/dist-packages (from requests->pytorch_pretrained_bert) (2024.2.2)\n",
            "Requirement already satisfied: python-dateutil<3.0.0,>=2.1 in /usr/local/lib/python3.10/dist-packages (from botocore<1.35.0,>=1.34.99->boto3->pytorch_pretrained_bert) (2.8.2)\n",
            "Requirement already satisfied: MarkupSafe>=2.0 in /usr/local/lib/python3.10/dist-packages (from jinja2->torch>=0.4.1->pytorch_pretrained_bert) (2.1.5)\n",
            "Requirement already satisfied: mpmath>=0.19 in /usr/local/lib/python3.10/dist-packages (from sympy->torch>=0.4.1->pytorch_pretrained_bert) (1.3.0)\n",
            "Requirement already satisfied: six>=1.5 in /usr/local/lib/python3.10/dist-packages (from python-dateutil<3.0.0,>=2.1->botocore<1.35.0,>=1.34.99->boto3->pytorch_pretrained_bert) (1.16.0)\n",
            "Requirement already satisfied: dotmap in /usr/local/lib/python3.10/dist-packages (1.3.30)\n",
            "in the modeling class\n",
            "05/07/2024 18:54:40 - INFO - numexpr.utils -   NumExpr defaulting to 8 threads.\n",
            "New Job Start! \n",
            "Data directory: ./DATA/readmission/, Directory Code: ./DATA/readmission/, Save Model: True\n",
            "Output_dir: ./exp_FTL-Trans, Task Name: FTL-Trans_Prediction, embed_mode: all\n",
            "max_seq_length: 128,  max_chunk_num: 32\n",
            "train_batch_size: 32, eval_batch_size: 1\n",
            "learning_rate: 2e-05, warmup_proportion: 0.1\n",
            "num_train_epochs: 3, seed: 42, gradient_accumulation_steps: 1\n",
            "FTLSTM Model's lstm_layers: 1\n",
            "config setting: \n",
            "hidden_dropout_prob: 0.1 \n",
            "layer_norm_eps: 1e-12 \n",
            "initializer_range: 0.02 \n",
            "max_note_position_embedding: 1000 \n",
            "max_chunk_position_embedding: 1000 \n",
            "embed_mode: all \n",
            "hidden_size: 768 \n",
            "lstm_layers: 1 \n",
            "task_name: FTL-Trans_Prediction \n",
            "\n",
            "Number of GPU is 1\n",
            "Device Name: Tesla T4,Device Capability: (7, 5)\n",
            "05/07/2024 18:55:07 - INFO - pytorch_transformers.tokenization_utils -   Model name './pretraining/' not found in model shortcut name list (bert-base-uncased, bert-large-uncased, bert-base-cased, bert-large-cased, bert-base-multilingual-uncased, bert-base-multilingual-cased, bert-base-chinese, bert-base-german-cased, bert-large-uncased-whole-word-masking, bert-large-cased-whole-word-masking, bert-large-uncased-whole-word-masking-finetuned-squad, bert-large-cased-whole-word-masking-finetuned-squad, bert-base-cased-finetuned-mrpc). Assuming './pretraining/' is a path or url to a directory containing tokenizer files.\n",
            "05/07/2024 18:55:07 - INFO - pytorch_transformers.tokenization_utils -   Didn't find file ./pretraining/added_tokens.json. We won't load it.\n",
            "05/07/2024 18:55:07 - INFO - pytorch_transformers.tokenization_utils -   Didn't find file ./pretraining/special_tokens_map.json. We won't load it.\n",
            "05/07/2024 18:55:07 - INFO - pytorch_transformers.tokenization_utils -   Didn't find file ./pretraining/tokenizer_config.json. We won't load it.\n",
            "05/07/2024 18:55:07 - INFO - pytorch_transformers.tokenization_utils -   loading file ./pretraining/vocab.txt\n",
            "05/07/2024 18:55:07 - INFO - pytorch_transformers.tokenization_utils -   loading file None\n",
            "05/07/2024 18:55:07 - INFO - pytorch_transformers.tokenization_utils -   loading file None\n",
            "05/07/2024 18:55:07 - INFO - pytorch_transformers.tokenization_utils -   loading file None\n",
            "Tokenize Start!\n",
            "First sentence tokenized\n",
            "['[CLS]', '11', ':', '05', 'pm', 'chest', '(', 'pa', '&', 'la', '##t', ')', 'clip', '#', 'reason', ':', '?', 'p', '##na', 'medical', 'condition', ':', '58', 'year', 'old', 'man', 'with', 'am', '##s', 'reason', 'for', 'this', 'examination', ':', '?', 'p', '##na', 'final', 'report', 'history', ':', '58', '-', 'year', '-', 'old', 'male', 'with', 'altered', 'mental', 'status', ',', 'here', 'to', 'evaluate', 'for', 'pneumonia', '.', 'comparison', ':', 'multiple', 'prior', 'studies', 'including', ',', ',', 'and', 'through', '.', 'chest', 'radio', '##graph', ',', 'ap', 'erect', 'and', 'lateral', 'views', 'in', 'stretch', '##er', ':', 'ex', '##agger', '##ation', 'of', 'the', 'card', '##iom', '##ed', '##ias', '##tina', '##l', 'con', '##tour', '##s', 'may', 'be', 'due', 'to', 'decreased', 'inspiration', 'and', 'portable', 'technique', '.', 'there', 'may', 'be', 'mild', 'vascular', 'congestion', 'but', 'without', 'evidence', 'of', 'pulmonary', 'ed', '##ema', '.', 'no', 'p', '##ne', '##um', '##otho', '##ra', '##x', 'or', 'large', 'pl', '##eur', '##al', 'e', '##ff', '##usion', 'is', 'seen', '.', 'patch', '##y', 'op', '##ac', '##ity', 'in', 'the', 'left', 'lung', 'base', 'could', 'represent', 'a', 'focus', 'of', 'ate', '##le', '##cta', '##sis', ',', 'as', '##piration', ',', 'or', 'developing', 'pneumonia', '.', 'de', '##gen', '##erative', 'changes', 'are', 'noted', 'in', 'the', 'visual', '##ized', 'spine', '.', 'there', 'is', 'also', 'mild', 'loss', 'of', 've', '##rte', '##bra', '##l', 'body', 'height', 'in', 'one', 'of', 'the', 'mid', 'to', 'lower', 've', '##rte', '##bra', '##l', 'level', ',', 'which', 'appears', 'unchanged', 'from', 'the', 'only', 'available', 'lateral', 'view', 'from', 'where', 'this', 've', '##rte', '##bra', '##l', 'body', 'is', 'not', 'well', 'assessed', '.', 'impression', ':', 'patch', '##y', 'op', '##ac', '##ity', 'in', 'the', 'left', 'lung', 'base', 'sub', '##op', '##ti', '##mal', '##ly', 'assessed', 'due', 'to', 'h', '##yp', '##oin', '##fl', '##ation', 'of', 'the', 'lungs', 'and', 'portable', 'technique', '.', 'this', 'could', 'represent', 'ate', '##le', '##cta', '##sis', ',', 'as', '##piration', 'or', 'focus', 'of', 'pneumonia', '.', 'if', 'possible', ',', 'repeat', 'pa', 'and', 'lateral', 'radio', '##graphs', 'with', 'improved', 'inspiration', 'may', 'help', 'better', 'define', 'this', 'left', 'basil', '##ar', 'op', '##ac', '##ity', '.', '[SEP]']\n",
            "First sentence tokenized\n",
            "['[CLS]', '5', ':', '22', 'pm', 'ct', 'abd', '&', 'pe', '##lvis', 'w', '/', 'o', 'contrast', 'clip', '#', 'reason', ':', 'eva', '##l', 'coli', '##tis', ',', 'abs', '##ces', '##s', ',', 'app', '##y', 'medical', 'condition', ':', '38', 'year', 'old', 'woman', 'with', 'cr', '##f', ',', 'h', '/', 'o', 'all', 's', '/', 'p', 'b', '##mt', 'p', '/', 'w', 'abdominal', 'pain', ',', 'vomiting', 'reason', 'for', 'this', 'examination', ':', 'eva', '##l', 'coli', '##tis', ',', 'abs', '##ces', '##s', ',', 'app', '##y', 'no', 'contra', '##ind', '##ication', '##s', 'for', 'iv', 'contrast', 'wet', 'read', ':', 'ip', '##f', 'mon', '6', ':', '25', 'pm', 'right', 'pl', '##eur', '##al', 'e', '##ff', '##usion', '.', 'ac', '##sit', '##es', ',', 'with', 'interval', 'increase', '.', 'gall', '##bla', '##dder', 'sl', '##udge', '.', 'small', 'um', '##bil', '##ical', 'her', '##nia', ';', 'interval', 'increase', 'in', 'size', 'and', 'mild', 'fat', 'strand', '##ing', 'co', '##rre', '##late', 'with', 'point', 'tenderness', '.', 'sub', '##op', '##ti', '##mal', 'scan', 'due', 'to', 'lack', 'of', 'iv', 'and', 'oral', 'contrast', '.', 'no', 'drain', '##able', 'fluid', 'collection', 'is', 'seen', '.', 'divert', '##ic', '##ulo', '##sis', '.', 'small', 'app', '##end', '##ico', '##lit', '##h', ';', 'however', 'appendix', 'with', 'air', 'in', 'lu', '##men', 'and', 'normal', 'in', 'size', '.', 'ana', '##sar', '##ca', '.', 'final', 'report', 'history', ':', '38', '-', 'year', '-', 'old', 'woman', 'with', 'chronic', 'renal', 'failure', 'and', 'history', 'of', 'all', 'status', 'post', 'b', '##mt', ',', 'presents', 'with', 'abdominal', 'pain', 'and', 'vomiting', '.', 'technique', ':', 'ct', 'abdomen', 'and', 'pe', '##lvis', 'without', 'iv', 'or', 'oral', 'contrast', '.', 'corona', '##l', 'and', 'sa', '##git', '##tal', 'reform', '##att', '##ed', 'images', 'provided', '.', 'comparison', ':', 'ct', 'torso', '.', 'findings', ':', 'there', 'is', 'a', 'small', '-', 'to', '-', 'moderate', 'right', 'pl', '##eur', '##al', 'e', '##ff', '##usion', ',', 'smaller', 'in', 'size', 'compared', 'to', 'last', 'ct', 'torso', '.', 'there', 'is', 'a', 'small', 'per', '##ica', '##rdial', 'e', '##ff', '##usion', '.', 'study', 'is', 'sub', '##op', '##ti', '##mal', 'for', 'evaluation', 'of', 'solid', 'organs', 'due', 'to', 'lack', 'of', 'iv', 'contrast', '.', 'with', 'this', 'limitation', 'in', 'mind', ',', 'there', 'is', 'no', 'extra', '-', 'or', 'intra', '-', 'he', '##pati', '##c', 'bi', '##lia', '##ry', 'duct', 'dil', '##ata', '##tion', '.', 'previously', 'described', 'presumably', 'focal', 'nod', '##ular', 'hyper', '##pl', '##asia', 'in', 'segment', 'vi', 'of', 'the', 'liver', 'is', 'not', 'clearly', 'visual', '##ized', 'on', 'a', 'non', '-', 'contrast', 'ct', '.', 'there', 'is', 'a', 'presumably', 'gall', '##bla', '##dder', 'wall', 'ed', '##ema', 'from', 'third', 'spa', '##cing', 'with', 'moderate', 'amount', 'of', 'as', '##cite', '##s', '.', 'there', 'is', 'likely', 'gall', '##bla', '##dder', 'sl', '##udge', '.', 'pan', '##cre', '##as', 'and', 'bilateral', 'ad', '##ren', '##al', 'glands', 'are', 'within', 'normal', 'limits', 'considering', 'the', 'limitation', 'of', 'no', 'contrast', 'administration', '.', 'there', 'is', 'interval', 'increase', 'in', 'size', 'of', 'a', 'fat', '-', 'containing', 'um', '##bil', '##ical', 'her', '##nia', 'measuring', '2', 'cm', 'in', 'transverse', 'dimension', 'with', 'mild', 'fat', 'strand', '##ing', '(', '2', ':', '50', ')', ',', 'co', '##rre', '##late', 'with', 'point', 'tenderness', '/', 'physical', 'exam', '.', 'the', 'appendix', 'is', 'not', 'dil', '##ated', '(', '2', ':', '49', ')', ',', 'contains', 'air', 'and', 'there', 'is', 'a', 'likely', 'small', 'app', '##end', '##ico', '##lit', '##h', '(', '2', ':', '53', ')', '.', 'there', 'is', 'no', 'bow', '##el', 'obstruction', '.', 'there', 'is', 'no', 'evidence', 'of', 'colon', '##ic', 'wall', 'thick', '##ening', ',', 'although', 'evaluation', 'is', 'sub', '##op', '##ti', '##mal', 'given', 'lack', 'of', 'iv', 'or', 'po', 'contrast', 'and', 'adjacent', 'as', '##cite', '##s', '.', '.', 'the', 'kidney', '##s', 'are', 'normal', 'in', 'size', '.', 'there', 'is', 'no', 'evidence', 'of', 'hydro', '##ne', '##ph', '##rosis', '.', 'due', 'to', 'lack', 'of', 'oral', 'contrast', ',', 'evaluation', 'for', 'me', '##sen', '##ter', '##ic', 'l', '##ym', '##ph', 'nodes', 'is', 'sub', '##op', '##ti', '##mal', '.', 'there', 'are', 'scattered', 'l', '##ym', '##ph', 'nodes', 'in', 'the', 'retro', '##per', '##ito', '##ne', '##um', ',', 'however', ',', 'do', 'not', 'meet', 'the', 'ct', 'criteria', 'for', 'path', '##olo', '##gic', 'en', '##lar', '##gement', '.', '(', 'over', ')', '5', ':', '22', 'pm', 'ct', 'abd', '&', 'pe', '##lvis', 'w', '/', 'o', 'contrast', 'clip', '#', 'reason', ':', 'eva', '##l', 'coli', '##tis', ',', 'abs', '##ces', '##s', ',', 'app', '##y', 'final', 'report', '(', 'con', '##t', ')', 'ct', 'pe', '##lvis', ':', 'there', 'is', 'free', 'fluid', 'in', 'the', 'pe', '##lvis', '-', 'as', '##cite', '##s', '.', 'the', 'ut', '##erus', 'and', 'ur', '##ina', '##ry', 'bladder', 'appear', 'normal', '.', 'the', 'rec', '##tum', 'and', 'si', '##gm', '##oid', 'have', 'scattered', 'divert', '##ic', '##ula', ';', 'however', ',', 'no', 'evidence', 'of', 'divert', '##ic', '##uli', '##tis', '.', 'os', '##se', '##ous', 'structures', ':', 'no', 'suspicious', 'l', '##ytic', 'or', 'sc', '##ler', '##otic', 'les', '##ion', '.', 'there', 'is', 'soft', 'tissue', 'strand', '##ing', 'suggesting', 'ana', '##sar', '##ca', '.', 'impression', ':', 'mild', '-', 'to', '-', 'moderate', 'right', 'pl', '##eur', '##al', 'e', '##ff', '##usion', ';', 'however', ',', 'interval', 'decrease', 'in', 'size', 'compared', 'to', 'prior', '.', 'moderate', 'as', '##cite', '##s', 'with', 'interval', 'increase', '.', 'no', 'drain', '##able', 'fluid', 'collection', ',', 'however', ',', 'evaluation', 'is', 'sub', '##op', '##ti', '##mal', 'due', 'to', 'lack', 'of', 'iv', 'and', 'oral', 'contrast', '.', 'divert', '##ic', '##ulo', '##sis', '.', 'interval', 'increase', 'in', 'size', 'of', 'a', 'small', 'fat', '-', 'containing', 'um', '##bil', '##ical', 'her', '##nia', 'with', 'mild', 'fat', 'strand', '##ing', ',', 'co', '##rre', '##late', 'with', 'point', 'tenderness', '.', 'no', 'bow', '##el', 'obstruction', '.', 'no', 'definite', 'bow', '##el', 'wall', 'thick', '##ening', ',', 'although', 'the', 'examination', 'is', 'sub', '##op', '##ti', '##mal', 'for', 'such', '.', 'per', '##ica', '##rdial', 'e', '##ff', '##usion', ',', 'similar', 'to', 'prior', '.', 'note', ':', 'please', 'note', 'that', 'evaluation', 'for', 'me', '##sen', '##ter', '##ic', 'l', '##ym', '##ph', 'nodes', 'is', 'sub', '##op', '##ti', '##mal', 'due', 'to', 'lack', 'of', 'iv', 'and', 'oral', 'contrast', '.', 'additionally', ',', 'evaluation', 'of', 'solid', 'organs', 'and', 'evaluation', 'for', 'fluid', 'collection', 'is', 'sub', '##op', '##ti', '##mal', 'due', 'to', 'lack', 'of', 'iv', 'contrast', '.', '[SEP]']\n",
            "First sentence tokenized\n",
            "['[CLS]', '5', ':', '19', 'am', 'chest', '(', 'pre', '-', 'op', 'pa', '&', 'la', '##t', ')', 'clip', '#', 'reason', ':', 'pre', 'op', 'film', 'medical', 'condition', ':', '45', 'year', 'old', 'man', 'with', 'liver', 'ci', '##rr', '##hosis', 'reason', 'for', 'this', 'examination', ':', 'pre', 'op', 'film', 'wet', 'read', ':', 'ip', '##f', 'tu', '##e', '5', ':', '53', 'am', 'no', 'pneumonia', '.', 'small', 'left', 'pl', '##eur', '##al', 'e', '##ff', '##usion', '.', 'stable', 'vascular', 'redistribution', '.', 'final', 'report', 'history', ':', 'a', '45', '-', 'year', '-', 'old', 'man', 'with', 'liver', 'ci', '##rr', '##hosis', '.', 'pre', '##oper', '##ative', 'films', 'for', 'liver', 'transplant', '.', 'technique', ':', 'pa', 'and', 'lateral', 'chest', 'radio', '##graphs', '.', 'comparison', ':', 'compared', 'to', 'radio', '##graph', 'from', '.', 'findings', ':', 'heart', 'size', 'is', 'moderately', 'enlarged', ',', 'similar', 'to', 'prior', 'study', '.', 'there', 'is', 'mild', 'pulmonary', 'vascular', 'redistribution', '.', 'there', 'is', 'stable', 'small', 'left', 'pl', '##eur', '##al', 'e', '##ff', '##usion', '.', 'interval', 'removal', 'of', 'right', 'pic', '##c', 'line', '.', 'impression', ':', 'card', '##iom', '##ega', '##ly', '.', 'no', 'pneumonia', '.', 'small', 'left', 'pl', '##eur', '##al', 'e', '##ff', '##usion', '.', '[SEP]']\n",
            "Tokenize Finished!\n",
            "train dataset size is 92752,\n",
            "validation dataset size is 11356,\n",
            "test dataset size is 13369\n",
            "05/07/2024 19:04:39 - INFO - modeling_readmission -   loading archive file ./pretraining/\n",
            "05/07/2024 19:04:40 - INFO - modeling_readmission -   Model config {\n",
            "  \"attention_probs_dropout_prob\": 0.1,\n",
            "  \"hidden_act\": \"gelu\",\n",
            "  \"hidden_dropout_prob\": 0.1,\n",
            "  \"hidden_size\": 768,\n",
            "  \"initializer_range\": 0.02,\n",
            "  \"intermediate_size\": 3072,\n",
            "  \"max_position_embeddings\": 512,\n",
            "  \"num_attention_heads\": 12,\n",
            "  \"num_hidden_layers\": 12,\n",
            "  \"type_vocab_size\": 2,\n",
            "  \"vocab_size\": 30522\n",
            "}\n",
            "\n",
            "Training start!\n",
            "Epoch:   0% 0/3 [00:00<?, ?it/s]/usr/local/lib/python3.10/dist-packages/pytorch_pretrained_bert/optimization.py:275: UserWarning: This overload of add_ is deprecated:\n",
            "\tadd_(Number alpha, Tensor other)\n",
            "Consider using one of the following signatures instead:\n",
            "\tadd_(Tensor other, *, Number alpha) (Triggered internally at ../torch/csrc/utils/python_arg_parser.cpp:1630.)\n",
            "  next_m.mul_(beta1).add_(1 - beta1, grad)\n",
            "Train loss: 0.6931053633032394\n",
            "Validation Accuracy: 0.4986737400530504\n",
            "Epoch:  33% 1/3 [20:15<40:31, 1215.74s/it]Train loss: 0.6931471824645996\n",
            "Validation Accuracy: 0.4986737400530504\n",
            "Epoch:  67% 2/3 [40:29<20:14, 1214.32s/it]Train loss: 0.6931471824645996\n",
            "Validation Accuracy: 0.4986737400530504\n",
            "Epoch: 100% 3/3 [1:00:42<00:00, 1214.01s/it]\n",
            "total training time is: 3642.023025035858s\n",
            "Model saved!\n",
            "Test Patient Level Accuracy: 0.503957783641161\n",
            "Test Patient Level F1 Score: 0.6701754385964912\n",
            "Test Patient Level Precision: 0.503957783641161\n",
            "Test Patient Level Recall: 1.0\n",
            "Test Patient Level AUC: 0.5 \n",
            "Test Patient Level Matthew's correlation coefficient: 0.0\n",
            "Test Patient Level AUPR: 0.7519788918205805 \n",
            "All Finished!\n"
          ]
        }
      ],
      "source": [
        "### Follow the instructions in preprocessing_FTL_Trans.ipynb to generate DATA FILE ./DATA/readmission/, which contains train.csv, val.csv and test.csv\n",
        "### Run the code below to obtain the evaluation results\n",
        "!pip install pytorch_transformers\n",
        "!pip install pytorch_pretrained_bert\n",
        "!pip install dotmap\n",
        "\n",
        "!python3 run_clbert_ftlstm.py --data_dir ./DATA/readmission/ --train_data train.csv --val_data val.csv --test_data test.csv --log_path ./log_readmission.txt --bert_model ./pretraining/ --embed_mode all --task_name FTL-Trans_Prediction --max_seq_length 128 --train_batch_size 32 --eval_batch_size 1 --learning_rate 2e-5 --num_train_epochs 3 --warmup_proportion 0.1 --max_chunk_num 32 --seed 42 --gradient_accumulation_steps 1 --output_dir ./exp_FTL-Trans --save_model"
      ]
    },
    {
      "cell_type": "markdown",
      "source": [
        "#### FTL-Trans readmission prediction (slightly adjust time decay function)\n",
        "\n",
        "As the FTL-Trans above shows a poor result (accuracy = 0.5), we investigated the root cause, which is the flexible time decaying function. The explanation is covered in details in the result section.\n",
        "\n",
        "For this experiment, we set the delta t = 1 as a constant rather than the intervals between two adjacent chunks."
      ],
      "metadata": {
        "id": "oHKdRL1q0EQQ"
      }
    },
    {
      "cell_type": "code",
      "source": [
        "### Follow the instructions in preprocessing_FTL_Trans.ipynb to generate DATA FILE ./DATA/readmission/, which contains train.csv, val.csv and test.csv\n",
        "### Run the code below to obtain the evaluation results\n",
        "!pip install pytorch_transformers\n",
        "!pip install pytorch_pretrained_bert\n",
        "!pip install dotmap\n",
        "\n",
        "!python3 run_clbert_ftlstm_test.py --data_dir ./DATA/readmission/ --train_data train.csv --val_data val.csv --test_data test.csv --log_path ./log_readmission.txt --bert_model ./pretraining/ --embed_mode all --task_name FTL-Trans_Prediction_test --max_seq_length 128 --train_batch_size 32 --eval_batch_size 1 --learning_rate 2e-5 --num_train_epochs 3 --warmup_proportion 0.1 --max_chunk_num 32 --seed 42 --gradient_accumulation_steps 1 --output_dir ./exp_FTL-Trans_test --save_model"
      ],
      "metadata": {
        "colab": {
          "base_uri": "https://localhost:8080/"
        },
        "id": "01KwjZJM0MwQ",
        "outputId": "4d303464-2323-4f9b-ff00-4dd378498e75"
      },
      "execution_count": null,
      "outputs": [
        {
          "output_type": "stream",
          "name": "stdout",
          "text": [
            "Collecting pytorch_transformers\n",
            "  Downloading pytorch_transformers-1.2.0-py3-none-any.whl (176 kB)\n",
            "\u001b[2K     \u001b[90m━━━━━━━━━━━━━━━━━━━━━━━━━━━━━━━━━━━━━━━━\u001b[0m \u001b[32m176.4/176.4 kB\u001b[0m \u001b[31m5.1 MB/s\u001b[0m eta \u001b[36m0:00:00\u001b[0m\n",
            "\u001b[?25hRequirement already satisfied: torch>=1.0.0 in /usr/local/lib/python3.10/dist-packages (from pytorch_transformers) (2.2.1+cu121)\n",
            "Requirement already satisfied: numpy in /usr/local/lib/python3.10/dist-packages (from pytorch_transformers) (1.25.2)\n",
            "Collecting boto3 (from pytorch_transformers)\n",
            "  Downloading boto3-1.34.100-py3-none-any.whl (139 kB)\n",
            "\u001b[2K     \u001b[90m━━━━━━━━━━━━━━━━━━━━━━━━━━━━━━━━━━━━━━━━\u001b[0m \u001b[32m139.3/139.3 kB\u001b[0m \u001b[31m11.6 MB/s\u001b[0m eta \u001b[36m0:00:00\u001b[0m\n",
            "\u001b[?25hRequirement already satisfied: requests in /usr/local/lib/python3.10/dist-packages (from pytorch_transformers) (2.31.0)\n",
            "Requirement already satisfied: tqdm in /usr/local/lib/python3.10/dist-packages (from pytorch_transformers) (4.66.4)\n",
            "Requirement already satisfied: regex in /usr/local/lib/python3.10/dist-packages (from pytorch_transformers) (2023.12.25)\n",
            "Requirement already satisfied: sentencepiece in /usr/local/lib/python3.10/dist-packages (from pytorch_transformers) (0.1.99)\n",
            "Collecting sacremoses (from pytorch_transformers)\n",
            "  Downloading sacremoses-0.1.1-py3-none-any.whl (897 kB)\n",
            "\u001b[2K     \u001b[90m━━━━━━━━━━━━━━━━━━━━━━━━━━━━━━━━━━━━━━━━\u001b[0m \u001b[32m897.5/897.5 kB\u001b[0m \u001b[31m15.6 MB/s\u001b[0m eta \u001b[36m0:00:00\u001b[0m\n",
            "\u001b[?25hRequirement already satisfied: filelock in /usr/local/lib/python3.10/dist-packages (from torch>=1.0.0->pytorch_transformers) (3.14.0)\n",
            "Requirement already satisfied: typing-extensions>=4.8.0 in /usr/local/lib/python3.10/dist-packages (from torch>=1.0.0->pytorch_transformers) (4.11.0)\n",
            "Requirement already satisfied: sympy in /usr/local/lib/python3.10/dist-packages (from torch>=1.0.0->pytorch_transformers) (1.12)\n",
            "Requirement already satisfied: networkx in /usr/local/lib/python3.10/dist-packages (from torch>=1.0.0->pytorch_transformers) (3.3)\n",
            "Requirement already satisfied: jinja2 in /usr/local/lib/python3.10/dist-packages (from torch>=1.0.0->pytorch_transformers) (3.1.3)\n",
            "Requirement already satisfied: fsspec in /usr/local/lib/python3.10/dist-packages (from torch>=1.0.0->pytorch_transformers) (2023.6.0)\n",
            "Collecting nvidia-cuda-nvrtc-cu12==12.1.105 (from torch>=1.0.0->pytorch_transformers)\n",
            "  Using cached nvidia_cuda_nvrtc_cu12-12.1.105-py3-none-manylinux1_x86_64.whl (23.7 MB)\n",
            "Collecting nvidia-cuda-runtime-cu12==12.1.105 (from torch>=1.0.0->pytorch_transformers)\n",
            "  Using cached nvidia_cuda_runtime_cu12-12.1.105-py3-none-manylinux1_x86_64.whl (823 kB)\n",
            "Collecting nvidia-cuda-cupti-cu12==12.1.105 (from torch>=1.0.0->pytorch_transformers)\n",
            "  Using cached nvidia_cuda_cupti_cu12-12.1.105-py3-none-manylinux1_x86_64.whl (14.1 MB)\n",
            "Collecting nvidia-cudnn-cu12==8.9.2.26 (from torch>=1.0.0->pytorch_transformers)\n",
            "  Using cached nvidia_cudnn_cu12-8.9.2.26-py3-none-manylinux1_x86_64.whl (731.7 MB)\n",
            "Collecting nvidia-cublas-cu12==12.1.3.1 (from torch>=1.0.0->pytorch_transformers)\n",
            "  Using cached nvidia_cublas_cu12-12.1.3.1-py3-none-manylinux1_x86_64.whl (410.6 MB)\n",
            "Collecting nvidia-cufft-cu12==11.0.2.54 (from torch>=1.0.0->pytorch_transformers)\n",
            "  Using cached nvidia_cufft_cu12-11.0.2.54-py3-none-manylinux1_x86_64.whl (121.6 MB)\n",
            "Collecting nvidia-curand-cu12==10.3.2.106 (from torch>=1.0.0->pytorch_transformers)\n",
            "  Using cached nvidia_curand_cu12-10.3.2.106-py3-none-manylinux1_x86_64.whl (56.5 MB)\n",
            "Collecting nvidia-cusolver-cu12==11.4.5.107 (from torch>=1.0.0->pytorch_transformers)\n",
            "  Using cached nvidia_cusolver_cu12-11.4.5.107-py3-none-manylinux1_x86_64.whl (124.2 MB)\n",
            "Collecting nvidia-cusparse-cu12==12.1.0.106 (from torch>=1.0.0->pytorch_transformers)\n",
            "  Using cached nvidia_cusparse_cu12-12.1.0.106-py3-none-manylinux1_x86_64.whl (196.0 MB)\n",
            "Collecting nvidia-nccl-cu12==2.19.3 (from torch>=1.0.0->pytorch_transformers)\n",
            "  Using cached nvidia_nccl_cu12-2.19.3-py3-none-manylinux1_x86_64.whl (166.0 MB)\n",
            "Collecting nvidia-nvtx-cu12==12.1.105 (from torch>=1.0.0->pytorch_transformers)\n",
            "  Using cached nvidia_nvtx_cu12-12.1.105-py3-none-manylinux1_x86_64.whl (99 kB)\n",
            "Requirement already satisfied: triton==2.2.0 in /usr/local/lib/python3.10/dist-packages (from torch>=1.0.0->pytorch_transformers) (2.2.0)\n",
            "Collecting nvidia-nvjitlink-cu12 (from nvidia-cusolver-cu12==11.4.5.107->torch>=1.0.0->pytorch_transformers)\n",
            "  Using cached nvidia_nvjitlink_cu12-12.4.127-py3-none-manylinux2014_x86_64.whl (21.1 MB)\n",
            "Collecting botocore<1.35.0,>=1.34.100 (from boto3->pytorch_transformers)\n",
            "  Downloading botocore-1.34.100-py3-none-any.whl (12.2 MB)\n",
            "\u001b[2K     \u001b[90m━━━━━━━━━━━━━━━━━━━━━━━━━━━━━━━━━━━━━━━━\u001b[0m \u001b[32m12.2/12.2 MB\u001b[0m \u001b[31m45.6 MB/s\u001b[0m eta \u001b[36m0:00:00\u001b[0m\n",
            "\u001b[?25hCollecting jmespath<2.0.0,>=0.7.1 (from boto3->pytorch_transformers)\n",
            "  Downloading jmespath-1.0.1-py3-none-any.whl (20 kB)\n",
            "Collecting s3transfer<0.11.0,>=0.10.0 (from boto3->pytorch_transformers)\n",
            "  Downloading s3transfer-0.10.1-py3-none-any.whl (82 kB)\n",
            "\u001b[2K     \u001b[90m━━━━━━━━━━━━━━━━━━━━━━━━━━━━━━━━━━━━━━━━\u001b[0m \u001b[32m82.2/82.2 kB\u001b[0m \u001b[31m11.8 MB/s\u001b[0m eta \u001b[36m0:00:00\u001b[0m\n",
            "\u001b[?25hRequirement already satisfied: charset-normalizer<4,>=2 in /usr/local/lib/python3.10/dist-packages (from requests->pytorch_transformers) (3.3.2)\n",
            "Requirement already satisfied: idna<4,>=2.5 in /usr/local/lib/python3.10/dist-packages (from requests->pytorch_transformers) (3.7)\n",
            "Requirement already satisfied: urllib3<3,>=1.21.1 in /usr/local/lib/python3.10/dist-packages (from requests->pytorch_transformers) (2.0.7)\n",
            "Requirement already satisfied: certifi>=2017.4.17 in /usr/local/lib/python3.10/dist-packages (from requests->pytorch_transformers) (2024.2.2)\n",
            "Requirement already satisfied: click in /usr/local/lib/python3.10/dist-packages (from sacremoses->pytorch_transformers) (8.1.7)\n",
            "Requirement already satisfied: joblib in /usr/local/lib/python3.10/dist-packages (from sacremoses->pytorch_transformers) (1.4.2)\n",
            "Requirement already satisfied: python-dateutil<3.0.0,>=2.1 in /usr/local/lib/python3.10/dist-packages (from botocore<1.35.0,>=1.34.100->boto3->pytorch_transformers) (2.8.2)\n",
            "Requirement already satisfied: MarkupSafe>=2.0 in /usr/local/lib/python3.10/dist-packages (from jinja2->torch>=1.0.0->pytorch_transformers) (2.1.5)\n",
            "Requirement already satisfied: mpmath>=0.19 in /usr/local/lib/python3.10/dist-packages (from sympy->torch>=1.0.0->pytorch_transformers) (1.3.0)\n",
            "Requirement already satisfied: six>=1.5 in /usr/local/lib/python3.10/dist-packages (from python-dateutil<3.0.0,>=2.1->botocore<1.35.0,>=1.34.100->boto3->pytorch_transformers) (1.16.0)\n",
            "Installing collected packages: sacremoses, nvidia-nvtx-cu12, nvidia-nvjitlink-cu12, nvidia-nccl-cu12, nvidia-curand-cu12, nvidia-cufft-cu12, nvidia-cuda-runtime-cu12, nvidia-cuda-nvrtc-cu12, nvidia-cuda-cupti-cu12, nvidia-cublas-cu12, jmespath, nvidia-cusparse-cu12, nvidia-cudnn-cu12, botocore, s3transfer, nvidia-cusolver-cu12, boto3, pytorch_transformers\n",
            "Successfully installed boto3-1.34.100 botocore-1.34.100 jmespath-1.0.1 nvidia-cublas-cu12-12.1.3.1 nvidia-cuda-cupti-cu12-12.1.105 nvidia-cuda-nvrtc-cu12-12.1.105 nvidia-cuda-runtime-cu12-12.1.105 nvidia-cudnn-cu12-8.9.2.26 nvidia-cufft-cu12-11.0.2.54 nvidia-curand-cu12-10.3.2.106 nvidia-cusolver-cu12-11.4.5.107 nvidia-cusparse-cu12-12.1.0.106 nvidia-nccl-cu12-2.19.3 nvidia-nvjitlink-cu12-12.4.127 nvidia-nvtx-cu12-12.1.105 pytorch_transformers-1.2.0 s3transfer-0.10.1 sacremoses-0.1.1\n",
            "Collecting pytorch_pretrained_bert\n",
            "  Downloading pytorch_pretrained_bert-0.6.2-py3-none-any.whl (123 kB)\n",
            "\u001b[2K     \u001b[90m━━━━━━━━━━━━━━━━━━━━━━━━━━━━━━━━━━━━━━━━\u001b[0m \u001b[32m123.8/123.8 kB\u001b[0m \u001b[31m4.3 MB/s\u001b[0m eta \u001b[36m0:00:00\u001b[0m\n",
            "\u001b[?25hRequirement already satisfied: torch>=0.4.1 in /usr/local/lib/python3.10/dist-packages (from pytorch_pretrained_bert) (2.2.1+cu121)\n",
            "Requirement already satisfied: numpy in /usr/local/lib/python3.10/dist-packages (from pytorch_pretrained_bert) (1.25.2)\n",
            "Requirement already satisfied: boto3 in /usr/local/lib/python3.10/dist-packages (from pytorch_pretrained_bert) (1.34.100)\n",
            "Requirement already satisfied: requests in /usr/local/lib/python3.10/dist-packages (from pytorch_pretrained_bert) (2.31.0)\n",
            "Requirement already satisfied: tqdm in /usr/local/lib/python3.10/dist-packages (from pytorch_pretrained_bert) (4.66.4)\n",
            "Requirement already satisfied: regex in /usr/local/lib/python3.10/dist-packages (from pytorch_pretrained_bert) (2023.12.25)\n",
            "Requirement already satisfied: filelock in /usr/local/lib/python3.10/dist-packages (from torch>=0.4.1->pytorch_pretrained_bert) (3.14.0)\n",
            "Requirement already satisfied: typing-extensions>=4.8.0 in /usr/local/lib/python3.10/dist-packages (from torch>=0.4.1->pytorch_pretrained_bert) (4.11.0)\n",
            "Requirement already satisfied: sympy in /usr/local/lib/python3.10/dist-packages (from torch>=0.4.1->pytorch_pretrained_bert) (1.12)\n",
            "Requirement already satisfied: networkx in /usr/local/lib/python3.10/dist-packages (from torch>=0.4.1->pytorch_pretrained_bert) (3.3)\n",
            "Requirement already satisfied: jinja2 in /usr/local/lib/python3.10/dist-packages (from torch>=0.4.1->pytorch_pretrained_bert) (3.1.3)\n",
            "Requirement already satisfied: fsspec in /usr/local/lib/python3.10/dist-packages (from torch>=0.4.1->pytorch_pretrained_bert) (2023.6.0)\n",
            "Requirement already satisfied: nvidia-cuda-nvrtc-cu12==12.1.105 in /usr/local/lib/python3.10/dist-packages (from torch>=0.4.1->pytorch_pretrained_bert) (12.1.105)\n",
            "Requirement already satisfied: nvidia-cuda-runtime-cu12==12.1.105 in /usr/local/lib/python3.10/dist-packages (from torch>=0.4.1->pytorch_pretrained_bert) (12.1.105)\n",
            "Requirement already satisfied: nvidia-cuda-cupti-cu12==12.1.105 in /usr/local/lib/python3.10/dist-packages (from torch>=0.4.1->pytorch_pretrained_bert) (12.1.105)\n",
            "Requirement already satisfied: nvidia-cudnn-cu12==8.9.2.26 in /usr/local/lib/python3.10/dist-packages (from torch>=0.4.1->pytorch_pretrained_bert) (8.9.2.26)\n",
            "Requirement already satisfied: nvidia-cublas-cu12==12.1.3.1 in /usr/local/lib/python3.10/dist-packages (from torch>=0.4.1->pytorch_pretrained_bert) (12.1.3.1)\n",
            "Requirement already satisfied: nvidia-cufft-cu12==11.0.2.54 in /usr/local/lib/python3.10/dist-packages (from torch>=0.4.1->pytorch_pretrained_bert) (11.0.2.54)\n",
            "Requirement already satisfied: nvidia-curand-cu12==10.3.2.106 in /usr/local/lib/python3.10/dist-packages (from torch>=0.4.1->pytorch_pretrained_bert) (10.3.2.106)\n",
            "Requirement already satisfied: nvidia-cusolver-cu12==11.4.5.107 in /usr/local/lib/python3.10/dist-packages (from torch>=0.4.1->pytorch_pretrained_bert) (11.4.5.107)\n",
            "Requirement already satisfied: nvidia-cusparse-cu12==12.1.0.106 in /usr/local/lib/python3.10/dist-packages (from torch>=0.4.1->pytorch_pretrained_bert) (12.1.0.106)\n",
            "Requirement already satisfied: nvidia-nccl-cu12==2.19.3 in /usr/local/lib/python3.10/dist-packages (from torch>=0.4.1->pytorch_pretrained_bert) (2.19.3)\n",
            "Requirement already satisfied: nvidia-nvtx-cu12==12.1.105 in /usr/local/lib/python3.10/dist-packages (from torch>=0.4.1->pytorch_pretrained_bert) (12.1.105)\n",
            "Requirement already satisfied: triton==2.2.0 in /usr/local/lib/python3.10/dist-packages (from torch>=0.4.1->pytorch_pretrained_bert) (2.2.0)\n",
            "Requirement already satisfied: nvidia-nvjitlink-cu12 in /usr/local/lib/python3.10/dist-packages (from nvidia-cusolver-cu12==11.4.5.107->torch>=0.4.1->pytorch_pretrained_bert) (12.4.127)\n",
            "Requirement already satisfied: botocore<1.35.0,>=1.34.100 in /usr/local/lib/python3.10/dist-packages (from boto3->pytorch_pretrained_bert) (1.34.100)\n",
            "Requirement already satisfied: jmespath<2.0.0,>=0.7.1 in /usr/local/lib/python3.10/dist-packages (from boto3->pytorch_pretrained_bert) (1.0.1)\n",
            "Requirement already satisfied: s3transfer<0.11.0,>=0.10.0 in /usr/local/lib/python3.10/dist-packages (from boto3->pytorch_pretrained_bert) (0.10.1)\n",
            "Requirement already satisfied: charset-normalizer<4,>=2 in /usr/local/lib/python3.10/dist-packages (from requests->pytorch_pretrained_bert) (3.3.2)\n",
            "Requirement already satisfied: idna<4,>=2.5 in /usr/local/lib/python3.10/dist-packages (from requests->pytorch_pretrained_bert) (3.7)\n",
            "Requirement already satisfied: urllib3<3,>=1.21.1 in /usr/local/lib/python3.10/dist-packages (from requests->pytorch_pretrained_bert) (2.0.7)\n",
            "Requirement already satisfied: certifi>=2017.4.17 in /usr/local/lib/python3.10/dist-packages (from requests->pytorch_pretrained_bert) (2024.2.2)\n",
            "Requirement already satisfied: python-dateutil<3.0.0,>=2.1 in /usr/local/lib/python3.10/dist-packages (from botocore<1.35.0,>=1.34.100->boto3->pytorch_pretrained_bert) (2.8.2)\n",
            "Requirement already satisfied: MarkupSafe>=2.0 in /usr/local/lib/python3.10/dist-packages (from jinja2->torch>=0.4.1->pytorch_pretrained_bert) (2.1.5)\n",
            "Requirement already satisfied: mpmath>=0.19 in /usr/local/lib/python3.10/dist-packages (from sympy->torch>=0.4.1->pytorch_pretrained_bert) (1.3.0)\n",
            "Requirement already satisfied: six>=1.5 in /usr/local/lib/python3.10/dist-packages (from python-dateutil<3.0.0,>=2.1->botocore<1.35.0,>=1.34.100->boto3->pytorch_pretrained_bert) (1.16.0)\n",
            "Installing collected packages: pytorch_pretrained_bert\n",
            "Successfully installed pytorch_pretrained_bert-0.6.2\n",
            "Collecting dotmap\n",
            "  Downloading dotmap-1.3.30-py3-none-any.whl (11 kB)\n",
            "Installing collected packages: dotmap\n",
            "Successfully installed dotmap-1.3.30\n",
            "in the modeling class\n",
            "05/08/2024 01:30:08 - INFO - numexpr.utils -   NumExpr defaulting to 8 threads.\n",
            "New Job Start! \n",
            "Data directory: ./DATA/readmission/, Directory Code: ./DATA/readmission/, Save Model: True\n",
            "Output_dir: ./exp_FTL-Trans_test, Task Name: FTL-Trans_Prediction_test, embed_mode: all\n",
            "max_seq_length: 128,  max_chunk_num: 32\n",
            "train_batch_size: 32, eval_batch_size: 1\n",
            "learning_rate: 2e-05, warmup_proportion: 0.1\n",
            "num_train_epochs: 3, seed: 42, gradient_accumulation_steps: 1\n",
            "FTLSTM Model's lstm_layers: 1\n",
            "config setting: \n",
            "hidden_dropout_prob: 0.1 \n",
            "layer_norm_eps: 1e-12 \n",
            "initializer_range: 0.02 \n",
            "max_note_position_embedding: 1000 \n",
            "max_chunk_position_embedding: 1000 \n",
            "embed_mode: all \n",
            "hidden_size: 768 \n",
            "lstm_layers: 1 \n",
            "task_name: FTL-Trans_Prediction_test \n",
            "\n",
            "Number of GPU is 1\n",
            "Device Name: Tesla T4,Device Capability: (7, 5)\n",
            "05/08/2024 01:30:25 - INFO - pytorch_transformers.tokenization_utils -   Model name './pretraining/' not found in model shortcut name list (bert-base-uncased, bert-large-uncased, bert-base-cased, bert-large-cased, bert-base-multilingual-uncased, bert-base-multilingual-cased, bert-base-chinese, bert-base-german-cased, bert-large-uncased-whole-word-masking, bert-large-cased-whole-word-masking, bert-large-uncased-whole-word-masking-finetuned-squad, bert-large-cased-whole-word-masking-finetuned-squad, bert-base-cased-finetuned-mrpc). Assuming './pretraining/' is a path or url to a directory containing tokenizer files.\n",
            "05/08/2024 01:30:25 - INFO - pytorch_transformers.tokenization_utils -   Didn't find file ./pretraining/added_tokens.json. We won't load it.\n",
            "05/08/2024 01:30:25 - INFO - pytorch_transformers.tokenization_utils -   Didn't find file ./pretraining/special_tokens_map.json. We won't load it.\n",
            "05/08/2024 01:30:25 - INFO - pytorch_transformers.tokenization_utils -   Didn't find file ./pretraining/tokenizer_config.json. We won't load it.\n",
            "05/08/2024 01:30:25 - INFO - pytorch_transformers.tokenization_utils -   loading file ./pretraining/vocab.txt\n",
            "05/08/2024 01:30:25 - INFO - pytorch_transformers.tokenization_utils -   loading file None\n",
            "05/08/2024 01:30:25 - INFO - pytorch_transformers.tokenization_utils -   loading file None\n",
            "05/08/2024 01:30:25 - INFO - pytorch_transformers.tokenization_utils -   loading file None\n",
            "Tokenize Start!\n",
            "First sentence tokenized\n",
            "['[CLS]', '11', ':', '05', 'pm', 'chest', '(', 'pa', '&', 'la', '##t', ')', 'clip', '#', 'reason', ':', '?', 'p', '##na', 'medical', 'condition', ':', '58', 'year', 'old', 'man', 'with', 'am', '##s', 'reason', 'for', 'this', 'examination', ':', '?', 'p', '##na', 'final', 'report', 'history', ':', '58', '-', 'year', '-', 'old', 'male', 'with', 'altered', 'mental', 'status', ',', 'here', 'to', 'evaluate', 'for', 'pneumonia', '.', 'comparison', ':', 'multiple', 'prior', 'studies', 'including', ',', ',', 'and', 'through', '.', 'chest', 'radio', '##graph', ',', 'ap', 'erect', 'and', 'lateral', 'views', 'in', 'stretch', '##er', ':', 'ex', '##agger', '##ation', 'of', 'the', 'card', '##iom', '##ed', '##ias', '##tina', '##l', 'con', '##tour', '##s', 'may', 'be', 'due', 'to', 'decreased', 'inspiration', 'and', 'portable', 'technique', '.', 'there', 'may', 'be', 'mild', 'vascular', 'congestion', 'but', 'without', 'evidence', 'of', 'pulmonary', 'ed', '##ema', '.', 'no', 'p', '##ne', '##um', '##otho', '##ra', '##x', 'or', 'large', 'pl', '##eur', '##al', 'e', '##ff', '##usion', 'is', 'seen', '.', 'patch', '##y', 'op', '##ac', '##ity', 'in', 'the', 'left', 'lung', 'base', 'could', 'represent', 'a', 'focus', 'of', 'ate', '##le', '##cta', '##sis', ',', 'as', '##piration', ',', 'or', 'developing', 'pneumonia', '.', 'de', '##gen', '##erative', 'changes', 'are', 'noted', 'in', 'the', 'visual', '##ized', 'spine', '.', 'there', 'is', 'also', 'mild', 'loss', 'of', 've', '##rte', '##bra', '##l', 'body', 'height', 'in', 'one', 'of', 'the', 'mid', 'to', 'lower', 've', '##rte', '##bra', '##l', 'level', ',', 'which', 'appears', 'unchanged', 'from', 'the', 'only', 'available', 'lateral', 'view', 'from', 'where', 'this', 've', '##rte', '##bra', '##l', 'body', 'is', 'not', 'well', 'assessed', '.', 'impression', ':', 'patch', '##y', 'op', '##ac', '##ity', 'in', 'the', 'left', 'lung', 'base', 'sub', '##op', '##ti', '##mal', '##ly', 'assessed', 'due', 'to', 'h', '##yp', '##oin', '##fl', '##ation', 'of', 'the', 'lungs', 'and', 'portable', 'technique', '.', 'this', 'could', 'represent', 'ate', '##le', '##cta', '##sis', ',', 'as', '##piration', 'or', 'focus', 'of', 'pneumonia', '.', 'if', 'possible', ',', 'repeat', 'pa', 'and', 'lateral', 'radio', '##graphs', 'with', 'improved', 'inspiration', 'may', 'help', 'better', 'define', 'this', 'left', 'basil', '##ar', 'op', '##ac', '##ity', '.', '[SEP]']\n",
            "First sentence tokenized\n",
            "['[CLS]', '5', ':', '22', 'pm', 'ct', 'abd', '&', 'pe', '##lvis', 'w', '/', 'o', 'contrast', 'clip', '#', 'reason', ':', 'eva', '##l', 'coli', '##tis', ',', 'abs', '##ces', '##s', ',', 'app', '##y', 'medical', 'condition', ':', '38', 'year', 'old', 'woman', 'with', 'cr', '##f', ',', 'h', '/', 'o', 'all', 's', '/', 'p', 'b', '##mt', 'p', '/', 'w', 'abdominal', 'pain', ',', 'vomiting', 'reason', 'for', 'this', 'examination', ':', 'eva', '##l', 'coli', '##tis', ',', 'abs', '##ces', '##s', ',', 'app', '##y', 'no', 'contra', '##ind', '##ication', '##s', 'for', 'iv', 'contrast', 'wet', 'read', ':', 'ip', '##f', 'mon', '6', ':', '25', 'pm', 'right', 'pl', '##eur', '##al', 'e', '##ff', '##usion', '.', 'ac', '##sit', '##es', ',', 'with', 'interval', 'increase', '.', 'gall', '##bla', '##dder', 'sl', '##udge', '.', 'small', 'um', '##bil', '##ical', 'her', '##nia', ';', 'interval', 'increase', 'in', 'size', 'and', 'mild', 'fat', 'strand', '##ing', 'co', '##rre', '##late', 'with', 'point', 'tenderness', '.', 'sub', '##op', '##ti', '##mal', 'scan', 'due', 'to', 'lack', 'of', 'iv', 'and', 'oral', 'contrast', '.', 'no', 'drain', '##able', 'fluid', 'collection', 'is', 'seen', '.', 'divert', '##ic', '##ulo', '##sis', '.', 'small', 'app', '##end', '##ico', '##lit', '##h', ';', 'however', 'appendix', 'with', 'air', 'in', 'lu', '##men', 'and', 'normal', 'in', 'size', '.', 'ana', '##sar', '##ca', '.', 'final', 'report', 'history', ':', '38', '-', 'year', '-', 'old', 'woman', 'with', 'chronic', 'renal', 'failure', 'and', 'history', 'of', 'all', 'status', 'post', 'b', '##mt', ',', 'presents', 'with', 'abdominal', 'pain', 'and', 'vomiting', '.', 'technique', ':', 'ct', 'abdomen', 'and', 'pe', '##lvis', 'without', 'iv', 'or', 'oral', 'contrast', '.', 'corona', '##l', 'and', 'sa', '##git', '##tal', 'reform', '##att', '##ed', 'images', 'provided', '.', 'comparison', ':', 'ct', 'torso', '.', 'findings', ':', 'there', 'is', 'a', 'small', '-', 'to', '-', 'moderate', 'right', 'pl', '##eur', '##al', 'e', '##ff', '##usion', ',', 'smaller', 'in', 'size', 'compared', 'to', 'last', 'ct', 'torso', '.', 'there', 'is', 'a', 'small', 'per', '##ica', '##rdial', 'e', '##ff', '##usion', '.', 'study', 'is', 'sub', '##op', '##ti', '##mal', 'for', 'evaluation', 'of', 'solid', 'organs', 'due', 'to', 'lack', 'of', 'iv', 'contrast', '.', 'with', 'this', 'limitation', 'in', 'mind', ',', 'there', 'is', 'no', 'extra', '-', 'or', 'intra', '-', 'he', '##pati', '##c', 'bi', '##lia', '##ry', 'duct', 'dil', '##ata', '##tion', '.', 'previously', 'described', 'presumably', 'focal', 'nod', '##ular', 'hyper', '##pl', '##asia', 'in', 'segment', 'vi', 'of', 'the', 'liver', 'is', 'not', 'clearly', 'visual', '##ized', 'on', 'a', 'non', '-', 'contrast', 'ct', '.', 'there', 'is', 'a', 'presumably', 'gall', '##bla', '##dder', 'wall', 'ed', '##ema', 'from', 'third', 'spa', '##cing', 'with', 'moderate', 'amount', 'of', 'as', '##cite', '##s', '.', 'there', 'is', 'likely', 'gall', '##bla', '##dder', 'sl', '##udge', '.', 'pan', '##cre', '##as', 'and', 'bilateral', 'ad', '##ren', '##al', 'glands', 'are', 'within', 'normal', 'limits', 'considering', 'the', 'limitation', 'of', 'no', 'contrast', 'administration', '.', 'there', 'is', 'interval', 'increase', 'in', 'size', 'of', 'a', 'fat', '-', 'containing', 'um', '##bil', '##ical', 'her', '##nia', 'measuring', '2', 'cm', 'in', 'transverse', 'dimension', 'with', 'mild', 'fat', 'strand', '##ing', '(', '2', ':', '50', ')', ',', 'co', '##rre', '##late', 'with', 'point', 'tenderness', '/', 'physical', 'exam', '.', 'the', 'appendix', 'is', 'not', 'dil', '##ated', '(', '2', ':', '49', ')', ',', 'contains', 'air', 'and', 'there', 'is', 'a', 'likely', 'small', 'app', '##end', '##ico', '##lit', '##h', '(', '2', ':', '53', ')', '.', 'there', 'is', 'no', 'bow', '##el', 'obstruction', '.', 'there', 'is', 'no', 'evidence', 'of', 'colon', '##ic', 'wall', 'thick', '##ening', ',', 'although', 'evaluation', 'is', 'sub', '##op', '##ti', '##mal', 'given', 'lack', 'of', 'iv', 'or', 'po', 'contrast', 'and', 'adjacent', 'as', '##cite', '##s', '.', '.', 'the', 'kidney', '##s', 'are', 'normal', 'in', 'size', '.', 'there', 'is', 'no', 'evidence', 'of', 'hydro', '##ne', '##ph', '##rosis', '.', 'due', 'to', 'lack', 'of', 'oral', 'contrast', ',', 'evaluation', 'for', 'me', '##sen', '##ter', '##ic', 'l', '##ym', '##ph', 'nodes', 'is', 'sub', '##op', '##ti', '##mal', '.', 'there', 'are', 'scattered', 'l', '##ym', '##ph', 'nodes', 'in', 'the', 'retro', '##per', '##ito', '##ne', '##um', ',', 'however', ',', 'do', 'not', 'meet', 'the', 'ct', 'criteria', 'for', 'path', '##olo', '##gic', 'en', '##lar', '##gement', '.', '(', 'over', ')', '5', ':', '22', 'pm', 'ct', 'abd', '&', 'pe', '##lvis', 'w', '/', 'o', 'contrast', 'clip', '#', 'reason', ':', 'eva', '##l', 'coli', '##tis', ',', 'abs', '##ces', '##s', ',', 'app', '##y', 'final', 'report', '(', 'con', '##t', ')', 'ct', 'pe', '##lvis', ':', 'there', 'is', 'free', 'fluid', 'in', 'the', 'pe', '##lvis', '-', 'as', '##cite', '##s', '.', 'the', 'ut', '##erus', 'and', 'ur', '##ina', '##ry', 'bladder', 'appear', 'normal', '.', 'the', 'rec', '##tum', 'and', 'si', '##gm', '##oid', 'have', 'scattered', 'divert', '##ic', '##ula', ';', 'however', ',', 'no', 'evidence', 'of', 'divert', '##ic', '##uli', '##tis', '.', 'os', '##se', '##ous', 'structures', ':', 'no', 'suspicious', 'l', '##ytic', 'or', 'sc', '##ler', '##otic', 'les', '##ion', '.', 'there', 'is', 'soft', 'tissue', 'strand', '##ing', 'suggesting', 'ana', '##sar', '##ca', '.', 'impression', ':', 'mild', '-', 'to', '-', 'moderate', 'right', 'pl', '##eur', '##al', 'e', '##ff', '##usion', ';', 'however', ',', 'interval', 'decrease', 'in', 'size', 'compared', 'to', 'prior', '.', 'moderate', 'as', '##cite', '##s', 'with', 'interval', 'increase', '.', 'no', 'drain', '##able', 'fluid', 'collection', ',', 'however', ',', 'evaluation', 'is', 'sub', '##op', '##ti', '##mal', 'due', 'to', 'lack', 'of', 'iv', 'and', 'oral', 'contrast', '.', 'divert', '##ic', '##ulo', '##sis', '.', 'interval', 'increase', 'in', 'size', 'of', 'a', 'small', 'fat', '-', 'containing', 'um', '##bil', '##ical', 'her', '##nia', 'with', 'mild', 'fat', 'strand', '##ing', ',', 'co', '##rre', '##late', 'with', 'point', 'tenderness', '.', 'no', 'bow', '##el', 'obstruction', '.', 'no', 'definite', 'bow', '##el', 'wall', 'thick', '##ening', ',', 'although', 'the', 'examination', 'is', 'sub', '##op', '##ti', '##mal', 'for', 'such', '.', 'per', '##ica', '##rdial', 'e', '##ff', '##usion', ',', 'similar', 'to', 'prior', '.', 'note', ':', 'please', 'note', 'that', 'evaluation', 'for', 'me', '##sen', '##ter', '##ic', 'l', '##ym', '##ph', 'nodes', 'is', 'sub', '##op', '##ti', '##mal', 'due', 'to', 'lack', 'of', 'iv', 'and', 'oral', 'contrast', '.', 'additionally', ',', 'evaluation', 'of', 'solid', 'organs', 'and', 'evaluation', 'for', 'fluid', 'collection', 'is', 'sub', '##op', '##ti', '##mal', 'due', 'to', 'lack', 'of', 'iv', 'contrast', '.', '[SEP]']\n",
            "First sentence tokenized\n",
            "['[CLS]', '5', ':', '19', 'am', 'chest', '(', 'pre', '-', 'op', 'pa', '&', 'la', '##t', ')', 'clip', '#', 'reason', ':', 'pre', 'op', 'film', 'medical', 'condition', ':', '45', 'year', 'old', 'man', 'with', 'liver', 'ci', '##rr', '##hosis', 'reason', 'for', 'this', 'examination', ':', 'pre', 'op', 'film', 'wet', 'read', ':', 'ip', '##f', 'tu', '##e', '5', ':', '53', 'am', 'no', 'pneumonia', '.', 'small', 'left', 'pl', '##eur', '##al', 'e', '##ff', '##usion', '.', 'stable', 'vascular', 'redistribution', '.', 'final', 'report', 'history', ':', 'a', '45', '-', 'year', '-', 'old', 'man', 'with', 'liver', 'ci', '##rr', '##hosis', '.', 'pre', '##oper', '##ative', 'films', 'for', 'liver', 'transplant', '.', 'technique', ':', 'pa', 'and', 'lateral', 'chest', 'radio', '##graphs', '.', 'comparison', ':', 'compared', 'to', 'radio', '##graph', 'from', '.', 'findings', ':', 'heart', 'size', 'is', 'moderately', 'enlarged', ',', 'similar', 'to', 'prior', 'study', '.', 'there', 'is', 'mild', 'pulmonary', 'vascular', 'redistribution', '.', 'there', 'is', 'stable', 'small', 'left', 'pl', '##eur', '##al', 'e', '##ff', '##usion', '.', 'interval', 'removal', 'of', 'right', 'pic', '##c', 'line', '.', 'impression', ':', 'card', '##iom', '##ega', '##ly', '.', 'no', 'pneumonia', '.', 'small', 'left', 'pl', '##eur', '##al', 'e', '##ff', '##usion', '.', '[SEP]']\n",
            "Tokenize Finished!\n",
            "train dataset size is 92752,\n",
            "validation dataset size is 11356,\n",
            "test dataset size is 13369\n",
            "05/08/2024 01:39:47 - INFO - modeling_readmission -   loading archive file ./pretraining/\n",
            "05/08/2024 01:39:48 - INFO - modeling_readmission -   Model config {\n",
            "  \"attention_probs_dropout_prob\": 0.1,\n",
            "  \"hidden_act\": \"gelu\",\n",
            "  \"hidden_dropout_prob\": 0.1,\n",
            "  \"hidden_size\": 768,\n",
            "  \"initializer_range\": 0.02,\n",
            "  \"intermediate_size\": 3072,\n",
            "  \"max_position_embeddings\": 512,\n",
            "  \"num_attention_heads\": 12,\n",
            "  \"num_hidden_layers\": 12,\n",
            "  \"type_vocab_size\": 2,\n",
            "  \"vocab_size\": 30522\n",
            "}\n",
            "\n",
            "Training start!\n",
            "Epoch:   0% 0/3 [00:00<?, ?it/s]/usr/local/lib/python3.10/dist-packages/pytorch_pretrained_bert/optimization.py:275: UserWarning: This overload of add_ is deprecated:\n",
            "\tadd_(Number alpha, Tensor other)\n",
            "Consider using one of the following signatures instead:\n",
            "\tadd_(Tensor other, *, Number alpha) (Triggered internally at ../torch/csrc/utils/python_arg_parser.cpp:1630.)\n",
            "  next_m.mul_(beta1).add_(1 - beta1, grad)\n",
            "Train loss: 0.6945011171710539\n",
            "Validation Accuracy: 0.5092838196286472\n",
            "Epoch:  33% 1/3 [23:36<47:13, 1416.66s/it]Train loss: 0.686642228469871\n",
            "Validation Accuracy: 0.5596816976127321\n",
            "Epoch:  67% 2/3 [47:11<23:35, 1415.80s/it]Train loss: 0.667722489260925\n",
            "Validation Accuracy: 0.53315649867374\n",
            "Epoch: 100% 3/3 [1:10:41<00:00, 1413.77s/it]\n",
            "total training time is: 4241.314943790436s\n",
            "Model saved!\n",
            "Test Patient Level Accuracy: 0.5883905013192612\n",
            "Test Patient Level F1 Score: 0.5894736842105263\n",
            "Test Patient Level Precision: 0.5925925925925926\n",
            "Test Patient Level Recall: 0.5863874345549738\n",
            "Test Patient Level AUC: 0.5945750250640526 \n",
            "Test Patient Level Matthew's correlation coefficient: 0.17680804262056563\n",
            "Test Patient Level AUPR: 0.5529735214178602 \n",
            "All Finished!\n"
          ]
        }
      ]
    },
    {
      "cell_type": "markdown",
      "source": [
        "####  Hierachical BERT Readmission Prediction"
      ],
      "metadata": {
        "id": "Z_wrnuPOuYPN"
      }
    },
    {
      "cell_type": "code",
      "source": [
        "\n",
        "readmission_mode = 'discharge'\n",
        "data_dir = 'DATA/'\n",
        "data_dir = os.path.join(data_dir, readmission_mode)\n",
        "output_dir = 'experiment'\n",
        "output_dir = os.path.join(output_dir, readmission_mode)\n",
        "model = 'hierachical_bert'\n",
        "output_dir = os.path.join(output_dir, model)\n",
        "\n",
        "num_epoch = 2\n",
        "lr = 1e-4\n",
        "from transformers.optimization import Adafactor, AdafactorSchedule\n",
        "optimizer = Adafactor(params = hierachical_bert.parameters(), lr=lr, relative_step=False)\n",
        "criteria = nn.CrossEntropyLoss()\n",
        "\n",
        "\n",
        "_DIR = 'DATA/'\n",
        "import json\n",
        "train_dir = _DIR + 'discharge/train.json'\n",
        "val_dir = _DIR + 'discharge/val.json'\n",
        "test_dir = _DIR + 'discharge/test.json'\n",
        "\n",
        "\n",
        "train = json.load(open(train_dir))\n",
        "val = json.load(open(val_dir))\n",
        "test = json.load(open(test_dir))\n",
        "\n",
        "def flatten_list_of_list_of_tokens(list_of_list_of_tokens):\n",
        "    return [item for sublist in list_of_list_of_tokens for item in sublist]\n",
        "\n",
        "\n",
        "def list_of_tokens_to_tensor(list_of_tokens):\n",
        "    max_len = max([len(item) for item in list_of_tokens])\n",
        "    res = torch.zeros(len(list_of_tokens), max_len, dtype=torch.long)\n",
        "    attention_mask = torch.zeros(len(list_of_tokens), max_len, dtype=torch.long)\n",
        "    for i, item in enumerate(list_of_tokens):\n",
        "        res[i, :len(item)] = torch.tensor(item)\n",
        "        attention_mask[i, :len(item)] = 1\n",
        "    return res, attention_mask\n",
        "\n",
        "\n",
        "all_losses = []\n",
        "all_acc = []\n",
        "for epoch in range(num_epoch):\n",
        "    for i, item in enumerate(tqdm(train)):\n",
        "        all_tokens = flatten_list_of_list_of_tokens(item['tokens'])\n",
        "        all_tokens, attention_mask = list_of_tokens_to_tensor(all_tokens)\n",
        "        label = torch.tensor([int(item['Label'])]).to(device)\n",
        "        outputs = hierachical_bert(all_tokens.to(device), attention_mask.to(device))\n",
        "        loss = criteria(outputs, label)\n",
        "        loss.backward()\n",
        "        optimizer.step()\n",
        "        optimizer.zero_grad()\n",
        "        all_losses.append(loss.item())\n",
        "        all_acc.append((outputs.argmax(-1)[0] == label).item())\n",
        "        if i % 500 == 0:\n",
        "            print(f'train loss: {sum(all_losses[-200:])/len(all_losses[-200:])}, acc: {sum(all_acc[-200:])/len(all_acc[-200:])}')\n",
        "\n",
        "model_path = os.path.join(output_dir, 'hierachical_bert.pth')\n",
        "torch.save(model, model_path)\n",
        "print(f\"hierachical_bert saved to {model_path}\")"
      ],
      "metadata": {
        "id": "eWdI0OIkufgk"
      },
      "execution_count": null,
      "outputs": []
    },
    {
      "cell_type": "markdown",
      "metadata": {
        "id": "H3faFbfx5MFy"
      },
      "source": [
        "# Evaluation\n",
        "#### Accuracy\n",
        "#### AUROC (Area under the Receiver Operating Characteristic Curve):\n",
        "The area beneath the curve illustrating the true positive rate versus the false positive rate.\n",
        "#### AUPRC (Area under the Precision-Recall Curve):\n",
        "The area beneath the plot of precision against recall, depicting the trade-off between the two metrics.\n",
        "#### RP80 (Recall at Precision of 80%):\n",
        "Represents the recall achieved when precision reaches 80%, especially significant in reducing false positives for readmission prediction."
      ]
    },
    {
      "cell_type": "markdown",
      "metadata": {
        "id": "-ongv0Rcy3b6"
      },
      "source": [
        "### Bert-based readmission prediction using discharge summary"
      ]
    },
    {
      "cell_type": "code",
      "execution_count": null,
      "metadata": {
        "colab": {
          "base_uri": "https://localhost:8080/",
          "height": 1000
        },
        "id": "iwtfSeSS5LSv",
        "outputId": "16ed2d8c-57f2-49dc-b8ec-ce843dd0d67b"
      },
      "outputs": [
        {
          "output_type": "stream",
          "name": "stderr",
          "text": [
            "0it [00:00, ?it/s]Token indices sequence length is longer than the specified maximum sequence length for this model (728 > 512). Running this sequence through the model will result in indexing errors\n",
            "90it [00:00, 446.74it/s]"
          ]
        },
        {
          "output_type": "stream",
          "name": "stdout",
          "text": [
            "*** Example ***\n",
            "guid: test-0\n",
            "tokens: [CLS] date of birth : sex : f service : medicine all ##er ##gies : hal ##do ##l attending : chief complaint : delta ms , let ##har ##gy , ? sep ##sis . major surgical or invasive procedure : none history of present illness : h ##x obtained per ed notes and sister . hp ##i : 35 ##f with disease who presented today from day ##care after her healthcare providers noted that she was let ##har ##gic . they were initially unable to obtain a blood pressure . the patient was noted to have a very rapid heart rate . vital ##s were finally obtained and were as follows : bp 70 / 50 ( baseline sb ##ps 80 - 90 ) , hr 113 , o ##2 sat 99 % on 3 ##l nc . . the patient was transferred to where she was noted to have a te ##mp of 4 , hr 200 and sb ##p 80s . ek ##g was noteworthy for a wide complex ta ##chy ##card ##ia . the patient received aden ##osi ##ne 6 ##mg and then 12 ##mg with no improvement . she was card ##io ##verted into sin ##us rhythm . her d - dime ##r was elevated at 35 ##90 , lac ##tate was 5 and tr ##op t 39 in the setting of renal ins ##uf ##fi ##ciency . a ct - a was negative for a pe . the patient was transferred to the mic ##u for further mgm ##t . . past medical history : disease an ##emia non ##ver ##bal at baseline . social history : med ##s : ty ##len ##ol ensure . soc ##h ##x : patient lives at home with sister and brother . she also goes to day ##care . she is non - verbal at baseline . . family history : father who passed away of d ##z physical exam : t 7 , hr 65 - 68 , bp 91 - 97 / 61 - 63 , r 14 - 21 , o ##2 sat 100 % 2 ##l gen : thin appearing female lying in fetal position in nad hee ##nt : mm dry , op clear heart : nl rate , s ##1 ##s ##2 , no gm ##r lungs : ct ##a b / l abd : flat , soft , nt , n ##d , + bs , negative guard ##in , negative rebound tenderness ex ##t : w ##w ##p , + d ##p b / l ne ##uro : unable to assess . per ##tine ##nt results : ct - a impression : no evidence of pulmonary em ##bol ##ism . poorly defined op ##ac ##ities within the lungs bilateral ##ly , possibly representing combination of ate ##le ##cta ##sis and consolidation . air bro ##nch ##og ##ram ##s in the right middle lobe suggests possible infection . . c ##x ##r impression : left lower lobe process suggesting [SEP]\n",
            "input_ids: 101 3058 1997 4182 1024 3348 1024 1042 2326 1024 4200 2035 2121 17252 1024 11085 3527 2140 7052 1024 2708 12087 1024 7160 5796 1010 2292 8167 6292 1010 1029 19802 6190 1012 2350 11707 2030 17503 7709 1024 3904 2381 1997 2556 7355 1024 1044 2595 4663 2566 3968 3964 1998 2905 1012 6522 2072 1024 3486 2546 2007 4295 2040 3591 2651 2013 2154 16302 2044 2014 9871 11670 3264 2008 2016 2001 2292 8167 12863 1012 2027 2020 3322 4039 2000 6855 1037 2668 3778 1012 1996 5776 2001 3264 2000 2031 1037 2200 5915 2540 3446 1012 8995 2015 2020 2633 4663 1998 2020 2004 4076 1024 17531 3963 1013 2753 1006 26163 24829 4523 3770 1011 3938 1007 1010 17850 12104 1010 1051 2475 2938 5585 1003 2006 1017 2140 13316 1012 1012 1996 5776 2001 4015 2000 2073 2016 2001 3264 2000 2031 1037 8915 8737 1997 1018 1010 17850 3263 1998 24829 2361 16002 1012 23969 2290 2001 19144 2005 1037 2898 3375 11937 11714 11522 2401 1012 1996 5776 2363 16298 20049 2638 1020 24798 1998 2059 2260 24798 2007 2053 7620 1012 2016 2001 4003 3695 26686 2046 8254 2271 6348 1012 2014 1040 1011 27211 2099 2001 8319 2012 3486 21057 1010 18749 12259 2001 1019 1998 19817 7361 1056 4464 1999 1996 4292 1997 25125 16021 16093 8873 29125 1012 1037 14931 1011 1037 2001 4997 2005 1037 21877 1012 1996 5776 2001 4015 2000 1996 23025 2226 2005 2582 15418 2102 1012 1012 2627 2966 2381 1024 4295 2019 17577 2512 6299 10264 2012 26163 1012 2591 2381 1024 19960 2015 1024 5939 7770 4747 5676 1012 27084 2232 2595 1024 5776 3268 2012 2188 2007 2905 1998 2567 1012 2016 2036 3632 2000 2154 16302 1012 2016 2003 2512 1011 12064 2012 26163 1012 1012 2155 2381 1024 2269 2040 2979 2185 1997 1040 2480 3558 11360 1024 1056 1021 1010 17850 3515 1011 6273 1010 17531 6205 1011 5989 1013 6079 1011 6191 1010 1054 2403 1011 2538 1010 1051 2475 2938 2531 1003 1016 2140 8991 1024 4857 6037 2931 4688 1999 25972 2597 1999 23233 18235 3372 1024 3461 4318 1010 6728 3154 2540 1024 17953 3446 1010 1055 2487 2015 2475 1010 2053 13938 2099 8948 1024 14931 2050 1038 1013 1048 19935 1024 4257 1010 3730 1010 23961 1010 1050 2094 1010 1009 18667 1010 4997 3457 2378 1010 4997 27755 24605 4654 2102 1024 1059 2860 2361 1010 1009 1040 2361 1038 1013 1048 11265 10976 1024 4039 2000 14358 1012 2566 10196 3372 3463 1024 14931 1011 1037 8605 1024 2053 3350 1997 21908 7861 14956 2964 1012 9996 4225 6728 6305 6447 2306 1996 8948 17758 2135 1010 4298 5052 5257 1997 8823 2571 25572 6190 1998 17439 1012 2250 22953 12680 8649 6444 2015 1999 1996 2157 2690 21833 6083 2825 8985 1012 1012 1039 2595 2099 8605 1024 2187 2896 21833 2832 9104 102 0 0 0 0 0 0 0 0 0 0 0 0 0 0\n",
            "input_mask: 1 1 1 1 1 1 1 1 1 1 1 1 1 1 1 1 1 1 1 1 1 1 1 1 1 1 1 1 1 1 1 1 1 1 1 1 1 1 1 1 1 1 1 1 1 1 1 1 1 1 1 1 1 1 1 1 1 1 1 1 1 1 1 1 1 1 1 1 1 1 1 1 1 1 1 1 1 1 1 1 1 1 1 1 1 1 1 1 1 1 1 1 1 1 1 1 1 1 1 1 1 1 1 1 1 1 1 1 1 1 1 1 1 1 1 1 1 1 1 1 1 1 1 1 1 1 1 1 1 1 1 1 1 1 1 1 1 1 1 1 1 1 1 1 1 1 1 1 1 1 1 1 1 1 1 1 1 1 1 1 1 1 1 1 1 1 1 1 1 1 1 1 1 1 1 1 1 1 1 1 1 1 1 1 1 1 1 1 1 1 1 1 1 1 1 1 1 1 1 1 1 1 1 1 1 1 1 1 1 1 1 1 1 1 1 1 1 1 1 1 1 1 1 1 1 1 1 1 1 1 1 1 1 1 1 1 1 1 1 1 1 1 1 1 1 1 1 1 1 1 1 1 1 1 1 1 1 1 1 1 1 1 1 1 1 1 1 1 1 1 1 1 1 1 1 1 1 1 1 1 1 1 1 1 1 1 1 1 1 1 1 1 1 1 1 1 1 1 1 1 1 1 1 1 1 1 1 1 1 1 1 1 1 1 1 1 1 1 1 1 1 1 1 1 1 1 1 1 1 1 1 1 1 1 1 1 1 1 1 1 1 1 1 1 1 1 1 1 1 1 1 1 1 1 1 1 1 1 1 1 1 1 1 1 1 1 1 1 1 1 1 1 1 1 1 1 1 1 1 1 1 1 1 1 1 1 1 1 1 1 1 1 1 1 1 1 1 1 1 1 1 1 1 1 1 1 1 1 1 1 1 1 1 1 1 1 1 1 1 1 1 1 1 1 1 1 1 1 1 1 1 1 1 1 1 1 1 1 1 1 1 1 1 1 1 1 1 1 1 1 1 1 1 1 1 1 1 1 1 1 1 1 1 1 1 1 1 1 1 1 1 1 1 1 1 1 1 1 1 1 1 1 1 1 1 1 1 1 1 1 1 1 1 1 1 1 1 1 0 0 0 0 0 0 0 0 0 0 0 0 0 0\n",
            "segment_ids: 0 0 0 0 0 0 0 0 0 0 0 0 0 0 0 0 0 0 0 0 0 0 0 0 0 0 0 0 0 0 0 0 0 0 0 0 0 0 0 0 0 0 0 0 0 0 0 0 0 0 0 0 0 0 0 0 0 0 0 0 0 0 0 0 0 0 0 0 0 0 0 0 0 0 0 0 0 0 0 0 0 0 0 0 0 0 0 0 0 0 0 0 0 0 0 0 0 0 0 0 0 0 0 0 0 0 0 0 0 0 0 0 0 0 0 0 0 0 0 0 0 0 0 0 0 0 0 0 0 0 0 0 0 0 0 0 0 0 0 0 0 0 0 0 0 0 0 0 0 0 0 0 0 0 0 0 0 0 0 0 0 0 0 0 0 0 0 0 0 0 0 0 0 0 0 0 0 0 0 0 0 0 0 0 0 0 0 0 0 0 0 0 0 0 0 0 0 0 0 0 0 0 0 0 0 0 0 0 0 0 0 0 0 0 0 0 0 0 0 0 0 0 0 0 0 0 0 0 0 0 0 0 0 0 0 0 0 0 0 0 0 0 0 0 0 0 0 0 0 0 0 0 0 0 0 0 0 0 0 0 0 0 0 0 0 0 0 0 0 0 0 0 0 0 0 0 0 0 0 0 0 0 0 0 0 0 0 0 0 0 0 0 0 0 0 0 0 0 0 0 0 0 0 0 0 0 0 0 0 0 0 0 0 0 0 0 0 0 0 0 0 0 0 0 0 0 0 0 0 0 0 0 0 0 0 0 0 0 0 0 0 0 0 0 0 0 0 0 0 0 0 0 0 0 0 0 0 0 0 0 0 0 0 0 0 0 0 0 0 0 0 0 0 0 0 0 0 0 0 0 0 0 0 0 0 0 0 0 0 0 0 0 0 0 0 0 0 0 0 0 0 0 0 0 0 0 0 0 0 0 0 0 0 0 0 0 0 0 0 0 0 0 0 0 0 0 0 0 0 0 0 0 0 0 0 0 0 0 0 0 0 0 0 0 0 0 0 0 0 0 0 0 0 0 0 0 0 0 0 0 0 0 0 0 0 0 0 0 0 0 0 0 0 0 0 0 0 0 0 0 0 0 0 0 0 0 0 0 0 0 0 0 0 0 0 0 0 0 0 0 0 0 0 0 0 0 0 0 0 0 0 0\n",
            "label: 1 (id = 1)\n",
            "*** Example ***\n",
            "guid: test-1\n",
            "tokens: [CLS] pneumonia . . echo the left atrium is normal in size . left vent ##ric ##ular wall thickness ##es are normal . the left vent ##ric ##ular cavity is moderately dil ##ated . there is severe global left vent ##ric ##ular h ##yp ##oki ##nes ##is . no masses or th ##rom ##bi are seen in the left vent ##ric ##le . right vent ##ric ##ular sy ##sto ##lic function is border ##line normal . the ao ##rti ##c valve leaflets ( 3 ) appear structurally normal with good leaf ##let excursion and no ao ##rti ##c reg ##urg ##itation . the mit ##ral valve leaflets are structurally normal . moderate ( 2 + ) mit ##ral reg ##urg ##itation is seen . the mit ##ral reg ##urg ##itation jet is eccentric . the tri ##cus ##pid reg ##urg ##itation jet is eccentric and may be under ##est ##imated . there is a small per ##ica ##rdial e ##ff ##usion . . impression : dil ##ated card ##iom ##yo ##pathy with severely depressed l ##ve ##f . e ##f 10 % . . ek ##g vent ##ric ##ular ta ##cc ##hy ##card ##ia at 200 ##b ##pm . 10 : 30 ##pm urine bn ##zo ##d ##z ##p ##n - po ##s bar ##bit ##rt - ne ##g op ##iate ##s - ne ##g cocaine - ne ##g amp ##het ##m ##n - ne ##g mt ##hd ##one - ne ##g 08 : 30 ##pm glucose - 100 sodium - 141 potassium - 8 chloride - 111 * total co ##2 - 20 * an ##ion gap - 15 08 : 30 ##pm ld ( ld ##h ) - 49 ##3 * 08 : 30 ##pm calcium - 2 * phosphate - 8 magnesium - 1 08 : 30 ##pm os ##mo ##lal - 308 08 : 30 ##pm asa - ne ##g ethanol - ne ##g ace ##tm ##np ##hn - ne ##g bn ##zo ##d ##z ##p ##n - ne ##g bar ##bit ##rt - ne ##g tri ##cy ##cl ##ic - ne ##g 08 : 30 ##pm wb ##c - 8 rb ##c - 09 * h ##gb - 5 * hc ##t - 2 * mc ##v - 79 * mc ##h - 8 * mc ##hc - 7 rd ##w - 2 * 08 : 30 ##pm pl ##t count - 140 * 04 : 00pm urine color - yellow appear - clear sp - 02 ##2 04 : 00pm urine blood - ne ##g ni ##tri ##te - ne ##g protein - tr glucose - ne ##g ke ##tone - tr bi ##li ##ru ##bin - ne ##g ur ##ob ##il ##ng ##n - ne ##g ph - 0 le ##uk - ne ##g 04 : 00pm urine rb ##c - 0 - 2 wb ##c - bacteria - rare yeast - few ep ##i - 04 : 00pm urine mu ##cous - mod 03 : 33 ##pm lac ##tate - 5 * 02 : 53 ##pm glucose - 116 * ur ##ea n [SEP]\n",
            "input_ids: 101 18583 1012 1012 9052 1996 2187 26204 2003 3671 1999 2946 1012 2187 18834 7277 7934 2813 14983 2229 2024 3671 1012 1996 2187 18834 7277 7934 17790 2003 17844 29454 4383 1012 2045 2003 5729 3795 2187 18834 7277 7934 1044 22571 23212 5267 2483 1012 2053 11678 2030 16215 21716 5638 2024 2464 1999 1996 2187 18834 7277 2571 1012 2157 18834 7277 7934 25353 16033 10415 3853 2003 3675 4179 3671 1012 1996 20118 28228 2278 10764 27306 1006 1017 1007 3711 29060 3671 2007 2204 7053 7485 26144 1998 2053 20118 28228 2278 19723 12514 18557 1012 1996 10210 7941 10764 27306 2024 29060 3671 1012 8777 1006 1016 1009 1007 10210 7941 19723 12514 18557 2003 2464 1012 1996 10210 7941 19723 12514 18557 6892 2003 18080 1012 1996 13012 7874 23267 19723 12514 18557 6892 2003 18080 1998 2089 2022 2104 4355 20592 1012 2045 2003 1037 2235 2566 5555 25070 1041 4246 14499 1012 1012 8605 1024 29454 4383 4003 18994 7677 20166 2007 8949 14777 1048 3726 2546 1012 1041 2546 2184 1003 1012 1012 23969 2290 18834 7277 7934 11937 9468 10536 11522 2401 2012 3263 2497 9737 1012 2184 1024 2382 9737 17996 24869 6844 2094 2480 2361 2078 1011 13433 2015 3347 16313 5339 1011 11265 2290 6728 13143 2015 1011 11265 2290 16034 1011 11265 2290 23713 27065 2213 2078 1011 11265 2290 11047 14945 5643 1011 11265 2290 5511 1024 2382 9737 18423 1011 2531 13365 1011 15471 18044 1011 1022 19057 1011 11118 1008 2561 2522 2475 1011 2322 1008 2019 3258 6578 1011 2321 5511 1024 2382 9737 25510 1006 25510 2232 1007 1011 4749 2509 1008 5511 1024 2382 9737 13853 1011 1016 1008 17344 1011 1022 24983 1011 1015 5511 1024 2382 9737 9808 5302 13837 1011 24232 5511 1024 2382 9737 17306 1011 11265 2290 22886 1011 11265 2290 9078 21246 16275 7295 1011 11265 2290 24869 6844 2094 2480 2361 2078 1011 11265 2290 3347 16313 5339 1011 11265 2290 13012 5666 20464 2594 1011 11265 2290 5511 1024 2382 9737 25610 2278 1011 1022 21144 2278 1011 5641 1008 1044 18259 1011 1019 1008 16731 2102 1011 1016 1008 11338 2615 1011 6535 1008 11338 2232 1011 1022 1008 11338 16257 1011 1021 16428 2860 1011 1016 1008 5511 1024 2382 9737 20228 2102 4175 1011 8574 1008 5840 1024 27995 17996 3609 1011 3756 3711 1011 3154 11867 1011 6185 2475 5840 1024 27995 17996 2668 1011 11265 2290 9152 18886 2618 1011 11265 2290 5250 1011 19817 18423 1011 11265 2290 17710 5524 1011 19817 12170 3669 6820 8428 1011 11265 2290 24471 16429 4014 3070 2078 1011 11265 2290 6887 1011 1014 3393 6968 1011 11265 2290 5840 1024 27995 17996 21144 2278 1011 1014 1011 1016 25610 2278 1011 10327 1011 4678 21957 1011 2261 4958 2072 1011 5840 1024 27995 17996 14163 27199 1011 16913 6021 1024 3943 9737 18749 12259 1011 1019 1008 6185 1024 5187 9737 18423 1011 12904 1008 24471 5243 1050 102\n",
            "input_mask: 1 1 1 1 1 1 1 1 1 1 1 1 1 1 1 1 1 1 1 1 1 1 1 1 1 1 1 1 1 1 1 1 1 1 1 1 1 1 1 1 1 1 1 1 1 1 1 1 1 1 1 1 1 1 1 1 1 1 1 1 1 1 1 1 1 1 1 1 1 1 1 1 1 1 1 1 1 1 1 1 1 1 1 1 1 1 1 1 1 1 1 1 1 1 1 1 1 1 1 1 1 1 1 1 1 1 1 1 1 1 1 1 1 1 1 1 1 1 1 1 1 1 1 1 1 1 1 1 1 1 1 1 1 1 1 1 1 1 1 1 1 1 1 1 1 1 1 1 1 1 1 1 1 1 1 1 1 1 1 1 1 1 1 1 1 1 1 1 1 1 1 1 1 1 1 1 1 1 1 1 1 1 1 1 1 1 1 1 1 1 1 1 1 1 1 1 1 1 1 1 1 1 1 1 1 1 1 1 1 1 1 1 1 1 1 1 1 1 1 1 1 1 1 1 1 1 1 1 1 1 1 1 1 1 1 1 1 1 1 1 1 1 1 1 1 1 1 1 1 1 1 1 1 1 1 1 1 1 1 1 1 1 1 1 1 1 1 1 1 1 1 1 1 1 1 1 1 1 1 1 1 1 1 1 1 1 1 1 1 1 1 1 1 1 1 1 1 1 1 1 1 1 1 1 1 1 1 1 1 1 1 1 1 1 1 1 1 1 1 1 1 1 1 1 1 1 1 1 1 1 1 1 1 1 1 1 1 1 1 1 1 1 1 1 1 1 1 1 1 1 1 1 1 1 1 1 1 1 1 1 1 1 1 1 1 1 1 1 1 1 1 1 1 1 1 1 1 1 1 1 1 1 1 1 1 1 1 1 1 1 1 1 1 1 1 1 1 1 1 1 1 1 1 1 1 1 1 1 1 1 1 1 1 1 1 1 1 1 1 1 1 1 1 1 1 1 1 1 1 1 1 1 1 1 1 1 1 1 1 1 1 1 1 1 1 1 1 1 1 1 1 1 1 1 1 1 1 1 1 1 1 1 1 1 1 1 1 1 1 1 1 1 1 1 1 1 1 1 1 1 1 1 1 1 1 1 1 1 1 1 1 1 1 1 1 1 1 1 1 1 1 1 1 1 1 1 1 1 1 1 1 1\n",
            "segment_ids: 0 0 0 0 0 0 0 0 0 0 0 0 0 0 0 0 0 0 0 0 0 0 0 0 0 0 0 0 0 0 0 0 0 0 0 0 0 0 0 0 0 0 0 0 0 0 0 0 0 0 0 0 0 0 0 0 0 0 0 0 0 0 0 0 0 0 0 0 0 0 0 0 0 0 0 0 0 0 0 0 0 0 0 0 0 0 0 0 0 0 0 0 0 0 0 0 0 0 0 0 0 0 0 0 0 0 0 0 0 0 0 0 0 0 0 0 0 0 0 0 0 0 0 0 0 0 0 0 0 0 0 0 0 0 0 0 0 0 0 0 0 0 0 0 0 0 0 0 0 0 0 0 0 0 0 0 0 0 0 0 0 0 0 0 0 0 0 0 0 0 0 0 0 0 0 0 0 0 0 0 0 0 0 0 0 0 0 0 0 0 0 0 0 0 0 0 0 0 0 0 0 0 0 0 0 0 0 0 0 0 0 0 0 0 0 0 0 0 0 0 0 0 0 0 0 0 0 0 0 0 0 0 0 0 0 0 0 0 0 0 0 0 0 0 0 0 0 0 0 0 0 0 0 0 0 0 0 0 0 0 0 0 0 0 0 0 0 0 0 0 0 0 0 0 0 0 0 0 0 0 0 0 0 0 0 0 0 0 0 0 0 0 0 0 0 0 0 0 0 0 0 0 0 0 0 0 0 0 0 0 0 0 0 0 0 0 0 0 0 0 0 0 0 0 0 0 0 0 0 0 0 0 0 0 0 0 0 0 0 0 0 0 0 0 0 0 0 0 0 0 0 0 0 0 0 0 0 0 0 0 0 0 0 0 0 0 0 0 0 0 0 0 0 0 0 0 0 0 0 0 0 0 0 0 0 0 0 0 0 0 0 0 0 0 0 0 0 0 0 0 0 0 0 0 0 0 0 0 0 0 0 0 0 0 0 0 0 0 0 0 0 0 0 0 0 0 0 0 0 0 0 0 0 0 0 0 0 0 0 0 0 0 0 0 0 0 0 0 0 0 0 0 0 0 0 0 0 0 0 0 0 0 0 0 0 0 0 0 0 0 0 0 0 0 0 0 0 0 0 0 0 0 0 0 0 0 0 0 0 0 0 0 0 0 0 0 0 0 0 0 0 0 0 0 0 0 0 0 0 0 0 0\n",
            "label: 1 (id = 1)\n",
            "*** Example ***\n",
            "guid: test-2\n",
            "tokens: [CLS] may recommend li ##sin ##op ##ril low dose as an out ##patient , follow up in 1 month with card ##iology . p ##na - patient received lev ##aq ##uin , van ##c , flag ##yl and ce ##ft ##ria ##xon ##e in the ed . imaging concerning for pneumonia . - trend le ##uk ##oc ##yt ##osis and fever curve - change una ##sy ##n for coverage of as ##piration p ##na to aug ##ment ##in 500 ##mg po ti ##d today ( ) - blood cultures : pending - urine cultures : ng ##t ##d final . delta ms : per patient ' s pc ##p , . , and pt ' s sister - patient is at baseline . let ##har ##gy may have been infection . will continue infectious w / u and treatment . to ##x screen negative except for benz ##os . . elevated liver enzymes : most likely shock liver , h ##yp ##ote ##ns ##ion during v - ta ##ch and card ##io ##version ; ku ##b was normal . - trend l ##ft ' s : improving over time - ru ##q ultrasound : liver and gall ##bla ##dder normal with right pl ##eur ##al e ##ff ##usion and as ##cite ##s ; . an ##emia : stable over hospital course - will monitor daily - patient has a h ##x of an ##emia . . elevated d - dime ##r ct ##a - negative , may be acute phase react ##ant . . fen - rep ##lete l ##yte ##s , as ##piration precautions . . pp ##x : p ##ne ##um ##ob ##oot ##s , he ##par ##in sc and pp ##i . fc confirmed with sister . brother : ( c ) , ( h ) france ##tta medications on admission : none discharge medications : ami ##oda ##rone 200 mg tablet si ##g : one ( 1 ) tablet po daily ( daily ) . di ##sp : * 30 tablet ( s ) * ref ##ill ##s : * 2 * am ##ox ##ici ##llin - pot cl ##av ##ula ##nate 250 - 5 mg / 5 ml suspension for rec ##ons ##ti ##tu ##tion si ##g : ten ( 10 ) ml po ti ##d ( 3 times a day ) for 7 days . di ##sp : * 210 ml * ref ##ill ##s : * 0 * discharge disposition : home with service facility : discharge diagnosis : su ##pr ##ave ##nt ##ric ##ular ta ##chy ##card ##ia requiring card ##io ##version pneumonia discharge condition : stable and improving discharge instructions : you will be discharged home today after being in the hospital for both a fast heart rate and a pneumonia . both of these were controlled in the hospital , and you will be sent home with two new medications . the anti ##biotic aug ##ment ##in is to help treat your pneumonia . you will take this for the next 7 days . you are also prescribed ami ##oda ##rone [SEP]\n",
            "input_ids: 101 2089 16755 5622 11493 7361 15928 2659 13004 2004 2019 2041 24343 1010 3582 2039 1999 1015 3204 2007 4003 20569 1012 1052 2532 1011 5776 2363 23310 20784 20023 1010 3158 2278 1010 5210 8516 1998 8292 6199 4360 22500 2063 1999 1996 3968 1012 12126 7175 2005 18583 1012 1011 9874 3393 6968 10085 22123 12650 1998 9016 7774 1011 2689 14477 6508 2078 2005 6325 1997 2004 16781 1052 2532 2000 15476 3672 2378 3156 24798 13433 14841 2094 2651 1006 1007 1011 2668 8578 1024 14223 1011 17996 8578 1024 12835 2102 2094 2345 1012 7160 5796 1024 2566 5776 1005 1055 7473 2361 1010 1012 1010 1998 13866 1005 1055 2905 1011 5776 2003 2012 26163 1012 2292 8167 6292 2089 2031 2042 8985 1012 2097 3613 16514 1059 1013 1057 1998 3949 1012 2000 2595 3898 4997 3272 2005 17770 2891 1012 1012 8319 11290 16285 1024 2087 3497 5213 11290 1010 1044 22571 12184 3619 3258 2076 1058 1011 11937 2818 1998 4003 3695 27774 1025 13970 2497 2001 3671 1012 1011 9874 1048 6199 1005 1055 1024 9229 2058 2051 1011 21766 4160 27312 1024 11290 1998 26033 28522 20791 3671 2007 2157 20228 11236 2389 1041 4246 14499 1998 2004 17847 2015 1025 1012 2019 17577 1024 6540 2058 2902 2607 1011 2097 8080 3679 1011 5776 2038 1037 1044 2595 1997 2019 17577 1012 1012 8319 1040 1011 27211 2099 14931 2050 1011 4997 1010 2089 2022 11325 4403 10509 4630 1012 1012 21713 1011 16360 25890 1048 17250 2015 1010 2004 16781 29361 1012 1012 4903 2595 1024 1052 2638 2819 16429 17206 2015 1010 2002 19362 2378 8040 1998 4903 2072 1012 4429 4484 2007 2905 1012 2567 1024 1006 1039 1007 1010 1006 1044 1007 2605 5946 20992 2006 9634 1024 3904 11889 20992 1024 26445 13390 20793 3263 11460 13855 9033 2290 1024 2028 1006 1015 1007 13855 13433 3679 1006 3679 1007 1012 4487 13102 1024 1008 2382 13855 1006 1055 1007 1008 25416 8591 2015 1024 1008 1016 1008 2572 11636 28775 21202 1011 8962 18856 11431 7068 12556 5539 1011 1019 11460 1013 1019 19875 8636 2005 28667 5644 3775 8525 3508 9033 2290 1024 2702 1006 2184 1007 19875 13433 14841 2094 1006 1017 2335 1037 2154 1007 2005 1021 2420 1012 4487 13102 1024 1008 12875 19875 1008 25416 8591 2015 1024 1008 1014 1008 11889 22137 1024 2188 2007 2326 4322 1024 11889 11616 1024 10514 18098 10696 3372 7277 7934 11937 11714 11522 2401 9034 4003 3695 27774 18583 11889 4650 1024 6540 1998 9229 11889 8128 1024 2017 2097 2022 14374 2188 2651 2044 2108 1999 1996 2902 2005 2119 1037 3435 2540 3446 1998 1037 18583 1012 2119 1997 2122 2020 4758 1999 1996 2902 1010 1998 2017 2097 2022 2741 2188 2007 2048 2047 20992 1012 1996 3424 26591 15476 3672 2378 2003 2000 2393 7438 2115 18583 1012 2017 2097 2202 2023 2005 1996 2279 1021 2420 1012 2017 2024 2036 16250 26445 13390 20793 102\n",
            "input_mask: 1 1 1 1 1 1 1 1 1 1 1 1 1 1 1 1 1 1 1 1 1 1 1 1 1 1 1 1 1 1 1 1 1 1 1 1 1 1 1 1 1 1 1 1 1 1 1 1 1 1 1 1 1 1 1 1 1 1 1 1 1 1 1 1 1 1 1 1 1 1 1 1 1 1 1 1 1 1 1 1 1 1 1 1 1 1 1 1 1 1 1 1 1 1 1 1 1 1 1 1 1 1 1 1 1 1 1 1 1 1 1 1 1 1 1 1 1 1 1 1 1 1 1 1 1 1 1 1 1 1 1 1 1 1 1 1 1 1 1 1 1 1 1 1 1 1 1 1 1 1 1 1 1 1 1 1 1 1 1 1 1 1 1 1 1 1 1 1 1 1 1 1 1 1 1 1 1 1 1 1 1 1 1 1 1 1 1 1 1 1 1 1 1 1 1 1 1 1 1 1 1 1 1 1 1 1 1 1 1 1 1 1 1 1 1 1 1 1 1 1 1 1 1 1 1 1 1 1 1 1 1 1 1 1 1 1 1 1 1 1 1 1 1 1 1 1 1 1 1 1 1 1 1 1 1 1 1 1 1 1 1 1 1 1 1 1 1 1 1 1 1 1 1 1 1 1 1 1 1 1 1 1 1 1 1 1 1 1 1 1 1 1 1 1 1 1 1 1 1 1 1 1 1 1 1 1 1 1 1 1 1 1 1 1 1 1 1 1 1 1 1 1 1 1 1 1 1 1 1 1 1 1 1 1 1 1 1 1 1 1 1 1 1 1 1 1 1 1 1 1 1 1 1 1 1 1 1 1 1 1 1 1 1 1 1 1 1 1 1 1 1 1 1 1 1 1 1 1 1 1 1 1 1 1 1 1 1 1 1 1 1 1 1 1 1 1 1 1 1 1 1 1 1 1 1 1 1 1 1 1 1 1 1 1 1 1 1 1 1 1 1 1 1 1 1 1 1 1 1 1 1 1 1 1 1 1 1 1 1 1 1 1 1 1 1 1 1 1 1 1 1 1 1 1 1 1 1 1 1 1 1 1 1 1 1 1 1 1 1 1 1 1 1 1 1 1 1 1 1 1 1 1 1 1 1 1 1 1 1 1 1 1 1 1 1 1 1 1 1 1 1 1 1 1 1 1 1 1 1 1 1 1\n",
            "segment_ids: 0 0 0 0 0 0 0 0 0 0 0 0 0 0 0 0 0 0 0 0 0 0 0 0 0 0 0 0 0 0 0 0 0 0 0 0 0 0 0 0 0 0 0 0 0 0 0 0 0 0 0 0 0 0 0 0 0 0 0 0 0 0 0 0 0 0 0 0 0 0 0 0 0 0 0 0 0 0 0 0 0 0 0 0 0 0 0 0 0 0 0 0 0 0 0 0 0 0 0 0 0 0 0 0 0 0 0 0 0 0 0 0 0 0 0 0 0 0 0 0 0 0 0 0 0 0 0 0 0 0 0 0 0 0 0 0 0 0 0 0 0 0 0 0 0 0 0 0 0 0 0 0 0 0 0 0 0 0 0 0 0 0 0 0 0 0 0 0 0 0 0 0 0 0 0 0 0 0 0 0 0 0 0 0 0 0 0 0 0 0 0 0 0 0 0 0 0 0 0 0 0 0 0 0 0 0 0 0 0 0 0 0 0 0 0 0 0 0 0 0 0 0 0 0 0 0 0 0 0 0 0 0 0 0 0 0 0 0 0 0 0 0 0 0 0 0 0 0 0 0 0 0 0 0 0 0 0 0 0 0 0 0 0 0 0 0 0 0 0 0 0 0 0 0 0 0 0 0 0 0 0 0 0 0 0 0 0 0 0 0 0 0 0 0 0 0 0 0 0 0 0 0 0 0 0 0 0 0 0 0 0 0 0 0 0 0 0 0 0 0 0 0 0 0 0 0 0 0 0 0 0 0 0 0 0 0 0 0 0 0 0 0 0 0 0 0 0 0 0 0 0 0 0 0 0 0 0 0 0 0 0 0 0 0 0 0 0 0 0 0 0 0 0 0 0 0 0 0 0 0 0 0 0 0 0 0 0 0 0 0 0 0 0 0 0 0 0 0 0 0 0 0 0 0 0 0 0 0 0 0 0 0 0 0 0 0 0 0 0 0 0 0 0 0 0 0 0 0 0 0 0 0 0 0 0 0 0 0 0 0 0 0 0 0 0 0 0 0 0 0 0 0 0 0 0 0 0 0 0 0 0 0 0 0 0 0 0 0 0 0 0 0 0 0 0 0 0 0 0 0 0 0 0 0 0 0 0 0 0 0 0 0 0 0 0 0 0 0 0 0 0 0 0 0 0 0 0 0 0 0 0 0\n",
            "label: 1 (id = 1)\n",
            "*** Example ***\n",
            "guid: test-3\n",
            "tokens: [CLS] should develop any chest pain , short ##ness of breath , nausea , vomiting , difficulty eating , cough , fever or any other concerns , please call dr or return to the emergency department follow ##up instructions : please follow up with dr within the next week . dr should set up a follow up with card ##iology within the next month . [SEP]\n",
            "input_ids: 101 2323 4503 2151 3108 3255 1010 2460 2791 1997 3052 1010 19029 1010 24780 1010 7669 5983 1010 19340 1010 9016 2030 2151 2060 5936 1010 3531 2655 2852 2030 2709 2000 1996 5057 2533 3582 6279 8128 1024 3531 3582 2039 2007 2852 2306 1996 2279 2733 1012 2852 2323 2275 2039 1037 3582 2039 2007 4003 20569 2306 1996 2279 3204 1012 102 0 0 0 0 0 0 0 0 0 0 0 0 0 0 0 0 0 0 0 0 0 0 0 0 0 0 0 0 0 0 0 0 0 0 0 0 0 0 0 0 0 0 0 0 0 0 0 0 0 0 0 0 0 0 0 0 0 0 0 0 0 0 0 0 0 0 0 0 0 0 0 0 0 0 0 0 0 0 0 0 0 0 0 0 0 0 0 0 0 0 0 0 0 0 0 0 0 0 0 0 0 0 0 0 0 0 0 0 0 0 0 0 0 0 0 0 0 0 0 0 0 0 0 0 0 0 0 0 0 0 0 0 0 0 0 0 0 0 0 0 0 0 0 0 0 0 0 0 0 0 0 0 0 0 0 0 0 0 0 0 0 0 0 0 0 0 0 0 0 0 0 0 0 0 0 0 0 0 0 0 0 0 0 0 0 0 0 0 0 0 0 0 0 0 0 0 0 0 0 0 0 0 0 0 0 0 0 0 0 0 0 0 0 0 0 0 0 0 0 0 0 0 0 0 0 0 0 0 0 0 0 0 0 0 0 0 0 0 0 0 0 0 0 0 0 0 0 0 0 0 0 0 0 0 0 0 0 0 0 0 0 0 0 0 0 0 0 0 0 0 0 0 0 0 0 0 0 0 0 0 0 0 0 0 0 0 0 0 0 0 0 0 0 0 0 0 0 0 0 0 0 0 0 0 0 0 0 0 0 0 0 0 0 0 0 0 0 0 0 0 0 0 0 0 0 0 0 0 0 0 0 0 0 0 0 0 0 0 0 0 0 0 0 0 0 0 0 0 0 0 0 0 0 0 0 0 0 0 0 0 0 0 0 0 0 0 0 0 0 0 0 0 0 0 0 0 0 0 0 0 0 0 0 0 0 0 0 0 0 0 0 0 0 0 0 0 0 0 0 0 0 0 0 0 0 0 0 0 0 0 0 0 0 0 0 0 0 0 0 0 0 0 0 0 0 0 0 0 0 0 0 0 0 0 0 0 0 0 0 0 0 0 0 0 0 0\n",
            "input_mask: 1 1 1 1 1 1 1 1 1 1 1 1 1 1 1 1 1 1 1 1 1 1 1 1 1 1 1 1 1 1 1 1 1 1 1 1 1 1 1 1 1 1 1 1 1 1 1 1 1 1 1 1 1 1 1 1 1 1 1 1 1 1 1 1 1 1 0 0 0 0 0 0 0 0 0 0 0 0 0 0 0 0 0 0 0 0 0 0 0 0 0 0 0 0 0 0 0 0 0 0 0 0 0 0 0 0 0 0 0 0 0 0 0 0 0 0 0 0 0 0 0 0 0 0 0 0 0 0 0 0 0 0 0 0 0 0 0 0 0 0 0 0 0 0 0 0 0 0 0 0 0 0 0 0 0 0 0 0 0 0 0 0 0 0 0 0 0 0 0 0 0 0 0 0 0 0 0 0 0 0 0 0 0 0 0 0 0 0 0 0 0 0 0 0 0 0 0 0 0 0 0 0 0 0 0 0 0 0 0 0 0 0 0 0 0 0 0 0 0 0 0 0 0 0 0 0 0 0 0 0 0 0 0 0 0 0 0 0 0 0 0 0 0 0 0 0 0 0 0 0 0 0 0 0 0 0 0 0 0 0 0 0 0 0 0 0 0 0 0 0 0 0 0 0 0 0 0 0 0 0 0 0 0 0 0 0 0 0 0 0 0 0 0 0 0 0 0 0 0 0 0 0 0 0 0 0 0 0 0 0 0 0 0 0 0 0 0 0 0 0 0 0 0 0 0 0 0 0 0 0 0 0 0 0 0 0 0 0 0 0 0 0 0 0 0 0 0 0 0 0 0 0 0 0 0 0 0 0 0 0 0 0 0 0 0 0 0 0 0 0 0 0 0 0 0 0 0 0 0 0 0 0 0 0 0 0 0 0 0 0 0 0 0 0 0 0 0 0 0 0 0 0 0 0 0 0 0 0 0 0 0 0 0 0 0 0 0 0 0 0 0 0 0 0 0 0 0 0 0 0 0 0 0 0 0 0 0 0 0 0 0 0 0 0 0 0 0 0 0 0 0 0 0 0 0 0 0 0 0 0 0 0 0 0 0 0 0 0 0 0 0 0 0 0 0 0 0 0 0 0 0 0 0 0 0 0 0 0 0 0 0 0 0 0 0 0 0 0 0 0 0 0 0 0 0 0 0 0 0 0 0 0\n",
            "segment_ids: 0 0 0 0 0 0 0 0 0 0 0 0 0 0 0 0 0 0 0 0 0 0 0 0 0 0 0 0 0 0 0 0 0 0 0 0 0 0 0 0 0 0 0 0 0 0 0 0 0 0 0 0 0 0 0 0 0 0 0 0 0 0 0 0 0 0 0 0 0 0 0 0 0 0 0 0 0 0 0 0 0 0 0 0 0 0 0 0 0 0 0 0 0 0 0 0 0 0 0 0 0 0 0 0 0 0 0 0 0 0 0 0 0 0 0 0 0 0 0 0 0 0 0 0 0 0 0 0 0 0 0 0 0 0 0 0 0 0 0 0 0 0 0 0 0 0 0 0 0 0 0 0 0 0 0 0 0 0 0 0 0 0 0 0 0 0 0 0 0 0 0 0 0 0 0 0 0 0 0 0 0 0 0 0 0 0 0 0 0 0 0 0 0 0 0 0 0 0 0 0 0 0 0 0 0 0 0 0 0 0 0 0 0 0 0 0 0 0 0 0 0 0 0 0 0 0 0 0 0 0 0 0 0 0 0 0 0 0 0 0 0 0 0 0 0 0 0 0 0 0 0 0 0 0 0 0 0 0 0 0 0 0 0 0 0 0 0 0 0 0 0 0 0 0 0 0 0 0 0 0 0 0 0 0 0 0 0 0 0 0 0 0 0 0 0 0 0 0 0 0 0 0 0 0 0 0 0 0 0 0 0 0 0 0 0 0 0 0 0 0 0 0 0 0 0 0 0 0 0 0 0 0 0 0 0 0 0 0 0 0 0 0 0 0 0 0 0 0 0 0 0 0 0 0 0 0 0 0 0 0 0 0 0 0 0 0 0 0 0 0 0 0 0 0 0 0 0 0 0 0 0 0 0 0 0 0 0 0 0 0 0 0 0 0 0 0 0 0 0 0 0 0 0 0 0 0 0 0 0 0 0 0 0 0 0 0 0 0 0 0 0 0 0 0 0 0 0 0 0 0 0 0 0 0 0 0 0 0 0 0 0 0 0 0 0 0 0 0 0 0 0 0 0 0 0 0 0 0 0 0 0 0 0 0 0 0 0 0 0 0 0 0 0 0 0 0 0 0 0 0 0 0 0 0 0 0 0 0 0 0 0 0 0 0 0 0 0 0 0 0 0 0 0 0 0 0 0 0 0 0 0 0\n",
            "label: 1 (id = 1)\n",
            "*** Example ***\n",
            "guid: test-4\n",
            "tokens: [CLS] date of birth : sex : f service : medicine all ##er ##gies : pen ##ici ##llins / per ##co ##ce ##t attending : chief complaint : face , left arm and breast swelling major surgical or invasive procedure : intra ##ven ##ous cat ##het ##eri ##zation of sv ##c / iv ##c . history of present illness : 23 year old woman with es ##rd , sl ##e , recently placed pd cat ##het ##er who presents with per ##ior ##bit ##al swelling and hyper ##tens ##ive urgency . of note she was recently admitted for tongue swelling on . at that time she was treated with sol ##u - med ##rol , fa ##mot ##idi ##ne and ben ##ad ##ryl in the emergency room , which was continued for a total of three doses on the floor . the swelling improved throughout her stay . she had been on both an ace , and dr ##i at home , which she has been taking for many years . patient states that the tongue swelling is most likely due to a sar ##dine all ##ergy . however , she had recently added dil ##aud ##id to her medications following pd cat ##het ##er placement , so all ##ergy to dil ##aud ##id was also considered . the ace , and dr ##i were held on the day of admission for ? ang ##io ##ede ##ma but restarted on day of discharge without incident so she was discharged on them . she returned to the ed with acute onset bilateral eye swelling since night of . vs t 9 hr 78 bp 231 / 120 rr 20 sat 100 % ra . she was given iv sol ##ume ##dro ##l 125 ##iv , ben ##ad ##ryl iv , and pep ##ci ##d . her bp was noted to be 240 ' s despite lab ##eto ##lo ##l 900 ##mg po , then lab ##eto ##lo ##l 20 ##mg iv x ##2 so was started on lab ##eto ##lo ##l gt ##t : highest dose 2 ##mg / min . this was stopped after 35 minutes , in favor of ni ##tro gt ##t . states compliant with med ##s at home . patient was comfortable on admission to the mic ##u . notes pain in abdomen 5 / 10 related to pd cat ##het ##er placement ( has had since then ) , improves with mor ##phine . also notes swelling in eyes / face since last night ( has had in the past but never this severe , always goes away on its own ) . she feels whole body is swollen slightly but no more upper ex ##tre ##mit ##ies than lower . she [SEP]\n",
            "input_ids: 101 3058 1997 4182 1024 3348 1024 1042 2326 1024 4200 2035 2121 17252 1024 7279 28775 26655 1013 2566 3597 3401 2102 7052 1024 2708 12087 1024 2227 1010 2187 2849 1998 7388 18348 2350 11707 2030 17503 7709 1024 26721 8159 3560 4937 27065 11124 9276 1997 17917 2278 1013 4921 2278 1012 2381 1997 2556 7355 1024 2603 2095 2214 2450 2007 9686 4103 1010 22889 2063 1010 3728 2872 22851 4937 27065 2121 2040 7534 2007 2566 25346 16313 2389 18348 1998 23760 25808 3512 19353 1012 1997 3602 2016 2001 3728 4914 2005 4416 18348 2006 1012 2012 2008 2051 2016 2001 5845 2007 14017 2226 1011 19960 13153 1010 6904 18938 28173 2638 1998 3841 4215 23320 1999 1996 5057 2282 1010 2029 2001 2506 2005 1037 2561 1997 2093 21656 2006 1996 2723 1012 1996 18348 5301 2802 2014 2994 1012 2016 2018 2042 2006 2119 2019 9078 1010 1998 2852 2072 2012 2188 1010 2029 2016 2038 2042 2635 2005 2116 2086 1012 5776 2163 2008 1996 4416 18348 2003 2087 3497 2349 2000 1037 18906 10672 2035 24395 1012 2174 1010 2016 2018 3728 2794 29454 19513 3593 2000 2014 20992 2206 22851 4937 27065 2121 11073 1010 2061 2035 24395 2000 29454 19513 3593 2001 2036 2641 1012 1996 9078 1010 1998 2852 2072 2020 2218 2006 1996 2154 1997 9634 2005 1029 17076 3695 14728 2863 2021 25606 2006 2154 1997 11889 2302 5043 2061 2016 2001 14374 2006 2068 1012 2016 2513 2000 1996 3968 2007 11325 14447 17758 3239 18348 2144 2305 1997 1012 5443 1056 1023 17850 6275 17531 20304 1013 6036 25269 2322 2938 2531 1003 10958 1012 2016 2001 2445 4921 14017 17897 22196 2140 8732 12848 1010 3841 4215 23320 4921 1010 1998 27233 6895 2094 1012 2014 17531 2001 3264 2000 2022 11212 1005 1055 2750 6845 18903 4135 2140 7706 24798 13433 1010 2059 6845 18903 4135 2140 2322 24798 4921 1060 2475 2061 2001 2318 2006 6845 18903 4135 2140 14181 2102 1024 3284 13004 1016 24798 1013 8117 1012 2023 2001 3030 2044 3486 2781 1010 1999 5684 1997 9152 13181 14181 2102 1012 2163 24577 2007 19960 2015 2012 2188 1012 5776 2001 6625 2006 9634 2000 1996 23025 2226 1012 3964 3255 1999 13878 1019 1013 2184 3141 2000 22851 4937 27065 2121 11073 1006 2038 2018 2144 2059 1007 1010 24840 2007 22822 20738 1012 2036 3964 18348 1999 2159 1013 2227 2144 2197 2305 1006 2038 2018 1999 1996 2627 2021 2196 2023 5729 1010 2467 3632 2185 2006 2049 2219 1007 1012 2016 5683 2878 2303 2003 13408 3621 2021 2053 2062 3356 4654 7913 22930 3111 2084 2896 1012 2016 102 0 0 0 0 0 0 0 0 0 0 0 0 0 0 0 0 0 0 0 0 0 0 0 0 0 0 0 0 0 0 0 0 0 0 0 0 0 0 0 0 0 0 0 0 0 0 0 0 0 0 0 0 0 0\n",
            "input_mask: 1 1 1 1 1 1 1 1 1 1 1 1 1 1 1 1 1 1 1 1 1 1 1 1 1 1 1 1 1 1 1 1 1 1 1 1 1 1 1 1 1 1 1 1 1 1 1 1 1 1 1 1 1 1 1 1 1 1 1 1 1 1 1 1 1 1 1 1 1 1 1 1 1 1 1 1 1 1 1 1 1 1 1 1 1 1 1 1 1 1 1 1 1 1 1 1 1 1 1 1 1 1 1 1 1 1 1 1 1 1 1 1 1 1 1 1 1 1 1 1 1 1 1 1 1 1 1 1 1 1 1 1 1 1 1 1 1 1 1 1 1 1 1 1 1 1 1 1 1 1 1 1 1 1 1 1 1 1 1 1 1 1 1 1 1 1 1 1 1 1 1 1 1 1 1 1 1 1 1 1 1 1 1 1 1 1 1 1 1 1 1 1 1 1 1 1 1 1 1 1 1 1 1 1 1 1 1 1 1 1 1 1 1 1 1 1 1 1 1 1 1 1 1 1 1 1 1 1 1 1 1 1 1 1 1 1 1 1 1 1 1 1 1 1 1 1 1 1 1 1 1 1 1 1 1 1 1 1 1 1 1 1 1 1 1 1 1 1 1 1 1 1 1 1 1 1 1 1 1 1 1 1 1 1 1 1 1 1 1 1 1 1 1 1 1 1 1 1 1 1 1 1 1 1 1 1 1 1 1 1 1 1 1 1 1 1 1 1 1 1 1 1 1 1 1 1 1 1 1 1 1 1 1 1 1 1 1 1 1 1 1 1 1 1 1 1 1 1 1 1 1 1 1 1 1 1 1 1 1 1 1 1 1 1 1 1 1 1 1 1 1 1 1 1 1 1 1 1 1 1 1 1 1 1 1 1 1 1 1 1 1 1 1 1 1 1 1 1 1 1 1 1 1 1 1 1 1 1 1 1 1 1 1 1 1 1 1 1 1 1 1 1 1 1 1 1 1 1 1 1 1 1 1 1 1 1 1 1 1 1 1 1 1 1 1 1 1 1 1 1 1 1 1 1 1 1 1 1 0 0 0 0 0 0 0 0 0 0 0 0 0 0 0 0 0 0 0 0 0 0 0 0 0 0 0 0 0 0 0 0 0 0 0 0 0 0 0 0 0 0 0 0 0 0 0 0 0 0 0 0 0 0\n",
            "segment_ids: 0 0 0 0 0 0 0 0 0 0 0 0 0 0 0 0 0 0 0 0 0 0 0 0 0 0 0 0 0 0 0 0 0 0 0 0 0 0 0 0 0 0 0 0 0 0 0 0 0 0 0 0 0 0 0 0 0 0 0 0 0 0 0 0 0 0 0 0 0 0 0 0 0 0 0 0 0 0 0 0 0 0 0 0 0 0 0 0 0 0 0 0 0 0 0 0 0 0 0 0 0 0 0 0 0 0 0 0 0 0 0 0 0 0 0 0 0 0 0 0 0 0 0 0 0 0 0 0 0 0 0 0 0 0 0 0 0 0 0 0 0 0 0 0 0 0 0 0 0 0 0 0 0 0 0 0 0 0 0 0 0 0 0 0 0 0 0 0 0 0 0 0 0 0 0 0 0 0 0 0 0 0 0 0 0 0 0 0 0 0 0 0 0 0 0 0 0 0 0 0 0 0 0 0 0 0 0 0 0 0 0 0 0 0 0 0 0 0 0 0 0 0 0 0 0 0 0 0 0 0 0 0 0 0 0 0 0 0 0 0 0 0 0 0 0 0 0 0 0 0 0 0 0 0 0 0 0 0 0 0 0 0 0 0 0 0 0 0 0 0 0 0 0 0 0 0 0 0 0 0 0 0 0 0 0 0 0 0 0 0 0 0 0 0 0 0 0 0 0 0 0 0 0 0 0 0 0 0 0 0 0 0 0 0 0 0 0 0 0 0 0 0 0 0 0 0 0 0 0 0 0 0 0 0 0 0 0 0 0 0 0 0 0 0 0 0 0 0 0 0 0 0 0 0 0 0 0 0 0 0 0 0 0 0 0 0 0 0 0 0 0 0 0 0 0 0 0 0 0 0 0 0 0 0 0 0 0 0 0 0 0 0 0 0 0 0 0 0 0 0 0 0 0 0 0 0 0 0 0 0 0 0 0 0 0 0 0 0 0 0 0 0 0 0 0 0 0 0 0 0 0 0 0 0 0 0 0 0 0 0 0 0 0 0 0 0 0 0 0 0 0 0 0 0 0 0 0 0 0 0 0 0 0 0 0 0 0 0 0 0 0 0 0 0 0 0 0 0 0 0 0 0 0 0 0 0 0 0 0 0 0 0 0 0 0 0 0 0 0 0 0 0 0 0 0 0 0 0 0 0 0 0\n",
            "label: 1 (id = 1)\n"
          ]
        },
        {
          "output_type": "stream",
          "name": "stderr",
          "text": [
            "3063it [00:06, 446.38it/s]\n"
          ]
        },
        {
          "output_type": "stream",
          "name": "stdout",
          "text": [
            "***** Running evaluation *****\n",
            "  Num examples = %d 3063\n",
            "  Batch size = %d 8\n"
          ]
        },
        {
          "output_type": "stream",
          "name": "stderr",
          "text": [
            "100%|██████████| 383/383 [01:43<00:00,  3.70it/s]\n"
          ]
        },
        {
          "output_type": "display_data",
          "data": {
            "text/plain": [
              "<Figure size 640x480 with 1 Axes>"
            ],
            "image/png": "[encoded data removed]"
          },
          "metadata": {}
        },
        {
          "output_type": "stream",
          "name": "stdout",
          "text": [
            "Recall at Precision of 80 is {} 0.12758620689655173\n"
          ]
        },
        {
          "output_type": "display_data",
          "data": {
            "text/plain": [
              "<Figure size 640x480 with 0 Axes>"
            ]
          },
          "metadata": {}
        },
        {
          "output_type": "display_data",
          "data": {
            "text/plain": [
              "<Figure size 640x480 with 1 Axes>"
            ],
            "image/png": "[encoded data removed]"
          },
          "metadata": {}
        }
      ],
      "source": [
        "# Evaluate bert-based readmission prediction using discharge summary\n",
        "from transformers import AutoTokenizer, BertForSequenceClassification\n",
        "## initialize hyperparamaters\n",
        "device = torch.device('cuda:0')\n",
        "readmission_mode = 'discharge'\n",
        "data_dir = 'DATA/'\n",
        "data_dir = os.path.join(data_dir, readmission_mode)\n",
        "output_dir = 'experiment'\n",
        "output_dir = os.path.join(output_dir, readmission_mode)\n",
        "model = 'bert'\n",
        "output_dir = os.path.join(output_dir, model)\n",
        "max_seq_length = 512\n",
        "eval_batch_size = 8\n",
        "\n",
        "model_dir = 'experiment/discharge/bert/model.pth'\n",
        "bert_discharge_model = torch.load(model_dir)\n",
        "tokenizer = AutoTokenizer.from_pretrained(\"google-bert/bert-base-uncased\")\n",
        "\n",
        "bert_discharge_results = evaluate_model(bert_discharge_model, tokenizer, data_dir, max_seq_length, eval_batch_size, device,readmission_mode, output_dir)"
      ]
    },
    {
      "cell_type": "code",
      "execution_count": null,
      "metadata": {
        "colab": {
          "base_uri": "https://localhost:8080/"
        },
        "id": "PYxxGgvBrfAT",
        "outputId": "b3c13cd3-4c6a-4e36-f6a4-47018adf41f3"
      },
      "outputs": [
        {
          "output_type": "stream",
          "name": "stdout",
          "text": [
            "{'eval_loss': 0.7107204684778542, 'eval_accuracy': 0.6072477962781586, 'auc_score': 0.6502302314565969, 'auprc_score': 0.6816921470562338, 'RP80': 0.12758620689655173}\n"
          ]
        }
      ],
      "source": [
        "print(bert_discharge_results)"
      ]
    },
    {
      "cell_type": "markdown",
      "metadata": {
        "id": "4-fX2QX6zFfv"
      },
      "source": [
        "### ClinicalBert-based readmission prediction using discharge summary"
      ]
    },
    {
      "cell_type": "code",
      "execution_count": null,
      "metadata": {
        "colab": {
          "base_uri": "https://localhost:8080/",
          "height": 1000
        },
        "id": "xrmG_esF1czC",
        "outputId": "127c8e13-e030-4fef-c2ed-af6b56247753"
      },
      "outputs": [
        {
          "output_type": "stream",
          "name": "stderr",
          "text": [
            "82it [00:00, 407.68it/s]"
          ]
        },
        {
          "output_type": "stream",
          "name": "stdout",
          "text": [
            "*** Example ***\n",
            "guid: test-0\n",
            "tokens: [CLS] date of birth : sex : f service : medicine all ##er ##gies : ha ##ldo ##l attending : chief complaint : delta m ##s , let ##har ##gy , ? se ##psis . major surgical or invasive procedure : none history of present illness : h ##x obtained per ed notes and sister . hp ##i : 35 ##f with disease who presented today from day ##care after her healthcare providers noted that she was let ##har ##gic . they were initially unable to obtain a blood pressure . the patient was noted to have a very rapid heart rate . vital ##s were finally obtained and were as follows : b ##p 70 / 50 ( base ##line s ##b ##ps 80 - 90 ) , h ##r 113 , o ##2 sat 99 % on 3 ##l n ##c . . the patient was transferred to where she was noted to have a te ##mp of 4 , h ##r 200 and s ##b ##p 80s . e ##k ##g was noteworthy for a wide complex ta ##chy ##card ##ia . the patient received ad ##eno ##sin ##e 6 ##m ##g and then 12 ##m ##g with no improvement . she was card ##io ##verted into sin ##us rhythm . her d - dim ##er was elevated at 35 ##90 , la ##ct ##ate was 5 and t ##rop t 39 in the setting of re ##nal ins ##uff ##iciency . a c ##t - a was negative for a p ##e . the patient was transferred to the mi ##cu for further mg ##m ##t . . past medical history : disease an ##emia non ##ver ##bal at base ##line . social history : me ##ds : t ##yle ##no ##l ensure . so ##ch ##x : patient lives at home with sister and brother . she also goes to day ##care . she is non - verbal at base ##line . . family history : father who passed away of d ##z physical exam : t 7 , h ##r 65 - 68 , b ##p 91 - 97 / 61 - 63 , r 14 - 21 , o ##2 sat 100 % 2 ##l g ##en : thin appearing female lying in f ##etal position in na ##d he ##ent : mm dry , op clear heart : n ##l rate , s ##1 ##s ##2 , no g ##m ##r lungs : c ##ta b / l a ##b ##d : flat , soft , n ##t , n ##d , + b ##s , negative guard ##in , negative re ##bound tender ##ness ex ##t : w ##w ##p , + d ##p b / l ne ##uro : unable to assess . per ##tinent results : c ##t - a impression : no evidence of pulmonary em ##bol ##ism . poorly defined op ##ac ##ities within the lungs bilateral ##ly , possibly representing combination of ate ##lect ##asis and consolidation . air br ##on ##cho ##gram ##s in the right [SEP]\n",
            "input_ids: 101 2236 1104 3485 131 2673 131 175 1555 131 5182 1155 1200 19310 131 5871 25791 1233 6546 131 2705 12522 131 20811 182 1116 117 1519 7111 4873 117 136 14516 17990 119 1558 13467 1137 19849 7791 131 3839 1607 1104 1675 6946 131 177 1775 3836 1679 5048 3697 1105 2104 119 6857 1182 131 2588 2087 1114 3653 1150 2756 2052 1121 1285 23340 1170 1123 12520 12263 2382 1115 1131 1108 1519 7111 11007 119 1152 1127 2786 3372 1106 6268 170 1892 2997 119 1103 5351 1108 2382 1106 1138 170 1304 6099 1762 2603 119 9301 1116 1127 1921 3836 1105 1127 1112 3226 131 171 1643 3102 120 1851 113 2259 2568 188 1830 3491 2908 118 3078 114 117 177 1197 12206 117 184 1477 2068 4850 110 1113 124 1233 183 1665 119 119 1103 5351 1108 3175 1106 1187 1131 1108 2382 1106 1138 170 21359 8223 1104 125 117 177 1197 2363 1105 188 1830 1643 17008 119 174 1377 1403 1108 22076 1111 170 2043 2703 27629 8992 10542 1465 119 1103 5351 1460 8050 26601 10606 1162 127 1306 1403 1105 1173 1367 1306 1403 1114 1185 8331 119 1131 1108 3621 2660 17534 1154 11850 1361 6795 119 1123 173 118 12563 1200 1108 8208 1120 2588 21500 117 2495 5822 2193 1108 126 1105 189 12736 189 3614 1107 1103 3545 1104 1231 7050 22233 9435 23864 119 170 172 1204 118 170 1108 4366 1111 170 185 1162 119 1103 5351 1108 3175 1106 1103 1940 10182 1111 1748 17713 1306 1204 119 119 1763 2657 1607 131 3653 1126 20504 1664 4121 7767 1120 2259 2568 119 1934 1607 131 1143 3680 131 189 12415 2728 1233 4989 119 1177 1732 1775 131 5351 2491 1120 1313 1114 2104 1105 1711 119 1131 1145 2947 1106 1285 23340 119 1131 1110 1664 118 14093 1120 2259 2568 119 119 1266 1607 131 1401 1150 2085 1283 1104 173 1584 2952 12211 131 189 128 117 177 1197 2625 118 5599 117 171 1643 5539 118 5311 120 5391 118 5519 117 187 1489 118 1626 117 184 1477 2068 1620 110 123 1233 176 1424 131 4240 5452 2130 4009 1107 175 21470 1700 1107 9468 1181 1119 3452 131 2608 3712 117 11769 2330 1762 131 183 1233 2603 117 188 1475 1116 1477 117 1185 176 1306 1197 8682 131 172 1777 171 120 181 170 1830 1181 131 3596 117 2991 117 183 1204 117 183 1181 117 116 171 1116 117 4366 3542 1394 117 4366 1231 8346 8886 1757 4252 1204 131 192 2246 1643 117 116 173 1643 171 120 181 24928 11955 131 3372 1106 15187 119 1679 24123 2686 131 172 1204 118 170 8351 131 1185 2554 1104 26600 9712 15792 1863 119 9874 3393 11769 7409 4233 1439 1103 8682 20557 1193 117 3566 4311 4612 1104 8756 18465 14229 1105 20994 119 1586 9304 1320 8401 12139 1116 1107 1103 1268 102\n",
            "input_mask: 1 1 1 1 1 1 1 1 1 1 1 1 1 1 1 1 1 1 1 1 1 1 1 1 1 1 1 1 1 1 1 1 1 1 1 1 1 1 1 1 1 1 1 1 1 1 1 1 1 1 1 1 1 1 1 1 1 1 1 1 1 1 1 1 1 1 1 1 1 1 1 1 1 1 1 1 1 1 1 1 1 1 1 1 1 1 1 1 1 1 1 1 1 1 1 1 1 1 1 1 1 1 1 1 1 1 1 1 1 1 1 1 1 1 1 1 1 1 1 1 1 1 1 1 1 1 1 1 1 1 1 1 1 1 1 1 1 1 1 1 1 1 1 1 1 1 1 1 1 1 1 1 1 1 1 1 1 1 1 1 1 1 1 1 1 1 1 1 1 1 1 1 1 1 1 1 1 1 1 1 1 1 1 1 1 1 1 1 1 1 1 1 1 1 1 1 1 1 1 1 1 1 1 1 1 1 1 1 1 1 1 1 1 1 1 1 1 1 1 1 1 1 1 1 1 1 1 1 1 1 1 1 1 1 1 1 1 1 1 1 1 1 1 1 1 1 1 1 1 1 1 1 1 1 1 1 1 1 1 1 1 1 1 1 1 1 1 1 1 1 1 1 1 1 1 1 1 1 1 1 1 1 1 1 1 1 1 1 1 1 1 1 1 1 1 1 1 1 1 1 1 1 1 1 1 1 1 1 1 1 1 1 1 1 1 1 1 1 1 1 1 1 1 1 1 1 1 1 1 1 1 1 1 1 1 1 1 1 1 1 1 1 1 1 1 1 1 1 1 1 1 1 1 1 1 1 1 1 1 1 1 1 1 1 1 1 1 1 1 1 1 1 1 1 1 1 1 1 1 1 1 1 1 1 1 1 1 1 1 1 1 1 1 1 1 1 1 1 1 1 1 1 1 1 1 1 1 1 1 1 1 1 1 1 1 1 1 1 1 1 1 1 1 1 1 1 1 1 1 1 1 1 1 1 1 1 1 1 1 1 1 1 1 1 1 1 1 1 1 1 1 1 1 1 1 1 1 1 1 1 1 1 1 1 1 1 1 1 1 1 1 1 1 1 1 1 1 1 1 1 1 1 1 1 1 1 1 1 1 1 1 1 1 1 1 1 1 1 1 1 1 1 1 1 1 1 1 1 1 1 1 1\n",
            "segment_ids: 0 0 0 0 0 0 0 0 0 0 0 0 0 0 0 0 0 0 0 0 0 0 0 0 0 0 0 0 0 0 0 0 0 0 0 0 0 0 0 0 0 0 0 0 0 0 0 0 0 0 0 0 0 0 0 0 0 0 0 0 0 0 0 0 0 0 0 0 0 0 0 0 0 0 0 0 0 0 0 0 0 0 0 0 0 0 0 0 0 0 0 0 0 0 0 0 0 0 0 0 0 0 0 0 0 0 0 0 0 0 0 0 0 0 0 0 0 0 0 0 0 0 0 0 0 0 0 0 0 0 0 0 0 0 0 0 0 0 0 0 0 0 0 0 0 0 0 0 0 0 0 0 0 0 0 0 0 0 0 0 0 0 0 0 0 0 0 0 0 0 0 0 0 0 0 0 0 0 0 0 0 0 0 0 0 0 0 0 0 0 0 0 0 0 0 0 0 0 0 0 0 0 0 0 0 0 0 0 0 0 0 0 0 0 0 0 0 0 0 0 0 0 0 0 0 0 0 0 0 0 0 0 0 0 0 0 0 0 0 0 0 0 0 0 0 0 0 0 0 0 0 0 0 0 0 0 0 0 0 0 0 0 0 0 0 0 0 0 0 0 0 0 0 0 0 0 0 0 0 0 0 0 0 0 0 0 0 0 0 0 0 0 0 0 0 0 0 0 0 0 0 0 0 0 0 0 0 0 0 0 0 0 0 0 0 0 0 0 0 0 0 0 0 0 0 0 0 0 0 0 0 0 0 0 0 0 0 0 0 0 0 0 0 0 0 0 0 0 0 0 0 0 0 0 0 0 0 0 0 0 0 0 0 0 0 0 0 0 0 0 0 0 0 0 0 0 0 0 0 0 0 0 0 0 0 0 0 0 0 0 0 0 0 0 0 0 0 0 0 0 0 0 0 0 0 0 0 0 0 0 0 0 0 0 0 0 0 0 0 0 0 0 0 0 0 0 0 0 0 0 0 0 0 0 0 0 0 0 0 0 0 0 0 0 0 0 0 0 0 0 0 0 0 0 0 0 0 0 0 0 0 0 0 0 0 0 0 0 0 0 0 0 0 0 0 0 0 0 0 0 0 0 0 0 0 0 0 0 0 0 0 0 0 0 0 0 0 0 0 0 0 0 0 0 0 0 0 0 0 0 0 0\n",
            "label: 1 (id = 1)\n",
            "*** Example ***\n",
            "guid: test-1\n",
            "tokens: [CLS] pneumonia . . echo the left at ##rium is normal in size . left vent ##ric ##ular wall thickness ##es are normal . the left vent ##ric ##ular cavity is moderately di ##lated . there is severe global left vent ##ric ##ular h ##y ##po ##kin ##esis . no masses or th ##rom ##bi are seen in the left vent ##ric ##le . right vent ##ric ##ular s ##ys ##to ##lic function is border ##line normal . the a ##ort ##ic valve leaf ##lets ( 3 ) appear structural ##ly normal with good leaf ##let ex ##cursion and no a ##ort ##ic re ##gu ##rg ##itation . the mit ##ral valve leaf ##lets are structural ##ly normal . moderate ( 2 + ) mit ##ral re ##gu ##rg ##itation is seen . the mit ##ral re ##gu ##rg ##itation jet is eccentric . the t ##ric ##us ##pid re ##gu ##rg ##itation jet is eccentric and may be under ##est ##imated . there is a small per ##ica ##rdi ##al e ##ff ##usion . . impression : di ##lated card ##io ##my ##op ##athy with severely depressed l ##ve ##f . e ##f 10 % . . e ##k ##g vent ##ric ##ular ta ##cc ##hy ##card ##ia at 200 ##b ##pm . 10 : 30 ##pm urine b ##nz ##od ##z ##p ##n - p ##os bar ##bit ##rt - ne ##g op ##iate ##s - ne ##g cocaine - ne ##g am ##phe ##t ##m ##n - ne ##g m ##th ##don ##e - ne ##g 08 : 30 ##pm glucose - 100 sodium - 141 potassium - 8 chloride - 111 * total co ##2 - 20 * an ##ion gap - 15 08 : 30 ##pm l ##d ( l ##dh ) - 49 ##3 * 08 : 30 ##pm calcium - 2 * phosphate - 8 ma ##gnesium - 1 08 : 30 ##pm o ##smo ##lal - 308 08 : 30 ##pm as ##a - ne ##g ethanol - ne ##g ace ##t ##m ##n ##ph ##n - ne ##g b ##nz ##od ##z ##p ##n - ne ##g bar ##bit ##rt - ne ##g t ##ric ##yclic - ne ##g 08 : 30 ##pm w ##b ##c - 8 r ##b ##c - 09 * h ##g ##b - 5 * h ##ct - 2 * m ##c ##v - 79 * m ##ch - 8 * m ##ch ##c - 7 r ##d ##w - 2 * 08 : 30 ##pm p ##lt count - 140 * 04 : 00 ##pm urine color - yellow appear - clear s ##p - 02 ##2 04 : 00 ##pm urine blood - ne ##g ni ##tri ##te - ne ##g protein - t ##r glucose - ne ##g k ##eton ##e - t ##r bi ##li ##ru ##bin - ne ##g u ##ro ##bil ##ng ##n - ne ##g p ##h - 0 le ##uk - ne ##g 04 : 00 ##pm urine r ##b ##c - 0 - 2 w ##b ##c - [SEP]\n",
            "input_ids: 101 20673 119 119 16278 1103 1286 1120 11077 1110 2999 1107 2060 119 1286 21828 4907 5552 2095 15830 1279 1132 2999 119 1103 1286 21828 4907 5552 19421 1110 19455 4267 6951 119 1175 1110 5199 4265 1286 21828 4907 5552 177 1183 5674 4314 16317 119 1185 12980 1137 24438 16071 5567 1132 1562 1107 1103 1286 21828 4907 1513 119 1268 21828 4907 5552 188 6834 2430 8031 3053 1110 3070 2568 2999 119 1103 170 12148 1596 11727 7404 9585 113 124 114 2845 8649 1193 2999 1114 1363 7404 5765 4252 20079 1105 1185 170 12148 1596 1231 13830 10805 12633 119 1103 26410 4412 11727 7404 9585 1132 8649 1193 2999 119 8828 113 123 116 114 26410 4412 1231 13830 10805 12633 1110 1562 119 1103 26410 4412 1231 13830 10805 12633 8319 1110 20276 119 1103 189 4907 1361 25786 1231 13830 10805 12633 8319 1110 20276 1105 1336 1129 1223 2556 26155 119 1175 1110 170 1353 1679 4578 16936 1348 174 3101 17268 119 119 8351 131 4267 6951 3621 2660 4527 4184 23610 1114 8669 15941 181 2707 2087 119 174 2087 1275 110 119 119 174 1377 1403 21828 4907 5552 27629 19515 7889 10542 1465 1120 2363 1830 9952 119 1275 131 1476 9952 19968 171 19411 5412 1584 1643 1179 118 185 2155 2927 9208 3740 118 24928 1403 11769 15045 1116 118 24928 1403 18316 118 24928 1403 1821 27801 1204 1306 1179 118 24928 1403 182 1582 3842 1162 118 24928 1403 4775 131 1476 9952 20636 118 1620 15059 118 16308 21177 118 129 21256 118 11084 115 1703 1884 1477 118 1406 115 1126 1988 7275 118 1405 4775 131 1476 9952 181 1181 113 181 17868 114 118 3927 1495 115 4775 131 1476 9952 15355 118 123 115 19273 118 129 12477 27844 118 122 4775 131 1476 9952 184 26358 14258 118 27201 4775 131 1476 9952 1112 1161 118 24928 1403 27236 118 24928 1403 20839 1204 1306 1179 7880 1179 118 24928 1403 171 19411 5412 1584 1643 1179 118 24928 1403 2927 9208 3740 118 24928 1403 189 4907 24974 118 24928 1403 4775 131 1476 9952 192 1830 1665 118 129 187 1830 1665 118 4925 115 177 1403 1830 118 126 115 177 5822 118 123 115 182 1665 1964 118 5899 115 182 1732 118 129 115 182 1732 1665 118 128 187 1181 2246 118 123 115 4775 131 1476 9952 185 6066 5099 118 8183 115 5129 131 3135 9952 19968 2942 118 3431 2845 118 2330 188 1643 118 5507 1477 5129 131 3135 9952 19968 1892 118 24928 1403 11437 19091 1566 118 24928 1403 4592 118 189 1197 20636 118 24928 1403 180 22273 1162 118 189 1197 16516 2646 5082 7939 118 24928 1403 190 2180 15197 2118 1179 118 24928 1403 185 1324 118 121 5837 7563 118 24928 1403 5129 131 3135 9952 19968 187 1830 1665 118 121 118 123 192 1830 1665 118 102\n",
            "input_mask: 1 1 1 1 1 1 1 1 1 1 1 1 1 1 1 1 1 1 1 1 1 1 1 1 1 1 1 1 1 1 1 1 1 1 1 1 1 1 1 1 1 1 1 1 1 1 1 1 1 1 1 1 1 1 1 1 1 1 1 1 1 1 1 1 1 1 1 1 1 1 1 1 1 1 1 1 1 1 1 1 1 1 1 1 1 1 1 1 1 1 1 1 1 1 1 1 1 1 1 1 1 1 1 1 1 1 1 1 1 1 1 1 1 1 1 1 1 1 1 1 1 1 1 1 1 1 1 1 1 1 1 1 1 1 1 1 1 1 1 1 1 1 1 1 1 1 1 1 1 1 1 1 1 1 1 1 1 1 1 1 1 1 1 1 1 1 1 1 1 1 1 1 1 1 1 1 1 1 1 1 1 1 1 1 1 1 1 1 1 1 1 1 1 1 1 1 1 1 1 1 1 1 1 1 1 1 1 1 1 1 1 1 1 1 1 1 1 1 1 1 1 1 1 1 1 1 1 1 1 1 1 1 1 1 1 1 1 1 1 1 1 1 1 1 1 1 1 1 1 1 1 1 1 1 1 1 1 1 1 1 1 1 1 1 1 1 1 1 1 1 1 1 1 1 1 1 1 1 1 1 1 1 1 1 1 1 1 1 1 1 1 1 1 1 1 1 1 1 1 1 1 1 1 1 1 1 1 1 1 1 1 1 1 1 1 1 1 1 1 1 1 1 1 1 1 1 1 1 1 1 1 1 1 1 1 1 1 1 1 1 1 1 1 1 1 1 1 1 1 1 1 1 1 1 1 1 1 1 1 1 1 1 1 1 1 1 1 1 1 1 1 1 1 1 1 1 1 1 1 1 1 1 1 1 1 1 1 1 1 1 1 1 1 1 1 1 1 1 1 1 1 1 1 1 1 1 1 1 1 1 1 1 1 1 1 1 1 1 1 1 1 1 1 1 1 1 1 1 1 1 1 1 1 1 1 1 1 1 1 1 1 1 1 1 1 1 1 1 1 1 1 1 1 1 1 1 1 1 1 1 1 1 1 1 1 1 1 1 1 1 1 1 1 1 1 1 1 1 1 1 1 1 1 1 1 1 1 1 1 1 1 1 1 1 1 1 1 1 1 1 1 1 1 1 1 1 1 1 1 1 1 1\n",
            "segment_ids: 0 0 0 0 0 0 0 0 0 0 0 0 0 0 0 0 0 0 0 0 0 0 0 0 0 0 0 0 0 0 0 0 0 0 0 0 0 0 0 0 0 0 0 0 0 0 0 0 0 0 0 0 0 0 0 0 0 0 0 0 0 0 0 0 0 0 0 0 0 0 0 0 0 0 0 0 0 0 0 0 0 0 0 0 0 0 0 0 0 0 0 0 0 0 0 0 0 0 0 0 0 0 0 0 0 0 0 0 0 0 0 0 0 0 0 0 0 0 0 0 0 0 0 0 0 0 0 0 0 0 0 0 0 0 0 0 0 0 0 0 0 0 0 0 0 0 0 0 0 0 0 0 0 0 0 0 0 0 0 0 0 0 0 0 0 0 0 0 0 0 0 0 0 0 0 0 0 0 0 0 0 0 0 0 0 0 0 0 0 0 0 0 0 0 0 0 0 0 0 0 0 0 0 0 0 0 0 0 0 0 0 0 0 0 0 0 0 0 0 0 0 0 0 0 0 0 0 0 0 0 0 0 0 0 0 0 0 0 0 0 0 0 0 0 0 0 0 0 0 0 0 0 0 0 0 0 0 0 0 0 0 0 0 0 0 0 0 0 0 0 0 0 0 0 0 0 0 0 0 0 0 0 0 0 0 0 0 0 0 0 0 0 0 0 0 0 0 0 0 0 0 0 0 0 0 0 0 0 0 0 0 0 0 0 0 0 0 0 0 0 0 0 0 0 0 0 0 0 0 0 0 0 0 0 0 0 0 0 0 0 0 0 0 0 0 0 0 0 0 0 0 0 0 0 0 0 0 0 0 0 0 0 0 0 0 0 0 0 0 0 0 0 0 0 0 0 0 0 0 0 0 0 0 0 0 0 0 0 0 0 0 0 0 0 0 0 0 0 0 0 0 0 0 0 0 0 0 0 0 0 0 0 0 0 0 0 0 0 0 0 0 0 0 0 0 0 0 0 0 0 0 0 0 0 0 0 0 0 0 0 0 0 0 0 0 0 0 0 0 0 0 0 0 0 0 0 0 0 0 0 0 0 0 0 0 0 0 0 0 0 0 0 0 0 0 0 0 0 0 0 0 0 0 0 0 0 0 0 0 0 0 0 0 0 0 0 0 0 0 0 0 0 0 0 0 0 0 0 0 0 0 0\n",
            "label: 1 (id = 1)\n",
            "*** Example ***\n",
            "guid: test-2\n",
            "tokens: [CLS] may recommend l ##isi ##no ##p ##ril low dose as an out ##patient , follow up in 1 month with card ##iology . p ##na - patient received le ##va ##quin , van ##c , flag ##yl and c ##ef ##tri ##ax ##one in the ed . imaging concerning for pneumonia . - trend le ##uk ##oc ##yt ##osis and fever curve - change un ##as ##yn for coverage of as ##piration p ##na to au ##gment ##in 500 ##m ##g p ##o t ##id today ( ) - blood cultures : pending - urine cultures : ng ##t ##d final . delta m ##s : per patient ' s p ##c ##p , . , and p ##t ' s sister - patient is at base ##line . let ##har ##gy may have been infection . will continue infectious w / u and treatment . to ##x screen negative except for ben ##zo ##s . . elevated liver enzymes : most likely shock liver , h ##y ##pot ##ens ##ion during v - ta ##ch and card ##io ##version ; k ##ub was normal . - trend l ##ft ' s : improving over time - r ##u ##q ultra ##sound : liver and gal ##l ##bla ##dder normal with right p ##le ##ural e ##ff ##usion and as ##cite ##s ; . an ##emia : stable over hospital course - will monitor daily - patient has a h ##x of an ##emia . . elevated d - dim ##er c ##ta - negative , may be acute phase react ##ant . . f ##en - re ##ple ##te l ##yte ##s , as ##piration pre ##ca ##ution ##s . . pp ##x : p ##ne ##um ##ob ##oot ##s , he ##par ##in s ##c and pp ##i . f ##c confirmed with sister . brother : ( c ) , ( h ) f ##rance ##tta medications on admission : none discharge medications : am ##io ##dar ##one 200 mg tablet si ##g : one ( 1 ) tablet p ##o daily ( daily ) . di ##sp : * 30 tablet ( s ) * re ##fill ##s : * 2 * am ##ox ##ici ##llin - pot c ##lav ##ula ##nate 250 - 5 mg / 5 m ##l suspension for re ##con ##st ##itution si ##g : ten ( 10 ) m ##l p ##o t ##id ( 3 times a day ) for 7 days . di ##sp : * 210 m ##l * re ##fill ##s : * 0 * discharge disposition : home with service facility : discharge diagnosis : su ##pra ##vent ##ric ##ular ta ##chy ##card ##ia requiring card ##io ##version pneumonia discharge condition : stable and improving discharge instructions : you will be discharged home today after being in the hospital for both a fast heart rate and a pneumonia . both of these were controlled in the hospital , and you will be sent home with two new medications . the anti ##biotic au ##gment ##in is [SEP]\n",
            "input_ids: 101 1336 18029 181 26868 2728 1643 13217 1822 13753 1112 1126 1149 27420 117 2812 1146 1107 122 2370 1114 3621 17288 119 185 1605 118 5351 1460 5837 2497 12934 117 3498 1665 117 5167 7777 1105 172 11470 19091 7897 4798 1107 1103 5048 119 14377 6995 1111 20673 119 118 10209 5837 7563 13335 25669 11776 1105 10880 7660 118 1849 8362 2225 5730 1111 5811 1104 1112 22631 185 1605 1106 12686 14294 1394 2260 1306 1403 185 1186 189 2386 2052 113 114 118 1892 8708 131 15498 118 19968 8708 131 21174 1204 1181 1509 119 20811 182 1116 131 1679 5351 112 188 185 1665 1643 117 119 117 1105 185 1204 112 188 2104 118 5351 1110 1120 2259 2568 119 1519 7111 4873 1336 1138 1151 8974 119 1209 2760 20342 192 120 190 1105 3252 119 1106 1775 3251 4366 2589 1111 26181 6112 1116 119 119 8208 11911 17664 131 1211 2620 4900 11911 117 177 1183 11439 5026 1988 1219 191 118 27629 1732 1105 3621 2660 12475 132 180 10354 1108 2999 119 118 10209 181 4964 112 188 131 9248 1166 1159 118 187 1358 4426 18737 22909 131 11911 1105 20003 1233 18075 19541 2999 1114 1268 185 1513 12602 174 3101 17268 1105 1112 14375 1116 132 119 1126 20504 131 6111 1166 2704 1736 118 1209 8804 3828 118 5351 1144 170 177 1775 1104 1126 20504 119 119 8208 173 118 12563 1200 172 1777 118 4366 117 1336 1129 12104 4065 10573 2861 119 119 175 1424 118 1231 7136 1566 181 14300 1116 117 1112 22631 3073 2599 12964 1116 119 119 4329 1775 131 185 1673 1818 12809 21732 1116 117 1119 17482 1394 188 1665 1105 4329 1182 119 175 1665 3659 1114 2104 119 1711 131 113 172 114 117 113 177 114 175 10555 5100 23897 1113 10296 131 3839 12398 23897 131 1821 2660 7858 4798 2363 17713 16048 27466 1403 131 1141 113 122 114 16048 185 1186 3828 113 3828 114 119 4267 20080 131 115 1476 16048 113 188 114 115 1231 18591 1116 131 115 123 115 1821 10649 27989 23824 118 9814 172 9516 5886 13978 4805 118 126 17713 120 126 182 1233 8605 1111 1231 7235 2050 27067 27466 1403 131 1995 113 1275 114 182 1233 185 1186 189 2386 113 124 1551 170 1285 114 1111 128 1552 119 4267 20080 131 115 13075 182 1233 115 1231 18591 1116 131 115 121 115 12398 25622 131 1313 1114 1555 3695 131 12398 12645 131 28117 20488 14850 4907 5552 27629 8992 10542 1465 8753 3621 2660 12475 20673 12398 3879 131 6111 1105 9248 12398 7953 131 1128 1209 1129 15207 1313 2052 1170 1217 1107 1103 2704 1111 1241 170 2698 1762 2603 1105 170 20673 119 1241 1104 1292 1127 4013 1107 1103 2704 117 1105 1128 1209 1129 1850 1313 1114 1160 1207 23897 119 1103 2848 22400 12686 14294 1394 1110 102\n",
            "input_mask: 1 1 1 1 1 1 1 1 1 1 1 1 1 1 1 1 1 1 1 1 1 1 1 1 1 1 1 1 1 1 1 1 1 1 1 1 1 1 1 1 1 1 1 1 1 1 1 1 1 1 1 1 1 1 1 1 1 1 1 1 1 1 1 1 1 1 1 1 1 1 1 1 1 1 1 1 1 1 1 1 1 1 1 1 1 1 1 1 1 1 1 1 1 1 1 1 1 1 1 1 1 1 1 1 1 1 1 1 1 1 1 1 1 1 1 1 1 1 1 1 1 1 1 1 1 1 1 1 1 1 1 1 1 1 1 1 1 1 1 1 1 1 1 1 1 1 1 1 1 1 1 1 1 1 1 1 1 1 1 1 1 1 1 1 1 1 1 1 1 1 1 1 1 1 1 1 1 1 1 1 1 1 1 1 1 1 1 1 1 1 1 1 1 1 1 1 1 1 1 1 1 1 1 1 1 1 1 1 1 1 1 1 1 1 1 1 1 1 1 1 1 1 1 1 1 1 1 1 1 1 1 1 1 1 1 1 1 1 1 1 1 1 1 1 1 1 1 1 1 1 1 1 1 1 1 1 1 1 1 1 1 1 1 1 1 1 1 1 1 1 1 1 1 1 1 1 1 1 1 1 1 1 1 1 1 1 1 1 1 1 1 1 1 1 1 1 1 1 1 1 1 1 1 1 1 1 1 1 1 1 1 1 1 1 1 1 1 1 1 1 1 1 1 1 1 1 1 1 1 1 1 1 1 1 1 1 1 1 1 1 1 1 1 1 1 1 1 1 1 1 1 1 1 1 1 1 1 1 1 1 1 1 1 1 1 1 1 1 1 1 1 1 1 1 1 1 1 1 1 1 1 1 1 1 1 1 1 1 1 1 1 1 1 1 1 1 1 1 1 1 1 1 1 1 1 1 1 1 1 1 1 1 1 1 1 1 1 1 1 1 1 1 1 1 1 1 1 1 1 1 1 1 1 1 1 1 1 1 1 1 1 1 1 1 1 1 1 1 1 1 1 1 1 1 1 1 1 1 1 1 1 1 1 1 1 1 1 1 1 1 1 1 1 1 1 1 1 1 1 1 1 1 1 1 1 1 1 1 1 1 1 1 1 1 1 1 1 1 1 1 1 1 1 1 1 1 1 1 1 1 1 1\n",
            "segment_ids: 0 0 0 0 0 0 0 0 0 0 0 0 0 0 0 0 0 0 0 0 0 0 0 0 0 0 0 0 0 0 0 0 0 0 0 0 0 0 0 0 0 0 0 0 0 0 0 0 0 0 0 0 0 0 0 0 0 0 0 0 0 0 0 0 0 0 0 0 0 0 0 0 0 0 0 0 0 0 0 0 0 0 0 0 0 0 0 0 0 0 0 0 0 0 0 0 0 0 0 0 0 0 0 0 0 0 0 0 0 0 0 0 0 0 0 0 0 0 0 0 0 0 0 0 0 0 0 0 0 0 0 0 0 0 0 0 0 0 0 0 0 0 0 0 0 0 0 0 0 0 0 0 0 0 0 0 0 0 0 0 0 0 0 0 0 0 0 0 0 0 0 0 0 0 0 0 0 0 0 0 0 0 0 0 0 0 0 0 0 0 0 0 0 0 0 0 0 0 0 0 0 0 0 0 0 0 0 0 0 0 0 0 0 0 0 0 0 0 0 0 0 0 0 0 0 0 0 0 0 0 0 0 0 0 0 0 0 0 0 0 0 0 0 0 0 0 0 0 0 0 0 0 0 0 0 0 0 0 0 0 0 0 0 0 0 0 0 0 0 0 0 0 0 0 0 0 0 0 0 0 0 0 0 0 0 0 0 0 0 0 0 0 0 0 0 0 0 0 0 0 0 0 0 0 0 0 0 0 0 0 0 0 0 0 0 0 0 0 0 0 0 0 0 0 0 0 0 0 0 0 0 0 0 0 0 0 0 0 0 0 0 0 0 0 0 0 0 0 0 0 0 0 0 0 0 0 0 0 0 0 0 0 0 0 0 0 0 0 0 0 0 0 0 0 0 0 0 0 0 0 0 0 0 0 0 0 0 0 0 0 0 0 0 0 0 0 0 0 0 0 0 0 0 0 0 0 0 0 0 0 0 0 0 0 0 0 0 0 0 0 0 0 0 0 0 0 0 0 0 0 0 0 0 0 0 0 0 0 0 0 0 0 0 0 0 0 0 0 0 0 0 0 0 0 0 0 0 0 0 0 0 0 0 0 0 0 0 0 0 0 0 0 0 0 0 0 0 0 0 0 0 0 0 0 0 0 0 0 0 0 0 0 0 0 0 0 0 0 0 0 0 0 0 0 0 0 0 0 0 0 0 0\n",
            "label: 1 (id = 1)\n",
            "*** Example ***\n",
            "guid: test-3\n",
            "tokens: [CLS] should develop any chest pain , short ##ness of breath , nausea , vomit ##ing , difficulty eating , cough , fever or any other concerns , please call d ##r or return to the emergency department follow ##up instructions : please follow up with d ##r within the next week . d ##r should set up a follow up with card ##iology within the next month . [SEP]\n",
            "input_ids: 101 1431 3689 1251 2229 2489 117 1603 1757 1104 2184 117 22882 117 26979 1158 117 7262 5497 117 21810 117 10880 1137 1251 1168 5365 117 4268 1840 173 1197 1137 1862 1106 1103 5241 2853 2812 4455 7953 131 4268 2812 1146 1114 173 1197 1439 1103 1397 1989 119 173 1197 1431 1383 1146 170 2812 1146 1114 3621 17288 1439 1103 1397 2370 119 102 0 0 0 0 0 0 0 0 0 0 0 0 0 0 0 0 0 0 0 0 0 0 0 0 0 0 0 0 0 0 0 0 0 0 0 0 0 0 0 0 0 0 0 0 0 0 0 0 0 0 0 0 0 0 0 0 0 0 0 0 0 0 0 0 0 0 0 0 0 0 0 0 0 0 0 0 0 0 0 0 0 0 0 0 0 0 0 0 0 0 0 0 0 0 0 0 0 0 0 0 0 0 0 0 0 0 0 0 0 0 0 0 0 0 0 0 0 0 0 0 0 0 0 0 0 0 0 0 0 0 0 0 0 0 0 0 0 0 0 0 0 0 0 0 0 0 0 0 0 0 0 0 0 0 0 0 0 0 0 0 0 0 0 0 0 0 0 0 0 0 0 0 0 0 0 0 0 0 0 0 0 0 0 0 0 0 0 0 0 0 0 0 0 0 0 0 0 0 0 0 0 0 0 0 0 0 0 0 0 0 0 0 0 0 0 0 0 0 0 0 0 0 0 0 0 0 0 0 0 0 0 0 0 0 0 0 0 0 0 0 0 0 0 0 0 0 0 0 0 0 0 0 0 0 0 0 0 0 0 0 0 0 0 0 0 0 0 0 0 0 0 0 0 0 0 0 0 0 0 0 0 0 0 0 0 0 0 0 0 0 0 0 0 0 0 0 0 0 0 0 0 0 0 0 0 0 0 0 0 0 0 0 0 0 0 0 0 0 0 0 0 0 0 0 0 0 0 0 0 0 0 0 0 0 0 0 0 0 0 0 0 0 0 0 0 0 0 0 0 0 0 0 0 0 0 0 0 0 0 0 0 0 0 0 0 0 0 0 0 0 0 0 0 0 0 0 0 0 0 0 0 0 0 0 0 0 0 0 0 0 0 0 0 0 0 0 0 0 0 0 0 0 0 0 0 0 0 0 0 0 0 0 0 0 0 0 0 0 0 0 0 0 0 0 0 0 0 0 0 0 0 0 0 0 0 0 0 0 0 0 0 0\n",
            "input_mask: 1 1 1 1 1 1 1 1 1 1 1 1 1 1 1 1 1 1 1 1 1 1 1 1 1 1 1 1 1 1 1 1 1 1 1 1 1 1 1 1 1 1 1 1 1 1 1 1 1 1 1 1 1 1 1 1 1 1 1 1 1 1 1 1 1 1 1 1 1 1 0 0 0 0 0 0 0 0 0 0 0 0 0 0 0 0 0 0 0 0 0 0 0 0 0 0 0 0 0 0 0 0 0 0 0 0 0 0 0 0 0 0 0 0 0 0 0 0 0 0 0 0 0 0 0 0 0 0 0 0 0 0 0 0 0 0 0 0 0 0 0 0 0 0 0 0 0 0 0 0 0 0 0 0 0 0 0 0 0 0 0 0 0 0 0 0 0 0 0 0 0 0 0 0 0 0 0 0 0 0 0 0 0 0 0 0 0 0 0 0 0 0 0 0 0 0 0 0 0 0 0 0 0 0 0 0 0 0 0 0 0 0 0 0 0 0 0 0 0 0 0 0 0 0 0 0 0 0 0 0 0 0 0 0 0 0 0 0 0 0 0 0 0 0 0 0 0 0 0 0 0 0 0 0 0 0 0 0 0 0 0 0 0 0 0 0 0 0 0 0 0 0 0 0 0 0 0 0 0 0 0 0 0 0 0 0 0 0 0 0 0 0 0 0 0 0 0 0 0 0 0 0 0 0 0 0 0 0 0 0 0 0 0 0 0 0 0 0 0 0 0 0 0 0 0 0 0 0 0 0 0 0 0 0 0 0 0 0 0 0 0 0 0 0 0 0 0 0 0 0 0 0 0 0 0 0 0 0 0 0 0 0 0 0 0 0 0 0 0 0 0 0 0 0 0 0 0 0 0 0 0 0 0 0 0 0 0 0 0 0 0 0 0 0 0 0 0 0 0 0 0 0 0 0 0 0 0 0 0 0 0 0 0 0 0 0 0 0 0 0 0 0 0 0 0 0 0 0 0 0 0 0 0 0 0 0 0 0 0 0 0 0 0 0 0 0 0 0 0 0 0 0 0 0 0 0 0 0 0 0 0 0 0 0 0 0 0 0 0 0 0 0 0 0 0 0 0 0 0 0 0 0 0 0 0 0 0 0 0 0 0 0 0 0 0 0 0 0 0 0 0 0 0 0 0 0 0 0 0 0 0 0\n",
            "segment_ids: 0 0 0 0 0 0 0 0 0 0 0 0 0 0 0 0 0 0 0 0 0 0 0 0 0 0 0 0 0 0 0 0 0 0 0 0 0 0 0 0 0 0 0 0 0 0 0 0 0 0 0 0 0 0 0 0 0 0 0 0 0 0 0 0 0 0 0 0 0 0 0 0 0 0 0 0 0 0 0 0 0 0 0 0 0 0 0 0 0 0 0 0 0 0 0 0 0 0 0 0 0 0 0 0 0 0 0 0 0 0 0 0 0 0 0 0 0 0 0 0 0 0 0 0 0 0 0 0 0 0 0 0 0 0 0 0 0 0 0 0 0 0 0 0 0 0 0 0 0 0 0 0 0 0 0 0 0 0 0 0 0 0 0 0 0 0 0 0 0 0 0 0 0 0 0 0 0 0 0 0 0 0 0 0 0 0 0 0 0 0 0 0 0 0 0 0 0 0 0 0 0 0 0 0 0 0 0 0 0 0 0 0 0 0 0 0 0 0 0 0 0 0 0 0 0 0 0 0 0 0 0 0 0 0 0 0 0 0 0 0 0 0 0 0 0 0 0 0 0 0 0 0 0 0 0 0 0 0 0 0 0 0 0 0 0 0 0 0 0 0 0 0 0 0 0 0 0 0 0 0 0 0 0 0 0 0 0 0 0 0 0 0 0 0 0 0 0 0 0 0 0 0 0 0 0 0 0 0 0 0 0 0 0 0 0 0 0 0 0 0 0 0 0 0 0 0 0 0 0 0 0 0 0 0 0 0 0 0 0 0 0 0 0 0 0 0 0 0 0 0 0 0 0 0 0 0 0 0 0 0 0 0 0 0 0 0 0 0 0 0 0 0 0 0 0 0 0 0 0 0 0 0 0 0 0 0 0 0 0 0 0 0 0 0 0 0 0 0 0 0 0 0 0 0 0 0 0 0 0 0 0 0 0 0 0 0 0 0 0 0 0 0 0 0 0 0 0 0 0 0 0 0 0 0 0 0 0 0 0 0 0 0 0 0 0 0 0 0 0 0 0 0 0 0 0 0 0 0 0 0 0 0 0 0 0 0 0 0 0 0 0 0 0 0 0 0 0 0 0 0 0 0 0 0 0 0 0 0 0 0 0 0 0 0 0 0 0 0 0 0 0 0 0 0 0 0 0 0 0 0 0 0\n",
            "label: 1 (id = 1)\n",
            "*** Example ***\n",
            "guid: test-4\n",
            "tokens: [CLS] date of birth : sex : f service : medicine all ##er ##gies : pen ##ici ##llin ##s / per ##co ##ce ##t attending : chief complaint : face , left arm and breast swelling major surgical or invasive procedure : in ##tra ##ven ##ous cat ##he ##ter ##ization of s ##v ##c / i ##v ##c . history of present illness : 23 year old woman with es ##rd , s ##le , recently placed p ##d cat ##he ##ter who presents with per ##ior ##bit ##al swelling and h ##yper ##tensive urgency . of note she was recently admitted for tongue swelling on . at that time she was treated with so ##lu - me ##dr ##ol , f ##amo ##ti ##dine and ben ##ad ##ryl in the emergency room , which was continued for a total of three doses on the floor . the swelling improved throughout her stay . she had been on both an ace , and d ##ri at home , which she has been taking for many years . patient states that the tongue swelling is most likely due to a sa ##rdi ##ne all ##er ##gy . however , she had recently added di ##lau ##di ##d to her medications following p ##d cat ##he ##ter placement , so all ##er ##gy to di ##lau ##di ##d was also considered . the ace , and d ##ri were held on the day of admission for ? an ##gio ##ede ##ma but restart ##ed on day of discharge without incident so she was discharged on them . she returned to the ed with acute onset bilateral eye swelling since night of . vs t 9 h ##r 78 b ##p 231 / 120 r ##r 20 sat 100 % r ##a . she was given i ##v so ##lume ##dr ##ol 125 ##iv , ben ##ad ##ryl i ##v , and p ##ep ##cid . her b ##p was noted to be 240 ' s despite lab ##eto ##lo ##l 900 ##m ##g p ##o , then lab ##eto ##lo ##l 20 ##m ##g i ##v x ##2 so was started on lab ##eto ##lo ##l g ##tt : highest dose 2 ##m ##g / min . this was stopped after 35 minutes , in favor of ni ##tro g ##tt . states com ##pliant with me ##ds at home . patient was comfortable on admission to the mi ##cu . notes pain in abdomen 5 / 10 related to p ##d cat ##he ##ter placement ( has had since then ) , improve ##s with m ##or ##phine . also notes swelling in eyes / face since last night ( has had in the past but never this severe , always goes away on its own ) . she feels whole body is swollen slightly but no more upper ex ##tre ##mit ##ies than lower . she [SEP]\n",
            "input_ids: 101 2236 1104 3485 131 2673 131 175 1555 131 5182 1155 1200 19310 131 8228 27989 23824 1116 120 1679 2528 2093 1204 6546 131 2705 12522 131 1339 117 1286 1981 1105 7209 20085 1558 13467 1137 19849 7791 131 1107 4487 7912 2285 5855 4638 2083 2734 1104 188 1964 1665 120 178 1964 1665 119 1607 1104 1675 6946 131 1695 1214 1385 1590 1114 13936 2956 117 188 1513 117 3055 1973 185 1181 5855 4638 2083 1150 8218 1114 1679 18472 9208 1348 20085 1105 177 24312 27291 21573 119 1104 3805 1131 1108 3055 4120 1111 3661 20085 1113 119 1120 1115 1159 1131 1108 5165 1114 1177 7535 118 1143 23632 4063 117 175 16931 3121 10399 1105 26181 3556 19944 1107 1103 5241 1395 117 1134 1108 1598 1111 170 1703 1104 1210 24429 1113 1103 1837 119 1103 20085 4725 2032 1123 2215 119 1131 1125 1151 1113 1241 1126 20839 117 1105 173 2047 1120 1313 117 1134 1131 1144 1151 1781 1111 1242 1201 119 5351 2231 1115 1103 3661 20085 1110 1211 2620 1496 1106 170 21718 16936 1673 1155 1200 4873 119 1649 117 1131 1125 3055 1896 4267 15554 3309 1181 1106 1123 23897 1378 185 1181 5855 4638 2083 12693 117 1177 1155 1200 4873 1106 4267 15554 3309 1181 1108 1145 1737 119 1103 20839 117 1105 173 2047 1127 1316 1113 1103 1285 1104 10296 1111 136 1126 10712 15018 1918 1133 27777 1174 1113 1285 1104 12398 1443 4497 1177 1131 1108 15207 1113 1172 119 1131 1608 1106 1103 5048 1114 12104 15415 20557 2552 20085 1290 1480 1104 119 5016 189 130 177 1197 5603 171 1643 22154 120 5356 187 1197 1406 2068 1620 110 187 1161 119 1131 1108 1549 178 1964 1177 26241 23632 4063 8347 11083 117 26181 3556 19944 178 1964 117 1105 185 8043 16388 119 1123 171 1643 1108 2382 1106 1129 11202 112 188 2693 8074 20713 2858 1233 7208 1306 1403 185 1186 117 1173 8074 20713 2858 1233 1406 1306 1403 178 1964 193 1477 1177 1108 1408 1113 8074 20713 2858 1233 176 3069 131 2439 13753 123 1306 1403 120 11241 119 1142 1108 2141 1170 2588 1904 117 1107 5010 1104 11437 8005 176 3069 119 2231 3254 27898 1114 1143 3680 1120 1313 119 5351 1108 6062 1113 10296 1106 1103 1940 10182 119 3697 2489 1107 14701 126 120 1275 2272 1106 185 1181 5855 4638 2083 12693 113 1144 1125 1290 1173 114 117 4607 1116 1114 182 1766 21587 119 1145 3697 20085 1107 1257 120 1339 1290 1314 1480 113 1144 1125 1107 1103 1763 1133 1309 1142 5199 117 1579 2947 1283 1113 1157 1319 114 119 1131 5115 2006 1404 1110 13930 2776 1133 1185 1167 3105 4252 7877 9084 1905 1190 2211 119 1131 102 0 0 0 0 0 0 0 0 0 0 0 0 0 0 0 0 0 0 0 0 0 0 0 0 0\n",
            "input_mask: 1 1 1 1 1 1 1 1 1 1 1 1 1 1 1 1 1 1 1 1 1 1 1 1 1 1 1 1 1 1 1 1 1 1 1 1 1 1 1 1 1 1 1 1 1 1 1 1 1 1 1 1 1 1 1 1 1 1 1 1 1 1 1 1 1 1 1 1 1 1 1 1 1 1 1 1 1 1 1 1 1 1 1 1 1 1 1 1 1 1 1 1 1 1 1 1 1 1 1 1 1 1 1 1 1 1 1 1 1 1 1 1 1 1 1 1 1 1 1 1 1 1 1 1 1 1 1 1 1 1 1 1 1 1 1 1 1 1 1 1 1 1 1 1 1 1 1 1 1 1 1 1 1 1 1 1 1 1 1 1 1 1 1 1 1 1 1 1 1 1 1 1 1 1 1 1 1 1 1 1 1 1 1 1 1 1 1 1 1 1 1 1 1 1 1 1 1 1 1 1 1 1 1 1 1 1 1 1 1 1 1 1 1 1 1 1 1 1 1 1 1 1 1 1 1 1 1 1 1 1 1 1 1 1 1 1 1 1 1 1 1 1 1 1 1 1 1 1 1 1 1 1 1 1 1 1 1 1 1 1 1 1 1 1 1 1 1 1 1 1 1 1 1 1 1 1 1 1 1 1 1 1 1 1 1 1 1 1 1 1 1 1 1 1 1 1 1 1 1 1 1 1 1 1 1 1 1 1 1 1 1 1 1 1 1 1 1 1 1 1 1 1 1 1 1 1 1 1 1 1 1 1 1 1 1 1 1 1 1 1 1 1 1 1 1 1 1 1 1 1 1 1 1 1 1 1 1 1 1 1 1 1 1 1 1 1 1 1 1 1 1 1 1 1 1 1 1 1 1 1 1 1 1 1 1 1 1 1 1 1 1 1 1 1 1 1 1 1 1 1 1 1 1 1 1 1 1 1 1 1 1 1 1 1 1 1 1 1 1 1 1 1 1 1 1 1 1 1 1 1 1 1 1 1 1 1 1 1 1 1 1 1 1 1 1 1 1 1 1 1 1 1 1 1 1 1 1 1 1 1 1 1 1 1 1 1 1 1 1 1 1 1 1 1 1 1 1 1 1 1 1 1 1 1 1 1 1 0 0 0 0 0 0 0 0 0 0 0 0 0 0 0 0 0 0 0 0 0 0 0 0 0\n",
            "segment_ids: 0 0 0 0 0 0 0 0 0 0 0 0 0 0 0 0 0 0 0 0 0 0 0 0 0 0 0 0 0 0 0 0 0 0 0 0 0 0 0 0 0 0 0 0 0 0 0 0 0 0 0 0 0 0 0 0 0 0 0 0 0 0 0 0 0 0 0 0 0 0 0 0 0 0 0 0 0 0 0 0 0 0 0 0 0 0 0 0 0 0 0 0 0 0 0 0 0 0 0 0 0 0 0 0 0 0 0 0 0 0 0 0 0 0 0 0 0 0 0 0 0 0 0 0 0 0 0 0 0 0 0 0 0 0 0 0 0 0 0 0 0 0 0 0 0 0 0 0 0 0 0 0 0 0 0 0 0 0 0 0 0 0 0 0 0 0 0 0 0 0 0 0 0 0 0 0 0 0 0 0 0 0 0 0 0 0 0 0 0 0 0 0 0 0 0 0 0 0 0 0 0 0 0 0 0 0 0 0 0 0 0 0 0 0 0 0 0 0 0 0 0 0 0 0 0 0 0 0 0 0 0 0 0 0 0 0 0 0 0 0 0 0 0 0 0 0 0 0 0 0 0 0 0 0 0 0 0 0 0 0 0 0 0 0 0 0 0 0 0 0 0 0 0 0 0 0 0 0 0 0 0 0 0 0 0 0 0 0 0 0 0 0 0 0 0 0 0 0 0 0 0 0 0 0 0 0 0 0 0 0 0 0 0 0 0 0 0 0 0 0 0 0 0 0 0 0 0 0 0 0 0 0 0 0 0 0 0 0 0 0 0 0 0 0 0 0 0 0 0 0 0 0 0 0 0 0 0 0 0 0 0 0 0 0 0 0 0 0 0 0 0 0 0 0 0 0 0 0 0 0 0 0 0 0 0 0 0 0 0 0 0 0 0 0 0 0 0 0 0 0 0 0 0 0 0 0 0 0 0 0 0 0 0 0 0 0 0 0 0 0 0 0 0 0 0 0 0 0 0 0 0 0 0 0 0 0 0 0 0 0 0 0 0 0 0 0 0 0 0 0 0 0 0 0 0 0 0 0 0 0 0 0 0 0 0 0 0 0 0 0 0 0 0 0 0 0 0 0 0 0 0 0 0 0 0 0 0 0 0 0 0 0 0 0 0 0 0 0 0 0 0 0 0 0 0 0 0 0 0 0 0 0\n",
            "label: 1 (id = 1)\n"
          ]
        },
        {
          "output_type": "stream",
          "name": "stderr",
          "text": [
            "3063it [00:07, 406.93it/s]\n"
          ]
        },
        {
          "output_type": "stream",
          "name": "stdout",
          "text": [
            "***** Running evaluation *****\n",
            "  Num examples = %d 3063\n",
            "  Batch size = %d 8\n"
          ]
        },
        {
          "output_type": "stream",
          "name": "stderr",
          "text": [
            "100%|██████████| 383/383 [01:43<00:00,  3.68it/s]\n"
          ]
        },
        {
          "output_type": "display_data",
          "data": {
            "text/plain": [
              "<Figure size 640x480 with 1 Axes>"
            ],
            "image/png": "[encoded data removed]"
          },
          "metadata": {}
        },
        {
          "output_type": "stream",
          "name": "stdout",
          "text": [
            "Recall at Precision of 80 is {} 0.027586206896551724\n"
          ]
        },
        {
          "output_type": "display_data",
          "data": {
            "text/plain": [
              "<Figure size 640x480 with 0 Axes>"
            ]
          },
          "metadata": {}
        },
        {
          "output_type": "display_data",
          "data": {
            "text/plain": [
              "<Figure size 640x480 with 1 Axes>"
            ],
            "image/png": "[encoded data removed]"
          },
          "metadata": {}
        }
      ],
      "source": [
        "# Evaluate bert-based readmission prediction using discharge summary\n",
        "from transformers import AutoTokenizer, BertForSequenceClassification\n",
        "## initialize hyperparamaters\n",
        "device = torch.device('cuda:0')\n",
        "readmission_mode = 'discharge'\n",
        "data_dir = 'DATA/'\n",
        "data_dir = os.path.join(data_dir, readmission_mode)\n",
        "output_dir = 'experiment'\n",
        "output_dir = os.path.join(output_dir, readmission_mode)\n",
        "model = 'clinicalbert'\n",
        "output_dir = os.path.join(output_dir, model)\n",
        "max_seq_length = 512\n",
        "eval_batch_size = 8\n",
        "\n",
        "model_dir = 'experiment/discharge/clinicalbert/model.pth'\n",
        "clinicalbert_discharge_model = torch.load(model_dir)\n",
        "tokenizer = AutoTokenizer.from_pretrained(\"emilyalsentzer/Bio_ClinicalBERT\")\n",
        "\n",
        "clinicalbert_discharge_results = evaluate_model(clinicalbert_discharge_model, tokenizer, data_dir, max_seq_length, eval_batch_size, device,readmission_mode, output_dir)"
      ]
    },
    {
      "cell_type": "code",
      "execution_count": null,
      "metadata": {
        "colab": {
          "base_uri": "https://localhost:8080/"
        },
        "id": "OhfLMkh-1c2i",
        "outputId": "6dcb3c55-ba6a-460c-d906-9b7e6bbaf099"
      },
      "outputs": [
        {
          "output_type": "stream",
          "name": "stdout",
          "text": [
            "{'eval_loss': 0.8172822113953745, 'eval_accuracy': 0.6199804113614104, 'auc_score': 0.6390223553579609, 'auprc_score': 0.6624124970453183, 'RP80': 0.027586206896551724}\n"
          ]
        }
      ],
      "source": [
        "print(clinicalbert_discharge_results)"
      ]
    },
    {
      "cell_type": "markdown",
      "source": [
        "## Hierachical BERT Readmission Prediction"
      ],
      "metadata": {
        "id": "noss6BJnv82M"
      }
    },
    {
      "cell_type": "code",
      "source": [
        "# Evaluate bert-based readmission prediction using discharge summary\n",
        "from transformers import AutoTokenizer, BertForSequenceClassification\n",
        "\n",
        "\n",
        "_DIR = 'DATA/'\n",
        "import json\n",
        "train_dir = _DIR + 'discharge/train.json'\n",
        "val_dir = _DIR + 'discharge/val.json'\n",
        "test_dir = _DIR + 'discharge/test.json'\n",
        "\n",
        "\n",
        "test = json.load(open(test_dir))\n",
        "\n",
        "## initialize hyperparamaters\n",
        "device = torch.device('cuda:0')\n",
        "readmission_mode = 'discharge'\n",
        "data_dir = 'DATA/'\n",
        "data_dir = os.path.join(data_dir, readmission_mode)\n",
        "output_dir = 'experiment'\n",
        "output_dir = os.path.join(output_dir, readmission_mode)\n",
        "model = 'hierachical_bert'\n",
        "output_dir = os.path.join(output_dir, model)\n",
        "max_seq_length = 512\n",
        "eval_batch_size = 8\n",
        "\n",
        "model_dir = 'experiment/discharge/hierachical_bert/hierachical_bert.pth'\n",
        "hierachical_bert = torch.load(model_dir)\n",
        "\n",
        "hierachical_bert_results = evaluate_hierachical(test)\n",
        "print(hierachical_bert_results)"
      ],
      "metadata": {
        "id": "9ZOCVHt8v8eF"
      },
      "execution_count": null,
      "outputs": []
    },
    {
      "cell_type": "markdown",
      "source": [
        "## LSTM readmission prediction using all notes"
      ],
      "metadata": {
        "id": "2e-RtH5Ldt9Y"
      }
    },
    {
      "cell_type": "code",
      "source": [
        "## Test Patient Level Accuracy: 0.5775\n",
        "## Test Patient Level F1 Score: 0.6442105263157896\n",
        "## Test Patient Level Precision: 0.5563636363636364\n",
        "## Test Patient Level Recall: 0.765\n",
        "## Test Patient Level AUC: 0.6080749999999999\n",
        "## Test Patient Level Matthew's correlation coefficient: 0.16720156589088403\n",
        "## Test Patient Level AUPR: 0.5825588122450577"
      ],
      "metadata": {
        "id": "vhHIik8UdyVf"
      },
      "execution_count": null,
      "outputs": []
    },
    {
      "cell_type": "markdown",
      "metadata": {
        "id": "yxesah783nBG"
      },
      "source": [
        "## FTL-Trans readmission prediction using all notes\n",
        "We refer the reader to the readme file of our github repo for instruction on running experiments with FTL-Trans"
      ]
    },
    {
      "cell_type": "code",
      "execution_count": null,
      "metadata": {
        "id": "dRoIHSxP3wfX"
      },
      "outputs": [],
      "source": [
        "## The experiment results can be found in preprocessing_FTL_Trans.ipynb\n",
        "## Test Patient Level Accuracy: 0.503957783641161\n",
        "## Test Patient Level F1 Score: 0.6701754385964912\n",
        "## Test Patient Level Precision: 0.503957783641161\n",
        "## Test Patient Level Recall: 1.0\n",
        "## Test Patient Level AUC: 0.5\n",
        "## Test Patient Level Matthew's correlation coefficient: 0.0\n",
        "## Test Patient Level AUPR: 0.7519788918205805"
      ]
    },
    {
      "cell_type": "markdown",
      "source": [
        "## FTL-Trans Readmission Prediction using All Notes (adjust time decay function)"
      ],
      "metadata": {
        "id": "Ho09kB2rX4Fe"
      }
    },
    {
      "cell_type": "code",
      "source": [
        "## Test Patient Level Accuracy: 0.5883905013192612\n",
        "## Test Patient Level F1 Score: 0.5894736842105263\n",
        "## Test Patient Level Precision: 0.5925925925925926\n",
        "## Test Patient Level Recall: 0.5863874345549738\n",
        "## Test Patient Level AUC: 0.5945750250640526\n",
        "## Test Patient Level Matthew's correlation coefficient: 0.17680804262056563\n",
        "## Test Patient Level AUPR: 0.5529735214178602"
      ],
      "metadata": {
        "id": "5Dy_Q4N4YBSi"
      },
      "execution_count": null,
      "outputs": []
    },
    {
      "cell_type": "markdown",
      "metadata": {
        "id": "uygL9tTPSVHB"
      },
      "source": [
        "# Results\n",
        "We report our results with our baselines BERT and ClinicalBERT as the following (in case the experiment excution above can't be finished on time)\n",
        "\n",
        "We also report partial results running using FLT-Trans repos. However, we haven't finished all metrics, so we report with limited results.\n",
        "\n"
      ]
    },
    {
      "cell_type": "markdown",
      "source": [
        "### Result 1: Bert v.s. ClinicalBert\n",
        "Beyond the original paper, we conduct experiments of Bert v.s. ClinicalBert on Readmission Prediction using Discharge Summaries.\n",
        "\n",
        "Our experiments shows\n",
        "```\n",
        "Bert:\n",
        "{'eval_accuracy': 0.6072477962781586,\n",
        "  'auc_score': 0.6502302314565969,\n",
        "  'auprc_score': 0.6816921470562338,\n",
        "  'RP80': 0.12758620689655173}\n",
        "\n",
        "ClinicalBert:\n",
        "{'eval_accuracy': 0.6199804113614104,\n",
        "'auc_score': 0.6390223553579609,\n",
        "'auprc_score': 0.6624124970453183,\n",
        "'RP80': 0.027586206896551724}\n",
        "```\n",
        "**The ClinicalBert outperforms Bert in terms of eval_accuracy, showing that ClinicalBert has better performance on health related data compared to Bert.**\n",
        "\n",
        "\n",
        "\n"
      ],
      "metadata": {
        "id": "noAXZa_AZq1h"
      }
    },
    {
      "cell_type": "markdown",
      "source": [
        "### Result 2: Replicate FTL-Trans\n",
        "To reproduce the result of original paper, we conduct experiments of FTL-Trans using All Notes. However, we get results:\n",
        "```\n",
        "Test Patient Level Accuracy: 0.503957783641161\n",
        "Test Patient Level F1 Score: 0.6701754385964912\n",
        "Test Patient Level Precision: 0.503957783641161\n",
        "Test Patient Level Recall: 1.0\n",
        "Test Patient Level AUC: 0.5\n",
        "Test Patient Level Matthew's correlation coefficient: 0.0\n",
        "Test Patient Level AUPR: 0.7519788918205805\n",
        "```\n",
        "The Accuracy is only ~0.5, showing that the model barely outperforms a random guess."
      ],
      "metadata": {
        "id": "NqsWFzkVarMJ"
      }
    },
    {
      "cell_type": "markdown",
      "source": [
        "### Result 3: (Ablation Study 1) Adjust FTL-Trans\n",
        "Upon Investigation, we found that this is due to inappropriate use of time decay function.    \n",
        "The paper divides each patient's note into multiple chunks, with the time for each chunk being the same. The delta t in the time decay function is the time interval between adjacent chunks. Consequently, we will inevitably get many zeros. These zeros, in the g(delta t) function of the FTL model, will appear in the denominator, leading to incorrect results.  \n",
        "To test our hypothesis, we run another experiment that simply set delta t = 1 as a constant, which yields a better result.\n",
        "```\n",
        "Test Patient Level Accuracy: 0.5883905013192612\n",
        "Test Patient Level F1 Score: 0.5894736842105263\n",
        "Test Patient Level Precision: 0.5925925925925926\n",
        "Test Patient Level Recall: 0.5863874345549738\n",
        "Test Patient Level AUC: 0.5945750250640526\n",
        "Test Patient Level Matthew's correlation coefficient: 0.17680804262056563\n",
        "Test Patient Level AUPR: 0.5529735214178602\n",
        "```\n",
        "**We could see Accuracy increases from 0.5 to 0.588 by only setting delta t = 1. It seems that by adjusting the delta t in an appropriate manner, we could see FTL-Trans outperforms ClinicalBert.**"
      ],
      "metadata": {
        "id": "RYCroULObXjy"
      }
    },
    {
      "cell_type": "markdown",
      "source": [
        "### Result 4: (Ablation Study 2) LSTM v.s. FTL-Trans\n",
        "The only difference between FTL-Trans and LSTM is the inclusion of time info. Therefore, we want to test if time info helps FTL-Trans outperforms LSTM.\n",
        "The LSTM shows result:\n",
        "```\n",
        "Test Patient Level Accuracy: 0.5775\n",
        "Test Patient Level F1 Score: 0.6442105263157896\n",
        "Test Patient Level Precision: 0.5563636363636364\n",
        "Test Patient Level Recall: 0.765\n",
        "Test Patient Level AUC: 0.6080749999999999\n",
        "Test Patient Level Matthew's correlation coefficient: 0.16720156589088403\n",
        "Test Patient Level AUPR: 0.5825588122450577\n",
        "```\n",
        "**By comparing LSTM's accuracy v.s. FTL-Trans (adjusted version), we could see FTL-Trans (accuracy=0.588) does outperform LSTM (accuracy=0.577), suggesting that time info is valuable to readmission prediction.**"
      ],
      "metadata": {
        "id": "bT5TeoLvcpWt"
      }
    },
    {
      "cell_type": "markdown",
      "metadata": {
        "id": "gX6bCcZNuxmz"
      },
      "source": [
        "### Conclusion\n",
        "From the results above we observe a mild improvement on accuracy from BERT to ClinicalBERT. The RP80, however, is much different between two models. We think this is due to the representation formed by clinical BERT and the prediciton probability is more expressive than BERT. We believe this gives more room for additional layers.\n",
        "\n",
        "The experiment between the FTL-Trans and an ablation study (for which we set override time delta) to be 1 validate our doubts on the flexible time decaying introduced in FTL-Trans as the model failed to handle the actual time delta and failed to learn any meaningful results. Also, in comparison with flat model, we also see significantly lower accuracy with FTL-Trans which is likely caused by poor implementation which we aim to fix in the future experiments.\n",
        "\n",
        "Moreover, the ablation study of comparing LSTM and FTL-Trans shows that the time info is valuable to the prediction task. Therefore, we believe that by appropriately handle flexible time decaying introduced in FTL-Trans, we can get better predictions.\n"
      ]
    },
    {
      "cell_type": "markdown",
      "metadata": {
        "id": "qH75TNU71eRH"
      },
      "source": [
        "# Discussion\n",
        "\n",
        "### Reproducibility\n",
        "During our reproduction, we met two difficulties. First, the author did not publish how he preprocessed the data. The instructions are pretty vague. In fact, we refer to another paper's repo (https://github.com/kexinhuang12345/clinicalBERT/tree/master) to figure out the preprocessing steps. We also saw other people raised same issue in the repo. The second difficulty is the time decay function we discussed above.\n",
        "\n",
        "Overall, due to the issues we mentioned in result section, we do not think the result can be reproduced. Even we fixing the implementation issues, the flexible time function introduced in FTL-Trans[1] will not work properly with the actual time different (which is 0 for most of the time).\n",
        "\n",
        "### Recommendations\n",
        "Corresponding to our two challenges, we think 2 things are important:\n",
        "1. Giving clear instructions of reproducity, including data preprocessing\n",
        "2. Before pushing codes to github, make sure the results is reproducible\n",
        "\n",
        "\n"
      ]
    },
    {
      "cell_type": "markdown",
      "metadata": {
        "id": "i-y1UZWJDmt9"
      },
      "source": [
        "# Github Repo\n",
        "https://github.com/yitzhao/CS598_FTL_Trans"
      ]
    },
    {
      "cell_type": "markdown",
      "metadata": {
        "id": "SHMI2chl9omn"
      },
      "source": [
        "# References\n",
        "\n",
        "[1] D. Zhang, J. Thadajarassiri, C. Sen, and E. Rundensteiner, “Timeaware transformer-based network for clinical notes series prediction,” in Machine Learning for Healthcare Conference. PMLR, Sep. 2020, pp. 566–588.\n",
        "\n",
        "[2] Inci M Baytas, Cao Xiao, Xi Zhang, Fei Wang, Anil K Jain, and Jiayu Zhou. Patient subtyping via time-aware lstm networks. In Proceedings of the 23rd ACM SIGKDD international conference on knowledge discovery and data mining, pages 65–74. ACM, 2017.\n",
        "\n",
        "[3] Kexin Huang, Jaan Altosaar, and Rajesh Ranganath. Clinicalbert: Modeling clinical notes and predicting hospital readmission. arXiv preprint arXiv:1904.05342, 2019.\n",
        "\n",
        "[4] Baytas IM, Xiao C, Zhang X, Wang F, Jain AK, Zhou J. Patient subtyping via time-aware LSTM networks. In: proceedings of the 23rd ACM\n",
        "SIGKDD International Conference on Knowledge Discovery and Data\n",
        "Mining. Halifax, NS, Canada: ACM; 2017: 65–74.\n",
        "\n",
        "[5] Alsentzer E, Murphy J R, Boag W, et al. Publicly available clinical\n",
        "BERT embeddings. ArXiv: 1904.03323\n",
        "\n",
        "[6] https://github.com/zdy93/FTL-Trans\n",
        "\n",
        "[7] https://github.com/kexinhuang12345/clinicalBERT\n"
      ]
    },
    {
      "cell_type": "code",
      "source": [
        "# Mount the drive\n",
        "from google.colab import drive\n",
        "drive.mount('/content/gdrive')\n",
        "\n",
        "# Go to the directory where your file is\n",
        "%cd /content/drive/MyDrive/FTL-\\ Notebooks/\n",
        "\n",
        "# Verify that now you see your notebooks\n",
        "!ls\n",
        "\n",
        "# Convert\n",
        "!jupyter nbconvert --to pdf my_notebook.ipynb"
      ],
      "metadata": {
        "id": "28ukwVSCrtRJ",
        "colab": {
          "base_uri": "https://localhost:8080/"
        },
        "outputId": "ab7cec1d-eb89-4797-9dc3-936c3f22dd26"
      },
      "execution_count": null,
      "outputs": [
        {
          "output_type": "stream",
          "name": "stdout",
          "text": [
            "Mounted at /content/gdrive\n",
            "[Errno 107] Transport endpoint is not connected: '/content/drive/MyDrive/FTL-Trans/'\n",
            "/content\n"
          ]
        }
      ]
    },
    {
      "cell_type": "code",
      "source": [
        "# %% [code]\n",
        "!wget -nc https://raw.githubusercontent.com/brpy/colab-pdf/master/colab_pdf.py\n",
        "from colab_pdf import colab_pdf\n"
      ],
      "metadata": {
        "colab": {
          "base_uri": "https://localhost:8080/",
          "height": 348
        },
        "id": "mBapGidBpy2g",
        "outputId": "ff815a8d-ed8b-4c4d-a338-bf5d07fb3453"
      },
      "execution_count": null,
      "outputs": [
        {
          "output_type": "stream",
          "name": "stdout",
          "text": [
            "File ‘colab_pdf.py’ already there; not retrieving.\n",
            "\n"
          ]
        },
        {
          "output_type": "error",
          "ename": "ValueError",
          "evalue": "file 'Project_Draft.ipynb' not found in path '/content/drive/MyDrive/Colab Notebooks/'.",
          "traceback": [
            "\u001b[0;31m---------------------------------------------------------------------------\u001b[0m",
            "\u001b[0;31mValueError\u001b[0m                                Traceback (most recent call last)",
            "\u001b[0;32m<ipython-input-4-12d1d650a82a>\u001b[0m in \u001b[0;36m<cell line: 4>\u001b[0;34m()\u001b[0m\n\u001b[1;32m      2\u001b[0m \u001b[0mget_ipython\u001b[0m\u001b[0;34m(\u001b[0m\u001b[0;34m)\u001b[0m\u001b[0;34m.\u001b[0m\u001b[0msystem\u001b[0m\u001b[0;34m(\u001b[0m\u001b[0;34m'wget -nc https://raw.githubusercontent.com/brpy/colab-pdf/master/colab_pdf.py'\u001b[0m\u001b[0;34m)\u001b[0m\u001b[0;34m\u001b[0m\u001b[0;34m\u001b[0m\u001b[0m\n\u001b[1;32m      3\u001b[0m \u001b[0;32mfrom\u001b[0m \u001b[0mcolab_pdf\u001b[0m \u001b[0;32mimport\u001b[0m \u001b[0mcolab_pdf\u001b[0m\u001b[0;34m\u001b[0m\u001b[0;34m\u001b[0m\u001b[0m\n\u001b[0;32m----> 4\u001b[0;31m \u001b[0mcolab_pdf\u001b[0m\u001b[0;34m(\u001b[0m\u001b[0;34m'Project_Draft.ipynb'\u001b[0m\u001b[0;34m)\u001b[0m\u001b[0;34m\u001b[0m\u001b[0;34m\u001b[0m\u001b[0m\n\u001b[0m",
            "\u001b[0;32m/content/drive/.shortcut-targets-by-id/1plvfq7C7iA1rEZCnVqzNF48tM0uSq1Tt/FTL-Trans/colab_pdf.py\u001b[0m in \u001b[0;36mcolab_pdf\u001b[0;34m(file_name, notebookpath)\u001b[0m\n\u001b[1;32m     20\u001b[0m     \u001b[0;31m# Check if the notebook exists in the Drive.\u001b[0m\u001b[0;34m\u001b[0m\u001b[0;34m\u001b[0m\u001b[0m\n\u001b[1;32m     21\u001b[0m     \u001b[0;32mif\u001b[0m \u001b[0;32mnot\u001b[0m \u001b[0mos\u001b[0m\u001b[0;34m.\u001b[0m\u001b[0mpath\u001b[0m\u001b[0;34m.\u001b[0m\u001b[0misfile\u001b[0m\u001b[0;34m(\u001b[0m\u001b[0mos\u001b[0m\u001b[0;34m.\u001b[0m\u001b[0mpath\u001b[0m\u001b[0;34m.\u001b[0m\u001b[0mjoin\u001b[0m\u001b[0;34m(\u001b[0m\u001b[0mnotebookpath\u001b[0m\u001b[0;34m,\u001b[0m \u001b[0mfile_name\u001b[0m\u001b[0;34m)\u001b[0m\u001b[0;34m)\u001b[0m\u001b[0;34m:\u001b[0m\u001b[0;34m\u001b[0m\u001b[0;34m\u001b[0m\u001b[0m\n\u001b[0;32m---> 22\u001b[0;31m         \u001b[0;32mraise\u001b[0m \u001b[0mValueError\u001b[0m\u001b[0;34m(\u001b[0m\u001b[0;34mf\"file '{file_name}' not found in path '{notebookpath}'.\"\u001b[0m\u001b[0;34m)\u001b[0m\u001b[0;34m\u001b[0m\u001b[0;34m\u001b[0m\u001b[0m\n\u001b[0m\u001b[1;32m     23\u001b[0m \u001b[0;34m\u001b[0m\u001b[0m\n\u001b[1;32m     24\u001b[0m     \u001b[0;31m# Installing all the recommended packages.\u001b[0m\u001b[0;34m\u001b[0m\u001b[0;34m\u001b[0m\u001b[0m\n",
            "\u001b[0;31mValueError\u001b[0m: file 'Project_Draft.ipynb' not found in path '/content/drive/MyDrive/Colab Notebooks/'."
          ]
        }
      ]
    },
    {
      "cell_type": "code",
      "source": [
        "def colab2pdf():\n",
        "    # Colab2PDF by Drengskapur (https://github.com/drengskapur/colab2pdf)\n",
        "    # @title Convert Colab Notebook to PDF {display-mode:'form'}\n",
        "    # VERSION 1.3\n",
        "    # LICENSE: GPL-3.0-or-later\n",
        "    !apt-get install -yqq --no-install-recommends librsvg2-bin>/dev/null\n",
        "    import contextlib,datetime,google,io,IPython,ipywidgets,json,locale,nbformat,os,pathlib,requests,urllib,warnings,werkzeug,yaml;locale.setlocale(locale.LC_ALL,'en_US.UTF-8')\n",
        "    def convert(b):\n",
        "        try:\n",
        "            s.value='⚙️ Converting...';b.disabled=True;get_ipython().events.register('post_execute',lambda:IPython.display.display(IPython.display.Javascript('document.querySelectorAll(\"#output-footer\").forEach(footer=>footer.remove());')))\n",
        "            n=pathlib.Path(werkzeug.utils.secure_filename(urllib.parse.unquote(requests.get(f'http://{os.environ[\"COLAB_JUPYTER_IP\"]}:{os.environ[\"KMP_TARGET_PORT\"]}/api/sessions').json()[0]['name'])))\n",
        "            p=pathlib.Path('/content/pdfs')/f'{datetime.datetime.now().strftime(\"%Y%m%d_%H%M%S\")}_{n.stem}';p.mkdir(parents=True,exist_ok=True);warnings.filterwarnings('ignore',category=nbformat.validator.MissingIDFieldWarning)\n",
        "            nb=[cell for cell in nbformat.reads(json.dumps(google.colab._message.blocking_request('get_ipynb',timeout_sec=600)['ipynb']),as_version=4).cells if '--Colab2PDF' not in cell.source]\n",
        "            with (p/f'{n.stem}.ipynb').open('w',encoding='utf-8') as cp:nbformat.write(nbformat.v4.new_notebook(cells=nb or [nbformat.v4.new_code_cell('#')]),cp)\n",
        "            with (p/'config.yml').open('w',encoding='utf-8') as f:yaml.dump({'include-in-header':[{'text':r'\\usepackage{fvextra}\\DefineVerbatimEnvironment{Highlighting}{Verbatim}{breaksymbolleft={},showspaces=false,showtabs=false,breaklines,breakanywhere,commandchars=\\\\\\{\\}}'}],'include-before-body':[{'text':r'\\DefineVerbatimEnvironment{verbatim}{Verbatim}{breaksymbolleft={},showspaces=false,showtabs=false,breaklines}'}]},f)\n",
        "            !quarto render {p}/{n.stem}.ipynb --metadata-file={p}/config.yml --to pdf -M latex-auto-install -M margin-top=1in -M margin-bottom=1in -M margin-left=1in -M margin-right=1in --quiet\n",
        "            google.colab.files.download(str(p/f'{n.stem}.pdf'));s.value=f'🎉 Downloaded {n.stem}.pdf'\n",
        "        except Exception as e:\n",
        "            s.value=f'⚠️ ERROR {str(e)}'\n",
        "        finally:\n",
        "            b.disabled=False\n",
        "    if not pathlib.Path('/usr/local/bin/quarto').exists():\n",
        "        !wget -q 'https://quarto.org/download/latest/quarto-linux-amd64.deb' -P {p} && dpkg -i {p}/quarto-linux-amd64.deb>/dev/null && quarto install tinytex --update-path --quiet\n",
        "    b=ipywidgets.widgets.Button(description='⬇️ Download PDF');s=ipywidgets.widgets.Label();b.on_click(lambda b:convert(b));IPython.display.display(ipywidgets.widgets.HBox([b,s]))\n",
        "    IPython.display.display(IPython.display.Javascript('document.currentScript.parentElement.closest(\".output_subarea\").querySelector(\"#output-footer > input\").remove();'))\n",
        "colab2pdf()"
      ],
      "metadata": {
        "id": "aJB7oTgkp6h2",
        "colab": {
          "base_uri": "https://localhost:8080/",
          "height": 85,
          "referenced_widgets": [
            "a70602c4bc654bf68f010b4120a166a9",
            "739450af1a2243739495d1a316eb917e",
            "d9ead5ef55ea487ea9a55ba9d835d12c",
            "de8c5ee20ec84b0aad921d120d229c69",
            "0398015aae1040d2acef95daaba78c23",
            "e17631a9c2d44810af4ccbb9bd2f936d",
            "43286f1fb6c44a4ca91f37bbdc9825db",
            "e5ba80aab4b641b1925ddb9cc2f3b309"
          ]
        },
        "outputId": "b20a4341-08c8-48a3-f5ab-213f8d0e6cec"
      },
      "execution_count": null,
      "outputs": [
        {
          "output_type": "display_data",
          "data": {
            "text/plain": [
              "HBox(children=(Button(description='⬇️ Download PDF', style=ButtonStyle()), Label(value='')))"
            ],
            "application/vnd.jupyter.widget-view+json": {
              "version_major": 2,
              "version_minor": 0,
              "model_id": "a70602c4bc654bf68f010b4120a166a9"
            }
          },
          "metadata": {}
        },
        {
          "output_type": "display_data",
          "data": {
            "text/plain": [
              "<IPython.core.display.Javascript object>"
            ],
            "application/javascript": [
              "document.currentScript.parentElement.closest(\".output_subarea\").querySelector(\"#output-footer > input\").remove();"
            ]
          },
          "metadata": {}
        },
        {
          "output_type": "stream",
          "name": "stdout",
          "text": [
            "/bin/bash: line 1: quarto: command not found\n"
          ]
        },
        {
          "output_type": "display_data",
          "data": {
            "text/plain": [
              "<IPython.core.display.Javascript object>"
            ],
            "application/javascript": [
              "document.querySelectorAll(\"#output-footer\").forEach(footer=>footer.remove());"
            ]
          },
          "metadata": {}
        },
        {
          "output_type": "stream",
          "name": "stdout",
          "text": [
            "/bin/bash: line 1: quarto: command not found\n"
          ]
        },
        {
          "output_type": "display_data",
          "data": {
            "text/plain": [
              "<IPython.core.display.Javascript object>"
            ],
            "application/javascript": [
              "document.querySelectorAll(\"#output-footer\").forEach(footer=>footer.remove());"
            ]
          },
          "metadata": {}
        },
        {
          "output_type": "display_data",
          "data": {
            "text/plain": [
              "<IPython.core.display.Javascript object>"
            ],
            "application/javascript": [
              "document.querySelectorAll(\"#output-footer\").forEach(footer=>footer.remove());"
            ]
          },
          "metadata": {}
        }
      ]
    }
  ],
  "metadata": {
    "accelerator": "GPU",
    "colab": {
      "gpuType": "T4",
      "machine_shape": "hm",
      "provenance": [],
      "toc_visible": true
    },
    "kernelspec": {
      "display_name": "Python 3",
      "name": "python3"
    },
    "language_info": {
      "name": "python"
    },
    "widgets": {
      "application/vnd.jupyter.widget-state+json": {
        "0114d24a87844a00952c9917d7f65982": {
          "model_module": "@jupyter-widgets/controls",
          "model_module_version": "1.5.0",
          "model_name": "ProgressStyleModel",
          "state": {
            "_model_module": "@jupyter-widgets/controls",
            "_model_module_version": "1.5.0",
            "_model_name": "ProgressStyleModel",
            "_view_count": null,
            "_view_module": "@jupyter-widgets/base",
            "_view_module_version": "1.2.0",
            "_view_name": "StyleView",
            "bar_color": null,
            "description_width": ""
          }
        },
        "01ec85517ffd4f2b901e76a17635d695": {
          "model_module": "@jupyter-widgets/controls",
          "model_module_version": "1.5.0",
          "model_name": "HBoxModel",
          "state": {
            "_dom_classes": [],
            "_model_module": "@jupyter-widgets/controls",
            "_model_module_version": "1.5.0",
            "_model_name": "HBoxModel",
            "_view_count": null,
            "_view_module": "@jupyter-widgets/controls",
            "_view_module_version": "1.5.0",
            "_view_name": "HBoxView",
            "box_style": "",
            "children": [
              "IPY_MODEL_97be075dce9349f397ef78622cb6f83e",
              "IPY_MODEL_6ea7c2e9aa654560981220409b158de2",
              "IPY_MODEL_a0e4c6ea7bb64e0a82e17cdfe62007de"
            ],
            "layout": "IPY_MODEL_c451db1635d0419ab3b940093e5e8fc7"
          }
        },
        "050561a7f56248149197a9f0eb960d07": {
          "model_module": "@jupyter-widgets/controls",
          "model_module_version": "1.5.0",
          "model_name": "HBoxModel",
          "state": {
            "_dom_classes": [],
            "_model_module": "@jupyter-widgets/controls",
            "_model_module_version": "1.5.0",
            "_model_name": "HBoxModel",
            "_view_count": null,
            "_view_module": "@jupyter-widgets/controls",
            "_view_module_version": "1.5.0",
            "_view_name": "HBoxView",
            "box_style": "",
            "children": [
              "IPY_MODEL_0563f47b780c4455bf728d5d8e53fddf",
              "IPY_MODEL_11ff2ae6b1654c65b076587446002d36",
              "IPY_MODEL_66c8e32c41bc49d089fc5f7685d74b16"
            ],
            "layout": "IPY_MODEL_c64cc503249e4fc6b50f95926d05460a"
          }
        },
        "0563f47b780c4455bf728d5d8e53fddf": {
          "model_module": "@jupyter-widgets/controls",
          "model_module_version": "1.5.0",
          "model_name": "HTMLModel",
          "state": {
            "_dom_classes": [],
            "_model_module": "@jupyter-widgets/controls",
            "_model_module_version": "1.5.0",
            "_model_name": "HTMLModel",
            "_view_count": null,
            "_view_module": "@jupyter-widgets/controls",
            "_view_module_version": "1.5.0",
            "_view_name": "HTMLView",
            "description": "",
            "description_tooltip": null,
            "layout": "IPY_MODEL_5bd6604cba7c472eaa5235614abde662",
            "placeholder": "​",
            "style": "IPY_MODEL_56f965e29c2f41c0be417ebed7ad5b97",
            "value": "pytorch_model.bin: 100%"
          }
        },
        "082050529bd4472ea3e7dfa057f0beae": {
          "model_module": "@jupyter-widgets/controls",
          "model_module_version": "1.5.0",
          "model_name": "HTMLModel",
          "state": {
            "_dom_classes": [],
            "_model_module": "@jupyter-widgets/controls",
            "_model_module_version": "1.5.0",
            "_model_name": "HTMLModel",
            "_view_count": null,
            "_view_module": "@jupyter-widgets/controls",
            "_view_module_version": "1.5.0",
            "_view_name": "HTMLView",
            "description": "",
            "description_tooltip": null,
            "layout": "IPY_MODEL_1fa8bdeb75664572a74043860989e7e3",
            "placeholder": "​",
            "style": "IPY_MODEL_67dff2aabeba42e0ae62bca280220dcf",
            "value": " 385/385 [00:00&lt;00:00, 33.8kB/s]"
          }
        },
        "09c674d5da634aa6bc8db6551cc43d38": {
          "model_module": "@jupyter-widgets/controls",
          "model_module_version": "1.5.0",
          "model_name": "ProgressStyleModel",
          "state": {
            "_model_module": "@jupyter-widgets/controls",
            "_model_module_version": "1.5.0",
            "_model_name": "ProgressStyleModel",
            "_view_count": null,
            "_view_module": "@jupyter-widgets/base",
            "_view_module_version": "1.2.0",
            "_view_name": "StyleView",
            "bar_color": null,
            "description_width": ""
          }
        },
        "0c1e3365d58d42778a585851cd3c8d76": {
          "model_module": "@jupyter-widgets/controls",
          "model_module_version": "1.5.0",
          "model_name": "DescriptionStyleModel",
          "state": {
            "_model_module": "@jupyter-widgets/controls",
            "_model_module_version": "1.5.0",
            "_model_name": "DescriptionStyleModel",
            "_view_count": null,
            "_view_module": "@jupyter-widgets/base",
            "_view_module_version": "1.2.0",
            "_view_name": "StyleView",
            "description_width": ""
          }
        },
        "11ff2ae6b1654c65b076587446002d36": {
          "model_module": "@jupyter-widgets/controls",
          "model_module_version": "1.5.0",
          "model_name": "FloatProgressModel",
          "state": {
            "_dom_classes": [],
            "_model_module": "@jupyter-widgets/controls",
            "_model_module_version": "1.5.0",
            "_model_name": "FloatProgressModel",
            "_view_count": null,
            "_view_module": "@jupyter-widgets/controls",
            "_view_module_version": "1.5.0",
            "_view_name": "ProgressView",
            "bar_style": "success",
            "description": "",
            "description_tooltip": null,
            "layout": "IPY_MODEL_bbd51a9a87ea43f5b1c024775e1fd981",
            "max": 435778770,
            "min": 0,
            "orientation": "horizontal",
            "style": "IPY_MODEL_0114d24a87844a00952c9917d7f65982",
            "value": 435778770
          }
        },
        "155bd681aee74ba29648d2e40cc0b40f": {
          "model_module": "@jupyter-widgets/controls",
          "model_module_version": "1.5.0",
          "model_name": "DescriptionStyleModel",
          "state": {
            "_model_module": "@jupyter-widgets/controls",
            "_model_module_version": "1.5.0",
            "_model_name": "DescriptionStyleModel",
            "_view_count": null,
            "_view_module": "@jupyter-widgets/base",
            "_view_module_version": "1.2.0",
            "_view_name": "StyleView",
            "description_width": ""
          }
        },
        "15d25019a30f44b49c2f6442b754e1ff": {
          "model_module": "@jupyter-widgets/controls",
          "model_module_version": "1.5.0",
          "model_name": "ProgressStyleModel",
          "state": {
            "_model_module": "@jupyter-widgets/controls",
            "_model_module_version": "1.5.0",
            "_model_name": "ProgressStyleModel",
            "_view_count": null,
            "_view_module": "@jupyter-widgets/base",
            "_view_module_version": "1.2.0",
            "_view_name": "StyleView",
            "bar_color": null,
            "description_width": ""
          }
        },
        "1fa8bdeb75664572a74043860989e7e3": {
          "model_module": "@jupyter-widgets/base",
          "model_module_version": "1.2.0",
          "model_name": "LayoutModel",
          "state": {
            "_model_module": "@jupyter-widgets/base",
            "_model_module_version": "1.2.0",
            "_model_name": "LayoutModel",
            "_view_count": null,
            "_view_module": "@jupyter-widgets/base",
            "_view_module_version": "1.2.0",
            "_view_name": "LayoutView",
            "align_content": null,
            "align_items": null,
            "align_self": null,
            "border": null,
            "bottom": null,
            "display": null,
            "flex": null,
            "flex_flow": null,
            "grid_area": null,
            "grid_auto_columns": null,
            "grid_auto_flow": null,
            "grid_auto_rows": null,
            "grid_column": null,
            "grid_gap": null,
            "grid_row": null,
            "grid_template_areas": null,
            "grid_template_columns": null,
            "grid_template_rows": null,
            "height": null,
            "justify_content": null,
            "justify_items": null,
            "left": null,
            "margin": null,
            "max_height": null,
            "max_width": null,
            "min_height": null,
            "min_width": null,
            "object_fit": null,
            "object_position": null,
            "order": null,
            "overflow": null,
            "overflow_x": null,
            "overflow_y": null,
            "padding": null,
            "right": null,
            "top": null,
            "visibility": null,
            "width": null
          }
        },
        "2d2e507503fd42e89715bba57b1ed2d3": {
          "model_module": "@jupyter-widgets/base",
          "model_module_version": "1.2.0",
          "model_name": "LayoutModel",
          "state": {
            "_model_module": "@jupyter-widgets/base",
            "_model_module_version": "1.2.0",
            "_model_name": "LayoutModel",
            "_view_count": null,
            "_view_module": "@jupyter-widgets/base",
            "_view_module_version": "1.2.0",
            "_view_name": "LayoutView",
            "align_content": null,
            "align_items": null,
            "align_self": null,
            "border": null,
            "bottom": null,
            "display": null,
            "flex": null,
            "flex_flow": null,
            "grid_area": null,
            "grid_auto_columns": null,
            "grid_auto_flow": null,
            "grid_auto_rows": null,
            "grid_column": null,
            "grid_gap": null,
            "grid_row": null,
            "grid_template_areas": null,
            "grid_template_columns": null,
            "grid_template_rows": null,
            "height": null,
            "justify_content": null,
            "justify_items": null,
            "left": null,
            "margin": null,
            "max_height": null,
            "max_width": null,
            "min_height": null,
            "min_width": null,
            "object_fit": null,
            "object_position": null,
            "order": null,
            "overflow": null,
            "overflow_x": null,
            "overflow_y": null,
            "padding": null,
            "right": null,
            "top": null,
            "visibility": null,
            "width": null
          }
        },
        "2d6ea0f006024a44abcaf2b71a8a7dfb": {
          "model_module": "@jupyter-widgets/controls",
          "model_module_version": "1.5.0",
          "model_name": "FloatProgressModel",
          "state": {
            "_dom_classes": [],
            "_model_module": "@jupyter-widgets/controls",
            "_model_module_version": "1.5.0",
            "_model_name": "FloatProgressModel",
            "_view_count": null,
            "_view_module": "@jupyter-widgets/controls",
            "_view_module_version": "1.5.0",
            "_view_name": "ProgressView",
            "bar_style": "success",
            "description": "",
            "description_tooltip": null,
            "layout": "IPY_MODEL_5120bb3b06d74542be9761f7dc72a8ff",
            "max": 466062,
            "min": 0,
            "orientation": "horizontal",
            "style": "IPY_MODEL_15d25019a30f44b49c2f6442b754e1ff",
            "value": 466062
          }
        },
        "30a8be92104842bba1d29da6cfb02dec": {
          "model_module": "@jupyter-widgets/base",
          "model_module_version": "1.2.0",
          "model_name": "LayoutModel",
          "state": {
            "_model_module": "@jupyter-widgets/base",
            "_model_module_version": "1.2.0",
            "_model_name": "LayoutModel",
            "_view_count": null,
            "_view_module": "@jupyter-widgets/base",
            "_view_module_version": "1.2.0",
            "_view_name": "LayoutView",
            "align_content": null,
            "align_items": null,
            "align_self": null,
            "border": null,
            "bottom": null,
            "display": null,
            "flex": null,
            "flex_flow": null,
            "grid_area": null,
            "grid_auto_columns": null,
            "grid_auto_flow": null,
            "grid_auto_rows": null,
            "grid_column": null,
            "grid_gap": null,
            "grid_row": null,
            "grid_template_areas": null,
            "grid_template_columns": null,
            "grid_template_rows": null,
            "height": null,
            "justify_content": null,
            "justify_items": null,
            "left": null,
            "margin": null,
            "max_height": null,
            "max_width": null,
            "min_height": null,
            "min_width": null,
            "object_fit": null,
            "object_position": null,
            "order": null,
            "overflow": null,
            "overflow_x": null,
            "overflow_y": null,
            "padding": null,
            "right": null,
            "top": null,
            "visibility": null,
            "width": null
          }
        },
        "3870f81504f04b90a03bd3220926b512": {
          "model_module": "@jupyter-widgets/controls",
          "model_module_version": "1.5.0",
          "model_name": "HTMLModel",
          "state": {
            "_dom_classes": [],
            "_model_module": "@jupyter-widgets/controls",
            "_model_module_version": "1.5.0",
            "_model_name": "HTMLModel",
            "_view_count": null,
            "_view_module": "@jupyter-widgets/controls",
            "_view_module_version": "1.5.0",
            "_view_name": "HTMLView",
            "description": "",
            "description_tooltip": null,
            "layout": "IPY_MODEL_977092e53a374ad1ac48384d94f8c0c1",
            "placeholder": "​",
            "style": "IPY_MODEL_155bd681aee74ba29648d2e40cc0b40f",
            "value": " 232k/232k [00:00&lt;00:00, 1.43MB/s]"
          }
        },
        "3d9591cad6f043eeb3517c72bd887b03": {
          "model_module": "@jupyter-widgets/controls",
          "model_module_version": "1.5.0",
          "model_name": "HTMLModel",
          "state": {
            "_dom_classes": [],
            "_model_module": "@jupyter-widgets/controls",
            "_model_module_version": "1.5.0",
            "_model_name": "HTMLModel",
            "_view_count": null,
            "_view_module": "@jupyter-widgets/controls",
            "_view_module_version": "1.5.0",
            "_view_name": "HTMLView",
            "description": "",
            "description_tooltip": null,
            "layout": "IPY_MODEL_30a8be92104842bba1d29da6cfb02dec",
            "placeholder": "​",
            "style": "IPY_MODEL_8264d0fe1dc04a0088a43f1f15944997",
            "value": " 570/570 [00:00&lt;00:00, 55.1kB/s]"
          }
        },
        "41bab4cfcafd4913a5b1fa48e895cc3b": {
          "model_module": "@jupyter-widgets/controls",
          "model_module_version": "1.5.0",
          "model_name": "HBoxModel",
          "state": {
            "_dom_classes": [],
            "_model_module": "@jupyter-widgets/controls",
            "_model_module_version": "1.5.0",
            "_model_name": "HBoxModel",
            "_view_count": null,
            "_view_module": "@jupyter-widgets/controls",
            "_view_module_version": "1.5.0",
            "_view_name": "HBoxView",
            "box_style": "",
            "children": [
              "IPY_MODEL_fadaa2c1912f4078b75339a4d93ea401",
              "IPY_MODEL_7034de4a8e194fab9fa60139486cb481",
              "IPY_MODEL_3d9591cad6f043eeb3517c72bd887b03"
            ],
            "layout": "IPY_MODEL_8fa200470e924367a6c99f0b3d3db822"
          }
        },
        "42090449ba3d4781aa70ed59e49c12c6": {
          "model_module": "@jupyter-widgets/controls",
          "model_module_version": "1.5.0",
          "model_name": "HBoxModel",
          "state": {
            "_dom_classes": [],
            "_model_module": "@jupyter-widgets/controls",
            "_model_module_version": "1.5.0",
            "_model_name": "HBoxModel",
            "_view_count": null,
            "_view_module": "@jupyter-widgets/controls",
            "_view_module_version": "1.5.0",
            "_view_name": "HBoxView",
            "box_style": "",
            "children": [
              "IPY_MODEL_7d11830eec0e45ffa47891507f1065b6",
              "IPY_MODEL_2d6ea0f006024a44abcaf2b71a8a7dfb",
              "IPY_MODEL_75ce6ac111bb4136ab64a497e8e2ccfb"
            ],
            "layout": "IPY_MODEL_6d7f5737de094966aab452fc9e50ac15"
          }
        },
        "433bc1726dad4c3f97d882b0ec56935e": {
          "model_module": "@jupyter-widgets/controls",
          "model_module_version": "1.5.0",
          "model_name": "DescriptionStyleModel",
          "state": {
            "_model_module": "@jupyter-widgets/controls",
            "_model_module_version": "1.5.0",
            "_model_name": "DescriptionStyleModel",
            "_view_count": null,
            "_view_module": "@jupyter-widgets/base",
            "_view_module_version": "1.2.0",
            "_view_name": "StyleView",
            "description_width": ""
          }
        },
        "433cfea4abb941ed8409581738dd80eb": {
          "model_module": "@jupyter-widgets/base",
          "model_module_version": "1.2.0",
          "model_name": "LayoutModel",
          "state": {
            "_model_module": "@jupyter-widgets/base",
            "_model_module_version": "1.2.0",
            "_model_name": "LayoutModel",
            "_view_count": null,
            "_view_module": "@jupyter-widgets/base",
            "_view_module_version": "1.2.0",
            "_view_name": "LayoutView",
            "align_content": null,
            "align_items": null,
            "align_self": null,
            "border": null,
            "bottom": null,
            "display": null,
            "flex": null,
            "flex_flow": null,
            "grid_area": null,
            "grid_auto_columns": null,
            "grid_auto_flow": null,
            "grid_auto_rows": null,
            "grid_column": null,
            "grid_gap": null,
            "grid_row": null,
            "grid_template_areas": null,
            "grid_template_columns": null,
            "grid_template_rows": null,
            "height": null,
            "justify_content": null,
            "justify_items": null,
            "left": null,
            "margin": null,
            "max_height": null,
            "max_width": null,
            "min_height": null,
            "min_width": null,
            "object_fit": null,
            "object_position": null,
            "order": null,
            "overflow": null,
            "overflow_x": null,
            "overflow_y": null,
            "padding": null,
            "right": null,
            "top": null,
            "visibility": null,
            "width": null
          }
        },
        "4a321ddb95b1456da5e05f37b4c4e5ca": {
          "model_module": "@jupyter-widgets/controls",
          "model_module_version": "1.5.0",
          "model_name": "DescriptionStyleModel",
          "state": {
            "_model_module": "@jupyter-widgets/controls",
            "_model_module_version": "1.5.0",
            "_model_name": "DescriptionStyleModel",
            "_view_count": null,
            "_view_module": "@jupyter-widgets/base",
            "_view_module_version": "1.2.0",
            "_view_name": "StyleView",
            "description_width": ""
          }
        },
        "4cd545a20d59487780cad98ecb0d7bfc": {
          "model_module": "@jupyter-widgets/controls",
          "model_module_version": "1.5.0",
          "model_name": "HBoxModel",
          "state": {
            "_dom_classes": [],
            "_model_module": "@jupyter-widgets/controls",
            "_model_module_version": "1.5.0",
            "_model_name": "HBoxModel",
            "_view_count": null,
            "_view_module": "@jupyter-widgets/controls",
            "_view_module_version": "1.5.0",
            "_view_name": "HBoxView",
            "box_style": "",
            "children": [
              "IPY_MODEL_a9cf3d444dd340b5aa934f33e31350b1",
              "IPY_MODEL_ce10320bf38144a688bcebd8d8e5e024",
              "IPY_MODEL_f9719ed715b44df6acddaec198f54059"
            ],
            "layout": "IPY_MODEL_6de385ddaa48493b9f85c53059f96c4f"
          }
        },
        "4dd7d3d2eef144b48bb306dcbe39deb0": {
          "model_module": "@jupyter-widgets/base",
          "model_module_version": "1.2.0",
          "model_name": "LayoutModel",
          "state": {
            "_model_module": "@jupyter-widgets/base",
            "_model_module_version": "1.2.0",
            "_model_name": "LayoutModel",
            "_view_count": null,
            "_view_module": "@jupyter-widgets/base",
            "_view_module_version": "1.2.0",
            "_view_name": "LayoutView",
            "align_content": null,
            "align_items": null,
            "align_self": null,
            "border": null,
            "bottom": null,
            "display": null,
            "flex": null,
            "flex_flow": null,
            "grid_area": null,
            "grid_auto_columns": null,
            "grid_auto_flow": null,
            "grid_auto_rows": null,
            "grid_column": null,
            "grid_gap": null,
            "grid_row": null,
            "grid_template_areas": null,
            "grid_template_columns": null,
            "grid_template_rows": null,
            "height": null,
            "justify_content": null,
            "justify_items": null,
            "left": null,
            "margin": null,
            "max_height": null,
            "max_width": null,
            "min_height": null,
            "min_width": null,
            "object_fit": null,
            "object_position": null,
            "order": null,
            "overflow": null,
            "overflow_x": null,
            "overflow_y": null,
            "padding": null,
            "right": null,
            "top": null,
            "visibility": null,
            "width": null
          }
        },
        "5120bb3b06d74542be9761f7dc72a8ff": {
          "model_module": "@jupyter-widgets/base",
          "model_module_version": "1.2.0",
          "model_name": "LayoutModel",
          "state": {
            "_model_module": "@jupyter-widgets/base",
            "_model_module_version": "1.2.0",
            "_model_name": "LayoutModel",
            "_view_count": null,
            "_view_module": "@jupyter-widgets/base",
            "_view_module_version": "1.2.0",
            "_view_name": "LayoutView",
            "align_content": null,
            "align_items": null,
            "align_self": null,
            "border": null,
            "bottom": null,
            "display": null,
            "flex": null,
            "flex_flow": null,
            "grid_area": null,
            "grid_auto_columns": null,
            "grid_auto_flow": null,
            "grid_auto_rows": null,
            "grid_column": null,
            "grid_gap": null,
            "grid_row": null,
            "grid_template_areas": null,
            "grid_template_columns": null,
            "grid_template_rows": null,
            "height": null,
            "justify_content": null,
            "justify_items": null,
            "left": null,
            "margin": null,
            "max_height": null,
            "max_width": null,
            "min_height": null,
            "min_width": null,
            "object_fit": null,
            "object_position": null,
            "order": null,
            "overflow": null,
            "overflow_x": null,
            "overflow_y": null,
            "padding": null,
            "right": null,
            "top": null,
            "visibility": null,
            "width": null
          }
        },
        "56f965e29c2f41c0be417ebed7ad5b97": {
          "model_module": "@jupyter-widgets/controls",
          "model_module_version": "1.5.0",
          "model_name": "DescriptionStyleModel",
          "state": {
            "_model_module": "@jupyter-widgets/controls",
            "_model_module_version": "1.5.0",
            "_model_name": "DescriptionStyleModel",
            "_view_count": null,
            "_view_module": "@jupyter-widgets/base",
            "_view_module_version": "1.2.0",
            "_view_name": "StyleView",
            "description_width": ""
          }
        },
        "5825c7e4f3ab4f15bc3a54557ef7cf03": {
          "model_module": "@jupyter-widgets/base",
          "model_module_version": "1.2.0",
          "model_name": "LayoutModel",
          "state": {
            "_model_module": "@jupyter-widgets/base",
            "_model_module_version": "1.2.0",
            "_model_name": "LayoutModel",
            "_view_count": null,
            "_view_module": "@jupyter-widgets/base",
            "_view_module_version": "1.2.0",
            "_view_name": "LayoutView",
            "align_content": null,
            "align_items": null,
            "align_self": null,
            "border": null,
            "bottom": null,
            "display": null,
            "flex": null,
            "flex_flow": null,
            "grid_area": null,
            "grid_auto_columns": null,
            "grid_auto_flow": null,
            "grid_auto_rows": null,
            "grid_column": null,
            "grid_gap": null,
            "grid_row": null,
            "grid_template_areas": null,
            "grid_template_columns": null,
            "grid_template_rows": null,
            "height": null,
            "justify_content": null,
            "justify_items": null,
            "left": null,
            "margin": null,
            "max_height": null,
            "max_width": null,
            "min_height": null,
            "min_width": null,
            "object_fit": null,
            "object_position": null,
            "order": null,
            "overflow": null,
            "overflow_x": null,
            "overflow_y": null,
            "padding": null,
            "right": null,
            "top": null,
            "visibility": null,
            "width": null
          }
        },
        "5bd6604cba7c472eaa5235614abde662": {
          "model_module": "@jupyter-widgets/base",
          "model_module_version": "1.2.0",
          "model_name": "LayoutModel",
          "state": {
            "_model_module": "@jupyter-widgets/base",
            "_model_module_version": "1.2.0",
            "_model_name": "LayoutModel",
            "_view_count": null,
            "_view_module": "@jupyter-widgets/base",
            "_view_module_version": "1.2.0",
            "_view_name": "LayoutView",
            "align_content": null,
            "align_items": null,
            "align_self": null,
            "border": null,
            "bottom": null,
            "display": null,
            "flex": null,
            "flex_flow": null,
            "grid_area": null,
            "grid_auto_columns": null,
            "grid_auto_flow": null,
            "grid_auto_rows": null,
            "grid_column": null,
            "grid_gap": null,
            "grid_row": null,
            "grid_template_areas": null,
            "grid_template_columns": null,
            "grid_template_rows": null,
            "height": null,
            "justify_content": null,
            "justify_items": null,
            "left": null,
            "margin": null,
            "max_height": null,
            "max_width": null,
            "min_height": null,
            "min_width": null,
            "object_fit": null,
            "object_position": null,
            "order": null,
            "overflow": null,
            "overflow_x": null,
            "overflow_y": null,
            "padding": null,
            "right": null,
            "top": null,
            "visibility": null,
            "width": null
          }
        },
        "5ed47daee39d4c7f9b64343e386e1333": {
          "model_module": "@jupyter-widgets/controls",
          "model_module_version": "1.5.0",
          "model_name": "FloatProgressModel",
          "state": {
            "_dom_classes": [],
            "_model_module": "@jupyter-widgets/controls",
            "_model_module_version": "1.5.0",
            "_model_name": "FloatProgressModel",
            "_view_count": null,
            "_view_module": "@jupyter-widgets/controls",
            "_view_module_version": "1.5.0",
            "_view_name": "ProgressView",
            "bar_style": "success",
            "description": "",
            "description_tooltip": null,
            "layout": "IPY_MODEL_662952e675324553a568d7e092c94ae3",
            "max": 385,
            "min": 0,
            "orientation": "horizontal",
            "style": "IPY_MODEL_d702341f09c54dd48bd8f1a32657d991",
            "value": 385
          }
        },
        "5fa0d2fdd2fa4f0a9c7c14711b265129": {
          "model_module": "@jupyter-widgets/controls",
          "model_module_version": "1.5.0",
          "model_name": "ProgressStyleModel",
          "state": {
            "_model_module": "@jupyter-widgets/controls",
            "_model_module_version": "1.5.0",
            "_model_name": "ProgressStyleModel",
            "_view_count": null,
            "_view_module": "@jupyter-widgets/base",
            "_view_module_version": "1.2.0",
            "_view_name": "StyleView",
            "bar_color": null,
            "description_width": ""
          }
        },
        "662952e675324553a568d7e092c94ae3": {
          "model_module": "@jupyter-widgets/base",
          "model_module_version": "1.2.0",
          "model_name": "LayoutModel",
          "state": {
            "_model_module": "@jupyter-widgets/base",
            "_model_module_version": "1.2.0",
            "_model_name": "LayoutModel",
            "_view_count": null,
            "_view_module": "@jupyter-widgets/base",
            "_view_module_version": "1.2.0",
            "_view_name": "LayoutView",
            "align_content": null,
            "align_items": null,
            "align_self": null,
            "border": null,
            "bottom": null,
            "display": null,
            "flex": null,
            "flex_flow": null,
            "grid_area": null,
            "grid_auto_columns": null,
            "grid_auto_flow": null,
            "grid_auto_rows": null,
            "grid_column": null,
            "grid_gap": null,
            "grid_row": null,
            "grid_template_areas": null,
            "grid_template_columns": null,
            "grid_template_rows": null,
            "height": null,
            "justify_content": null,
            "justify_items": null,
            "left": null,
            "margin": null,
            "max_height": null,
            "max_width": null,
            "min_height": null,
            "min_width": null,
            "object_fit": null,
            "object_position": null,
            "order": null,
            "overflow": null,
            "overflow_x": null,
            "overflow_y": null,
            "padding": null,
            "right": null,
            "top": null,
            "visibility": null,
            "width": null
          }
        },
        "66c8e32c41bc49d089fc5f7685d74b16": {
          "model_module": "@jupyter-widgets/controls",
          "model_module_version": "1.5.0",
          "model_name": "HTMLModel",
          "state": {
            "_dom_classes": [],
            "_model_module": "@jupyter-widgets/controls",
            "_model_module_version": "1.5.0",
            "_model_name": "HTMLModel",
            "_view_count": null,
            "_view_module": "@jupyter-widgets/controls",
            "_view_module_version": "1.5.0",
            "_view_name": "HTMLView",
            "description": "",
            "description_tooltip": null,
            "layout": "IPY_MODEL_69a690ba3ce5417bb5ed0dbdb89ea949",
            "placeholder": "​",
            "style": "IPY_MODEL_0c1e3365d58d42778a585851cd3c8d76",
            "value": " 436M/436M [00:01&lt;00:00, 417MB/s]"
          }
        },
        "67dff2aabeba42e0ae62bca280220dcf": {
          "model_module": "@jupyter-widgets/controls",
          "model_module_version": "1.5.0",
          "model_name": "DescriptionStyleModel",
          "state": {
            "_model_module": "@jupyter-widgets/controls",
            "_model_module_version": "1.5.0",
            "_model_name": "DescriptionStyleModel",
            "_view_count": null,
            "_view_module": "@jupyter-widgets/base",
            "_view_module_version": "1.2.0",
            "_view_name": "StyleView",
            "description_width": ""
          }
        },
        "69a690ba3ce5417bb5ed0dbdb89ea949": {
          "model_module": "@jupyter-widgets/base",
          "model_module_version": "1.2.0",
          "model_name": "LayoutModel",
          "state": {
            "_model_module": "@jupyter-widgets/base",
            "_model_module_version": "1.2.0",
            "_model_name": "LayoutModel",
            "_view_count": null,
            "_view_module": "@jupyter-widgets/base",
            "_view_module_version": "1.2.0",
            "_view_name": "LayoutView",
            "align_content": null,
            "align_items": null,
            "align_self": null,
            "border": null,
            "bottom": null,
            "display": null,
            "flex": null,
            "flex_flow": null,
            "grid_area": null,
            "grid_auto_columns": null,
            "grid_auto_flow": null,
            "grid_auto_rows": null,
            "grid_column": null,
            "grid_gap": null,
            "grid_row": null,
            "grid_template_areas": null,
            "grid_template_columns": null,
            "grid_template_rows": null,
            "height": null,
            "justify_content": null,
            "justify_items": null,
            "left": null,
            "margin": null,
            "max_height": null,
            "max_width": null,
            "min_height": null,
            "min_width": null,
            "object_fit": null,
            "object_position": null,
            "order": null,
            "overflow": null,
            "overflow_x": null,
            "overflow_y": null,
            "padding": null,
            "right": null,
            "top": null,
            "visibility": null,
            "width": null
          }
        },
        "6d7f5737de094966aab452fc9e50ac15": {
          "model_module": "@jupyter-widgets/base",
          "model_module_version": "1.2.0",
          "model_name": "LayoutModel",
          "state": {
            "_model_module": "@jupyter-widgets/base",
            "_model_module_version": "1.2.0",
            "_model_name": "LayoutModel",
            "_view_count": null,
            "_view_module": "@jupyter-widgets/base",
            "_view_module_version": "1.2.0",
            "_view_name": "LayoutView",
            "align_content": null,
            "align_items": null,
            "align_self": null,
            "border": null,
            "bottom": null,
            "display": null,
            "flex": null,
            "flex_flow": null,
            "grid_area": null,
            "grid_auto_columns": null,
            "grid_auto_flow": null,
            "grid_auto_rows": null,
            "grid_column": null,
            "grid_gap": null,
            "grid_row": null,
            "grid_template_areas": null,
            "grid_template_columns": null,
            "grid_template_rows": null,
            "height": null,
            "justify_content": null,
            "justify_items": null,
            "left": null,
            "margin": null,
            "max_height": null,
            "max_width": null,
            "min_height": null,
            "min_width": null,
            "object_fit": null,
            "object_position": null,
            "order": null,
            "overflow": null,
            "overflow_x": null,
            "overflow_y": null,
            "padding": null,
            "right": null,
            "top": null,
            "visibility": null,
            "width": null
          }
        },
        "6de385ddaa48493b9f85c53059f96c4f": {
          "model_module": "@jupyter-widgets/base",
          "model_module_version": "1.2.0",
          "model_name": "LayoutModel",
          "state": {
            "_model_module": "@jupyter-widgets/base",
            "_model_module_version": "1.2.0",
            "_model_name": "LayoutModel",
            "_view_count": null,
            "_view_module": "@jupyter-widgets/base",
            "_view_module_version": "1.2.0",
            "_view_name": "LayoutView",
            "align_content": null,
            "align_items": null,
            "align_self": null,
            "border": null,
            "bottom": null,
            "display": null,
            "flex": null,
            "flex_flow": null,
            "grid_area": null,
            "grid_auto_columns": null,
            "grid_auto_flow": null,
            "grid_auto_rows": null,
            "grid_column": null,
            "grid_gap": null,
            "grid_row": null,
            "grid_template_areas": null,
            "grid_template_columns": null,
            "grid_template_rows": null,
            "height": null,
            "justify_content": null,
            "justify_items": null,
            "left": null,
            "margin": null,
            "max_height": null,
            "max_width": null,
            "min_height": null,
            "min_width": null,
            "object_fit": null,
            "object_position": null,
            "order": null,
            "overflow": null,
            "overflow_x": null,
            "overflow_y": null,
            "padding": null,
            "right": null,
            "top": null,
            "visibility": null,
            "width": null
          }
        },
        "6ea7c2e9aa654560981220409b158de2": {
          "model_module": "@jupyter-widgets/controls",
          "model_module_version": "1.5.0",
          "model_name": "FloatProgressModel",
          "state": {
            "_dom_classes": [],
            "_model_module": "@jupyter-widgets/controls",
            "_model_module_version": "1.5.0",
            "_model_name": "FloatProgressModel",
            "_view_count": null,
            "_view_module": "@jupyter-widgets/controls",
            "_view_module_version": "1.5.0",
            "_view_name": "ProgressView",
            "bar_style": "success",
            "description": "",
            "description_tooltip": null,
            "layout": "IPY_MODEL_433cfea4abb941ed8409581738dd80eb",
            "max": 48,
            "min": 0,
            "orientation": "horizontal",
            "style": "IPY_MODEL_98cbd4c7af674d8f8144f8b3a8cb414f",
            "value": 48
          }
        },
        "6fdbb57ded214a599cc804698078c799": {
          "model_module": "@jupyter-widgets/base",
          "model_module_version": "1.2.0",
          "model_name": "LayoutModel",
          "state": {
            "_model_module": "@jupyter-widgets/base",
            "_model_module_version": "1.2.0",
            "_model_name": "LayoutModel",
            "_view_count": null,
            "_view_module": "@jupyter-widgets/base",
            "_view_module_version": "1.2.0",
            "_view_name": "LayoutView",
            "align_content": null,
            "align_items": null,
            "align_self": null,
            "border": null,
            "bottom": null,
            "display": null,
            "flex": null,
            "flex_flow": null,
            "grid_area": null,
            "grid_auto_columns": null,
            "grid_auto_flow": null,
            "grid_auto_rows": null,
            "grid_column": null,
            "grid_gap": null,
            "grid_row": null,
            "grid_template_areas": null,
            "grid_template_columns": null,
            "grid_template_rows": null,
            "height": null,
            "justify_content": null,
            "justify_items": null,
            "left": null,
            "margin": null,
            "max_height": null,
            "max_width": null,
            "min_height": null,
            "min_width": null,
            "object_fit": null,
            "object_position": null,
            "order": null,
            "overflow": null,
            "overflow_x": null,
            "overflow_y": null,
            "padding": null,
            "right": null,
            "top": null,
            "visibility": null,
            "width": null
          }
        },
        "7034de4a8e194fab9fa60139486cb481": {
          "model_module": "@jupyter-widgets/controls",
          "model_module_version": "1.5.0",
          "model_name": "FloatProgressModel",
          "state": {
            "_dom_classes": [],
            "_model_module": "@jupyter-widgets/controls",
            "_model_module_version": "1.5.0",
            "_model_name": "FloatProgressModel",
            "_view_count": null,
            "_view_module": "@jupyter-widgets/controls",
            "_view_module_version": "1.5.0",
            "_view_name": "ProgressView",
            "bar_style": "success",
            "description": "",
            "description_tooltip": null,
            "layout": "IPY_MODEL_a429871c8a00463eb246808589dab78b",
            "max": 570,
            "min": 0,
            "orientation": "horizontal",
            "style": "IPY_MODEL_09c674d5da634aa6bc8db6551cc43d38",
            "value": 570
          }
        },
        "75ce6ac111bb4136ab64a497e8e2ccfb": {
          "model_module": "@jupyter-widgets/controls",
          "model_module_version": "1.5.0",
          "model_name": "HTMLModel",
          "state": {
            "_dom_classes": [],
            "_model_module": "@jupyter-widgets/controls",
            "_model_module_version": "1.5.0",
            "_model_name": "HTMLModel",
            "_view_count": null,
            "_view_module": "@jupyter-widgets/controls",
            "_view_module_version": "1.5.0",
            "_view_name": "HTMLView",
            "description": "",
            "description_tooltip": null,
            "layout": "IPY_MODEL_c0ff375b74e3418380627cd2c6d00669",
            "placeholder": "​",
            "style": "IPY_MODEL_971c2cae89994f2f816e285cf81aeb19",
            "value": " 466k/466k [00:00&lt;00:00, 1.93MB/s]"
          }
        },
        "7b976e614ef54be896e0a60729eb98e6": {
          "model_module": "@jupyter-widgets/controls",
          "model_module_version": "1.5.0",
          "model_name": "FloatProgressModel",
          "state": {
            "_dom_classes": [],
            "_model_module": "@jupyter-widgets/controls",
            "_model_module_version": "1.5.0",
            "_model_name": "FloatProgressModel",
            "_view_count": null,
            "_view_module": "@jupyter-widgets/controls",
            "_view_module_version": "1.5.0",
            "_view_name": "ProgressView",
            "bar_style": "success",
            "description": "",
            "description_tooltip": null,
            "layout": "IPY_MODEL_90becf9317ac489cbcc3b802df4cf85f",
            "max": 231508,
            "min": 0,
            "orientation": "horizontal",
            "style": "IPY_MODEL_96629e5655e64c98a6b83a0d404e0ba0",
            "value": 231508
          }
        },
        "7d11830eec0e45ffa47891507f1065b6": {
          "model_module": "@jupyter-widgets/controls",
          "model_module_version": "1.5.0",
          "model_name": "HTMLModel",
          "state": {
            "_dom_classes": [],
            "_model_module": "@jupyter-widgets/controls",
            "_model_module_version": "1.5.0",
            "_model_name": "HTMLModel",
            "_view_count": null,
            "_view_module": "@jupyter-widgets/controls",
            "_view_module_version": "1.5.0",
            "_view_name": "HTMLView",
            "description": "",
            "description_tooltip": null,
            "layout": "IPY_MODEL_a8cbcb16734343059c3f6d197efeb1d8",
            "placeholder": "​",
            "style": "IPY_MODEL_dd6a493a905e4b90a5a522edebbfca61",
            "value": "tokenizer.json: 100%"
          }
        },
        "825d380351364ba68543438d9cd4253f": {
          "model_module": "@jupyter-widgets/controls",
          "model_module_version": "1.5.0",
          "model_name": "DescriptionStyleModel",
          "state": {
            "_model_module": "@jupyter-widgets/controls",
            "_model_module_version": "1.5.0",
            "_model_name": "DescriptionStyleModel",
            "_view_count": null,
            "_view_module": "@jupyter-widgets/base",
            "_view_module_version": "1.2.0",
            "_view_name": "StyleView",
            "description_width": ""
          }
        },
        "8264d0fe1dc04a0088a43f1f15944997": {
          "model_module": "@jupyter-widgets/controls",
          "model_module_version": "1.5.0",
          "model_name": "DescriptionStyleModel",
          "state": {
            "_model_module": "@jupyter-widgets/controls",
            "_model_module_version": "1.5.0",
            "_model_name": "DescriptionStyleModel",
            "_view_count": null,
            "_view_module": "@jupyter-widgets/base",
            "_view_module_version": "1.2.0",
            "_view_name": "StyleView",
            "description_width": ""
          }
        },
        "892fe1f5fca544988c4fb72b85c25765": {
          "model_module": "@jupyter-widgets/controls",
          "model_module_version": "1.5.0",
          "model_name": "HTMLModel",
          "state": {
            "_dom_classes": [],
            "_model_module": "@jupyter-widgets/controls",
            "_model_module_version": "1.5.0",
            "_model_name": "HTMLModel",
            "_view_count": null,
            "_view_module": "@jupyter-widgets/controls",
            "_view_module_version": "1.5.0",
            "_view_name": "HTMLView",
            "description": "",
            "description_tooltip": null,
            "layout": "IPY_MODEL_2d2e507503fd42e89715bba57b1ed2d3",
            "placeholder": "​",
            "style": "IPY_MODEL_90435a4058784dc4a6a7791c6e27c497",
            "value": "vocab.txt: 100%"
          }
        },
        "8a52071e279849f5b352226bf454a258": {
          "model_module": "@jupyter-widgets/controls",
          "model_module_version": "1.5.0",
          "model_name": "HTMLModel",
          "state": {
            "_dom_classes": [],
            "_model_module": "@jupyter-widgets/controls",
            "_model_module_version": "1.5.0",
            "_model_name": "HTMLModel",
            "_view_count": null,
            "_view_module": "@jupyter-widgets/controls",
            "_view_module_version": "1.5.0",
            "_view_name": "HTMLView",
            "description": "",
            "description_tooltip": null,
            "layout": "IPY_MODEL_cd579c91d52041f195ab64adef692218",
            "placeholder": "​",
            "style": "IPY_MODEL_c511b703df5348f5a1f78a85f2985b78",
            "value": " 213k/213k [00:00&lt;00:00, 9.35MB/s]"
          }
        },
        "8e4ad71e82844d0194912f3c390346d5": {
          "model_module": "@jupyter-widgets/controls",
          "model_module_version": "1.5.0",
          "model_name": "ProgressStyleModel",
          "state": {
            "_model_module": "@jupyter-widgets/controls",
            "_model_module_version": "1.5.0",
            "_model_name": "ProgressStyleModel",
            "_view_count": null,
            "_view_module": "@jupyter-widgets/base",
            "_view_module_version": "1.2.0",
            "_view_name": "StyleView",
            "bar_color": null,
            "description_width": ""
          }
        },
        "8fa200470e924367a6c99f0b3d3db822": {
          "model_module": "@jupyter-widgets/base",
          "model_module_version": "1.2.0",
          "model_name": "LayoutModel",
          "state": {
            "_model_module": "@jupyter-widgets/base",
            "_model_module_version": "1.2.0",
            "_model_name": "LayoutModel",
            "_view_count": null,
            "_view_module": "@jupyter-widgets/base",
            "_view_module_version": "1.2.0",
            "_view_name": "LayoutView",
            "align_content": null,
            "align_items": null,
            "align_self": null,
            "border": null,
            "bottom": null,
            "display": null,
            "flex": null,
            "flex_flow": null,
            "grid_area": null,
            "grid_auto_columns": null,
            "grid_auto_flow": null,
            "grid_auto_rows": null,
            "grid_column": null,
            "grid_gap": null,
            "grid_row": null,
            "grid_template_areas": null,
            "grid_template_columns": null,
            "grid_template_rows": null,
            "height": null,
            "justify_content": null,
            "justify_items": null,
            "left": null,
            "margin": null,
            "max_height": null,
            "max_width": null,
            "min_height": null,
            "min_width": null,
            "object_fit": null,
            "object_position": null,
            "order": null,
            "overflow": null,
            "overflow_x": null,
            "overflow_y": null,
            "padding": null,
            "right": null,
            "top": null,
            "visibility": null,
            "width": null
          }
        },
        "90435a4058784dc4a6a7791c6e27c497": {
          "model_module": "@jupyter-widgets/controls",
          "model_module_version": "1.5.0",
          "model_name": "DescriptionStyleModel",
          "state": {
            "_model_module": "@jupyter-widgets/controls",
            "_model_module_version": "1.5.0",
            "_model_name": "DescriptionStyleModel",
            "_view_count": null,
            "_view_module": "@jupyter-widgets/base",
            "_view_module_version": "1.2.0",
            "_view_name": "StyleView",
            "description_width": ""
          }
        },
        "90becf9317ac489cbcc3b802df4cf85f": {
          "model_module": "@jupyter-widgets/base",
          "model_module_version": "1.2.0",
          "model_name": "LayoutModel",
          "state": {
            "_model_module": "@jupyter-widgets/base",
            "_model_module_version": "1.2.0",
            "_model_name": "LayoutModel",
            "_view_count": null,
            "_view_module": "@jupyter-widgets/base",
            "_view_module_version": "1.2.0",
            "_view_name": "LayoutView",
            "align_content": null,
            "align_items": null,
            "align_self": null,
            "border": null,
            "bottom": null,
            "display": null,
            "flex": null,
            "flex_flow": null,
            "grid_area": null,
            "grid_auto_columns": null,
            "grid_auto_flow": null,
            "grid_auto_rows": null,
            "grid_column": null,
            "grid_gap": null,
            "grid_row": null,
            "grid_template_areas": null,
            "grid_template_columns": null,
            "grid_template_rows": null,
            "height": null,
            "justify_content": null,
            "justify_items": null,
            "left": null,
            "margin": null,
            "max_height": null,
            "max_width": null,
            "min_height": null,
            "min_width": null,
            "object_fit": null,
            "object_position": null,
            "order": null,
            "overflow": null,
            "overflow_x": null,
            "overflow_y": null,
            "padding": null,
            "right": null,
            "top": null,
            "visibility": null,
            "width": null
          }
        },
        "90ef7b7c2a574b9091418401b4c7147d": {
          "model_module": "@jupyter-widgets/base",
          "model_module_version": "1.2.0",
          "model_name": "LayoutModel",
          "state": {
            "_model_module": "@jupyter-widgets/base",
            "_model_module_version": "1.2.0",
            "_model_name": "LayoutModel",
            "_view_count": null,
            "_view_module": "@jupyter-widgets/base",
            "_view_module_version": "1.2.0",
            "_view_name": "LayoutView",
            "align_content": null,
            "align_items": null,
            "align_self": null,
            "border": null,
            "bottom": null,
            "display": null,
            "flex": null,
            "flex_flow": null,
            "grid_area": null,
            "grid_auto_columns": null,
            "grid_auto_flow": null,
            "grid_auto_rows": null,
            "grid_column": null,
            "grid_gap": null,
            "grid_row": null,
            "grid_template_areas": null,
            "grid_template_columns": null,
            "grid_template_rows": null,
            "height": null,
            "justify_content": null,
            "justify_items": null,
            "left": null,
            "margin": null,
            "max_height": null,
            "max_width": null,
            "min_height": null,
            "min_width": null,
            "object_fit": null,
            "object_position": null,
            "order": null,
            "overflow": null,
            "overflow_x": null,
            "overflow_y": null,
            "padding": null,
            "right": null,
            "top": null,
            "visibility": null,
            "width": null
          }
        },
        "911077133e9b4c53a55b26ebd1743d33": {
          "model_module": "@jupyter-widgets/controls",
          "model_module_version": "1.5.0",
          "model_name": "FloatProgressModel",
          "state": {
            "_dom_classes": [],
            "_model_module": "@jupyter-widgets/controls",
            "_model_module_version": "1.5.0",
            "_model_name": "FloatProgressModel",
            "_view_count": null,
            "_view_module": "@jupyter-widgets/controls",
            "_view_module_version": "1.5.0",
            "_view_name": "ProgressView",
            "bar_style": "success",
            "description": "",
            "description_tooltip": null,
            "layout": "IPY_MODEL_d5458ea0c82b47949312602ae221bbe0",
            "max": 213450,
            "min": 0,
            "orientation": "horizontal",
            "style": "IPY_MODEL_5fa0d2fdd2fa4f0a9c7c14711b265129",
            "value": 213450
          }
        },
        "946f8f1dec254ad1855c8488b81804b9": {
          "model_module": "@jupyter-widgets/base",
          "model_module_version": "1.2.0",
          "model_name": "LayoutModel",
          "state": {
            "_model_module": "@jupyter-widgets/base",
            "_model_module_version": "1.2.0",
            "_model_name": "LayoutModel",
            "_view_count": null,
            "_view_module": "@jupyter-widgets/base",
            "_view_module_version": "1.2.0",
            "_view_name": "LayoutView",
            "align_content": null,
            "align_items": null,
            "align_self": null,
            "border": null,
            "bottom": null,
            "display": null,
            "flex": null,
            "flex_flow": null,
            "grid_area": null,
            "grid_auto_columns": null,
            "grid_auto_flow": null,
            "grid_auto_rows": null,
            "grid_column": null,
            "grid_gap": null,
            "grid_row": null,
            "grid_template_areas": null,
            "grid_template_columns": null,
            "grid_template_rows": null,
            "height": null,
            "justify_content": null,
            "justify_items": null,
            "left": null,
            "margin": null,
            "max_height": null,
            "max_width": null,
            "min_height": null,
            "min_width": null,
            "object_fit": null,
            "object_position": null,
            "order": null,
            "overflow": null,
            "overflow_x": null,
            "overflow_y": null,
            "padding": null,
            "right": null,
            "top": null,
            "visibility": null,
            "width": null
          }
        },
        "96629e5655e64c98a6b83a0d404e0ba0": {
          "model_module": "@jupyter-widgets/controls",
          "model_module_version": "1.5.0",
          "model_name": "ProgressStyleModel",
          "state": {
            "_model_module": "@jupyter-widgets/controls",
            "_model_module_version": "1.5.0",
            "_model_name": "ProgressStyleModel",
            "_view_count": null,
            "_view_module": "@jupyter-widgets/base",
            "_view_module_version": "1.2.0",
            "_view_name": "StyleView",
            "bar_color": null,
            "description_width": ""
          }
        },
        "971c2cae89994f2f816e285cf81aeb19": {
          "model_module": "@jupyter-widgets/controls",
          "model_module_version": "1.5.0",
          "model_name": "DescriptionStyleModel",
          "state": {
            "_model_module": "@jupyter-widgets/controls",
            "_model_module_version": "1.5.0",
            "_model_name": "DescriptionStyleModel",
            "_view_count": null,
            "_view_module": "@jupyter-widgets/base",
            "_view_module_version": "1.2.0",
            "_view_name": "StyleView",
            "description_width": ""
          }
        },
        "976aae005a0f482baf2c1df1fa372033": {
          "model_module": "@jupyter-widgets/controls",
          "model_module_version": "1.5.0",
          "model_name": "HBoxModel",
          "state": {
            "_dom_classes": [],
            "_model_module": "@jupyter-widgets/controls",
            "_model_module_version": "1.5.0",
            "_model_name": "HBoxModel",
            "_view_count": null,
            "_view_module": "@jupyter-widgets/controls",
            "_view_module_version": "1.5.0",
            "_view_name": "HBoxView",
            "box_style": "",
            "children": [
              "IPY_MODEL_892fe1f5fca544988c4fb72b85c25765",
              "IPY_MODEL_7b976e614ef54be896e0a60729eb98e6",
              "IPY_MODEL_3870f81504f04b90a03bd3220926b512"
            ],
            "layout": "IPY_MODEL_4dd7d3d2eef144b48bb306dcbe39deb0"
          }
        },
        "977092e53a374ad1ac48384d94f8c0c1": {
          "model_module": "@jupyter-widgets/base",
          "model_module_version": "1.2.0",
          "model_name": "LayoutModel",
          "state": {
            "_model_module": "@jupyter-widgets/base",
            "_model_module_version": "1.2.0",
            "_model_name": "LayoutModel",
            "_view_count": null,
            "_view_module": "@jupyter-widgets/base",
            "_view_module_version": "1.2.0",
            "_view_name": "LayoutView",
            "align_content": null,
            "align_items": null,
            "align_self": null,
            "border": null,
            "bottom": null,
            "display": null,
            "flex": null,
            "flex_flow": null,
            "grid_area": null,
            "grid_auto_columns": null,
            "grid_auto_flow": null,
            "grid_auto_rows": null,
            "grid_column": null,
            "grid_gap": null,
            "grid_row": null,
            "grid_template_areas": null,
            "grid_template_columns": null,
            "grid_template_rows": null,
            "height": null,
            "justify_content": null,
            "justify_items": null,
            "left": null,
            "margin": null,
            "max_height": null,
            "max_width": null,
            "min_height": null,
            "min_width": null,
            "object_fit": null,
            "object_position": null,
            "order": null,
            "overflow": null,
            "overflow_x": null,
            "overflow_y": null,
            "padding": null,
            "right": null,
            "top": null,
            "visibility": null,
            "width": null
          }
        },
        "97be075dce9349f397ef78622cb6f83e": {
          "model_module": "@jupyter-widgets/controls",
          "model_module_version": "1.5.0",
          "model_name": "HTMLModel",
          "state": {
            "_dom_classes": [],
            "_model_module": "@jupyter-widgets/controls",
            "_model_module_version": "1.5.0",
            "_model_name": "HTMLModel",
            "_view_count": null,
            "_view_module": "@jupyter-widgets/controls",
            "_view_module_version": "1.5.0",
            "_view_name": "HTMLView",
            "description": "",
            "description_tooltip": null,
            "layout": "IPY_MODEL_946f8f1dec254ad1855c8488b81804b9",
            "placeholder": "​",
            "style": "IPY_MODEL_825d380351364ba68543438d9cd4253f",
            "value": "tokenizer_config.json: 100%"
          }
        },
        "98cbd4c7af674d8f8144f8b3a8cb414f": {
          "model_module": "@jupyter-widgets/controls",
          "model_module_version": "1.5.0",
          "model_name": "ProgressStyleModel",
          "state": {
            "_model_module": "@jupyter-widgets/controls",
            "_model_module_version": "1.5.0",
            "_model_name": "ProgressStyleModel",
            "_view_count": null,
            "_view_module": "@jupyter-widgets/base",
            "_view_module_version": "1.2.0",
            "_view_name": "StyleView",
            "bar_color": null,
            "description_width": ""
          }
        },
        "9fa0debfcc1c494f82a4b443537e548a": {
          "model_module": "@jupyter-widgets/controls",
          "model_module_version": "1.5.0",
          "model_name": "HTMLModel",
          "state": {
            "_dom_classes": [],
            "_model_module": "@jupyter-widgets/controls",
            "_model_module_version": "1.5.0",
            "_model_name": "HTMLModel",
            "_view_count": null,
            "_view_module": "@jupyter-widgets/controls",
            "_view_module_version": "1.5.0",
            "_view_name": "HTMLView",
            "description": "",
            "description_tooltip": null,
            "layout": "IPY_MODEL_ed6926f0755446e5a3f670acd407d4ed",
            "placeholder": "​",
            "style": "IPY_MODEL_bddbbf2aa0df45269d7efac7177a5ba0",
            "value": "config.json: 100%"
          }
        },
        "a0e4c6ea7bb64e0a82e17cdfe62007de": {
          "model_module": "@jupyter-widgets/controls",
          "model_module_version": "1.5.0",
          "model_name": "HTMLModel",
          "state": {
            "_dom_classes": [],
            "_model_module": "@jupyter-widgets/controls",
            "_model_module_version": "1.5.0",
            "_model_name": "HTMLModel",
            "_view_count": null,
            "_view_module": "@jupyter-widgets/controls",
            "_view_module_version": "1.5.0",
            "_view_name": "HTMLView",
            "description": "",
            "description_tooltip": null,
            "layout": "IPY_MODEL_a50bdf04dc3a4d31becde62b4e492ce4",
            "placeholder": "​",
            "style": "IPY_MODEL_a54088415f104dd4945742d5be6ce1e0",
            "value": " 48.0/48.0 [00:00&lt;00:00, 3.83kB/s]"
          }
        },
        "a429871c8a00463eb246808589dab78b": {
          "model_module": "@jupyter-widgets/base",
          "model_module_version": "1.2.0",
          "model_name": "LayoutModel",
          "state": {
            "_model_module": "@jupyter-widgets/base",
            "_model_module_version": "1.2.0",
            "_model_name": "LayoutModel",
            "_view_count": null,
            "_view_module": "@jupyter-widgets/base",
            "_view_module_version": "1.2.0",
            "_view_name": "LayoutView",
            "align_content": null,
            "align_items": null,
            "align_self": null,
            "border": null,
            "bottom": null,
            "display": null,
            "flex": null,
            "flex_flow": null,
            "grid_area": null,
            "grid_auto_columns": null,
            "grid_auto_flow": null,
            "grid_auto_rows": null,
            "grid_column": null,
            "grid_gap": null,
            "grid_row": null,
            "grid_template_areas": null,
            "grid_template_columns": null,
            "grid_template_rows": null,
            "height": null,
            "justify_content": null,
            "justify_items": null,
            "left": null,
            "margin": null,
            "max_height": null,
            "max_width": null,
            "min_height": null,
            "min_width": null,
            "object_fit": null,
            "object_position": null,
            "order": null,
            "overflow": null,
            "overflow_x": null,
            "overflow_y": null,
            "padding": null,
            "right": null,
            "top": null,
            "visibility": null,
            "width": null
          }
        },
        "a50bdf04dc3a4d31becde62b4e492ce4": {
          "model_module": "@jupyter-widgets/base",
          "model_module_version": "1.2.0",
          "model_name": "LayoutModel",
          "state": {
            "_model_module": "@jupyter-widgets/base",
            "_model_module_version": "1.2.0",
            "_model_name": "LayoutModel",
            "_view_count": null,
            "_view_module": "@jupyter-widgets/base",
            "_view_module_version": "1.2.0",
            "_view_name": "LayoutView",
            "align_content": null,
            "align_items": null,
            "align_self": null,
            "border": null,
            "bottom": null,
            "display": null,
            "flex": null,
            "flex_flow": null,
            "grid_area": null,
            "grid_auto_columns": null,
            "grid_auto_flow": null,
            "grid_auto_rows": null,
            "grid_column": null,
            "grid_gap": null,
            "grid_row": null,
            "grid_template_areas": null,
            "grid_template_columns": null,
            "grid_template_rows": null,
            "height": null,
            "justify_content": null,
            "justify_items": null,
            "left": null,
            "margin": null,
            "max_height": null,
            "max_width": null,
            "min_height": null,
            "min_width": null,
            "object_fit": null,
            "object_position": null,
            "order": null,
            "overflow": null,
            "overflow_x": null,
            "overflow_y": null,
            "padding": null,
            "right": null,
            "top": null,
            "visibility": null,
            "width": null
          }
        },
        "a54088415f104dd4945742d5be6ce1e0": {
          "model_module": "@jupyter-widgets/controls",
          "model_module_version": "1.5.0",
          "model_name": "DescriptionStyleModel",
          "state": {
            "_model_module": "@jupyter-widgets/controls",
            "_model_module_version": "1.5.0",
            "_model_name": "DescriptionStyleModel",
            "_view_count": null,
            "_view_module": "@jupyter-widgets/base",
            "_view_module_version": "1.2.0",
            "_view_name": "StyleView",
            "description_width": ""
          }
        },
        "a8cbcb16734343059c3f6d197efeb1d8": {
          "model_module": "@jupyter-widgets/base",
          "model_module_version": "1.2.0",
          "model_name": "LayoutModel",
          "state": {
            "_model_module": "@jupyter-widgets/base",
            "_model_module_version": "1.2.0",
            "_model_name": "LayoutModel",
            "_view_count": null,
            "_view_module": "@jupyter-widgets/base",
            "_view_module_version": "1.2.0",
            "_view_name": "LayoutView",
            "align_content": null,
            "align_items": null,
            "align_self": null,
            "border": null,
            "bottom": null,
            "display": null,
            "flex": null,
            "flex_flow": null,
            "grid_area": null,
            "grid_auto_columns": null,
            "grid_auto_flow": null,
            "grid_auto_rows": null,
            "grid_column": null,
            "grid_gap": null,
            "grid_row": null,
            "grid_template_areas": null,
            "grid_template_columns": null,
            "grid_template_rows": null,
            "height": null,
            "justify_content": null,
            "justify_items": null,
            "left": null,
            "margin": null,
            "max_height": null,
            "max_width": null,
            "min_height": null,
            "min_width": null,
            "object_fit": null,
            "object_position": null,
            "order": null,
            "overflow": null,
            "overflow_x": null,
            "overflow_y": null,
            "padding": null,
            "right": null,
            "top": null,
            "visibility": null,
            "width": null
          }
        },
        "a9cf3d444dd340b5aa934f33e31350b1": {
          "model_module": "@jupyter-widgets/controls",
          "model_module_version": "1.5.0",
          "model_name": "HTMLModel",
          "state": {
            "_dom_classes": [],
            "_model_module": "@jupyter-widgets/controls",
            "_model_module_version": "1.5.0",
            "_model_name": "HTMLModel",
            "_view_count": null,
            "_view_module": "@jupyter-widgets/controls",
            "_view_module_version": "1.5.0",
            "_view_name": "HTMLView",
            "description": "",
            "description_tooltip": null,
            "layout": "IPY_MODEL_bf8301cd711f4beb84881ae7e03b91ac",
            "placeholder": "​",
            "style": "IPY_MODEL_433bc1726dad4c3f97d882b0ec56935e",
            "value": "model.safetensors: 100%"
          }
        },
        "ab6edd3f87e9427984702936e64eecf9": {
          "model_module": "@jupyter-widgets/controls",
          "model_module_version": "1.5.0",
          "model_name": "HTMLModel",
          "state": {
            "_dom_classes": [],
            "_model_module": "@jupyter-widgets/controls",
            "_model_module_version": "1.5.0",
            "_model_name": "HTMLModel",
            "_view_count": null,
            "_view_module": "@jupyter-widgets/controls",
            "_view_module_version": "1.5.0",
            "_view_name": "HTMLView",
            "description": "",
            "description_tooltip": null,
            "layout": "IPY_MODEL_6fdbb57ded214a599cc804698078c799",
            "placeholder": "​",
            "style": "IPY_MODEL_f49bf0586d4948998b41a2c87ee25130",
            "value": "vocab.txt: 100%"
          }
        },
        "b1015b1a207d46d1be03b5e40f550837": {
          "model_module": "@jupyter-widgets/base",
          "model_module_version": "1.2.0",
          "model_name": "LayoutModel",
          "state": {
            "_model_module": "@jupyter-widgets/base",
            "_model_module_version": "1.2.0",
            "_model_name": "LayoutModel",
            "_view_count": null,
            "_view_module": "@jupyter-widgets/base",
            "_view_module_version": "1.2.0",
            "_view_name": "LayoutView",
            "align_content": null,
            "align_items": null,
            "align_self": null,
            "border": null,
            "bottom": null,
            "display": null,
            "flex": null,
            "flex_flow": null,
            "grid_area": null,
            "grid_auto_columns": null,
            "grid_auto_flow": null,
            "grid_auto_rows": null,
            "grid_column": null,
            "grid_gap": null,
            "grid_row": null,
            "grid_template_areas": null,
            "grid_template_columns": null,
            "grid_template_rows": null,
            "height": null,
            "justify_content": null,
            "justify_items": null,
            "left": null,
            "margin": null,
            "max_height": null,
            "max_width": null,
            "min_height": null,
            "min_width": null,
            "object_fit": null,
            "object_position": null,
            "order": null,
            "overflow": null,
            "overflow_x": null,
            "overflow_y": null,
            "padding": null,
            "right": null,
            "top": null,
            "visibility": null,
            "width": null
          }
        },
        "b6e1bfd298244965b83e8c0708c9f94e": {
          "model_module": "@jupyter-widgets/controls",
          "model_module_version": "1.5.0",
          "model_name": "HBoxModel",
          "state": {
            "_dom_classes": [],
            "_model_module": "@jupyter-widgets/controls",
            "_model_module_version": "1.5.0",
            "_model_name": "HBoxModel",
            "_view_count": null,
            "_view_module": "@jupyter-widgets/controls",
            "_view_module_version": "1.5.0",
            "_view_name": "HBoxView",
            "box_style": "",
            "children": [
              "IPY_MODEL_ab6edd3f87e9427984702936e64eecf9",
              "IPY_MODEL_911077133e9b4c53a55b26ebd1743d33",
              "IPY_MODEL_8a52071e279849f5b352226bf454a258"
            ],
            "layout": "IPY_MODEL_f9dce1d088a84d34b85fd44457a371d8"
          }
        },
        "b9155b7c90454be8a6e32e76a7ca1b86": {
          "model_module": "@jupyter-widgets/controls",
          "model_module_version": "1.5.0",
          "model_name": "HBoxModel",
          "state": {
            "_dom_classes": [],
            "_model_module": "@jupyter-widgets/controls",
            "_model_module_version": "1.5.0",
            "_model_name": "HBoxModel",
            "_view_count": null,
            "_view_module": "@jupyter-widgets/controls",
            "_view_module_version": "1.5.0",
            "_view_name": "HBoxView",
            "box_style": "",
            "children": [
              "IPY_MODEL_9fa0debfcc1c494f82a4b443537e548a",
              "IPY_MODEL_5ed47daee39d4c7f9b64343e386e1333",
              "IPY_MODEL_082050529bd4472ea3e7dfa057f0beae"
            ],
            "layout": "IPY_MODEL_b1015b1a207d46d1be03b5e40f550837"
          }
        },
        "bbd51a9a87ea43f5b1c024775e1fd981": {
          "model_module": "@jupyter-widgets/base",
          "model_module_version": "1.2.0",
          "model_name": "LayoutModel",
          "state": {
            "_model_module": "@jupyter-widgets/base",
            "_model_module_version": "1.2.0",
            "_model_name": "LayoutModel",
            "_view_count": null,
            "_view_module": "@jupyter-widgets/base",
            "_view_module_version": "1.2.0",
            "_view_name": "LayoutView",
            "align_content": null,
            "align_items": null,
            "align_self": null,
            "border": null,
            "bottom": null,
            "display": null,
            "flex": null,
            "flex_flow": null,
            "grid_area": null,
            "grid_auto_columns": null,
            "grid_auto_flow": null,
            "grid_auto_rows": null,
            "grid_column": null,
            "grid_gap": null,
            "grid_row": null,
            "grid_template_areas": null,
            "grid_template_columns": null,
            "grid_template_rows": null,
            "height": null,
            "justify_content": null,
            "justify_items": null,
            "left": null,
            "margin": null,
            "max_height": null,
            "max_width": null,
            "min_height": null,
            "min_width": null,
            "object_fit": null,
            "object_position": null,
            "order": null,
            "overflow": null,
            "overflow_x": null,
            "overflow_y": null,
            "padding": null,
            "right": null,
            "top": null,
            "visibility": null,
            "width": null
          }
        },
        "bddbbf2aa0df45269d7efac7177a5ba0": {
          "model_module": "@jupyter-widgets/controls",
          "model_module_version": "1.5.0",
          "model_name": "DescriptionStyleModel",
          "state": {
            "_model_module": "@jupyter-widgets/controls",
            "_model_module_version": "1.5.0",
            "_model_name": "DescriptionStyleModel",
            "_view_count": null,
            "_view_module": "@jupyter-widgets/base",
            "_view_module_version": "1.2.0",
            "_view_name": "StyleView",
            "description_width": ""
          }
        },
        "bf8301cd711f4beb84881ae7e03b91ac": {
          "model_module": "@jupyter-widgets/base",
          "model_module_version": "1.2.0",
          "model_name": "LayoutModel",
          "state": {
            "_model_module": "@jupyter-widgets/base",
            "_model_module_version": "1.2.0",
            "_model_name": "LayoutModel",
            "_view_count": null,
            "_view_module": "@jupyter-widgets/base",
            "_view_module_version": "1.2.0",
            "_view_name": "LayoutView",
            "align_content": null,
            "align_items": null,
            "align_self": null,
            "border": null,
            "bottom": null,
            "display": null,
            "flex": null,
            "flex_flow": null,
            "grid_area": null,
            "grid_auto_columns": null,
            "grid_auto_flow": null,
            "grid_auto_rows": null,
            "grid_column": null,
            "grid_gap": null,
            "grid_row": null,
            "grid_template_areas": null,
            "grid_template_columns": null,
            "grid_template_rows": null,
            "height": null,
            "justify_content": null,
            "justify_items": null,
            "left": null,
            "margin": null,
            "max_height": null,
            "max_width": null,
            "min_height": null,
            "min_width": null,
            "object_fit": null,
            "object_position": null,
            "order": null,
            "overflow": null,
            "overflow_x": null,
            "overflow_y": null,
            "padding": null,
            "right": null,
            "top": null,
            "visibility": null,
            "width": null
          }
        },
        "c0ff375b74e3418380627cd2c6d00669": {
          "model_module": "@jupyter-widgets/base",
          "model_module_version": "1.2.0",
          "model_name": "LayoutModel",
          "state": {
            "_model_module": "@jupyter-widgets/base",
            "_model_module_version": "1.2.0",
            "_model_name": "LayoutModel",
            "_view_count": null,
            "_view_module": "@jupyter-widgets/base",
            "_view_module_version": "1.2.0",
            "_view_name": "LayoutView",
            "align_content": null,
            "align_items": null,
            "align_self": null,
            "border": null,
            "bottom": null,
            "display": null,
            "flex": null,
            "flex_flow": null,
            "grid_area": null,
            "grid_auto_columns": null,
            "grid_auto_flow": null,
            "grid_auto_rows": null,
            "grid_column": null,
            "grid_gap": null,
            "grid_row": null,
            "grid_template_areas": null,
            "grid_template_columns": null,
            "grid_template_rows": null,
            "height": null,
            "justify_content": null,
            "justify_items": null,
            "left": null,
            "margin": null,
            "max_height": null,
            "max_width": null,
            "min_height": null,
            "min_width": null,
            "object_fit": null,
            "object_position": null,
            "order": null,
            "overflow": null,
            "overflow_x": null,
            "overflow_y": null,
            "padding": null,
            "right": null,
            "top": null,
            "visibility": null,
            "width": null
          }
        },
        "c451db1635d0419ab3b940093e5e8fc7": {
          "model_module": "@jupyter-widgets/base",
          "model_module_version": "1.2.0",
          "model_name": "LayoutModel",
          "state": {
            "_model_module": "@jupyter-widgets/base",
            "_model_module_version": "1.2.0",
            "_model_name": "LayoutModel",
            "_view_count": null,
            "_view_module": "@jupyter-widgets/base",
            "_view_module_version": "1.2.0",
            "_view_name": "LayoutView",
            "align_content": null,
            "align_items": null,
            "align_self": null,
            "border": null,
            "bottom": null,
            "display": null,
            "flex": null,
            "flex_flow": null,
            "grid_area": null,
            "grid_auto_columns": null,
            "grid_auto_flow": null,
            "grid_auto_rows": null,
            "grid_column": null,
            "grid_gap": null,
            "grid_row": null,
            "grid_template_areas": null,
            "grid_template_columns": null,
            "grid_template_rows": null,
            "height": null,
            "justify_content": null,
            "justify_items": null,
            "left": null,
            "margin": null,
            "max_height": null,
            "max_width": null,
            "min_height": null,
            "min_width": null,
            "object_fit": null,
            "object_position": null,
            "order": null,
            "overflow": null,
            "overflow_x": null,
            "overflow_y": null,
            "padding": null,
            "right": null,
            "top": null,
            "visibility": null,
            "width": null
          }
        },
        "c511b703df5348f5a1f78a85f2985b78": {
          "model_module": "@jupyter-widgets/controls",
          "model_module_version": "1.5.0",
          "model_name": "DescriptionStyleModel",
          "state": {
            "_model_module": "@jupyter-widgets/controls",
            "_model_module_version": "1.5.0",
            "_model_name": "DescriptionStyleModel",
            "_view_count": null,
            "_view_module": "@jupyter-widgets/base",
            "_view_module_version": "1.2.0",
            "_view_name": "StyleView",
            "description_width": ""
          }
        },
        "c64cc503249e4fc6b50f95926d05460a": {
          "model_module": "@jupyter-widgets/base",
          "model_module_version": "1.2.0",
          "model_name": "LayoutModel",
          "state": {
            "_model_module": "@jupyter-widgets/base",
            "_model_module_version": "1.2.0",
            "_model_name": "LayoutModel",
            "_view_count": null,
            "_view_module": "@jupyter-widgets/base",
            "_view_module_version": "1.2.0",
            "_view_name": "LayoutView",
            "align_content": null,
            "align_items": null,
            "align_self": null,
            "border": null,
            "bottom": null,
            "display": null,
            "flex": null,
            "flex_flow": null,
            "grid_area": null,
            "grid_auto_columns": null,
            "grid_auto_flow": null,
            "grid_auto_rows": null,
            "grid_column": null,
            "grid_gap": null,
            "grid_row": null,
            "grid_template_areas": null,
            "grid_template_columns": null,
            "grid_template_rows": null,
            "height": null,
            "justify_content": null,
            "justify_items": null,
            "left": null,
            "margin": null,
            "max_height": null,
            "max_width": null,
            "min_height": null,
            "min_width": null,
            "object_fit": null,
            "object_position": null,
            "order": null,
            "overflow": null,
            "overflow_x": null,
            "overflow_y": null,
            "padding": null,
            "right": null,
            "top": null,
            "visibility": null,
            "width": null
          }
        },
        "cd579c91d52041f195ab64adef692218": {
          "model_module": "@jupyter-widgets/base",
          "model_module_version": "1.2.0",
          "model_name": "LayoutModel",
          "state": {
            "_model_module": "@jupyter-widgets/base",
            "_model_module_version": "1.2.0",
            "_model_name": "LayoutModel",
            "_view_count": null,
            "_view_module": "@jupyter-widgets/base",
            "_view_module_version": "1.2.0",
            "_view_name": "LayoutView",
            "align_content": null,
            "align_items": null,
            "align_self": null,
            "border": null,
            "bottom": null,
            "display": null,
            "flex": null,
            "flex_flow": null,
            "grid_area": null,
            "grid_auto_columns": null,
            "grid_auto_flow": null,
            "grid_auto_rows": null,
            "grid_column": null,
            "grid_gap": null,
            "grid_row": null,
            "grid_template_areas": null,
            "grid_template_columns": null,
            "grid_template_rows": null,
            "height": null,
            "justify_content": null,
            "justify_items": null,
            "left": null,
            "margin": null,
            "max_height": null,
            "max_width": null,
            "min_height": null,
            "min_width": null,
            "object_fit": null,
            "object_position": null,
            "order": null,
            "overflow": null,
            "overflow_x": null,
            "overflow_y": null,
            "padding": null,
            "right": null,
            "top": null,
            "visibility": null,
            "width": null
          }
        },
        "ce10320bf38144a688bcebd8d8e5e024": {
          "model_module": "@jupyter-widgets/controls",
          "model_module_version": "1.5.0",
          "model_name": "FloatProgressModel",
          "state": {
            "_dom_classes": [],
            "_model_module": "@jupyter-widgets/controls",
            "_model_module_version": "1.5.0",
            "_model_name": "FloatProgressModel",
            "_view_count": null,
            "_view_module": "@jupyter-widgets/controls",
            "_view_module_version": "1.5.0",
            "_view_name": "ProgressView",
            "bar_style": "success",
            "description": "",
            "description_tooltip": null,
            "layout": "IPY_MODEL_90ef7b7c2a574b9091418401b4c7147d",
            "max": 440449768,
            "min": 0,
            "orientation": "horizontal",
            "style": "IPY_MODEL_8e4ad71e82844d0194912f3c390346d5",
            "value": 440449768
          }
        },
        "d5458ea0c82b47949312602ae221bbe0": {
          "model_module": "@jupyter-widgets/base",
          "model_module_version": "1.2.0",
          "model_name": "LayoutModel",
          "state": {
            "_model_module": "@jupyter-widgets/base",
            "_model_module_version": "1.2.0",
            "_model_name": "LayoutModel",
            "_view_count": null,
            "_view_module": "@jupyter-widgets/base",
            "_view_module_version": "1.2.0",
            "_view_name": "LayoutView",
            "align_content": null,
            "align_items": null,
            "align_self": null,
            "border": null,
            "bottom": null,
            "display": null,
            "flex": null,
            "flex_flow": null,
            "grid_area": null,
            "grid_auto_columns": null,
            "grid_auto_flow": null,
            "grid_auto_rows": null,
            "grid_column": null,
            "grid_gap": null,
            "grid_row": null,
            "grid_template_areas": null,
            "grid_template_columns": null,
            "grid_template_rows": null,
            "height": null,
            "justify_content": null,
            "justify_items": null,
            "left": null,
            "margin": null,
            "max_height": null,
            "max_width": null,
            "min_height": null,
            "min_width": null,
            "object_fit": null,
            "object_position": null,
            "order": null,
            "overflow": null,
            "overflow_x": null,
            "overflow_y": null,
            "padding": null,
            "right": null,
            "top": null,
            "visibility": null,
            "width": null
          }
        },
        "d6336c58c25e47f787b20d8a618db9d9": {
          "model_module": "@jupyter-widgets/controls",
          "model_module_version": "1.5.0",
          "model_name": "DescriptionStyleModel",
          "state": {
            "_model_module": "@jupyter-widgets/controls",
            "_model_module_version": "1.5.0",
            "_model_name": "DescriptionStyleModel",
            "_view_count": null,
            "_view_module": "@jupyter-widgets/base",
            "_view_module_version": "1.2.0",
            "_view_name": "StyleView",
            "description_width": ""
          }
        },
        "d702341f09c54dd48bd8f1a32657d991": {
          "model_module": "@jupyter-widgets/controls",
          "model_module_version": "1.5.0",
          "model_name": "ProgressStyleModel",
          "state": {
            "_model_module": "@jupyter-widgets/controls",
            "_model_module_version": "1.5.0",
            "_model_name": "ProgressStyleModel",
            "_view_count": null,
            "_view_module": "@jupyter-widgets/base",
            "_view_module_version": "1.2.0",
            "_view_name": "StyleView",
            "bar_color": null,
            "description_width": ""
          }
        },
        "dc7265af507c496180de0464eb3efcc9": {
          "model_module": "@jupyter-widgets/base",
          "model_module_version": "1.2.0",
          "model_name": "LayoutModel",
          "state": {
            "_model_module": "@jupyter-widgets/base",
            "_model_module_version": "1.2.0",
            "_model_name": "LayoutModel",
            "_view_count": null,
            "_view_module": "@jupyter-widgets/base",
            "_view_module_version": "1.2.0",
            "_view_name": "LayoutView",
            "align_content": null,
            "align_items": null,
            "align_self": null,
            "border": null,
            "bottom": null,
            "display": null,
            "flex": null,
            "flex_flow": null,
            "grid_area": null,
            "grid_auto_columns": null,
            "grid_auto_flow": null,
            "grid_auto_rows": null,
            "grid_column": null,
            "grid_gap": null,
            "grid_row": null,
            "grid_template_areas": null,
            "grid_template_columns": null,
            "grid_template_rows": null,
            "height": null,
            "justify_content": null,
            "justify_items": null,
            "left": null,
            "margin": null,
            "max_height": null,
            "max_width": null,
            "min_height": null,
            "min_width": null,
            "object_fit": null,
            "object_position": null,
            "order": null,
            "overflow": null,
            "overflow_x": null,
            "overflow_y": null,
            "padding": null,
            "right": null,
            "top": null,
            "visibility": null,
            "width": null
          }
        },
        "dd6a493a905e4b90a5a522edebbfca61": {
          "model_module": "@jupyter-widgets/controls",
          "model_module_version": "1.5.0",
          "model_name": "DescriptionStyleModel",
          "state": {
            "_model_module": "@jupyter-widgets/controls",
            "_model_module_version": "1.5.0",
            "_model_name": "DescriptionStyleModel",
            "_view_count": null,
            "_view_module": "@jupyter-widgets/base",
            "_view_module_version": "1.2.0",
            "_view_name": "StyleView",
            "description_width": ""
          }
        },
        "ed6926f0755446e5a3f670acd407d4ed": {
          "model_module": "@jupyter-widgets/base",
          "model_module_version": "1.2.0",
          "model_name": "LayoutModel",
          "state": {
            "_model_module": "@jupyter-widgets/base",
            "_model_module_version": "1.2.0",
            "_model_name": "LayoutModel",
            "_view_count": null,
            "_view_module": "@jupyter-widgets/base",
            "_view_module_version": "1.2.0",
            "_view_name": "LayoutView",
            "align_content": null,
            "align_items": null,
            "align_self": null,
            "border": null,
            "bottom": null,
            "display": null,
            "flex": null,
            "flex_flow": null,
            "grid_area": null,
            "grid_auto_columns": null,
            "grid_auto_flow": null,
            "grid_auto_rows": null,
            "grid_column": null,
            "grid_gap": null,
            "grid_row": null,
            "grid_template_areas": null,
            "grid_template_columns": null,
            "grid_template_rows": null,
            "height": null,
            "justify_content": null,
            "justify_items": null,
            "left": null,
            "margin": null,
            "max_height": null,
            "max_width": null,
            "min_height": null,
            "min_width": null,
            "object_fit": null,
            "object_position": null,
            "order": null,
            "overflow": null,
            "overflow_x": null,
            "overflow_y": null,
            "padding": null,
            "right": null,
            "top": null,
            "visibility": null,
            "width": null
          }
        },
        "f49bf0586d4948998b41a2c87ee25130": {
          "model_module": "@jupyter-widgets/controls",
          "model_module_version": "1.5.0",
          "model_name": "DescriptionStyleModel",
          "state": {
            "_model_module": "@jupyter-widgets/controls",
            "_model_module_version": "1.5.0",
            "_model_name": "DescriptionStyleModel",
            "_view_count": null,
            "_view_module": "@jupyter-widgets/base",
            "_view_module_version": "1.2.0",
            "_view_name": "StyleView",
            "description_width": ""
          }
        },
        "f9719ed715b44df6acddaec198f54059": {
          "model_module": "@jupyter-widgets/controls",
          "model_module_version": "1.5.0",
          "model_name": "HTMLModel",
          "state": {
            "_dom_classes": [],
            "_model_module": "@jupyter-widgets/controls",
            "_model_module_version": "1.5.0",
            "_model_name": "HTMLModel",
            "_view_count": null,
            "_view_module": "@jupyter-widgets/controls",
            "_view_module_version": "1.5.0",
            "_view_name": "HTMLView",
            "description": "",
            "description_tooltip": null,
            "layout": "IPY_MODEL_5825c7e4f3ab4f15bc3a54557ef7cf03",
            "placeholder": "​",
            "style": "IPY_MODEL_4a321ddb95b1456da5e05f37b4c4e5ca",
            "value": " 440M/440M [00:01&lt;00:00, 420MB/s]"
          }
        },
        "f9dce1d088a84d34b85fd44457a371d8": {
          "model_module": "@jupyter-widgets/base",
          "model_module_version": "1.2.0",
          "model_name": "LayoutModel",
          "state": {
            "_model_module": "@jupyter-widgets/base",
            "_model_module_version": "1.2.0",
            "_model_name": "LayoutModel",
            "_view_count": null,
            "_view_module": "@jupyter-widgets/base",
            "_view_module_version": "1.2.0",
            "_view_name": "LayoutView",
            "align_content": null,
            "align_items": null,
            "align_self": null,
            "border": null,
            "bottom": null,
            "display": null,
            "flex": null,
            "flex_flow": null,
            "grid_area": null,
            "grid_auto_columns": null,
            "grid_auto_flow": null,
            "grid_auto_rows": null,
            "grid_column": null,
            "grid_gap": null,
            "grid_row": null,
            "grid_template_areas": null,
            "grid_template_columns": null,
            "grid_template_rows": null,
            "height": null,
            "justify_content": null,
            "justify_items": null,
            "left": null,
            "margin": null,
            "max_height": null,
            "max_width": null,
            "min_height": null,
            "min_width": null,
            "object_fit": null,
            "object_position": null,
            "order": null,
            "overflow": null,
            "overflow_x": null,
            "overflow_y": null,
            "padding": null,
            "right": null,
            "top": null,
            "visibility": null,
            "width": null
          }
        },
        "fadaa2c1912f4078b75339a4d93ea401": {
          "model_module": "@jupyter-widgets/controls",
          "model_module_version": "1.5.0",
          "model_name": "HTMLModel",
          "state": {
            "_dom_classes": [],
            "_model_module": "@jupyter-widgets/controls",
            "_model_module_version": "1.5.0",
            "_model_name": "HTMLModel",
            "_view_count": null,
            "_view_module": "@jupyter-widgets/controls",
            "_view_module_version": "1.5.0",
            "_view_name": "HTMLView",
            "description": "",
            "description_tooltip": null,
            "layout": "IPY_MODEL_dc7265af507c496180de0464eb3efcc9",
            "placeholder": "​",
            "style": "IPY_MODEL_d6336c58c25e47f787b20d8a618db9d9",
            "value": "config.json: 100%"
          }
        },
        "a70602c4bc654bf68f010b4120a166a9": {
          "model_module": "@jupyter-widgets/controls",
          "model_name": "HBoxModel",
          "model_module_version": "1.5.0",
          "state": {
            "_dom_classes": [],
            "_model_module": "@jupyter-widgets/controls",
            "_model_module_version": "1.5.0",
            "_model_name": "HBoxModel",
            "_view_count": null,
            "_view_module": "@jupyter-widgets/controls",
            "_view_module_version": "1.5.0",
            "_view_name": "HBoxView",
            "box_style": "",
            "children": [
              "IPY_MODEL_739450af1a2243739495d1a316eb917e",
              "IPY_MODEL_d9ead5ef55ea487ea9a55ba9d835d12c"
            ],
            "layout": "IPY_MODEL_de8c5ee20ec84b0aad921d120d229c69"
          }
        },
        "739450af1a2243739495d1a316eb917e": {
          "model_module": "@jupyter-widgets/controls",
          "model_name": "ButtonModel",
          "model_module_version": "1.5.0",
          "state": {
            "_dom_classes": [],
            "_model_module": "@jupyter-widgets/controls",
            "_model_module_version": "1.5.0",
            "_model_name": "ButtonModel",
            "_view_count": null,
            "_view_module": "@jupyter-widgets/controls",
            "_view_module_version": "1.5.0",
            "_view_name": "ButtonView",
            "button_style": "",
            "description": "⬇️ Download PDF",
            "disabled": false,
            "icon": "",
            "layout": "IPY_MODEL_0398015aae1040d2acef95daaba78c23",
            "style": "IPY_MODEL_e17631a9c2d44810af4ccbb9bd2f936d",
            "tooltip": ""
          }
        },
        "d9ead5ef55ea487ea9a55ba9d835d12c": {
          "model_module": "@jupyter-widgets/controls",
          "model_name": "LabelModel",
          "model_module_version": "1.5.0",
          "state": {
            "_dom_classes": [],
            "_model_module": "@jupyter-widgets/controls",
            "_model_module_version": "1.5.0",
            "_model_name": "LabelModel",
            "_view_count": null,
            "_view_module": "@jupyter-widgets/controls",
            "_view_module_version": "1.5.0",
            "_view_name": "LabelView",
            "description": "",
            "description_tooltip": null,
            "layout": "IPY_MODEL_43286f1fb6c44a4ca91f37bbdc9825db",
            "placeholder": "​",
            "style": "IPY_MODEL_e5ba80aab4b641b1925ddb9cc2f3b309",
            "value": "⚠️ ERROR Cannot find file: /content/pdfs/20240508_052904_Project_Draft/Project_Draft.pdf"
          }
        },
        "de8c5ee20ec84b0aad921d120d229c69": {
          "model_module": "@jupyter-widgets/base",
          "model_name": "LayoutModel",
          "model_module_version": "1.2.0",
          "state": {
            "_model_module": "@jupyter-widgets/base",
            "_model_module_version": "1.2.0",
            "_model_name": "LayoutModel",
            "_view_count": null,
            "_view_module": "@jupyter-widgets/base",
            "_view_module_version": "1.2.0",
            "_view_name": "LayoutView",
            "align_content": null,
            "align_items": null,
            "align_self": null,
            "border": null,
            "bottom": null,
            "display": null,
            "flex": null,
            "flex_flow": null,
            "grid_area": null,
            "grid_auto_columns": null,
            "grid_auto_flow": null,
            "grid_auto_rows": null,
            "grid_column": null,
            "grid_gap": null,
            "grid_row": null,
            "grid_template_areas": null,
            "grid_template_columns": null,
            "grid_template_rows": null,
            "height": null,
            "justify_content": null,
            "justify_items": null,
            "left": null,
            "margin": null,
            "max_height": null,
            "max_width": null,
            "min_height": null,
            "min_width": null,
            "object_fit": null,
            "object_position": null,
            "order": null,
            "overflow": null,
            "overflow_x": null,
            "overflow_y": null,
            "padding": null,
            "right": null,
            "top": null,
            "visibility": null,
            "width": null
          }
        },
        "0398015aae1040d2acef95daaba78c23": {
          "model_module": "@jupyter-widgets/base",
          "model_name": "LayoutModel",
          "model_module_version": "1.2.0",
          "state": {
            "_model_module": "@jupyter-widgets/base",
            "_model_module_version": "1.2.0",
            "_model_name": "LayoutModel",
            "_view_count": null,
            "_view_module": "@jupyter-widgets/base",
            "_view_module_version": "1.2.0",
            "_view_name": "LayoutView",
            "align_content": null,
            "align_items": null,
            "align_self": null,
            "border": null,
            "bottom": null,
            "display": null,
            "flex": null,
            "flex_flow": null,
            "grid_area": null,
            "grid_auto_columns": null,
            "grid_auto_flow": null,
            "grid_auto_rows": null,
            "grid_column": null,
            "grid_gap": null,
            "grid_row": null,
            "grid_template_areas": null,
            "grid_template_columns": null,
            "grid_template_rows": null,
            "height": null,
            "justify_content": null,
            "justify_items": null,
            "left": null,
            "margin": null,
            "max_height": null,
            "max_width": null,
            "min_height": null,
            "min_width": null,
            "object_fit": null,
            "object_position": null,
            "order": null,
            "overflow": null,
            "overflow_x": null,
            "overflow_y": null,
            "padding": null,
            "right": null,
            "top": null,
            "visibility": null,
            "width": null
          }
        },
        "e17631a9c2d44810af4ccbb9bd2f936d": {
          "model_module": "@jupyter-widgets/controls",
          "model_name": "ButtonStyleModel",
          "model_module_version": "1.5.0",
          "state": {
            "_model_module": "@jupyter-widgets/controls",
            "_model_module_version": "1.5.0",
            "_model_name": "ButtonStyleModel",
            "_view_count": null,
            "_view_module": "@jupyter-widgets/base",
            "_view_module_version": "1.2.0",
            "_view_name": "StyleView",
            "button_color": null,
            "font_weight": ""
          }
        },
        "43286f1fb6c44a4ca91f37bbdc9825db": {
          "model_module": "@jupyter-widgets/base",
          "model_name": "LayoutModel",
          "model_module_version": "1.2.0",
          "state": {
            "_model_module": "@jupyter-widgets/base",
            "_model_module_version": "1.2.0",
            "_model_name": "LayoutModel",
            "_view_count": null,
            "_view_module": "@jupyter-widgets/base",
            "_view_module_version": "1.2.0",
            "_view_name": "LayoutView",
            "align_content": null,
            "align_items": null,
            "align_self": null,
            "border": null,
            "bottom": null,
            "display": null,
            "flex": null,
            "flex_flow": null,
            "grid_area": null,
            "grid_auto_columns": null,
            "grid_auto_flow": null,
            "grid_auto_rows": null,
            "grid_column": null,
            "grid_gap": null,
            "grid_row": null,
            "grid_template_areas": null,
            "grid_template_columns": null,
            "grid_template_rows": null,
            "height": null,
            "justify_content": null,
            "justify_items": null,
            "left": null,
            "margin": null,
            "max_height": null,
            "max_width": null,
            "min_height": null,
            "min_width": null,
            "object_fit": null,
            "object_position": null,
            "order": null,
            "overflow": null,
            "overflow_x": null,
            "overflow_y": null,
            "padding": null,
            "right": null,
            "top": null,
            "visibility": null,
            "width": null
          }
        },
        "e5ba80aab4b641b1925ddb9cc2f3b309": {
          "model_module": "@jupyter-widgets/controls",
          "model_name": "DescriptionStyleModel",
          "model_module_version": "1.5.0",
          "state": {
            "_model_module": "@jupyter-widgets/controls",
            "_model_module_version": "1.5.0",
            "_model_name": "DescriptionStyleModel",
            "_view_count": null,
            "_view_module": "@jupyter-widgets/base",
            "_view_module_version": "1.2.0",
            "_view_name": "StyleView",
            "description_width": ""
          }
        }
      }
    }
  },
  "nbformat": 4,
  "nbformat_minor": 0
}